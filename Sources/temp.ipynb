{
 "cells": [
  {
   "cell_type": "code",
   "execution_count": 13,
   "id": "c0b815e3",
   "metadata": {},
   "outputs": [
    {
     "data": {
      "text/html": [
       "<pre style=\"white-space:pre;overflow-x:auto;line-height:normal;font-family:Menlo,'DejaVu Sans Mono',consolas,'Courier New',monospace\"></pre>\n"
      ],
      "text/plain": []
     },
     "metadata": {},
     "output_type": "display_data"
    },
    {
     "ename": "MissingStyle",
     "evalue": "Failed to get style 'orange'; unable to parse 'orange' as color; 'orange' is not a valid color",
     "output_type": "error",
     "traceback": [
      "\u001b[0;31m---------------------------------------------------------------------------\u001b[0m",
      "\u001b[0;31mMissingStyle\u001b[0m                              Traceback (most recent call last)",
      "\u001b[0;32m/tmp/ipykernel_5263/4020337595.py\u001b[0m in \u001b[0;36m<module>\u001b[0;34m\u001b[0m\n\u001b[1;32m     10\u001b[0m \u001b[0mtable\u001b[0m\u001b[0;34m.\u001b[0m\u001b[0madd_row\u001b[0m\u001b[0;34m(\u001b[0m\u001b[0;34m\"Dec 16, 2016\"\u001b[0m\u001b[0;34m,\u001b[0m \u001b[0;34m\"Rogue One: A Star Wars Story\"\u001b[0m\u001b[0;34m,\u001b[0m \u001b[0;34m\"$1,332,439,889\"\u001b[0m\u001b[0;34m)\u001b[0m\u001b[0;34m\u001b[0m\u001b[0;34m\u001b[0m\u001b[0m\n\u001b[1;32m     11\u001b[0m \u001b[0mconsole\u001b[0m \u001b[0;34m=\u001b[0m \u001b[0mConsole\u001b[0m\u001b[0;34m(\u001b[0m\u001b[0;34m)\u001b[0m\u001b[0;34m\u001b[0m\u001b[0;34m\u001b[0m\u001b[0m\n\u001b[0;32m---> 12\u001b[0;31m \u001b[0mconsole\u001b[0m\u001b[0;34m.\u001b[0m\u001b[0mprint\u001b[0m\u001b[0;34m(\u001b[0m\u001b[0mtable\u001b[0m\u001b[0;34m,\u001b[0m\u001b[0mjustify\u001b[0m\u001b[0;34m=\u001b[0m\u001b[0;34m\"center\"\u001b[0m\u001b[0;34m)\u001b[0m\u001b[0;34m\u001b[0m\u001b[0;34m\u001b[0m\u001b[0m\n\u001b[0m",
      "\u001b[0;32m/usr/lib/python3/dist-packages/rich/console.py\u001b[0m in \u001b[0;36mprint\u001b[0;34m(self, sep, end, style, justify, overflow, no_wrap, emoji, markup, highlight, width, height, crop, soft_wrap, new_line_start, *objects)\u001b[0m\n\u001b[1;32m   1614\u001b[0m             \u001b[0;32mif\u001b[0m \u001b[0mstyle\u001b[0m \u001b[0;32mis\u001b[0m \u001b[0;32mNone\u001b[0m\u001b[0;34m:\u001b[0m\u001b[0;34m\u001b[0m\u001b[0;34m\u001b[0m\u001b[0m\n\u001b[1;32m   1615\u001b[0m                 \u001b[0;32mfor\u001b[0m \u001b[0mrenderable\u001b[0m \u001b[0;32min\u001b[0m \u001b[0mrenderables\u001b[0m\u001b[0;34m:\u001b[0m\u001b[0;34m\u001b[0m\u001b[0;34m\u001b[0m\u001b[0m\n\u001b[0;32m-> 1616\u001b[0;31m                     \u001b[0mextend\u001b[0m\u001b[0;34m(\u001b[0m\u001b[0mrender\u001b[0m\u001b[0;34m(\u001b[0m\u001b[0mrenderable\u001b[0m\u001b[0;34m,\u001b[0m \u001b[0mrender_options\u001b[0m\u001b[0;34m)\u001b[0m\u001b[0;34m)\u001b[0m\u001b[0;34m\u001b[0m\u001b[0;34m\u001b[0m\u001b[0m\n\u001b[0m\u001b[1;32m   1617\u001b[0m             \u001b[0;32melse\u001b[0m\u001b[0;34m:\u001b[0m\u001b[0;34m\u001b[0m\u001b[0;34m\u001b[0m\u001b[0m\n\u001b[1;32m   1618\u001b[0m                 \u001b[0;32mfor\u001b[0m \u001b[0mrenderable\u001b[0m \u001b[0;32min\u001b[0m \u001b[0mrenderables\u001b[0m\u001b[0;34m:\u001b[0m\u001b[0;34m\u001b[0m\u001b[0;34m\u001b[0m\u001b[0m\n",
      "\u001b[0;32m/usr/lib/python3/dist-packages/rich/console.py\u001b[0m in \u001b[0;36mrender\u001b[0;34m(self, renderable, options)\u001b[0m\n\u001b[1;32m   1252\u001b[0m             )\n\u001b[1;32m   1253\u001b[0m         \u001b[0m_Segment\u001b[0m \u001b[0;34m=\u001b[0m \u001b[0mSegment\u001b[0m\u001b[0;34m\u001b[0m\u001b[0;34m\u001b[0m\u001b[0m\n\u001b[0;32m-> 1254\u001b[0;31m         \u001b[0;32mfor\u001b[0m \u001b[0mrender_output\u001b[0m \u001b[0;32min\u001b[0m \u001b[0miter_render\u001b[0m\u001b[0;34m:\u001b[0m\u001b[0;34m\u001b[0m\u001b[0;34m\u001b[0m\u001b[0m\n\u001b[0m\u001b[1;32m   1255\u001b[0m             \u001b[0;32mif\u001b[0m \u001b[0misinstance\u001b[0m\u001b[0;34m(\u001b[0m\u001b[0mrender_output\u001b[0m\u001b[0;34m,\u001b[0m \u001b[0m_Segment\u001b[0m\u001b[0;34m)\u001b[0m\u001b[0;34m:\u001b[0m\u001b[0;34m\u001b[0m\u001b[0;34m\u001b[0m\u001b[0m\n\u001b[1;32m   1256\u001b[0m                 \u001b[0;32myield\u001b[0m \u001b[0mrender_output\u001b[0m\u001b[0;34m\u001b[0m\u001b[0;34m\u001b[0m\u001b[0m\n",
      "\u001b[0;32m/usr/lib/python3/dist-packages/rich/align.py\u001b[0m in \u001b[0;36m__rich_console__\u001b[0;34m(self, console, options)\u001b[0m\n\u001b[1;32m    138\u001b[0m     ) -> \"RenderResult\":\n\u001b[1;32m    139\u001b[0m         \u001b[0malign\u001b[0m \u001b[0;34m=\u001b[0m \u001b[0mself\u001b[0m\u001b[0;34m.\u001b[0m\u001b[0malign\u001b[0m\u001b[0;34m\u001b[0m\u001b[0;34m\u001b[0m\u001b[0m\n\u001b[0;32m--> 140\u001b[0;31m         \u001b[0mwidth\u001b[0m \u001b[0;34m=\u001b[0m \u001b[0mconsole\u001b[0m\u001b[0;34m.\u001b[0m\u001b[0mmeasure\u001b[0m\u001b[0;34m(\u001b[0m\u001b[0mself\u001b[0m\u001b[0;34m.\u001b[0m\u001b[0mrenderable\u001b[0m\u001b[0;34m,\u001b[0m \u001b[0moptions\u001b[0m\u001b[0;34m=\u001b[0m\u001b[0moptions\u001b[0m\u001b[0;34m)\u001b[0m\u001b[0;34m.\u001b[0m\u001b[0mmaximum\u001b[0m\u001b[0;34m\u001b[0m\u001b[0;34m\u001b[0m\u001b[0m\n\u001b[0m\u001b[1;32m    141\u001b[0m         rendered = console.render(\n\u001b[1;32m    142\u001b[0m             Constrain(\n",
      "\u001b[0;32m/usr/lib/python3/dist-packages/rich/console.py\u001b[0m in \u001b[0;36mmeasure\u001b[0;34m(self, renderable, options)\u001b[0m\n\u001b[1;32m   1205\u001b[0m             \u001b[0mMeasurement\u001b[0m\u001b[0;34m:\u001b[0m \u001b[0mA\u001b[0m \u001b[0mmeasurement\u001b[0m \u001b[0mof\u001b[0m \u001b[0mthe\u001b[0m \u001b[0mrenderable\u001b[0m\u001b[0;34m.\u001b[0m\u001b[0;34m\u001b[0m\u001b[0;34m\u001b[0m\u001b[0m\n\u001b[1;32m   1206\u001b[0m         \"\"\"\n\u001b[0;32m-> 1207\u001b[0;31m         \u001b[0mmeasurement\u001b[0m \u001b[0;34m=\u001b[0m \u001b[0mMeasurement\u001b[0m\u001b[0;34m.\u001b[0m\u001b[0mget\u001b[0m\u001b[0;34m(\u001b[0m\u001b[0mself\u001b[0m\u001b[0;34m,\u001b[0m \u001b[0moptions\u001b[0m \u001b[0;32mor\u001b[0m \u001b[0mself\u001b[0m\u001b[0;34m.\u001b[0m\u001b[0moptions\u001b[0m\u001b[0;34m,\u001b[0m \u001b[0mrenderable\u001b[0m\u001b[0;34m)\u001b[0m\u001b[0;34m\u001b[0m\u001b[0;34m\u001b[0m\u001b[0m\n\u001b[0m\u001b[1;32m   1208\u001b[0m         \u001b[0;32mreturn\u001b[0m \u001b[0mmeasurement\u001b[0m\u001b[0;34m\u001b[0m\u001b[0;34m\u001b[0m\u001b[0m\n\u001b[1;32m   1209\u001b[0m \u001b[0;34m\u001b[0m\u001b[0m\n",
      "\u001b[0;32m/usr/lib/python3/dist-packages/rich/measure.py\u001b[0m in \u001b[0;36mget\u001b[0;34m(cls, console, options, renderable)\u001b[0m\n\u001b[1;32m    107\u001b[0m             \u001b[0;32mif\u001b[0m \u001b[0mget_console_width\u001b[0m \u001b[0;32mis\u001b[0m \u001b[0;32mnot\u001b[0m \u001b[0;32mNone\u001b[0m\u001b[0;34m:\u001b[0m\u001b[0;34m\u001b[0m\u001b[0;34m\u001b[0m\u001b[0m\n\u001b[1;32m    108\u001b[0m                 render_width = (\n\u001b[0;32m--> 109\u001b[0;31m                     \u001b[0mget_console_width\u001b[0m\u001b[0;34m(\u001b[0m\u001b[0mconsole\u001b[0m\u001b[0;34m,\u001b[0m \u001b[0moptions\u001b[0m\u001b[0;34m)\u001b[0m\u001b[0;34m\u001b[0m\u001b[0;34m\u001b[0m\u001b[0m\n\u001b[0m\u001b[1;32m    110\u001b[0m                     \u001b[0;34m.\u001b[0m\u001b[0mnormalize\u001b[0m\u001b[0;34m(\u001b[0m\u001b[0;34m)\u001b[0m\u001b[0;34m\u001b[0m\u001b[0;34m\u001b[0m\u001b[0m\n\u001b[1;32m    111\u001b[0m                     \u001b[0;34m.\u001b[0m\u001b[0mwith_maximum\u001b[0m\u001b[0;34m(\u001b[0m\u001b[0m_max_width\u001b[0m\u001b[0;34m)\u001b[0m\u001b[0;34m\u001b[0m\u001b[0;34m\u001b[0m\u001b[0m\n",
      "\u001b[0;32m/usr/lib/python3/dist-packages/rich/table.py\u001b[0m in \u001b[0;36m__rich_measure__\u001b[0;34m(self, console, options)\u001b[0m\n\u001b[1;32m    300\u001b[0m         \u001b[0mextra_width\u001b[0m \u001b[0;34m=\u001b[0m \u001b[0mself\u001b[0m\u001b[0;34m.\u001b[0m\u001b[0m_extra_width\u001b[0m\u001b[0;34m\u001b[0m\u001b[0;34m\u001b[0m\u001b[0m\n\u001b[1;32m    301\u001b[0m         max_width = sum(\n\u001b[0;32m--> 302\u001b[0;31m             self._calculate_column_widths(\n\u001b[0m\u001b[1;32m    303\u001b[0m                 \u001b[0mconsole\u001b[0m\u001b[0;34m,\u001b[0m \u001b[0moptions\u001b[0m\u001b[0;34m.\u001b[0m\u001b[0mupdate_width\u001b[0m\u001b[0;34m(\u001b[0m\u001b[0mmax_width\u001b[0m \u001b[0;34m-\u001b[0m \u001b[0mextra_width\u001b[0m\u001b[0;34m)\u001b[0m\u001b[0;34m\u001b[0m\u001b[0;34m\u001b[0m\u001b[0m\n\u001b[1;32m    304\u001b[0m             )\n",
      "\u001b[0;32m/usr/lib/python3/dist-packages/rich/table.py\u001b[0m in \u001b[0;36m_calculate_column_widths\u001b[0;34m(self, console, options)\u001b[0m\n\u001b[1;32m    489\u001b[0m         \u001b[0mmax_width\u001b[0m \u001b[0;34m=\u001b[0m \u001b[0moptions\u001b[0m\u001b[0;34m.\u001b[0m\u001b[0mmax_width\u001b[0m\u001b[0;34m\u001b[0m\u001b[0;34m\u001b[0m\u001b[0m\n\u001b[1;32m    490\u001b[0m         \u001b[0mcolumns\u001b[0m \u001b[0;34m=\u001b[0m \u001b[0mself\u001b[0m\u001b[0;34m.\u001b[0m\u001b[0mcolumns\u001b[0m\u001b[0;34m\u001b[0m\u001b[0;34m\u001b[0m\u001b[0m\n\u001b[0;32m--> 491\u001b[0;31m         width_ranges = [\n\u001b[0m\u001b[1;32m    492\u001b[0m             \u001b[0mself\u001b[0m\u001b[0;34m.\u001b[0m\u001b[0m_measure_column\u001b[0m\u001b[0;34m(\u001b[0m\u001b[0mconsole\u001b[0m\u001b[0;34m,\u001b[0m \u001b[0moptions\u001b[0m\u001b[0;34m,\u001b[0m \u001b[0mcolumn\u001b[0m\u001b[0;34m)\u001b[0m \u001b[0;32mfor\u001b[0m \u001b[0mcolumn\u001b[0m \u001b[0;32min\u001b[0m \u001b[0mcolumns\u001b[0m\u001b[0;34m\u001b[0m\u001b[0;34m\u001b[0m\u001b[0m\n\u001b[1;32m    493\u001b[0m         ]\n",
      "\u001b[0;32m/usr/lib/python3/dist-packages/rich/table.py\u001b[0m in \u001b[0;36m<listcomp>\u001b[0;34m(.0)\u001b[0m\n\u001b[1;32m    490\u001b[0m         \u001b[0mcolumns\u001b[0m \u001b[0;34m=\u001b[0m \u001b[0mself\u001b[0m\u001b[0;34m.\u001b[0m\u001b[0mcolumns\u001b[0m\u001b[0;34m\u001b[0m\u001b[0;34m\u001b[0m\u001b[0m\n\u001b[1;32m    491\u001b[0m         width_ranges = [\n\u001b[0;32m--> 492\u001b[0;31m             \u001b[0mself\u001b[0m\u001b[0;34m.\u001b[0m\u001b[0m_measure_column\u001b[0m\u001b[0;34m(\u001b[0m\u001b[0mconsole\u001b[0m\u001b[0;34m,\u001b[0m \u001b[0moptions\u001b[0m\u001b[0;34m,\u001b[0m \u001b[0mcolumn\u001b[0m\u001b[0;34m)\u001b[0m \u001b[0;32mfor\u001b[0m \u001b[0mcolumn\u001b[0m \u001b[0;32min\u001b[0m \u001b[0mcolumns\u001b[0m\u001b[0;34m\u001b[0m\u001b[0;34m\u001b[0m\u001b[0m\n\u001b[0m\u001b[1;32m    493\u001b[0m         ]\n\u001b[1;32m    494\u001b[0m         \u001b[0mwidths\u001b[0m \u001b[0;34m=\u001b[0m \u001b[0;34m[\u001b[0m\u001b[0m_range\u001b[0m\u001b[0;34m.\u001b[0m\u001b[0mmaximum\u001b[0m \u001b[0;32mor\u001b[0m \u001b[0;36m1\u001b[0m \u001b[0;32mfor\u001b[0m \u001b[0m_range\u001b[0m \u001b[0;32min\u001b[0m \u001b[0mwidth_ranges\u001b[0m\u001b[0;34m]\u001b[0m\u001b[0;34m\u001b[0m\u001b[0;34m\u001b[0m\u001b[0m\n",
      "\u001b[0;32m/usr/lib/python3/dist-packages/rich/table.py\u001b[0m in \u001b[0;36m_measure_column\u001b[0;34m(self, console, options, column)\u001b[0m\n\u001b[1;32m    692\u001b[0m         \u001b[0mappend_max\u001b[0m \u001b[0;34m=\u001b[0m \u001b[0mmax_widths\u001b[0m\u001b[0;34m.\u001b[0m\u001b[0mappend\u001b[0m\u001b[0;34m\u001b[0m\u001b[0;34m\u001b[0m\u001b[0m\n\u001b[1;32m    693\u001b[0m         \u001b[0mget_render_width\u001b[0m \u001b[0;34m=\u001b[0m \u001b[0mMeasurement\u001b[0m\u001b[0;34m.\u001b[0m\u001b[0mget\u001b[0m\u001b[0;34m\u001b[0m\u001b[0;34m\u001b[0m\u001b[0m\n\u001b[0;32m--> 694\u001b[0;31m         \u001b[0;32mfor\u001b[0m \u001b[0mcell\u001b[0m \u001b[0;32min\u001b[0m \u001b[0mself\u001b[0m\u001b[0;34m.\u001b[0m\u001b[0m_get_cells\u001b[0m\u001b[0;34m(\u001b[0m\u001b[0mconsole\u001b[0m\u001b[0;34m,\u001b[0m \u001b[0mcolumn\u001b[0m\u001b[0;34m.\u001b[0m\u001b[0m_index\u001b[0m\u001b[0;34m,\u001b[0m \u001b[0mcolumn\u001b[0m\u001b[0;34m)\u001b[0m\u001b[0;34m:\u001b[0m\u001b[0;34m\u001b[0m\u001b[0;34m\u001b[0m\u001b[0m\n\u001b[0m\u001b[1;32m    695\u001b[0m             \u001b[0m_min\u001b[0m\u001b[0;34m,\u001b[0m \u001b[0m_max\u001b[0m \u001b[0;34m=\u001b[0m \u001b[0mget_render_width\u001b[0m\u001b[0;34m(\u001b[0m\u001b[0mconsole\u001b[0m\u001b[0;34m,\u001b[0m \u001b[0moptions\u001b[0m\u001b[0;34m,\u001b[0m \u001b[0mcell\u001b[0m\u001b[0;34m.\u001b[0m\u001b[0mrenderable\u001b[0m\u001b[0;34m)\u001b[0m\u001b[0;34m\u001b[0m\u001b[0;34m\u001b[0m\u001b[0m\n\u001b[1;32m    696\u001b[0m             \u001b[0mappend_min\u001b[0m\u001b[0;34m(\u001b[0m\u001b[0m_min\u001b[0m\u001b[0;34m)\u001b[0m\u001b[0;34m\u001b[0m\u001b[0;34m\u001b[0m\u001b[0m\n",
      "\u001b[0;32m/usr/lib/python3/dist-packages/rich/table.py\u001b[0m in \u001b[0;36m_get_cells\u001b[0;34m(self, console, column_index, column)\u001b[0m\n\u001b[1;32m    634\u001b[0m             )\n\u001b[1;32m    635\u001b[0m             \u001b[0m_append\u001b[0m\u001b[0;34m(\u001b[0m\u001b[0;34m(\u001b[0m\u001b[0mheader_style\u001b[0m\u001b[0;34m,\u001b[0m \u001b[0mcolumn\u001b[0m\u001b[0;34m.\u001b[0m\u001b[0mheader\u001b[0m\u001b[0;34m)\u001b[0m\u001b[0;34m)\u001b[0m\u001b[0;34m\u001b[0m\u001b[0;34m\u001b[0m\u001b[0m\n\u001b[0;32m--> 636\u001b[0;31m         \u001b[0mcell_style\u001b[0m \u001b[0;34m=\u001b[0m \u001b[0mget_style\u001b[0m\u001b[0;34m(\u001b[0m\u001b[0mcolumn\u001b[0m\u001b[0;34m.\u001b[0m\u001b[0mstyle\u001b[0m \u001b[0;32mor\u001b[0m \u001b[0;34m\"\"\u001b[0m\u001b[0;34m)\u001b[0m\u001b[0;34m\u001b[0m\u001b[0;34m\u001b[0m\u001b[0m\n\u001b[0m\u001b[1;32m    637\u001b[0m         \u001b[0;32mfor\u001b[0m \u001b[0mcell\u001b[0m \u001b[0;32min\u001b[0m \u001b[0mcolumn\u001b[0m\u001b[0;34m.\u001b[0m\u001b[0mcells\u001b[0m\u001b[0;34m:\u001b[0m\u001b[0;34m\u001b[0m\u001b[0;34m\u001b[0m\u001b[0m\n\u001b[1;32m    638\u001b[0m             \u001b[0m_append\u001b[0m\u001b[0;34m(\u001b[0m\u001b[0;34m(\u001b[0m\u001b[0mcell_style\u001b[0m\u001b[0;34m,\u001b[0m \u001b[0mcell\u001b[0m\u001b[0;34m)\u001b[0m\u001b[0;34m)\u001b[0m\u001b[0;34m\u001b[0m\u001b[0;34m\u001b[0m\u001b[0m\n",
      "\u001b[0;32m/usr/lib/python3/dist-packages/rich/console.py\u001b[0m in \u001b[0;36mget_style\u001b[0;34m(self, name, default)\u001b[0m\n\u001b[1;32m   1396\u001b[0m             \u001b[0;32mif\u001b[0m \u001b[0mdefault\u001b[0m \u001b[0;32mis\u001b[0m \u001b[0;32mnot\u001b[0m \u001b[0;32mNone\u001b[0m\u001b[0;34m:\u001b[0m\u001b[0;34m\u001b[0m\u001b[0;34m\u001b[0m\u001b[0m\n\u001b[1;32m   1397\u001b[0m                 \u001b[0;32mreturn\u001b[0m \u001b[0mself\u001b[0m\u001b[0;34m.\u001b[0m\u001b[0mget_style\u001b[0m\u001b[0;34m(\u001b[0m\u001b[0mdefault\u001b[0m\u001b[0;34m)\u001b[0m\u001b[0;34m\u001b[0m\u001b[0;34m\u001b[0m\u001b[0m\n\u001b[0;32m-> 1398\u001b[0;31m             raise errors.MissingStyle(\n\u001b[0m\u001b[1;32m   1399\u001b[0m                 \u001b[0;34mf\"Failed to get style {name!r}; {error}\"\u001b[0m\u001b[0;34m\u001b[0m\u001b[0;34m\u001b[0m\u001b[0m\n\u001b[1;32m   1400\u001b[0m             ) from None\n",
      "\u001b[0;31mMissingStyle\u001b[0m: Failed to get style 'orange'; unable to parse 'orange' as color; 'orange' is not a valid color"
     ]
    }
   ],
   "source": [
    "from rich.console import Console\n",
    "from rich.table import Table,Column\n",
    "table = Table(title=\"Star Wars Movies\",style=\"green\")\n",
    "table.add_column(\"Released\", justify=\"center\", style=\"cyan\", no_wrap=True,footer=\"Dsa\")\n",
    "table.add_column(\"Title\", style=\"magenta\")\n",
    "table.add_column(\"Box Office\", justify=\"right\", style=\"orange\")\n",
    "table.add_row(\"Dec 20, 2019\", \"Star Wars: The Rise of Skywalker\", \"$952,110,690\")\n",
    "table.add_row(\"May 25, 2018\", \"Solo: A Star Wars Story\", \"$393,151,347\")\n",
    "table.add_row(\"Dec 15, 2017\", \"Star Wars Ep. V111: The Last Jedi\", \"$1,332,539,889\")\n",
    "table.add_row(\"Dec 16, 2016\", \"Rogue One: A Star Wars Story\", \"$1,332,439,889\")\n",
    "console = Console()\n",
    "console.print(table,justify=\"center\")"
   ]
  },
  {
   "cell_type": "code",
   "execution_count": 6,
   "id": "8bf157e6",
   "metadata": {},
   "outputs": [
    {
     "data": {
      "text/html": [
       "<pre style=\"white-space:pre;overflow-x:auto;line-height:normal;font-family:Menlo,'DejaVu Sans Mono',consolas,'Courier New',monospace\">Widget Javascript not detected.  It may not be installed or enabled properly. Reconnecting \n",
       "the current kernel may help.\n",
       "</pre>\n"
      ],
      "text/plain": [
       "Widget Javascript not detected.  It may not be installed or enabled properly. Reconnecting \n",
       "the current kernel may help.\n"
      ]
     },
     "metadata": {},
     "output_type": "display_data"
    },
    {
     "data": {
      "application/vnd.jupyter.widget-view+json": {
       "model_id": "f8461749c9d945c3a5266c86ef9a7c06"
      }
     },
     "metadata": {},
     "output_type": "display_data"
    },
    {
     "data": {
      "text/html": [
       "<pre style=\"white-space:pre;overflow-x:auto;line-height:normal;font-family:Menlo,'DejaVu Sans Mono',consolas,'Courier New',monospace\">┏━━━━┳━━━━━━━┳━━━━━━━━━┓\n",
       "┃<span style=\"font-weight: bold\"> ID </span>┃<span style=\"font-weight: bold\"> Value </span>┃<span style=\"font-weight: bold\"> Status  </span>┃\n",
       "┡━━━━╇━━━━━━━╇━━━━━━━━━┩\n",
       "│ 0  │ 35.38 │ <span style=\"color: #800000; text-decoration-color: #800000\">ERROR</span>   │\n",
       "│ 1  │ 85.13 │ <span style=\"color: #008000; text-decoration-color: #008000\">SUCCESS</span> │\n",
       "│ 2  │ 38.86 │ <span style=\"color: #800000; text-decoration-color: #800000\">ERROR</span>   │\n",
       "│ 3  │ 84.50 │ <span style=\"color: #008000; text-decoration-color: #008000\">SUCCESS</span> │\n",
       "│ 4  │ 51.05 │ <span style=\"color: #008000; text-decoration-color: #008000\">SUCCESS</span> │\n",
       "└────┴───────┴─────────┘\n",
       "</pre>\n"
      ],
      "text/plain": [
       "┏━━━━┳━━━━━━━┳━━━━━━━━━┓\n",
       "┃\u001b[1m \u001b[0m\u001b[1mID\u001b[0m\u001b[1m \u001b[0m┃\u001b[1m \u001b[0m\u001b[1mValue\u001b[0m\u001b[1m \u001b[0m┃\u001b[1m \u001b[0m\u001b[1mStatus \u001b[0m\u001b[1m \u001b[0m┃\n",
       "┡━━━━╇━━━━━━━╇━━━━━━━━━┩\n",
       "│ 0  │ 35.38 │ \u001b[31mERROR\u001b[0m   │\n",
       "│ 1  │ 85.13 │ \u001b[32mSUCCESS\u001b[0m │\n",
       "│ 2  │ 38.86 │ \u001b[31mERROR\u001b[0m   │\n",
       "│ 3  │ 84.50 │ \u001b[32mSUCCESS\u001b[0m │\n",
       "│ 4  │ 51.05 │ \u001b[32mSUCCESS\u001b[0m │\n",
       "└────┴───────┴─────────┘\n"
      ]
     },
     "metadata": {},
     "output_type": "display_data"
    },
    {
     "data": {
      "text/html": [
       "<pre style=\"white-space:pre;overflow-x:auto;line-height:normal;font-family:Menlo,'DejaVu Sans Mono',consolas,'Courier New',monospace\">┏━━━━┳━━━━━━━┳━━━━━━━━━┓\n",
       "┃<span style=\"font-weight: bold\"> ID </span>┃<span style=\"font-weight: bold\"> Value </span>┃<span style=\"font-weight: bold\"> Status  </span>┃\n",
       "┡━━━━╇━━━━━━━╇━━━━━━━━━┩\n",
       "│ 0  │ 35.38 │ <span style=\"color: #800000; text-decoration-color: #800000\">ERROR</span>   │\n",
       "│ 1  │ 85.13 │ <span style=\"color: #008000; text-decoration-color: #008000\">SUCCESS</span> │\n",
       "│ 2  │ 38.86 │ <span style=\"color: #800000; text-decoration-color: #800000\">ERROR</span>   │\n",
       "│ 3  │ 84.50 │ <span style=\"color: #008000; text-decoration-color: #008000\">SUCCESS</span> │\n",
       "│ 4  │ 51.05 │ <span style=\"color: #008000; text-decoration-color: #008000\">SUCCESS</span> │\n",
       "└────┴───────┴─────────┘\n",
       "</pre>\n"
      ],
      "text/plain": [
       "┏━━━━┳━━━━━━━┳━━━━━━━━━┓\n",
       "┃\u001b[1m \u001b[0m\u001b[1mID\u001b[0m\u001b[1m \u001b[0m┃\u001b[1m \u001b[0m\u001b[1mValue\u001b[0m\u001b[1m \u001b[0m┃\u001b[1m \u001b[0m\u001b[1mStatus \u001b[0m\u001b[1m \u001b[0m┃\n",
       "┡━━━━╇━━━━━━━╇━━━━━━━━━┩\n",
       "│ 0  │ 35.38 │ \u001b[31mERROR\u001b[0m   │\n",
       "│ 1  │ 85.13 │ \u001b[32mSUCCESS\u001b[0m │\n",
       "│ 2  │ 38.86 │ \u001b[31mERROR\u001b[0m   │\n",
       "│ 3  │ 84.50 │ \u001b[32mSUCCESS\u001b[0m │\n",
       "│ 4  │ 51.05 │ \u001b[32mSUCCESS\u001b[0m │\n",
       "└────┴───────┴─────────┘\n"
      ]
     },
     "metadata": {},
     "output_type": "display_data"
    },
    {
     "data": {
      "text/html": [
       "<pre style=\"white-space:pre;overflow-x:auto;line-height:normal;font-family:Menlo,'DejaVu Sans Mono',consolas,'Courier New',monospace\">┏━━━━┳━━━━━━━┳━━━━━━━━┓\n",
       "┃<span style=\"font-weight: bold\"> ID </span>┃<span style=\"font-weight: bold\"> Value </span>┃<span style=\"font-weight: bold\"> Status </span>┃\n",
       "┡━━━━╇━━━━━━━╇━━━━━━━━┩\n",
       "│ 0  │ 33.88 │ <span style=\"color: #800000; text-decoration-color: #800000\">ERROR</span>  │\n",
       "│ 1  │ 1.63  │ <span style=\"color: #800000; text-decoration-color: #800000\">ERROR</span>  │\n",
       "│ 2  │ 42.95 │ <span style=\"color: #800000; text-decoration-color: #800000\">ERROR</span>  │\n",
       "│ 3  │ 23.98 │ <span style=\"color: #800000; text-decoration-color: #800000\">ERROR</span>  │\n",
       "│ 4  │ 35.81 │ <span style=\"color: #800000; text-decoration-color: #800000\">ERROR</span>  │\n",
       "│ 5  │ 27.31 │ <span style=\"color: #800000; text-decoration-color: #800000\">ERROR</span>  │\n",
       "└────┴───────┴────────┘\n",
       "</pre>\n"
      ],
      "text/plain": [
       "┏━━━━┳━━━━━━━┳━━━━━━━━┓\n",
       "┃\u001b[1m \u001b[0m\u001b[1mID\u001b[0m\u001b[1m \u001b[0m┃\u001b[1m \u001b[0m\u001b[1mValue\u001b[0m\u001b[1m \u001b[0m┃\u001b[1m \u001b[0m\u001b[1mStatus\u001b[0m\u001b[1m \u001b[0m┃\n",
       "┡━━━━╇━━━━━━━╇━━━━━━━━┩\n",
       "│ 0  │ 33.88 │ \u001b[31mERROR\u001b[0m  │\n",
       "│ 1  │ 1.63  │ \u001b[31mERROR\u001b[0m  │\n",
       "│ 2  │ 42.95 │ \u001b[31mERROR\u001b[0m  │\n",
       "│ 3  │ 23.98 │ \u001b[31mERROR\u001b[0m  │\n",
       "│ 4  │ 35.81 │ \u001b[31mERROR\u001b[0m  │\n",
       "│ 5  │ 27.31 │ \u001b[31mERROR\u001b[0m  │\n",
       "└────┴───────┴────────┘\n"
      ]
     },
     "metadata": {},
     "output_type": "display_data"
    },
    {
     "data": {
      "text/html": [
       "<pre style=\"white-space:pre;overflow-x:auto;line-height:normal;font-family:Menlo,'DejaVu Sans Mono',consolas,'Courier New',monospace\">┏━━━━┳━━━━━━━┳━━━━━━━━┓\n",
       "┃<span style=\"font-weight: bold\"> ID </span>┃<span style=\"font-weight: bold\"> Value </span>┃<span style=\"font-weight: bold\"> Status </span>┃\n",
       "┡━━━━╇━━━━━━━╇━━━━━━━━┩\n",
       "│ 0  │ 33.88 │ <span style=\"color: #800000; text-decoration-color: #800000\">ERROR</span>  │\n",
       "│ 1  │ 1.63  │ <span style=\"color: #800000; text-decoration-color: #800000\">ERROR</span>  │\n",
       "│ 2  │ 42.95 │ <span style=\"color: #800000; text-decoration-color: #800000\">ERROR</span>  │\n",
       "│ 3  │ 23.98 │ <span style=\"color: #800000; text-decoration-color: #800000\">ERROR</span>  │\n",
       "│ 4  │ 35.81 │ <span style=\"color: #800000; text-decoration-color: #800000\">ERROR</span>  │\n",
       "│ 5  │ 27.31 │ <span style=\"color: #800000; text-decoration-color: #800000\">ERROR</span>  │\n",
       "└────┴───────┴────────┘\n",
       "</pre>\n"
      ],
      "text/plain": [
       "┏━━━━┳━━━━━━━┳━━━━━━━━┓\n",
       "┃\u001b[1m \u001b[0m\u001b[1mID\u001b[0m\u001b[1m \u001b[0m┃\u001b[1m \u001b[0m\u001b[1mValue\u001b[0m\u001b[1m \u001b[0m┃\u001b[1m \u001b[0m\u001b[1mStatus\u001b[0m\u001b[1m \u001b[0m┃\n",
       "┡━━━━╇━━━━━━━╇━━━━━━━━┩\n",
       "│ 0  │ 33.88 │ \u001b[31mERROR\u001b[0m  │\n",
       "│ 1  │ 1.63  │ \u001b[31mERROR\u001b[0m  │\n",
       "│ 2  │ 42.95 │ \u001b[31mERROR\u001b[0m  │\n",
       "│ 3  │ 23.98 │ \u001b[31mERROR\u001b[0m  │\n",
       "│ 4  │ 35.81 │ \u001b[31mERROR\u001b[0m  │\n",
       "│ 5  │ 27.31 │ \u001b[31mERROR\u001b[0m  │\n",
       "└────┴───────┴────────┘\n"
      ]
     },
     "metadata": {},
     "output_type": "display_data"
    },
    {
     "data": {
      "text/html": [
       "<pre style=\"white-space:pre;overflow-x:auto;line-height:normal;font-family:Menlo,'DejaVu Sans Mono',consolas,'Courier New',monospace\">┏━━━━┳━━━━━━━┳━━━━━━━━━┓\n",
       "┃<span style=\"font-weight: bold\"> ID </span>┃<span style=\"font-weight: bold\"> Value </span>┃<span style=\"font-weight: bold\"> Status  </span>┃\n",
       "┡━━━━╇━━━━━━━╇━━━━━━━━━┩\n",
       "│ 0  │ 90.55 │ <span style=\"color: #008000; text-decoration-color: #008000\">SUCCESS</span> │\n",
       "│ 1  │ 97.14 │ <span style=\"color: #008000; text-decoration-color: #008000\">SUCCESS</span> │\n",
       "│ 2  │ 27.52 │ <span style=\"color: #800000; text-decoration-color: #800000\">ERROR</span>   │\n",
       "│ 3  │ 49.99 │ <span style=\"color: #800000; text-decoration-color: #800000\">ERROR</span>   │\n",
       "└────┴───────┴─────────┘\n",
       "</pre>\n"
      ],
      "text/plain": [
       "┏━━━━┳━━━━━━━┳━━━━━━━━━┓\n",
       "┃\u001b[1m \u001b[0m\u001b[1mID\u001b[0m\u001b[1m \u001b[0m┃\u001b[1m \u001b[0m\u001b[1mValue\u001b[0m\u001b[1m \u001b[0m┃\u001b[1m \u001b[0m\u001b[1mStatus \u001b[0m\u001b[1m \u001b[0m┃\n",
       "┡━━━━╇━━━━━━━╇━━━━━━━━━┩\n",
       "│ 0  │ 90.55 │ \u001b[32mSUCCESS\u001b[0m │\n",
       "│ 1  │ 97.14 │ \u001b[32mSUCCESS\u001b[0m │\n",
       "│ 2  │ 27.52 │ \u001b[31mERROR\u001b[0m   │\n",
       "│ 3  │ 49.99 │ \u001b[31mERROR\u001b[0m   │\n",
       "└────┴───────┴─────────┘\n"
      ]
     },
     "metadata": {},
     "output_type": "display_data"
    },
    {
     "data": {
      "text/html": [
       "<pre style=\"white-space:pre;overflow-x:auto;line-height:normal;font-family:Menlo,'DejaVu Sans Mono',consolas,'Courier New',monospace\">┏━━━━┳━━━━━━━┳━━━━━━━━━┓\n",
       "┃<span style=\"font-weight: bold\"> ID </span>┃<span style=\"font-weight: bold\"> Value </span>┃<span style=\"font-weight: bold\"> Status  </span>┃\n",
       "┡━━━━╇━━━━━━━╇━━━━━━━━━┩\n",
       "│ 0  │ 59.94 │ <span style=\"color: #008000; text-decoration-color: #008000\">SUCCESS</span> │\n",
       "│ 1  │ 81.45 │ <span style=\"color: #008000; text-decoration-color: #008000\">SUCCESS</span> │\n",
       "└────┴───────┴─────────┘\n",
       "</pre>\n"
      ],
      "text/plain": [
       "┏━━━━┳━━━━━━━┳━━━━━━━━━┓\n",
       "┃\u001b[1m \u001b[0m\u001b[1mID\u001b[0m\u001b[1m \u001b[0m┃\u001b[1m \u001b[0m\u001b[1mValue\u001b[0m\u001b[1m \u001b[0m┃\u001b[1m \u001b[0m\u001b[1mStatus \u001b[0m\u001b[1m \u001b[0m┃\n",
       "┡━━━━╇━━━━━━━╇━━━━━━━━━┩\n",
       "│ 0  │ 59.94 │ \u001b[32mSUCCESS\u001b[0m │\n",
       "│ 1  │ 81.45 │ \u001b[32mSUCCESS\u001b[0m │\n",
       "└────┴───────┴─────────┘\n"
      ]
     },
     "metadata": {},
     "output_type": "display_data"
    },
    {
     "data": {
      "text/html": [
       "<pre style=\"white-space:pre;overflow-x:auto;line-height:normal;font-family:Menlo,'DejaVu Sans Mono',consolas,'Courier New',monospace\">┏━━━━┳━━━━━━━┳━━━━━━━━━┓\n",
       "┃<span style=\"font-weight: bold\"> ID </span>┃<span style=\"font-weight: bold\"> Value </span>┃<span style=\"font-weight: bold\"> Status  </span>┃\n",
       "┡━━━━╇━━━━━━━╇━━━━━━━━━┩\n",
       "│ 0  │ 59.94 │ <span style=\"color: #008000; text-decoration-color: #008000\">SUCCESS</span> │\n",
       "│ 1  │ 81.45 │ <span style=\"color: #008000; text-decoration-color: #008000\">SUCCESS</span> │\n",
       "└────┴───────┴─────────┘\n",
       "</pre>\n"
      ],
      "text/plain": [
       "┏━━━━┳━━━━━━━┳━━━━━━━━━┓\n",
       "┃\u001b[1m \u001b[0m\u001b[1mID\u001b[0m\u001b[1m \u001b[0m┃\u001b[1m \u001b[0m\u001b[1mValue\u001b[0m\u001b[1m \u001b[0m┃\u001b[1m \u001b[0m\u001b[1mStatus \u001b[0m\u001b[1m \u001b[0m┃\n",
       "┡━━━━╇━━━━━━━╇━━━━━━━━━┩\n",
       "│ 0  │ 59.94 │ \u001b[32mSUCCESS\u001b[0m │\n",
       "│ 1  │ 81.45 │ \u001b[32mSUCCESS\u001b[0m │\n",
       "└────┴───────┴─────────┘\n"
      ]
     },
     "metadata": {},
     "output_type": "display_data"
    },
    {
     "data": {
      "text/html": [
       "<pre style=\"white-space:pre;overflow-x:auto;line-height:normal;font-family:Menlo,'DejaVu Sans Mono',consolas,'Courier New',monospace\">┏━━━━┳━━━━━━━┳━━━━━━━━━┓\n",
       "┃<span style=\"font-weight: bold\"> ID </span>┃<span style=\"font-weight: bold\"> Value </span>┃<span style=\"font-weight: bold\"> Status  </span>┃\n",
       "┡━━━━╇━━━━━━━╇━━━━━━━━━┩\n",
       "│ 0  │ 67.49 │ <span style=\"color: #008000; text-decoration-color: #008000\">SUCCESS</span> │\n",
       "│ 1  │ 25.44 │ <span style=\"color: #800000; text-decoration-color: #800000\">ERROR</span>   │\n",
       "│ 2  │ 93.84 │ <span style=\"color: #008000; text-decoration-color: #008000\">SUCCESS</span> │\n",
       "│ 3  │ 12.39 │ <span style=\"color: #800000; text-decoration-color: #800000\">ERROR</span>   │\n",
       "│ 4  │ 59.82 │ <span style=\"color: #008000; text-decoration-color: #008000\">SUCCESS</span> │\n",
       "│ 5  │ 95.04 │ <span style=\"color: #008000; text-decoration-color: #008000\">SUCCESS</span> │\n",
       "└────┴───────┴─────────┘\n",
       "</pre>\n"
      ],
      "text/plain": [
       "┏━━━━┳━━━━━━━┳━━━━━━━━━┓\n",
       "┃\u001b[1m \u001b[0m\u001b[1mID\u001b[0m\u001b[1m \u001b[0m┃\u001b[1m \u001b[0m\u001b[1mValue\u001b[0m\u001b[1m \u001b[0m┃\u001b[1m \u001b[0m\u001b[1mStatus \u001b[0m\u001b[1m \u001b[0m┃\n",
       "┡━━━━╇━━━━━━━╇━━━━━━━━━┩\n",
       "│ 0  │ 67.49 │ \u001b[32mSUCCESS\u001b[0m │\n",
       "│ 1  │ 25.44 │ \u001b[31mERROR\u001b[0m   │\n",
       "│ 2  │ 93.84 │ \u001b[32mSUCCESS\u001b[0m │\n",
       "│ 3  │ 12.39 │ \u001b[31mERROR\u001b[0m   │\n",
       "│ 4  │ 59.82 │ \u001b[32mSUCCESS\u001b[0m │\n",
       "│ 5  │ 95.04 │ \u001b[32mSUCCESS\u001b[0m │\n",
       "└────┴───────┴─────────┘\n"
      ]
     },
     "metadata": {},
     "output_type": "display_data"
    },
    {
     "data": {
      "text/html": [
       "<pre style=\"white-space:pre;overflow-x:auto;line-height:normal;font-family:Menlo,'DejaVu Sans Mono',consolas,'Courier New',monospace\">┏━━━━┳━━━━━━━┳━━━━━━━━━┓\n",
       "┃<span style=\"font-weight: bold\"> ID </span>┃<span style=\"font-weight: bold\"> Value </span>┃<span style=\"font-weight: bold\"> Status  </span>┃\n",
       "┡━━━━╇━━━━━━━╇━━━━━━━━━┩\n",
       "│ 0  │ 76.52 │ <span style=\"color: #008000; text-decoration-color: #008000\">SUCCESS</span> │\n",
       "│ 1  │ 98.47 │ <span style=\"color: #008000; text-decoration-color: #008000\">SUCCESS</span> │\n",
       "│ 2  │ 88.32 │ <span style=\"color: #008000; text-decoration-color: #008000\">SUCCESS</span> │\n",
       "│ 3  │ 43.50 │ <span style=\"color: #800000; text-decoration-color: #800000\">ERROR</span>   │\n",
       "│ 4  │ 57.62 │ <span style=\"color: #008000; text-decoration-color: #008000\">SUCCESS</span> │\n",
       "│ 5  │ 21.39 │ <span style=\"color: #800000; text-decoration-color: #800000\">ERROR</span>   │\n",
       "└────┴───────┴─────────┘\n",
       "</pre>\n"
      ],
      "text/plain": [
       "┏━━━━┳━━━━━━━┳━━━━━━━━━┓\n",
       "┃\u001b[1m \u001b[0m\u001b[1mID\u001b[0m\u001b[1m \u001b[0m┃\u001b[1m \u001b[0m\u001b[1mValue\u001b[0m\u001b[1m \u001b[0m┃\u001b[1m \u001b[0m\u001b[1mStatus \u001b[0m\u001b[1m \u001b[0m┃\n",
       "┡━━━━╇━━━━━━━╇━━━━━━━━━┩\n",
       "│ 0  │ 76.52 │ \u001b[32mSUCCESS\u001b[0m │\n",
       "│ 1  │ 98.47 │ \u001b[32mSUCCESS\u001b[0m │\n",
       "│ 2  │ 88.32 │ \u001b[32mSUCCESS\u001b[0m │\n",
       "│ 3  │ 43.50 │ \u001b[31mERROR\u001b[0m   │\n",
       "│ 4  │ 57.62 │ \u001b[32mSUCCESS\u001b[0m │\n",
       "│ 5  │ 21.39 │ \u001b[31mERROR\u001b[0m   │\n",
       "└────┴───────┴─────────┘\n"
      ]
     },
     "metadata": {},
     "output_type": "display_data"
    },
    {
     "data": {
      "text/html": [
       "<pre style=\"white-space:pre;overflow-x:auto;line-height:normal;font-family:Menlo,'DejaVu Sans Mono',consolas,'Courier New',monospace\">┏━━━━┳━━━━━━━┳━━━━━━━━━┓\n",
       "┃<span style=\"font-weight: bold\"> ID </span>┃<span style=\"font-weight: bold\"> Value </span>┃<span style=\"font-weight: bold\"> Status  </span>┃\n",
       "┡━━━━╇━━━━━━━╇━━━━━━━━━┩\n",
       "│ 0  │ 76.52 │ <span style=\"color: #008000; text-decoration-color: #008000\">SUCCESS</span> │\n",
       "│ 1  │ 98.47 │ <span style=\"color: #008000; text-decoration-color: #008000\">SUCCESS</span> │\n",
       "│ 2  │ 88.32 │ <span style=\"color: #008000; text-decoration-color: #008000\">SUCCESS</span> │\n",
       "│ 3  │ 43.50 │ <span style=\"color: #800000; text-decoration-color: #800000\">ERROR</span>   │\n",
       "│ 4  │ 57.62 │ <span style=\"color: #008000; text-decoration-color: #008000\">SUCCESS</span> │\n",
       "│ 5  │ 21.39 │ <span style=\"color: #800000; text-decoration-color: #800000\">ERROR</span>   │\n",
       "└────┴───────┴─────────┘\n",
       "</pre>\n"
      ],
      "text/plain": [
       "┏━━━━┳━━━━━━━┳━━━━━━━━━┓\n",
       "┃\u001b[1m \u001b[0m\u001b[1mID\u001b[0m\u001b[1m \u001b[0m┃\u001b[1m \u001b[0m\u001b[1mValue\u001b[0m\u001b[1m \u001b[0m┃\u001b[1m \u001b[0m\u001b[1mStatus \u001b[0m\u001b[1m \u001b[0m┃\n",
       "┡━━━━╇━━━━━━━╇━━━━━━━━━┩\n",
       "│ 0  │ 76.52 │ \u001b[32mSUCCESS\u001b[0m │\n",
       "│ 1  │ 98.47 │ \u001b[32mSUCCESS\u001b[0m │\n",
       "│ 2  │ 88.32 │ \u001b[32mSUCCESS\u001b[0m │\n",
       "│ 3  │ 43.50 │ \u001b[31mERROR\u001b[0m   │\n",
       "│ 4  │ 57.62 │ \u001b[32mSUCCESS\u001b[0m │\n",
       "│ 5  │ 21.39 │ \u001b[31mERROR\u001b[0m   │\n",
       "└────┴───────┴─────────┘\n"
      ]
     },
     "metadata": {},
     "output_type": "display_data"
    },
    {
     "data": {
      "text/html": [
       "<pre style=\"white-space:pre;overflow-x:auto;line-height:normal;font-family:Menlo,'DejaVu Sans Mono',consolas,'Courier New',monospace\">┏━━━━┳━━━━━━━┳━━━━━━━━━┓\n",
       "┃<span style=\"font-weight: bold\"> ID </span>┃<span style=\"font-weight: bold\"> Value </span>┃<span style=\"font-weight: bold\"> Status  </span>┃\n",
       "┡━━━━╇━━━━━━━╇━━━━━━━━━┩\n",
       "│ 0  │ 56.54 │ <span style=\"color: #008000; text-decoration-color: #008000\">SUCCESS</span> │\n",
       "│ 1  │ 65.47 │ <span style=\"color: #008000; text-decoration-color: #008000\">SUCCESS</span> │\n",
       "│ 2  │ 23.28 │ <span style=\"color: #800000; text-decoration-color: #800000\">ERROR</span>   │\n",
       "│ 3  │ 25.17 │ <span style=\"color: #800000; text-decoration-color: #800000\">ERROR</span>   │\n",
       "│ 4  │ 57.54 │ <span style=\"color: #008000; text-decoration-color: #008000\">SUCCESS</span> │\n",
       "└────┴───────┴─────────┘\n",
       "</pre>\n"
      ],
      "text/plain": [
       "┏━━━━┳━━━━━━━┳━━━━━━━━━┓\n",
       "┃\u001b[1m \u001b[0m\u001b[1mID\u001b[0m\u001b[1m \u001b[0m┃\u001b[1m \u001b[0m\u001b[1mValue\u001b[0m\u001b[1m \u001b[0m┃\u001b[1m \u001b[0m\u001b[1mStatus \u001b[0m\u001b[1m \u001b[0m┃\n",
       "┡━━━━╇━━━━━━━╇━━━━━━━━━┩\n",
       "│ 0  │ 56.54 │ \u001b[32mSUCCESS\u001b[0m │\n",
       "│ 1  │ 65.47 │ \u001b[32mSUCCESS\u001b[0m │\n",
       "│ 2  │ 23.28 │ \u001b[31mERROR\u001b[0m   │\n",
       "│ 3  │ 25.17 │ \u001b[31mERROR\u001b[0m   │\n",
       "│ 4  │ 57.54 │ \u001b[32mSUCCESS\u001b[0m │\n",
       "└────┴───────┴─────────┘\n"
      ]
     },
     "metadata": {},
     "output_type": "display_data"
    },
    {
     "data": {
      "text/html": [
       "<pre style=\"white-space:pre;overflow-x:auto;line-height:normal;font-family:Menlo,'DejaVu Sans Mono',consolas,'Courier New',monospace\">┏━━━━┳━━━━━━━┳━━━━━━━━━┓\n",
       "┃<span style=\"font-weight: bold\"> ID </span>┃<span style=\"font-weight: bold\"> Value </span>┃<span style=\"font-weight: bold\"> Status  </span>┃\n",
       "┡━━━━╇━━━━━━━╇━━━━━━━━━┩\n",
       "│ 0  │ 21.93 │ <span style=\"color: #800000; text-decoration-color: #800000\">ERROR</span>   │\n",
       "│ 1  │ 97.38 │ <span style=\"color: #008000; text-decoration-color: #008000\">SUCCESS</span> │\n",
       "└────┴───────┴─────────┘\n",
       "</pre>\n"
      ],
      "text/plain": [
       "┏━━━━┳━━━━━━━┳━━━━━━━━━┓\n",
       "┃\u001b[1m \u001b[0m\u001b[1mID\u001b[0m\u001b[1m \u001b[0m┃\u001b[1m \u001b[0m\u001b[1mValue\u001b[0m\u001b[1m \u001b[0m┃\u001b[1m \u001b[0m\u001b[1mStatus \u001b[0m\u001b[1m \u001b[0m┃\n",
       "┡━━━━╇━━━━━━━╇━━━━━━━━━┩\n",
       "│ 0  │ 21.93 │ \u001b[31mERROR\u001b[0m   │\n",
       "│ 1  │ 97.38 │ \u001b[32mSUCCESS\u001b[0m │\n",
       "└────┴───────┴─────────┘\n"
      ]
     },
     "metadata": {},
     "output_type": "display_data"
    },
    {
     "data": {
      "text/html": [
       "<pre style=\"white-space:pre;overflow-x:auto;line-height:normal;font-family:Menlo,'DejaVu Sans Mono',consolas,'Courier New',monospace\">┏━━━━┳━━━━━━━┳━━━━━━━━━┓\n",
       "┃<span style=\"font-weight: bold\"> ID </span>┃<span style=\"font-weight: bold\"> Value </span>┃<span style=\"font-weight: bold\"> Status  </span>┃\n",
       "┡━━━━╇━━━━━━━╇━━━━━━━━━┩\n",
       "│ 0  │ 21.93 │ <span style=\"color: #800000; text-decoration-color: #800000\">ERROR</span>   │\n",
       "│ 1  │ 97.38 │ <span style=\"color: #008000; text-decoration-color: #008000\">SUCCESS</span> │\n",
       "└────┴───────┴─────────┘\n",
       "</pre>\n"
      ],
      "text/plain": [
       "┏━━━━┳━━━━━━━┳━━━━━━━━━┓\n",
       "┃\u001b[1m \u001b[0m\u001b[1mID\u001b[0m\u001b[1m \u001b[0m┃\u001b[1m \u001b[0m\u001b[1mValue\u001b[0m\u001b[1m \u001b[0m┃\u001b[1m \u001b[0m\u001b[1mStatus \u001b[0m\u001b[1m \u001b[0m┃\n",
       "┡━━━━╇━━━━━━━╇━━━━━━━━━┩\n",
       "│ 0  │ 21.93 │ \u001b[31mERROR\u001b[0m   │\n",
       "│ 1  │ 97.38 │ \u001b[32mSUCCESS\u001b[0m │\n",
       "└────┴───────┴─────────┘\n"
      ]
     },
     "metadata": {},
     "output_type": "display_data"
    },
    {
     "data": {
      "text/html": [
       "<pre style=\"white-space:pre;overflow-x:auto;line-height:normal;font-family:Menlo,'DejaVu Sans Mono',consolas,'Courier New',monospace\">┏━━━━┳━━━━━━━┳━━━━━━━━━┓\n",
       "┃<span style=\"font-weight: bold\"> ID </span>┃<span style=\"font-weight: bold\"> Value </span>┃<span style=\"font-weight: bold\"> Status  </span>┃\n",
       "┡━━━━╇━━━━━━━╇━━━━━━━━━┩\n",
       "│ 0  │ 61.10 │ <span style=\"color: #008000; text-decoration-color: #008000\">SUCCESS</span> │\n",
       "│ 1  │ 98.67 │ <span style=\"color: #008000; text-decoration-color: #008000\">SUCCESS</span> │\n",
       "│ 2  │ 32.29 │ <span style=\"color: #800000; text-decoration-color: #800000\">ERROR</span>   │\n",
       "└────┴───────┴─────────┘\n",
       "</pre>\n"
      ],
      "text/plain": [
       "┏━━━━┳━━━━━━━┳━━━━━━━━━┓\n",
       "┃\u001b[1m \u001b[0m\u001b[1mID\u001b[0m\u001b[1m \u001b[0m┃\u001b[1m \u001b[0m\u001b[1mValue\u001b[0m\u001b[1m \u001b[0m┃\u001b[1m \u001b[0m\u001b[1mStatus \u001b[0m\u001b[1m \u001b[0m┃\n",
       "┡━━━━╇━━━━━━━╇━━━━━━━━━┩\n",
       "│ 0  │ 61.10 │ \u001b[32mSUCCESS\u001b[0m │\n",
       "│ 1  │ 98.67 │ \u001b[32mSUCCESS\u001b[0m │\n",
       "│ 2  │ 32.29 │ \u001b[31mERROR\u001b[0m   │\n",
       "└────┴───────┴─────────┘\n"
      ]
     },
     "metadata": {},
     "output_type": "display_data"
    },
    {
     "data": {
      "text/html": [
       "<pre style=\"white-space:pre;overflow-x:auto;line-height:normal;font-family:Menlo,'DejaVu Sans Mono',consolas,'Courier New',monospace\">┏━━━━┳━━━━━━━┳━━━━━━━━━┓\n",
       "┃<span style=\"font-weight: bold\"> ID </span>┃<span style=\"font-weight: bold\"> Value </span>┃<span style=\"font-weight: bold\"> Status  </span>┃\n",
       "┡━━━━╇━━━━━━━╇━━━━━━━━━┩\n",
       "│ 0  │ 86.91 │ <span style=\"color: #008000; text-decoration-color: #008000\">SUCCESS</span> │\n",
       "│ 1  │ 83.10 │ <span style=\"color: #008000; text-decoration-color: #008000\">SUCCESS</span> │\n",
       "│ 2  │ 19.41 │ <span style=\"color: #800000; text-decoration-color: #800000\">ERROR</span>   │\n",
       "│ 3  │ 78.08 │ <span style=\"color: #008000; text-decoration-color: #008000\">SUCCESS</span> │\n",
       "└────┴───────┴─────────┘\n",
       "</pre>\n"
      ],
      "text/plain": [
       "┏━━━━┳━━━━━━━┳━━━━━━━━━┓\n",
       "┃\u001b[1m \u001b[0m\u001b[1mID\u001b[0m\u001b[1m \u001b[0m┃\u001b[1m \u001b[0m\u001b[1mValue\u001b[0m\u001b[1m \u001b[0m┃\u001b[1m \u001b[0m\u001b[1mStatus \u001b[0m\u001b[1m \u001b[0m┃\n",
       "┡━━━━╇━━━━━━━╇━━━━━━━━━┩\n",
       "│ 0  │ 86.91 │ \u001b[32mSUCCESS\u001b[0m │\n",
       "│ 1  │ 83.10 │ \u001b[32mSUCCESS\u001b[0m │\n",
       "│ 2  │ 19.41 │ \u001b[31mERROR\u001b[0m   │\n",
       "│ 3  │ 78.08 │ \u001b[32mSUCCESS\u001b[0m │\n",
       "└────┴───────┴─────────┘\n"
      ]
     },
     "metadata": {},
     "output_type": "display_data"
    },
    {
     "data": {
      "text/html": [
       "<pre style=\"white-space:pre;overflow-x:auto;line-height:normal;font-family:Menlo,'DejaVu Sans Mono',consolas,'Courier New',monospace\">┏━━━━┳━━━━━━━┳━━━━━━━━━┓\n",
       "┃<span style=\"font-weight: bold\"> ID </span>┃<span style=\"font-weight: bold\"> Value </span>┃<span style=\"font-weight: bold\"> Status  </span>┃\n",
       "┡━━━━╇━━━━━━━╇━━━━━━━━━┩\n",
       "│ 0  │ 86.91 │ <span style=\"color: #008000; text-decoration-color: #008000\">SUCCESS</span> │\n",
       "│ 1  │ 83.10 │ <span style=\"color: #008000; text-decoration-color: #008000\">SUCCESS</span> │\n",
       "│ 2  │ 19.41 │ <span style=\"color: #800000; text-decoration-color: #800000\">ERROR</span>   │\n",
       "│ 3  │ 78.08 │ <span style=\"color: #008000; text-decoration-color: #008000\">SUCCESS</span> │\n",
       "└────┴───────┴─────────┘\n",
       "</pre>\n"
      ],
      "text/plain": [
       "┏━━━━┳━━━━━━━┳━━━━━━━━━┓\n",
       "┃\u001b[1m \u001b[0m\u001b[1mID\u001b[0m\u001b[1m \u001b[0m┃\u001b[1m \u001b[0m\u001b[1mValue\u001b[0m\u001b[1m \u001b[0m┃\u001b[1m \u001b[0m\u001b[1mStatus \u001b[0m\u001b[1m \u001b[0m┃\n",
       "┡━━━━╇━━━━━━━╇━━━━━━━━━┩\n",
       "│ 0  │ 86.91 │ \u001b[32mSUCCESS\u001b[0m │\n",
       "│ 1  │ 83.10 │ \u001b[32mSUCCESS\u001b[0m │\n",
       "│ 2  │ 19.41 │ \u001b[31mERROR\u001b[0m   │\n",
       "│ 3  │ 78.08 │ \u001b[32mSUCCESS\u001b[0m │\n",
       "└────┴───────┴─────────┘\n"
      ]
     },
     "metadata": {},
     "output_type": "display_data"
    },
    {
     "data": {
      "text/html": [
       "<pre style=\"white-space:pre;overflow-x:auto;line-height:normal;font-family:Menlo,'DejaVu Sans Mono',consolas,'Courier New',monospace\">┏━━━━┳━━━━━━━┳━━━━━━━━━┓\n",
       "┃<span style=\"font-weight: bold\"> ID </span>┃<span style=\"font-weight: bold\"> Value </span>┃<span style=\"font-weight: bold\"> Status  </span>┃\n",
       "┡━━━━╇━━━━━━━╇━━━━━━━━━┩\n",
       "│ 0  │ 70.04 │ <span style=\"color: #008000; text-decoration-color: #008000\">SUCCESS</span> │\n",
       "│ 1  │ 51.46 │ <span style=\"color: #008000; text-decoration-color: #008000\">SUCCESS</span> │\n",
       "│ 2  │ 52.49 │ <span style=\"color: #008000; text-decoration-color: #008000\">SUCCESS</span> │\n",
       "│ 3  │ 8.25  │ <span style=\"color: #800000; text-decoration-color: #800000\">ERROR</span>   │\n",
       "└────┴───────┴─────────┘\n",
       "</pre>\n"
      ],
      "text/plain": [
       "┏━━━━┳━━━━━━━┳━━━━━━━━━┓\n",
       "┃\u001b[1m \u001b[0m\u001b[1mID\u001b[0m\u001b[1m \u001b[0m┃\u001b[1m \u001b[0m\u001b[1mValue\u001b[0m\u001b[1m \u001b[0m┃\u001b[1m \u001b[0m\u001b[1mStatus \u001b[0m\u001b[1m \u001b[0m┃\n",
       "┡━━━━╇━━━━━━━╇━━━━━━━━━┩\n",
       "│ 0  │ 70.04 │ \u001b[32mSUCCESS\u001b[0m │\n",
       "│ 1  │ 51.46 │ \u001b[32mSUCCESS\u001b[0m │\n",
       "│ 2  │ 52.49 │ \u001b[32mSUCCESS\u001b[0m │\n",
       "│ 3  │ 8.25  │ \u001b[31mERROR\u001b[0m   │\n",
       "└────┴───────┴─────────┘\n"
      ]
     },
     "metadata": {},
     "output_type": "display_data"
    },
    {
     "data": {
      "text/html": [
       "<pre style=\"white-space:pre;overflow-x:auto;line-height:normal;font-family:Menlo,'DejaVu Sans Mono',consolas,'Courier New',monospace\">┏━━━━┳━━━━━━━┳━━━━━━━━━┓\n",
       "┃<span style=\"font-weight: bold\"> ID </span>┃<span style=\"font-weight: bold\"> Value </span>┃<span style=\"font-weight: bold\"> Status  </span>┃\n",
       "┡━━━━╇━━━━━━━╇━━━━━━━━━┩\n",
       "│ 0  │ 89.14 │ <span style=\"color: #008000; text-decoration-color: #008000\">SUCCESS</span> │\n",
       "│ 1  │ 44.06 │ <span style=\"color: #800000; text-decoration-color: #800000\">ERROR</span>   │\n",
       "│ 2  │ 55.18 │ <span style=\"color: #008000; text-decoration-color: #008000\">SUCCESS</span> │\n",
       "│ 3  │ 77.62 │ <span style=\"color: #008000; text-decoration-color: #008000\">SUCCESS</span> │\n",
       "│ 4  │ 40.90 │ <span style=\"color: #800000; text-decoration-color: #800000\">ERROR</span>   │\n",
       "└────┴───────┴─────────┘\n",
       "</pre>\n"
      ],
      "text/plain": [
       "┏━━━━┳━━━━━━━┳━━━━━━━━━┓\n",
       "┃\u001b[1m \u001b[0m\u001b[1mID\u001b[0m\u001b[1m \u001b[0m┃\u001b[1m \u001b[0m\u001b[1mValue\u001b[0m\u001b[1m \u001b[0m┃\u001b[1m \u001b[0m\u001b[1mStatus \u001b[0m\u001b[1m \u001b[0m┃\n",
       "┡━━━━╇━━━━━━━╇━━━━━━━━━┩\n",
       "│ 0  │ 89.14 │ \u001b[32mSUCCESS\u001b[0m │\n",
       "│ 1  │ 44.06 │ \u001b[31mERROR\u001b[0m   │\n",
       "│ 2  │ 55.18 │ \u001b[32mSUCCESS\u001b[0m │\n",
       "│ 3  │ 77.62 │ \u001b[32mSUCCESS\u001b[0m │\n",
       "│ 4  │ 40.90 │ \u001b[31mERROR\u001b[0m   │\n",
       "└────┴───────┴─────────┘\n"
      ]
     },
     "metadata": {},
     "output_type": "display_data"
    },
    {
     "data": {
      "text/html": [
       "<pre style=\"white-space:pre;overflow-x:auto;line-height:normal;font-family:Menlo,'DejaVu Sans Mono',consolas,'Courier New',monospace\">┏━━━━┳━━━━━━━┳━━━━━━━━━┓\n",
       "┃<span style=\"font-weight: bold\"> ID </span>┃<span style=\"font-weight: bold\"> Value </span>┃<span style=\"font-weight: bold\"> Status  </span>┃\n",
       "┡━━━━╇━━━━━━━╇━━━━━━━━━┩\n",
       "│ 0  │ 89.14 │ <span style=\"color: #008000; text-decoration-color: #008000\">SUCCESS</span> │\n",
       "│ 1  │ 44.06 │ <span style=\"color: #800000; text-decoration-color: #800000\">ERROR</span>   │\n",
       "│ 2  │ 55.18 │ <span style=\"color: #008000; text-decoration-color: #008000\">SUCCESS</span> │\n",
       "│ 3  │ 77.62 │ <span style=\"color: #008000; text-decoration-color: #008000\">SUCCESS</span> │\n",
       "│ 4  │ 40.90 │ <span style=\"color: #800000; text-decoration-color: #800000\">ERROR</span>   │\n",
       "└────┴───────┴─────────┘\n",
       "</pre>\n"
      ],
      "text/plain": [
       "┏━━━━┳━━━━━━━┳━━━━━━━━━┓\n",
       "┃\u001b[1m \u001b[0m\u001b[1mID\u001b[0m\u001b[1m \u001b[0m┃\u001b[1m \u001b[0m\u001b[1mValue\u001b[0m\u001b[1m \u001b[0m┃\u001b[1m \u001b[0m\u001b[1mStatus \u001b[0m\u001b[1m \u001b[0m┃\n",
       "┡━━━━╇━━━━━━━╇━━━━━━━━━┩\n",
       "│ 0  │ 89.14 │ \u001b[32mSUCCESS\u001b[0m │\n",
       "│ 1  │ 44.06 │ \u001b[31mERROR\u001b[0m   │\n",
       "│ 2  │ 55.18 │ \u001b[32mSUCCESS\u001b[0m │\n",
       "│ 3  │ 77.62 │ \u001b[32mSUCCESS\u001b[0m │\n",
       "│ 4  │ 40.90 │ \u001b[31mERROR\u001b[0m   │\n",
       "└────┴───────┴─────────┘\n"
      ]
     },
     "metadata": {},
     "output_type": "display_data"
    },
    {
     "data": {
      "text/html": [
       "<pre style=\"white-space:pre;overflow-x:auto;line-height:normal;font-family:Menlo,'DejaVu Sans Mono',consolas,'Courier New',monospace\">┏━━━━┳━━━━━━━┳━━━━━━━━━┓\n",
       "┃<span style=\"font-weight: bold\"> ID </span>┃<span style=\"font-weight: bold\"> Value </span>┃<span style=\"font-weight: bold\"> Status  </span>┃\n",
       "┡━━━━╇━━━━━━━╇━━━━━━━━━┩\n",
       "│ 0  │ 5.78  │ <span style=\"color: #800000; text-decoration-color: #800000\">ERROR</span>   │\n",
       "│ 1  │ 67.05 │ <span style=\"color: #008000; text-decoration-color: #008000\">SUCCESS</span> │\n",
       "│ 2  │ 25.80 │ <span style=\"color: #800000; text-decoration-color: #800000\">ERROR</span>   │\n",
       "│ 3  │ 96.30 │ <span style=\"color: #008000; text-decoration-color: #008000\">SUCCESS</span> │\n",
       "│ 4  │ 67.15 │ <span style=\"color: #008000; text-decoration-color: #008000\">SUCCESS</span> │\n",
       "│ 5  │ 77.11 │ <span style=\"color: #008000; text-decoration-color: #008000\">SUCCESS</span> │\n",
       "└────┴───────┴─────────┘\n",
       "</pre>\n"
      ],
      "text/plain": [
       "┏━━━━┳━━━━━━━┳━━━━━━━━━┓\n",
       "┃\u001b[1m \u001b[0m\u001b[1mID\u001b[0m\u001b[1m \u001b[0m┃\u001b[1m \u001b[0m\u001b[1mValue\u001b[0m\u001b[1m \u001b[0m┃\u001b[1m \u001b[0m\u001b[1mStatus \u001b[0m\u001b[1m \u001b[0m┃\n",
       "┡━━━━╇━━━━━━━╇━━━━━━━━━┩\n",
       "│ 0  │ 5.78  │ \u001b[31mERROR\u001b[0m   │\n",
       "│ 1  │ 67.05 │ \u001b[32mSUCCESS\u001b[0m │\n",
       "│ 2  │ 25.80 │ \u001b[31mERROR\u001b[0m   │\n",
       "│ 3  │ 96.30 │ \u001b[32mSUCCESS\u001b[0m │\n",
       "│ 4  │ 67.15 │ \u001b[32mSUCCESS\u001b[0m │\n",
       "│ 5  │ 77.11 │ \u001b[32mSUCCESS\u001b[0m │\n",
       "└────┴───────┴─────────┘\n"
      ]
     },
     "metadata": {},
     "output_type": "display_data"
    },
    {
     "data": {
      "text/html": [
       "<pre style=\"white-space:pre;overflow-x:auto;line-height:normal;font-family:Menlo,'DejaVu Sans Mono',consolas,'Courier New',monospace\">┏━━━━┳━━━━━━━┳━━━━━━━━━┓\n",
       "┃<span style=\"font-weight: bold\"> ID </span>┃<span style=\"font-weight: bold\"> Value </span>┃<span style=\"font-weight: bold\"> Status  </span>┃\n",
       "┡━━━━╇━━━━━━━╇━━━━━━━━━┩\n",
       "│ 0  │ 5.78  │ <span style=\"color: #800000; text-decoration-color: #800000\">ERROR</span>   │\n",
       "│ 1  │ 67.05 │ <span style=\"color: #008000; text-decoration-color: #008000\">SUCCESS</span> │\n",
       "│ 2  │ 25.80 │ <span style=\"color: #800000; text-decoration-color: #800000\">ERROR</span>   │\n",
       "│ 3  │ 96.30 │ <span style=\"color: #008000; text-decoration-color: #008000\">SUCCESS</span> │\n",
       "│ 4  │ 67.15 │ <span style=\"color: #008000; text-decoration-color: #008000\">SUCCESS</span> │\n",
       "│ 5  │ 77.11 │ <span style=\"color: #008000; text-decoration-color: #008000\">SUCCESS</span> │\n",
       "└────┴───────┴─────────┘\n",
       "</pre>\n"
      ],
      "text/plain": [
       "┏━━━━┳━━━━━━━┳━━━━━━━━━┓\n",
       "┃\u001b[1m \u001b[0m\u001b[1mID\u001b[0m\u001b[1m \u001b[0m┃\u001b[1m \u001b[0m\u001b[1mValue\u001b[0m\u001b[1m \u001b[0m┃\u001b[1m \u001b[0m\u001b[1mStatus \u001b[0m\u001b[1m \u001b[0m┃\n",
       "┡━━━━╇━━━━━━━╇━━━━━━━━━┩\n",
       "│ 0  │ 5.78  │ \u001b[31mERROR\u001b[0m   │\n",
       "│ 1  │ 67.05 │ \u001b[32mSUCCESS\u001b[0m │\n",
       "│ 2  │ 25.80 │ \u001b[31mERROR\u001b[0m   │\n",
       "│ 3  │ 96.30 │ \u001b[32mSUCCESS\u001b[0m │\n",
       "│ 4  │ 67.15 │ \u001b[32mSUCCESS\u001b[0m │\n",
       "│ 5  │ 77.11 │ \u001b[32mSUCCESS\u001b[0m │\n",
       "└────┴───────┴─────────┘\n"
      ]
     },
     "metadata": {},
     "output_type": "display_data"
    },
    {
     "data": {
      "text/html": [
       "<pre style=\"white-space:pre;overflow-x:auto;line-height:normal;font-family:Menlo,'DejaVu Sans Mono',consolas,'Courier New',monospace\">┏━━━━┳━━━━━━━┳━━━━━━━━━┓\n",
       "┃<span style=\"font-weight: bold\"> ID </span>┃<span style=\"font-weight: bold\"> Value </span>┃<span style=\"font-weight: bold\"> Status  </span>┃\n",
       "┡━━━━╇━━━━━━━╇━━━━━━━━━┩\n",
       "│ 0  │ 7.04  │ <span style=\"color: #800000; text-decoration-color: #800000\">ERROR</span>   │\n",
       "│ 1  │ 49.10 │ <span style=\"color: #800000; text-decoration-color: #800000\">ERROR</span>   │\n",
       "│ 2  │ 13.81 │ <span style=\"color: #800000; text-decoration-color: #800000\">ERROR</span>   │\n",
       "│ 3  │ 53.08 │ <span style=\"color: #008000; text-decoration-color: #008000\">SUCCESS</span> │\n",
       "│ 4  │ 40.79 │ <span style=\"color: #800000; text-decoration-color: #800000\">ERROR</span>   │\n",
       "└────┴───────┴─────────┘\n",
       "</pre>\n"
      ],
      "text/plain": [
       "┏━━━━┳━━━━━━━┳━━━━━━━━━┓\n",
       "┃\u001b[1m \u001b[0m\u001b[1mID\u001b[0m\u001b[1m \u001b[0m┃\u001b[1m \u001b[0m\u001b[1mValue\u001b[0m\u001b[1m \u001b[0m┃\u001b[1m \u001b[0m\u001b[1mStatus \u001b[0m\u001b[1m \u001b[0m┃\n",
       "┡━━━━╇━━━━━━━╇━━━━━━━━━┩\n",
       "│ 0  │ 7.04  │ \u001b[31mERROR\u001b[0m   │\n",
       "│ 1  │ 49.10 │ \u001b[31mERROR\u001b[0m   │\n",
       "│ 2  │ 13.81 │ \u001b[31mERROR\u001b[0m   │\n",
       "│ 3  │ 53.08 │ \u001b[32mSUCCESS\u001b[0m │\n",
       "│ 4  │ 40.79 │ \u001b[31mERROR\u001b[0m   │\n",
       "└────┴───────┴─────────┘\n"
      ]
     },
     "metadata": {},
     "output_type": "display_data"
    },
    {
     "data": {
      "text/html": [
       "<pre style=\"white-space:pre;overflow-x:auto;line-height:normal;font-family:Menlo,'DejaVu Sans Mono',consolas,'Courier New',monospace\">┏━━━━┳━━━━━━━┳━━━━━━━━━┓\n",
       "┃<span style=\"font-weight: bold\"> ID </span>┃<span style=\"font-weight: bold\"> Value </span>┃<span style=\"font-weight: bold\"> Status  </span>┃\n",
       "┡━━━━╇━━━━━━━╇━━━━━━━━━┩\n",
       "│ 0  │ 10.11 │ <span style=\"color: #800000; text-decoration-color: #800000\">ERROR</span>   │\n",
       "│ 1  │ 60.85 │ <span style=\"color: #008000; text-decoration-color: #008000\">SUCCESS</span> │\n",
       "└────┴───────┴─────────┘\n",
       "</pre>\n"
      ],
      "text/plain": [
       "┏━━━━┳━━━━━━━┳━━━━━━━━━┓\n",
       "┃\u001b[1m \u001b[0m\u001b[1mID\u001b[0m\u001b[1m \u001b[0m┃\u001b[1m \u001b[0m\u001b[1mValue\u001b[0m\u001b[1m \u001b[0m┃\u001b[1m \u001b[0m\u001b[1mStatus \u001b[0m\u001b[1m \u001b[0m┃\n",
       "┡━━━━╇━━━━━━━╇━━━━━━━━━┩\n",
       "│ 0  │ 10.11 │ \u001b[31mERROR\u001b[0m   │\n",
       "│ 1  │ 60.85 │ \u001b[32mSUCCESS\u001b[0m │\n",
       "└────┴───────┴─────────┘\n"
      ]
     },
     "metadata": {},
     "output_type": "display_data"
    },
    {
     "data": {
      "text/html": [
       "<pre style=\"white-space:pre;overflow-x:auto;line-height:normal;font-family:Menlo,'DejaVu Sans Mono',consolas,'Courier New',monospace\">┏━━━━┳━━━━━━━┳━━━━━━━━━┓\n",
       "┃<span style=\"font-weight: bold\"> ID </span>┃<span style=\"font-weight: bold\"> Value </span>┃<span style=\"font-weight: bold\"> Status  </span>┃\n",
       "┡━━━━╇━━━━━━━╇━━━━━━━━━┩\n",
       "│ 0  │ 10.11 │ <span style=\"color: #800000; text-decoration-color: #800000\">ERROR</span>   │\n",
       "│ 1  │ 60.85 │ <span style=\"color: #008000; text-decoration-color: #008000\">SUCCESS</span> │\n",
       "└────┴───────┴─────────┘\n",
       "</pre>\n"
      ],
      "text/plain": [
       "┏━━━━┳━━━━━━━┳━━━━━━━━━┓\n",
       "┃\u001b[1m \u001b[0m\u001b[1mID\u001b[0m\u001b[1m \u001b[0m┃\u001b[1m \u001b[0m\u001b[1mValue\u001b[0m\u001b[1m \u001b[0m┃\u001b[1m \u001b[0m\u001b[1mStatus \u001b[0m\u001b[1m \u001b[0m┃\n",
       "┡━━━━╇━━━━━━━╇━━━━━━━━━┩\n",
       "│ 0  │ 10.11 │ \u001b[31mERROR\u001b[0m   │\n",
       "│ 1  │ 60.85 │ \u001b[32mSUCCESS\u001b[0m │\n",
       "└────┴───────┴─────────┘\n"
      ]
     },
     "metadata": {},
     "output_type": "display_data"
    },
    {
     "data": {
      "text/html": [
       "<pre style=\"white-space:pre;overflow-x:auto;line-height:normal;font-family:Menlo,'DejaVu Sans Mono',consolas,'Courier New',monospace\">┏━━━━┳━━━━━━━┳━━━━━━━━━┓\n",
       "┃<span style=\"font-weight: bold\"> ID </span>┃<span style=\"font-weight: bold\"> Value </span>┃<span style=\"font-weight: bold\"> Status  </span>┃\n",
       "┡━━━━╇━━━━━━━╇━━━━━━━━━┩\n",
       "│ 0  │ 94.55 │ <span style=\"color: #008000; text-decoration-color: #008000\">SUCCESS</span> │\n",
       "│ 1  │ 88.98 │ <span style=\"color: #008000; text-decoration-color: #008000\">SUCCESS</span> │\n",
       "│ 2  │ 15.31 │ <span style=\"color: #800000; text-decoration-color: #800000\">ERROR</span>   │\n",
       "│ 3  │ 99.79 │ <span style=\"color: #008000; text-decoration-color: #008000\">SUCCESS</span> │\n",
       "│ 4  │ 51.22 │ <span style=\"color: #008000; text-decoration-color: #008000\">SUCCESS</span> │\n",
       "└────┴───────┴─────────┘\n",
       "</pre>\n"
      ],
      "text/plain": [
       "┏━━━━┳━━━━━━━┳━━━━━━━━━┓\n",
       "┃\u001b[1m \u001b[0m\u001b[1mID\u001b[0m\u001b[1m \u001b[0m┃\u001b[1m \u001b[0m\u001b[1mValue\u001b[0m\u001b[1m \u001b[0m┃\u001b[1m \u001b[0m\u001b[1mStatus \u001b[0m\u001b[1m \u001b[0m┃\n",
       "┡━━━━╇━━━━━━━╇━━━━━━━━━┩\n",
       "│ 0  │ 94.55 │ \u001b[32mSUCCESS\u001b[0m │\n",
       "│ 1  │ 88.98 │ \u001b[32mSUCCESS\u001b[0m │\n",
       "│ 2  │ 15.31 │ \u001b[31mERROR\u001b[0m   │\n",
       "│ 3  │ 99.79 │ \u001b[32mSUCCESS\u001b[0m │\n",
       "│ 4  │ 51.22 │ \u001b[32mSUCCESS\u001b[0m │\n",
       "└────┴───────┴─────────┘\n"
      ]
     },
     "metadata": {},
     "output_type": "display_data"
    },
    {
     "data": {
      "text/html": [
       "<pre style=\"white-space:pre;overflow-x:auto;line-height:normal;font-family:Menlo,'DejaVu Sans Mono',consolas,'Courier New',monospace\">┏━━━━┳━━━━━━━┳━━━━━━━━━┓\n",
       "┃<span style=\"font-weight: bold\"> ID </span>┃<span style=\"font-weight: bold\"> Value </span>┃<span style=\"font-weight: bold\"> Status  </span>┃\n",
       "┡━━━━╇━━━━━━━╇━━━━━━━━━┩\n",
       "│ 0  │ 20.66 │ <span style=\"color: #800000; text-decoration-color: #800000\">ERROR</span>   │\n",
       "│ 1  │ 34.03 │ <span style=\"color: #800000; text-decoration-color: #800000\">ERROR</span>   │\n",
       "│ 2  │ 25.98 │ <span style=\"color: #800000; text-decoration-color: #800000\">ERROR</span>   │\n",
       "│ 3  │ 5.37  │ <span style=\"color: #800000; text-decoration-color: #800000\">ERROR</span>   │\n",
       "│ 4  │ 99.09 │ <span style=\"color: #008000; text-decoration-color: #008000\">SUCCESS</span> │\n",
       "│ 5  │ 69.23 │ <span style=\"color: #008000; text-decoration-color: #008000\">SUCCESS</span> │\n",
       "└────┴───────┴─────────┘\n",
       "</pre>\n"
      ],
      "text/plain": [
       "┏━━━━┳━━━━━━━┳━━━━━━━━━┓\n",
       "┃\u001b[1m \u001b[0m\u001b[1mID\u001b[0m\u001b[1m \u001b[0m┃\u001b[1m \u001b[0m\u001b[1mValue\u001b[0m\u001b[1m \u001b[0m┃\u001b[1m \u001b[0m\u001b[1mStatus \u001b[0m\u001b[1m \u001b[0m┃\n",
       "┡━━━━╇━━━━━━━╇━━━━━━━━━┩\n",
       "│ 0  │ 20.66 │ \u001b[31mERROR\u001b[0m   │\n",
       "│ 1  │ 34.03 │ \u001b[31mERROR\u001b[0m   │\n",
       "│ 2  │ 25.98 │ \u001b[31mERROR\u001b[0m   │\n",
       "│ 3  │ 5.37  │ \u001b[31mERROR\u001b[0m   │\n",
       "│ 4  │ 99.09 │ \u001b[32mSUCCESS\u001b[0m │\n",
       "│ 5  │ 69.23 │ \u001b[32mSUCCESS\u001b[0m │\n",
       "└────┴───────┴─────────┘\n"
      ]
     },
     "metadata": {},
     "output_type": "display_data"
    },
    {
     "data": {
      "text/html": [
       "<pre style=\"white-space:pre;overflow-x:auto;line-height:normal;font-family:Menlo,'DejaVu Sans Mono',consolas,'Courier New',monospace\">┏━━━━┳━━━━━━━┳━━━━━━━━━┓\n",
       "┃<span style=\"font-weight: bold\"> ID </span>┃<span style=\"font-weight: bold\"> Value </span>┃<span style=\"font-weight: bold\"> Status  </span>┃\n",
       "┡━━━━╇━━━━━━━╇━━━━━━━━━┩\n",
       "│ 0  │ 20.66 │ <span style=\"color: #800000; text-decoration-color: #800000\">ERROR</span>   │\n",
       "│ 1  │ 34.03 │ <span style=\"color: #800000; text-decoration-color: #800000\">ERROR</span>   │\n",
       "│ 2  │ 25.98 │ <span style=\"color: #800000; text-decoration-color: #800000\">ERROR</span>   │\n",
       "│ 3  │ 5.37  │ <span style=\"color: #800000; text-decoration-color: #800000\">ERROR</span>   │\n",
       "│ 4  │ 99.09 │ <span style=\"color: #008000; text-decoration-color: #008000\">SUCCESS</span> │\n",
       "│ 5  │ 69.23 │ <span style=\"color: #008000; text-decoration-color: #008000\">SUCCESS</span> │\n",
       "└────┴───────┴─────────┘\n",
       "</pre>\n"
      ],
      "text/plain": [
       "┏━━━━┳━━━━━━━┳━━━━━━━━━┓\n",
       "┃\u001b[1m \u001b[0m\u001b[1mID\u001b[0m\u001b[1m \u001b[0m┃\u001b[1m \u001b[0m\u001b[1mValue\u001b[0m\u001b[1m \u001b[0m┃\u001b[1m \u001b[0m\u001b[1mStatus \u001b[0m\u001b[1m \u001b[0m┃\n",
       "┡━━━━╇━━━━━━━╇━━━━━━━━━┩\n",
       "│ 0  │ 20.66 │ \u001b[31mERROR\u001b[0m   │\n",
       "│ 1  │ 34.03 │ \u001b[31mERROR\u001b[0m   │\n",
       "│ 2  │ 25.98 │ \u001b[31mERROR\u001b[0m   │\n",
       "│ 3  │ 5.37  │ \u001b[31mERROR\u001b[0m   │\n",
       "│ 4  │ 99.09 │ \u001b[32mSUCCESS\u001b[0m │\n",
       "│ 5  │ 69.23 │ \u001b[32mSUCCESS\u001b[0m │\n",
       "└────┴───────┴─────────┘\n"
      ]
     },
     "metadata": {},
     "output_type": "display_data"
    },
    {
     "data": {
      "text/html": [
       "<pre style=\"white-space:pre;overflow-x:auto;line-height:normal;font-family:Menlo,'DejaVu Sans Mono',consolas,'Courier New',monospace\">┏━━━━┳━━━━━━━┳━━━━━━━━━┓\n",
       "┃<span style=\"font-weight: bold\"> ID </span>┃<span style=\"font-weight: bold\"> Value </span>┃<span style=\"font-weight: bold\"> Status  </span>┃\n",
       "┡━━━━╇━━━━━━━╇━━━━━━━━━┩\n",
       "│ 0  │ 13.76 │ <span style=\"color: #800000; text-decoration-color: #800000\">ERROR</span>   │\n",
       "│ 1  │ 2.24  │ <span style=\"color: #800000; text-decoration-color: #800000\">ERROR</span>   │\n",
       "│ 2  │ 90.25 │ <span style=\"color: #008000; text-decoration-color: #008000\">SUCCESS</span> │\n",
       "└────┴───────┴─────────┘\n",
       "</pre>\n"
      ],
      "text/plain": [
       "┏━━━━┳━━━━━━━┳━━━━━━━━━┓\n",
       "┃\u001b[1m \u001b[0m\u001b[1mID\u001b[0m\u001b[1m \u001b[0m┃\u001b[1m \u001b[0m\u001b[1mValue\u001b[0m\u001b[1m \u001b[0m┃\u001b[1m \u001b[0m\u001b[1mStatus \u001b[0m\u001b[1m \u001b[0m┃\n",
       "┡━━━━╇━━━━━━━╇━━━━━━━━━┩\n",
       "│ 0  │ 13.76 │ \u001b[31mERROR\u001b[0m   │\n",
       "│ 1  │ 2.24  │ \u001b[31mERROR\u001b[0m   │\n",
       "│ 2  │ 90.25 │ \u001b[32mSUCCESS\u001b[0m │\n",
       "└────┴───────┴─────────┘\n"
      ]
     },
     "metadata": {},
     "output_type": "display_data"
    },
    {
     "data": {
      "text/html": [
       "<pre style=\"white-space:pre;overflow-x:auto;line-height:normal;font-family:Menlo,'DejaVu Sans Mono',consolas,'Courier New',monospace\">┏━━━━┳━━━━━━━┳━━━━━━━━━┓\n",
       "┃<span style=\"font-weight: bold\"> ID </span>┃<span style=\"font-weight: bold\"> Value </span>┃<span style=\"font-weight: bold\"> Status  </span>┃\n",
       "┡━━━━╇━━━━━━━╇━━━━━━━━━┩\n",
       "│ 0  │ 77.85 │ <span style=\"color: #008000; text-decoration-color: #008000\">SUCCESS</span> │\n",
       "│ 1  │ 3.98  │ <span style=\"color: #800000; text-decoration-color: #800000\">ERROR</span>   │\n",
       "│ 2  │ 68.41 │ <span style=\"color: #008000; text-decoration-color: #008000\">SUCCESS</span> │\n",
       "│ 3  │ 96.96 │ <span style=\"color: #008000; text-decoration-color: #008000\">SUCCESS</span> │\n",
       "└────┴───────┴─────────┘\n",
       "</pre>\n"
      ],
      "text/plain": [
       "┏━━━━┳━━━━━━━┳━━━━━━━━━┓\n",
       "┃\u001b[1m \u001b[0m\u001b[1mID\u001b[0m\u001b[1m \u001b[0m┃\u001b[1m \u001b[0m\u001b[1mValue\u001b[0m\u001b[1m \u001b[0m┃\u001b[1m \u001b[0m\u001b[1mStatus \u001b[0m\u001b[1m \u001b[0m┃\n",
       "┡━━━━╇━━━━━━━╇━━━━━━━━━┩\n",
       "│ 0  │ 77.85 │ \u001b[32mSUCCESS\u001b[0m │\n",
       "│ 1  │ 3.98  │ \u001b[31mERROR\u001b[0m   │\n",
       "│ 2  │ 68.41 │ \u001b[32mSUCCESS\u001b[0m │\n",
       "│ 3  │ 96.96 │ \u001b[32mSUCCESS\u001b[0m │\n",
       "└────┴───────┴─────────┘\n"
      ]
     },
     "metadata": {},
     "output_type": "display_data"
    },
    {
     "data": {
      "text/html": [
       "<pre style=\"white-space:pre;overflow-x:auto;line-height:normal;font-family:Menlo,'DejaVu Sans Mono',consolas,'Courier New',monospace\">┏━━━━┳━━━━━━━┳━━━━━━━━━┓\n",
       "┃<span style=\"font-weight: bold\"> ID </span>┃<span style=\"font-weight: bold\"> Value </span>┃<span style=\"font-weight: bold\"> Status  </span>┃\n",
       "┡━━━━╇━━━━━━━╇━━━━━━━━━┩\n",
       "│ 0  │ 77.85 │ <span style=\"color: #008000; text-decoration-color: #008000\">SUCCESS</span> │\n",
       "│ 1  │ 3.98  │ <span style=\"color: #800000; text-decoration-color: #800000\">ERROR</span>   │\n",
       "│ 2  │ 68.41 │ <span style=\"color: #008000; text-decoration-color: #008000\">SUCCESS</span> │\n",
       "│ 3  │ 96.96 │ <span style=\"color: #008000; text-decoration-color: #008000\">SUCCESS</span> │\n",
       "└────┴───────┴─────────┘\n",
       "</pre>\n"
      ],
      "text/plain": [
       "┏━━━━┳━━━━━━━┳━━━━━━━━━┓\n",
       "┃\u001b[1m \u001b[0m\u001b[1mID\u001b[0m\u001b[1m \u001b[0m┃\u001b[1m \u001b[0m\u001b[1mValue\u001b[0m\u001b[1m \u001b[0m┃\u001b[1m \u001b[0m\u001b[1mStatus \u001b[0m\u001b[1m \u001b[0m┃\n",
       "┡━━━━╇━━━━━━━╇━━━━━━━━━┩\n",
       "│ 0  │ 77.85 │ \u001b[32mSUCCESS\u001b[0m │\n",
       "│ 1  │ 3.98  │ \u001b[31mERROR\u001b[0m   │\n",
       "│ 2  │ 68.41 │ \u001b[32mSUCCESS\u001b[0m │\n",
       "│ 3  │ 96.96 │ \u001b[32mSUCCESS\u001b[0m │\n",
       "└────┴───────┴─────────┘\n"
      ]
     },
     "metadata": {},
     "output_type": "display_data"
    },
    {
     "data": {
      "text/html": [
       "<pre style=\"white-space:pre;overflow-x:auto;line-height:normal;font-family:Menlo,'DejaVu Sans Mono',consolas,'Courier New',monospace\">┏━━━━┳━━━━━━━┳━━━━━━━━━┓\n",
       "┃<span style=\"font-weight: bold\"> ID </span>┃<span style=\"font-weight: bold\"> Value </span>┃<span style=\"font-weight: bold\"> Status  </span>┃\n",
       "┡━━━━╇━━━━━━━╇━━━━━━━━━┩\n",
       "│ 0  │ 97.18 │ <span style=\"color: #008000; text-decoration-color: #008000\">SUCCESS</span> │\n",
       "│ 1  │ 8.48  │ <span style=\"color: #800000; text-decoration-color: #800000\">ERROR</span>   │\n",
       "└────┴───────┴─────────┘\n",
       "</pre>\n"
      ],
      "text/plain": [
       "┏━━━━┳━━━━━━━┳━━━━━━━━━┓\n",
       "┃\u001b[1m \u001b[0m\u001b[1mID\u001b[0m\u001b[1m \u001b[0m┃\u001b[1m \u001b[0m\u001b[1mValue\u001b[0m\u001b[1m \u001b[0m┃\u001b[1m \u001b[0m\u001b[1mStatus \u001b[0m\u001b[1m \u001b[0m┃\n",
       "┡━━━━╇━━━━━━━╇━━━━━━━━━┩\n",
       "│ 0  │ 97.18 │ \u001b[32mSUCCESS\u001b[0m │\n",
       "│ 1  │ 8.48  │ \u001b[31mERROR\u001b[0m   │\n",
       "└────┴───────┴─────────┘\n"
      ]
     },
     "metadata": {},
     "output_type": "display_data"
    },
    {
     "data": {
      "text/html": [
       "<pre style=\"white-space:pre;overflow-x:auto;line-height:normal;font-family:Menlo,'DejaVu Sans Mono',consolas,'Courier New',monospace\">┏━━━━┳━━━━━━━┳━━━━━━━━━┓\n",
       "┃<span style=\"font-weight: bold\"> ID </span>┃<span style=\"font-weight: bold\"> Value </span>┃<span style=\"font-weight: bold\"> Status  </span>┃\n",
       "┡━━━━╇━━━━━━━╇━━━━━━━━━┩\n",
       "│ 0  │ 97.18 │ <span style=\"color: #008000; text-decoration-color: #008000\">SUCCESS</span> │\n",
       "│ 1  │ 8.48  │ <span style=\"color: #800000; text-decoration-color: #800000\">ERROR</span>   │\n",
       "└────┴───────┴─────────┘\n",
       "</pre>\n"
      ],
      "text/plain": [
       "┏━━━━┳━━━━━━━┳━━━━━━━━━┓\n",
       "┃\u001b[1m \u001b[0m\u001b[1mID\u001b[0m\u001b[1m \u001b[0m┃\u001b[1m \u001b[0m\u001b[1mValue\u001b[0m\u001b[1m \u001b[0m┃\u001b[1m \u001b[0m\u001b[1mStatus \u001b[0m\u001b[1m \u001b[0m┃\n",
       "┡━━━━╇━━━━━━━╇━━━━━━━━━┩\n",
       "│ 0  │ 97.18 │ \u001b[32mSUCCESS\u001b[0m │\n",
       "│ 1  │ 8.48  │ \u001b[31mERROR\u001b[0m   │\n",
       "└────┴───────┴─────────┘\n"
      ]
     },
     "metadata": {},
     "output_type": "display_data"
    },
    {
     "data": {
      "text/html": [
       "<pre style=\"white-space:pre;overflow-x:auto;line-height:normal;font-family:Menlo,'DejaVu Sans Mono',consolas,'Courier New',monospace\">┏━━━━┳━━━━━━━┳━━━━━━━━━┓\n",
       "┃<span style=\"font-weight: bold\"> ID </span>┃<span style=\"font-weight: bold\"> Value </span>┃<span style=\"font-weight: bold\"> Status  </span>┃\n",
       "┡━━━━╇━━━━━━━╇━━━━━━━━━┩\n",
       "│ 0  │ 67.36 │ <span style=\"color: #008000; text-decoration-color: #008000\">SUCCESS</span> │\n",
       "│ 1  │ 66.80 │ <span style=\"color: #008000; text-decoration-color: #008000\">SUCCESS</span> │\n",
       "│ 2  │ 26.48 │ <span style=\"color: #800000; text-decoration-color: #800000\">ERROR</span>   │\n",
       "│ 3  │ 86.23 │ <span style=\"color: #008000; text-decoration-color: #008000\">SUCCESS</span> │\n",
       "│ 4  │ 58.25 │ <span style=\"color: #008000; text-decoration-color: #008000\">SUCCESS</span> │\n",
       "│ 5  │ 30.07 │ <span style=\"color: #800000; text-decoration-color: #800000\">ERROR</span>   │\n",
       "└────┴───────┴─────────┘\n",
       "</pre>\n"
      ],
      "text/plain": [
       "┏━━━━┳━━━━━━━┳━━━━━━━━━┓\n",
       "┃\u001b[1m \u001b[0m\u001b[1mID\u001b[0m\u001b[1m \u001b[0m┃\u001b[1m \u001b[0m\u001b[1mValue\u001b[0m\u001b[1m \u001b[0m┃\u001b[1m \u001b[0m\u001b[1mStatus \u001b[0m\u001b[1m \u001b[0m┃\n",
       "┡━━━━╇━━━━━━━╇━━━━━━━━━┩\n",
       "│ 0  │ 67.36 │ \u001b[32mSUCCESS\u001b[0m │\n",
       "│ 1  │ 66.80 │ \u001b[32mSUCCESS\u001b[0m │\n",
       "│ 2  │ 26.48 │ \u001b[31mERROR\u001b[0m   │\n",
       "│ 3  │ 86.23 │ \u001b[32mSUCCESS\u001b[0m │\n",
       "│ 4  │ 58.25 │ \u001b[32mSUCCESS\u001b[0m │\n",
       "│ 5  │ 30.07 │ \u001b[31mERROR\u001b[0m   │\n",
       "└────┴───────┴─────────┘\n"
      ]
     },
     "metadata": {},
     "output_type": "display_data"
    },
    {
     "data": {
      "text/html": [
       "<pre style=\"white-space:pre;overflow-x:auto;line-height:normal;font-family:Menlo,'DejaVu Sans Mono',consolas,'Courier New',monospace\">┏━━━━┳━━━━━━━┳━━━━━━━━━┓\n",
       "┃<span style=\"font-weight: bold\"> ID </span>┃<span style=\"font-weight: bold\"> Value </span>┃<span style=\"font-weight: bold\"> Status  </span>┃\n",
       "┡━━━━╇━━━━━━━╇━━━━━━━━━┩\n",
       "│ 0  │ 44.76 │ <span style=\"color: #800000; text-decoration-color: #800000\">ERROR</span>   │\n",
       "│ 1  │ 61.27 │ <span style=\"color: #008000; text-decoration-color: #008000\">SUCCESS</span> │\n",
       "└────┴───────┴─────────┘\n",
       "</pre>\n"
      ],
      "text/plain": [
       "┏━━━━┳━━━━━━━┳━━━━━━━━━┓\n",
       "┃\u001b[1m \u001b[0m\u001b[1mID\u001b[0m\u001b[1m \u001b[0m┃\u001b[1m \u001b[0m\u001b[1mValue\u001b[0m\u001b[1m \u001b[0m┃\u001b[1m \u001b[0m\u001b[1mStatus \u001b[0m\u001b[1m \u001b[0m┃\n",
       "┡━━━━╇━━━━━━━╇━━━━━━━━━┩\n",
       "│ 0  │ 44.76 │ \u001b[31mERROR\u001b[0m   │\n",
       "│ 1  │ 61.27 │ \u001b[32mSUCCESS\u001b[0m │\n",
       "└────┴───────┴─────────┘\n"
      ]
     },
     "metadata": {},
     "output_type": "display_data"
    },
    {
     "data": {
      "text/html": [
       "<pre style=\"white-space:pre;overflow-x:auto;line-height:normal;font-family:Menlo,'DejaVu Sans Mono',consolas,'Courier New',monospace\">┏━━━━┳━━━━━━━┳━━━━━━━━━┓\n",
       "┃<span style=\"font-weight: bold\"> ID </span>┃<span style=\"font-weight: bold\"> Value </span>┃<span style=\"font-weight: bold\"> Status  </span>┃\n",
       "┡━━━━╇━━━━━━━╇━━━━━━━━━┩\n",
       "│ 0  │ 44.76 │ <span style=\"color: #800000; text-decoration-color: #800000\">ERROR</span>   │\n",
       "│ 1  │ 61.27 │ <span style=\"color: #008000; text-decoration-color: #008000\">SUCCESS</span> │\n",
       "└────┴───────┴─────────┘\n",
       "</pre>\n"
      ],
      "text/plain": [
       "┏━━━━┳━━━━━━━┳━━━━━━━━━┓\n",
       "┃\u001b[1m \u001b[0m\u001b[1mID\u001b[0m\u001b[1m \u001b[0m┃\u001b[1m \u001b[0m\u001b[1mValue\u001b[0m\u001b[1m \u001b[0m┃\u001b[1m \u001b[0m\u001b[1mStatus \u001b[0m\u001b[1m \u001b[0m┃\n",
       "┡━━━━╇━━━━━━━╇━━━━━━━━━┩\n",
       "│ 0  │ 44.76 │ \u001b[31mERROR\u001b[0m   │\n",
       "│ 1  │ 61.27 │ \u001b[32mSUCCESS\u001b[0m │\n",
       "└────┴───────┴─────────┘\n"
      ]
     },
     "metadata": {},
     "output_type": "display_data"
    },
    {
     "data": {
      "text/html": [
       "<pre style=\"white-space:pre;overflow-x:auto;line-height:normal;font-family:Menlo,'DejaVu Sans Mono',consolas,'Courier New',monospace\">┏━━━━┳━━━━━━━┳━━━━━━━━━┓\n",
       "┃<span style=\"font-weight: bold\"> ID </span>┃<span style=\"font-weight: bold\"> Value </span>┃<span style=\"font-weight: bold\"> Status  </span>┃\n",
       "┡━━━━╇━━━━━━━╇━━━━━━━━━┩\n",
       "│ 0  │ 53.14 │ <span style=\"color: #008000; text-decoration-color: #008000\">SUCCESS</span> │\n",
       "│ 1  │ 62.77 │ <span style=\"color: #008000; text-decoration-color: #008000\">SUCCESS</span> │\n",
       "│ 2  │ 17.35 │ <span style=\"color: #800000; text-decoration-color: #800000\">ERROR</span>   │\n",
       "│ 3  │ 42.71 │ <span style=\"color: #800000; text-decoration-color: #800000\">ERROR</span>   │\n",
       "│ 4  │ 87.65 │ <span style=\"color: #008000; text-decoration-color: #008000\">SUCCESS</span> │\n",
       "│ 5  │ 54.61 │ <span style=\"color: #008000; text-decoration-color: #008000\">SUCCESS</span> │\n",
       "└────┴───────┴─────────┘\n",
       "</pre>\n"
      ],
      "text/plain": [
       "┏━━━━┳━━━━━━━┳━━━━━━━━━┓\n",
       "┃\u001b[1m \u001b[0m\u001b[1mID\u001b[0m\u001b[1m \u001b[0m┃\u001b[1m \u001b[0m\u001b[1mValue\u001b[0m\u001b[1m \u001b[0m┃\u001b[1m \u001b[0m\u001b[1mStatus \u001b[0m\u001b[1m \u001b[0m┃\n",
       "┡━━━━╇━━━━━━━╇━━━━━━━━━┩\n",
       "│ 0  │ 53.14 │ \u001b[32mSUCCESS\u001b[0m │\n",
       "│ 1  │ 62.77 │ \u001b[32mSUCCESS\u001b[0m │\n",
       "│ 2  │ 17.35 │ \u001b[31mERROR\u001b[0m   │\n",
       "│ 3  │ 42.71 │ \u001b[31mERROR\u001b[0m   │\n",
       "│ 4  │ 87.65 │ \u001b[32mSUCCESS\u001b[0m │\n",
       "│ 5  │ 54.61 │ \u001b[32mSUCCESS\u001b[0m │\n",
       "└────┴───────┴─────────┘\n"
      ]
     },
     "metadata": {},
     "output_type": "display_data"
    },
    {
     "data": {
      "text/html": [
       "<pre style=\"white-space:pre;overflow-x:auto;line-height:normal;font-family:Menlo,'DejaVu Sans Mono',consolas,'Courier New',monospace\">┏━━━━┳━━━━━━━┳━━━━━━━━━┓\n",
       "┃<span style=\"font-weight: bold\"> ID </span>┃<span style=\"font-weight: bold\"> Value </span>┃<span style=\"font-weight: bold\"> Status  </span>┃\n",
       "┡━━━━╇━━━━━━━╇━━━━━━━━━┩\n",
       "│ 0  │ 91.57 │ <span style=\"color: #008000; text-decoration-color: #008000\">SUCCESS</span> │\n",
       "│ 1  │ 72.73 │ <span style=\"color: #008000; text-decoration-color: #008000\">SUCCESS</span> │\n",
       "│ 2  │ 13.43 │ <span style=\"color: #800000; text-decoration-color: #800000\">ERROR</span>   │\n",
       "│ 3  │ 97.98 │ <span style=\"color: #008000; text-decoration-color: #008000\">SUCCESS</span> │\n",
       "└────┴───────┴─────────┘\n",
       "</pre>\n"
      ],
      "text/plain": [
       "┏━━━━┳━━━━━━━┳━━━━━━━━━┓\n",
       "┃\u001b[1m \u001b[0m\u001b[1mID\u001b[0m\u001b[1m \u001b[0m┃\u001b[1m \u001b[0m\u001b[1mValue\u001b[0m\u001b[1m \u001b[0m┃\u001b[1m \u001b[0m\u001b[1mStatus \u001b[0m\u001b[1m \u001b[0m┃\n",
       "┡━━━━╇━━━━━━━╇━━━━━━━━━┩\n",
       "│ 0  │ 91.57 │ \u001b[32mSUCCESS\u001b[0m │\n",
       "│ 1  │ 72.73 │ \u001b[32mSUCCESS\u001b[0m │\n",
       "│ 2  │ 13.43 │ \u001b[31mERROR\u001b[0m   │\n",
       "│ 3  │ 97.98 │ \u001b[32mSUCCESS\u001b[0m │\n",
       "└────┴───────┴─────────┘\n"
      ]
     },
     "metadata": {},
     "output_type": "display_data"
    },
    {
     "data": {
      "text/html": [
       "<pre style=\"white-space:pre;overflow-x:auto;line-height:normal;font-family:Menlo,'DejaVu Sans Mono',consolas,'Courier New',monospace\">┏━━━━┳━━━━━━━┳━━━━━━━━━┓\n",
       "┃<span style=\"font-weight: bold\"> ID </span>┃<span style=\"font-weight: bold\"> Value </span>┃<span style=\"font-weight: bold\"> Status  </span>┃\n",
       "┡━━━━╇━━━━━━━╇━━━━━━━━━┩\n",
       "│ 0  │ 91.57 │ <span style=\"color: #008000; text-decoration-color: #008000\">SUCCESS</span> │\n",
       "│ 1  │ 72.73 │ <span style=\"color: #008000; text-decoration-color: #008000\">SUCCESS</span> │\n",
       "│ 2  │ 13.43 │ <span style=\"color: #800000; text-decoration-color: #800000\">ERROR</span>   │\n",
       "│ 3  │ 97.98 │ <span style=\"color: #008000; text-decoration-color: #008000\">SUCCESS</span> │\n",
       "└────┴───────┴─────────┘\n",
       "</pre>\n"
      ],
      "text/plain": [
       "┏━━━━┳━━━━━━━┳━━━━━━━━━┓\n",
       "┃\u001b[1m \u001b[0m\u001b[1mID\u001b[0m\u001b[1m \u001b[0m┃\u001b[1m \u001b[0m\u001b[1mValue\u001b[0m\u001b[1m \u001b[0m┃\u001b[1m \u001b[0m\u001b[1mStatus \u001b[0m\u001b[1m \u001b[0m┃\n",
       "┡━━━━╇━━━━━━━╇━━━━━━━━━┩\n",
       "│ 0  │ 91.57 │ \u001b[32mSUCCESS\u001b[0m │\n",
       "│ 1  │ 72.73 │ \u001b[32mSUCCESS\u001b[0m │\n",
       "│ 2  │ 13.43 │ \u001b[31mERROR\u001b[0m   │\n",
       "│ 3  │ 97.98 │ \u001b[32mSUCCESS\u001b[0m │\n",
       "└────┴───────┴─────────┘\n"
      ]
     },
     "metadata": {},
     "output_type": "display_data"
    },
    {
     "data": {
      "text/html": [
       "<pre style=\"white-space:pre;overflow-x:auto;line-height:normal;font-family:Menlo,'DejaVu Sans Mono',consolas,'Courier New',monospace\">┏━━━━┳━━━━━━━┳━━━━━━━━━┓\n",
       "┃<span style=\"font-weight: bold\"> ID </span>┃<span style=\"font-weight: bold\"> Value </span>┃<span style=\"font-weight: bold\"> Status  </span>┃\n",
       "┡━━━━╇━━━━━━━╇━━━━━━━━━┩\n",
       "│ 0  │ 53.35 │ <span style=\"color: #008000; text-decoration-color: #008000\">SUCCESS</span> │\n",
       "│ 1  │ 64.72 │ <span style=\"color: #008000; text-decoration-color: #008000\">SUCCESS</span> │\n",
       "└────┴───────┴─────────┘\n",
       "</pre>\n"
      ],
      "text/plain": [
       "┏━━━━┳━━━━━━━┳━━━━━━━━━┓\n",
       "┃\u001b[1m \u001b[0m\u001b[1mID\u001b[0m\u001b[1m \u001b[0m┃\u001b[1m \u001b[0m\u001b[1mValue\u001b[0m\u001b[1m \u001b[0m┃\u001b[1m \u001b[0m\u001b[1mStatus \u001b[0m\u001b[1m \u001b[0m┃\n",
       "┡━━━━╇━━━━━━━╇━━━━━━━━━┩\n",
       "│ 0  │ 53.35 │ \u001b[32mSUCCESS\u001b[0m │\n",
       "│ 1  │ 64.72 │ \u001b[32mSUCCESS\u001b[0m │\n",
       "└────┴───────┴─────────┘\n"
      ]
     },
     "metadata": {},
     "output_type": "display_data"
    },
    {
     "data": {
      "text/html": [
       "<pre style=\"white-space:pre;overflow-x:auto;line-height:normal;font-family:Menlo,'DejaVu Sans Mono',consolas,'Courier New',monospace\">┏━━━━┳━━━━━━━┳━━━━━━━━━┓\n",
       "┃<span style=\"font-weight: bold\"> ID </span>┃<span style=\"font-weight: bold\"> Value </span>┃<span style=\"font-weight: bold\"> Status  </span>┃\n",
       "┡━━━━╇━━━━━━━╇━━━━━━━━━┩\n",
       "│ 0  │ 75.99 │ <span style=\"color: #008000; text-decoration-color: #008000\">SUCCESS</span> │\n",
       "│ 1  │ 64.32 │ <span style=\"color: #008000; text-decoration-color: #008000\">SUCCESS</span> │\n",
       "│ 2  │ 20.23 │ <span style=\"color: #800000; text-decoration-color: #800000\">ERROR</span>   │\n",
       "│ 3  │ 5.84  │ <span style=\"color: #800000; text-decoration-color: #800000\">ERROR</span>   │\n",
       "└────┴───────┴─────────┘\n",
       "</pre>\n"
      ],
      "text/plain": [
       "┏━━━━┳━━━━━━━┳━━━━━━━━━┓\n",
       "┃\u001b[1m \u001b[0m\u001b[1mID\u001b[0m\u001b[1m \u001b[0m┃\u001b[1m \u001b[0m\u001b[1mValue\u001b[0m\u001b[1m \u001b[0m┃\u001b[1m \u001b[0m\u001b[1mStatus \u001b[0m\u001b[1m \u001b[0m┃\n",
       "┡━━━━╇━━━━━━━╇━━━━━━━━━┩\n",
       "│ 0  │ 75.99 │ \u001b[32mSUCCESS\u001b[0m │\n",
       "│ 1  │ 64.32 │ \u001b[32mSUCCESS\u001b[0m │\n",
       "│ 2  │ 20.23 │ \u001b[31mERROR\u001b[0m   │\n",
       "│ 3  │ 5.84  │ \u001b[31mERROR\u001b[0m   │\n",
       "└────┴───────┴─────────┘\n"
      ]
     },
     "metadata": {},
     "output_type": "display_data"
    },
    {
     "data": {
      "text/html": [
       "<pre style=\"white-space:pre;overflow-x:auto;line-height:normal;font-family:Menlo,'DejaVu Sans Mono',consolas,'Courier New',monospace\">┏━━━━┳━━━━━━━┳━━━━━━━━━┓\n",
       "┃<span style=\"font-weight: bold\"> ID </span>┃<span style=\"font-weight: bold\"> Value </span>┃<span style=\"font-weight: bold\"> Status  </span>┃\n",
       "┡━━━━╇━━━━━━━╇━━━━━━━━━┩\n",
       "│ 0  │ 75.99 │ <span style=\"color: #008000; text-decoration-color: #008000\">SUCCESS</span> │\n",
       "│ 1  │ 64.32 │ <span style=\"color: #008000; text-decoration-color: #008000\">SUCCESS</span> │\n",
       "│ 2  │ 20.23 │ <span style=\"color: #800000; text-decoration-color: #800000\">ERROR</span>   │\n",
       "│ 3  │ 5.84  │ <span style=\"color: #800000; text-decoration-color: #800000\">ERROR</span>   │\n",
       "└────┴───────┴─────────┘\n",
       "</pre>\n"
      ],
      "text/plain": [
       "┏━━━━┳━━━━━━━┳━━━━━━━━━┓\n",
       "┃\u001b[1m \u001b[0m\u001b[1mID\u001b[0m\u001b[1m \u001b[0m┃\u001b[1m \u001b[0m\u001b[1mValue\u001b[0m\u001b[1m \u001b[0m┃\u001b[1m \u001b[0m\u001b[1mStatus \u001b[0m\u001b[1m \u001b[0m┃\n",
       "┡━━━━╇━━━━━━━╇━━━━━━━━━┩\n",
       "│ 0  │ 75.99 │ \u001b[32mSUCCESS\u001b[0m │\n",
       "│ 1  │ 64.32 │ \u001b[32mSUCCESS\u001b[0m │\n",
       "│ 2  │ 20.23 │ \u001b[31mERROR\u001b[0m   │\n",
       "│ 3  │ 5.84  │ \u001b[31mERROR\u001b[0m   │\n",
       "└────┴───────┴─────────┘\n"
      ]
     },
     "metadata": {},
     "output_type": "display_data"
    },
    {
     "data": {
      "text/html": [
       "<pre style=\"white-space:pre;overflow-x:auto;line-height:normal;font-family:Menlo,'DejaVu Sans Mono',consolas,'Courier New',monospace\">┏━━━━┳━━━━━━━┳━━━━━━━━━┓\n",
       "┃<span style=\"font-weight: bold\"> ID </span>┃<span style=\"font-weight: bold\"> Value </span>┃<span style=\"font-weight: bold\"> Status  </span>┃\n",
       "┡━━━━╇━━━━━━━╇━━━━━━━━━┩\n",
       "│ 0  │ 57.51 │ <span style=\"color: #008000; text-decoration-color: #008000\">SUCCESS</span> │\n",
       "│ 1  │ 60.81 │ <span style=\"color: #008000; text-decoration-color: #008000\">SUCCESS</span> │\n",
       "│ 2  │ 90.46 │ <span style=\"color: #008000; text-decoration-color: #008000\">SUCCESS</span> │\n",
       "└────┴───────┴─────────┘\n",
       "</pre>\n"
      ],
      "text/plain": [
       "┏━━━━┳━━━━━━━┳━━━━━━━━━┓\n",
       "┃\u001b[1m \u001b[0m\u001b[1mID\u001b[0m\u001b[1m \u001b[0m┃\u001b[1m \u001b[0m\u001b[1mValue\u001b[0m\u001b[1m \u001b[0m┃\u001b[1m \u001b[0m\u001b[1mStatus \u001b[0m\u001b[1m \u001b[0m┃\n",
       "┡━━━━╇━━━━━━━╇━━━━━━━━━┩\n",
       "│ 0  │ 57.51 │ \u001b[32mSUCCESS\u001b[0m │\n",
       "│ 1  │ 60.81 │ \u001b[32mSUCCESS\u001b[0m │\n",
       "│ 2  │ 90.46 │ \u001b[32mSUCCESS\u001b[0m │\n",
       "└────┴───────┴─────────┘\n"
      ]
     },
     "metadata": {},
     "output_type": "display_data"
    },
    {
     "data": {
      "text/html": [
       "<pre style=\"white-space:pre;overflow-x:auto;line-height:normal;font-family:Menlo,'DejaVu Sans Mono',consolas,'Courier New',monospace\">┏━━━━┳━━━━━━━┳━━━━━━━━━┓\n",
       "┃<span style=\"font-weight: bold\"> ID </span>┃<span style=\"font-weight: bold\"> Value </span>┃<span style=\"font-weight: bold\"> Status  </span>┃\n",
       "┡━━━━╇━━━━━━━╇━━━━━━━━━┩\n",
       "│ 0  │ 89.59 │ <span style=\"color: #008000; text-decoration-color: #008000\">SUCCESS</span> │\n",
       "│ 1  │ 22.25 │ <span style=\"color: #800000; text-decoration-color: #800000\">ERROR</span>   │\n",
       "│ 2  │ 50.96 │ <span style=\"color: #008000; text-decoration-color: #008000\">SUCCESS</span> │\n",
       "└────┴───────┴─────────┘\n",
       "</pre>\n"
      ],
      "text/plain": [
       "┏━━━━┳━━━━━━━┳━━━━━━━━━┓\n",
       "┃\u001b[1m \u001b[0m\u001b[1mID\u001b[0m\u001b[1m \u001b[0m┃\u001b[1m \u001b[0m\u001b[1mValue\u001b[0m\u001b[1m \u001b[0m┃\u001b[1m \u001b[0m\u001b[1mStatus \u001b[0m\u001b[1m \u001b[0m┃\n",
       "┡━━━━╇━━━━━━━╇━━━━━━━━━┩\n",
       "│ 0  │ 89.59 │ \u001b[32mSUCCESS\u001b[0m │\n",
       "│ 1  │ 22.25 │ \u001b[31mERROR\u001b[0m   │\n",
       "│ 2  │ 50.96 │ \u001b[32mSUCCESS\u001b[0m │\n",
       "└────┴───────┴─────────┘\n"
      ]
     },
     "metadata": {},
     "output_type": "display_data"
    },
    {
     "data": {
      "text/html": [
       "<pre style=\"white-space:pre;overflow-x:auto;line-height:normal;font-family:Menlo,'DejaVu Sans Mono',consolas,'Courier New',monospace\">┏━━━━┳━━━━━━━┳━━━━━━━━━┓\n",
       "┃<span style=\"font-weight: bold\"> ID </span>┃<span style=\"font-weight: bold\"> Value </span>┃<span style=\"font-weight: bold\"> Status  </span>┃\n",
       "┡━━━━╇━━━━━━━╇━━━━━━━━━┩\n",
       "│ 0  │ 89.59 │ <span style=\"color: #008000; text-decoration-color: #008000\">SUCCESS</span> │\n",
       "│ 1  │ 22.25 │ <span style=\"color: #800000; text-decoration-color: #800000\">ERROR</span>   │\n",
       "│ 2  │ 50.96 │ <span style=\"color: #008000; text-decoration-color: #008000\">SUCCESS</span> │\n",
       "└────┴───────┴─────────┘\n",
       "</pre>\n"
      ],
      "text/plain": [
       "┏━━━━┳━━━━━━━┳━━━━━━━━━┓\n",
       "┃\u001b[1m \u001b[0m\u001b[1mID\u001b[0m\u001b[1m \u001b[0m┃\u001b[1m \u001b[0m\u001b[1mValue\u001b[0m\u001b[1m \u001b[0m┃\u001b[1m \u001b[0m\u001b[1mStatus \u001b[0m\u001b[1m \u001b[0m┃\n",
       "┡━━━━╇━━━━━━━╇━━━━━━━━━┩\n",
       "│ 0  │ 89.59 │ \u001b[32mSUCCESS\u001b[0m │\n",
       "│ 1  │ 22.25 │ \u001b[31mERROR\u001b[0m   │\n",
       "│ 2  │ 50.96 │ \u001b[32mSUCCESS\u001b[0m │\n",
       "└────┴───────┴─────────┘\n"
      ]
     },
     "metadata": {},
     "output_type": "display_data"
    },
    {
     "data": {
      "text/html": [
       "<pre style=\"white-space:pre;overflow-x:auto;line-height:normal;font-family:Menlo,'DejaVu Sans Mono',consolas,'Courier New',monospace\">┏━━━━┳━━━━━━━┳━━━━━━━━━┓\n",
       "┃<span style=\"font-weight: bold\"> ID </span>┃<span style=\"font-weight: bold\"> Value </span>┃<span style=\"font-weight: bold\"> Status  </span>┃\n",
       "┡━━━━╇━━━━━━━╇━━━━━━━━━┩\n",
       "│ 0  │ 39.64 │ <span style=\"color: #800000; text-decoration-color: #800000\">ERROR</span>   │\n",
       "│ 1  │ 4.73  │ <span style=\"color: #800000; text-decoration-color: #800000\">ERROR</span>   │\n",
       "│ 2  │ 65.88 │ <span style=\"color: #008000; text-decoration-color: #008000\">SUCCESS</span> │\n",
       "│ 3  │ 87.52 │ <span style=\"color: #008000; text-decoration-color: #008000\">SUCCESS</span> │\n",
       "└────┴───────┴─────────┘\n",
       "</pre>\n"
      ],
      "text/plain": [
       "┏━━━━┳━━━━━━━┳━━━━━━━━━┓\n",
       "┃\u001b[1m \u001b[0m\u001b[1mID\u001b[0m\u001b[1m \u001b[0m┃\u001b[1m \u001b[0m\u001b[1mValue\u001b[0m\u001b[1m \u001b[0m┃\u001b[1m \u001b[0m\u001b[1mStatus \u001b[0m\u001b[1m \u001b[0m┃\n",
       "┡━━━━╇━━━━━━━╇━━━━━━━━━┩\n",
       "│ 0  │ 39.64 │ \u001b[31mERROR\u001b[0m   │\n",
       "│ 1  │ 4.73  │ \u001b[31mERROR\u001b[0m   │\n",
       "│ 2  │ 65.88 │ \u001b[32mSUCCESS\u001b[0m │\n",
       "│ 3  │ 87.52 │ \u001b[32mSUCCESS\u001b[0m │\n",
       "└────┴───────┴─────────┘\n"
      ]
     },
     "metadata": {},
     "output_type": "display_data"
    },
    {
     "data": {
      "text/html": [
       "<pre style=\"white-space:pre;overflow-x:auto;line-height:normal;font-family:Menlo,'DejaVu Sans Mono',consolas,'Courier New',monospace\">┏━━━━┳━━━━━━━┳━━━━━━━━━┓\n",
       "┃<span style=\"font-weight: bold\"> ID </span>┃<span style=\"font-weight: bold\"> Value </span>┃<span style=\"font-weight: bold\"> Status  </span>┃\n",
       "┡━━━━╇━━━━━━━╇━━━━━━━━━┩\n",
       "│ 0  │ 39.64 │ <span style=\"color: #800000; text-decoration-color: #800000\">ERROR</span>   │\n",
       "│ 1  │ 4.73  │ <span style=\"color: #800000; text-decoration-color: #800000\">ERROR</span>   │\n",
       "│ 2  │ 65.88 │ <span style=\"color: #008000; text-decoration-color: #008000\">SUCCESS</span> │\n",
       "│ 3  │ 87.52 │ <span style=\"color: #008000; text-decoration-color: #008000\">SUCCESS</span> │\n",
       "└────┴───────┴─────────┘\n",
       "</pre>\n"
      ],
      "text/plain": [
       "┏━━━━┳━━━━━━━┳━━━━━━━━━┓\n",
       "┃\u001b[1m \u001b[0m\u001b[1mID\u001b[0m\u001b[1m \u001b[0m┃\u001b[1m \u001b[0m\u001b[1mValue\u001b[0m\u001b[1m \u001b[0m┃\u001b[1m \u001b[0m\u001b[1mStatus \u001b[0m\u001b[1m \u001b[0m┃\n",
       "┡━━━━╇━━━━━━━╇━━━━━━━━━┩\n",
       "│ 0  │ 39.64 │ \u001b[31mERROR\u001b[0m   │\n",
       "│ 1  │ 4.73  │ \u001b[31mERROR\u001b[0m   │\n",
       "│ 2  │ 65.88 │ \u001b[32mSUCCESS\u001b[0m │\n",
       "│ 3  │ 87.52 │ \u001b[32mSUCCESS\u001b[0m │\n",
       "└────┴───────┴─────────┘\n"
      ]
     },
     "metadata": {},
     "output_type": "display_data"
    },
    {
     "data": {
      "text/html": [
       "<pre style=\"white-space:pre;overflow-x:auto;line-height:normal;font-family:Menlo,'DejaVu Sans Mono',consolas,'Courier New',monospace\">┏━━━━┳━━━━━━━┳━━━━━━━━━┓\n",
       "┃<span style=\"font-weight: bold\"> ID </span>┃<span style=\"font-weight: bold\"> Value </span>┃<span style=\"font-weight: bold\"> Status  </span>┃\n",
       "┡━━━━╇━━━━━━━╇━━━━━━━━━┩\n",
       "│ 0  │ 62.28 │ <span style=\"color: #008000; text-decoration-color: #008000\">SUCCESS</span> │\n",
       "│ 1  │ 71.50 │ <span style=\"color: #008000; text-decoration-color: #008000\">SUCCESS</span> │\n",
       "└────┴───────┴─────────┘\n",
       "</pre>\n"
      ],
      "text/plain": [
       "┏━━━━┳━━━━━━━┳━━━━━━━━━┓\n",
       "┃\u001b[1m \u001b[0m\u001b[1mID\u001b[0m\u001b[1m \u001b[0m┃\u001b[1m \u001b[0m\u001b[1mValue\u001b[0m\u001b[1m \u001b[0m┃\u001b[1m \u001b[0m\u001b[1mStatus \u001b[0m\u001b[1m \u001b[0m┃\n",
       "┡━━━━╇━━━━━━━╇━━━━━━━━━┩\n",
       "│ 0  │ 62.28 │ \u001b[32mSUCCESS\u001b[0m │\n",
       "│ 1  │ 71.50 │ \u001b[32mSUCCESS\u001b[0m │\n",
       "└────┴───────┴─────────┘\n"
      ]
     },
     "metadata": {},
     "output_type": "display_data"
    },
    {
     "data": {
      "text/html": [
       "<pre style=\"white-space:pre;overflow-x:auto;line-height:normal;font-family:Menlo,'DejaVu Sans Mono',consolas,'Courier New',monospace\">┏━━━━┳━━━━━━━┳━━━━━━━━━┓\n",
       "┃<span style=\"font-weight: bold\"> ID </span>┃<span style=\"font-weight: bold\"> Value </span>┃<span style=\"font-weight: bold\"> Status  </span>┃\n",
       "┡━━━━╇━━━━━━━╇━━━━━━━━━┩\n",
       "│ 0  │ 33.66 │ <span style=\"color: #800000; text-decoration-color: #800000\">ERROR</span>   │\n",
       "│ 1  │ 26.33 │ <span style=\"color: #800000; text-decoration-color: #800000\">ERROR</span>   │\n",
       "│ 2  │ 91.63 │ <span style=\"color: #008000; text-decoration-color: #008000\">SUCCESS</span> │\n",
       "└────┴───────┴─────────┘\n",
       "</pre>\n"
      ],
      "text/plain": [
       "┏━━━━┳━━━━━━━┳━━━━━━━━━┓\n",
       "┃\u001b[1m \u001b[0m\u001b[1mID\u001b[0m\u001b[1m \u001b[0m┃\u001b[1m \u001b[0m\u001b[1mValue\u001b[0m\u001b[1m \u001b[0m┃\u001b[1m \u001b[0m\u001b[1mStatus \u001b[0m\u001b[1m \u001b[0m┃\n",
       "┡━━━━╇━━━━━━━╇━━━━━━━━━┩\n",
       "│ 0  │ 33.66 │ \u001b[31mERROR\u001b[0m   │\n",
       "│ 1  │ 26.33 │ \u001b[31mERROR\u001b[0m   │\n",
       "│ 2  │ 91.63 │ \u001b[32mSUCCESS\u001b[0m │\n",
       "└────┴───────┴─────────┘\n"
      ]
     },
     "metadata": {},
     "output_type": "display_data"
    },
    {
     "data": {
      "text/html": [
       "<pre style=\"white-space:pre;overflow-x:auto;line-height:normal;font-family:Menlo,'DejaVu Sans Mono',consolas,'Courier New',monospace\">┏━━━━┳━━━━━━━┳━━━━━━━━━┓\n",
       "┃<span style=\"font-weight: bold\"> ID </span>┃<span style=\"font-weight: bold\"> Value </span>┃<span style=\"font-weight: bold\"> Status  </span>┃\n",
       "┡━━━━╇━━━━━━━╇━━━━━━━━━┩\n",
       "│ 0  │ 33.66 │ <span style=\"color: #800000; text-decoration-color: #800000\">ERROR</span>   │\n",
       "│ 1  │ 26.33 │ <span style=\"color: #800000; text-decoration-color: #800000\">ERROR</span>   │\n",
       "│ 2  │ 91.63 │ <span style=\"color: #008000; text-decoration-color: #008000\">SUCCESS</span> │\n",
       "└────┴───────┴─────────┘\n",
       "</pre>\n"
      ],
      "text/plain": [
       "┏━━━━┳━━━━━━━┳━━━━━━━━━┓\n",
       "┃\u001b[1m \u001b[0m\u001b[1mID\u001b[0m\u001b[1m \u001b[0m┃\u001b[1m \u001b[0m\u001b[1mValue\u001b[0m\u001b[1m \u001b[0m┃\u001b[1m \u001b[0m\u001b[1mStatus \u001b[0m\u001b[1m \u001b[0m┃\n",
       "┡━━━━╇━━━━━━━╇━━━━━━━━━┩\n",
       "│ 0  │ 33.66 │ \u001b[31mERROR\u001b[0m   │\n",
       "│ 1  │ 26.33 │ \u001b[31mERROR\u001b[0m   │\n",
       "│ 2  │ 91.63 │ \u001b[32mSUCCESS\u001b[0m │\n",
       "└────┴───────┴─────────┘\n"
      ]
     },
     "metadata": {},
     "output_type": "display_data"
    },
    {
     "data": {
      "text/html": [
       "<pre style=\"white-space:pre;overflow-x:auto;line-height:normal;font-family:Menlo,'DejaVu Sans Mono',consolas,'Courier New',monospace\">┏━━━━┳━━━━━━━┳━━━━━━━━━┓\n",
       "┃<span style=\"font-weight: bold\"> ID </span>┃<span style=\"font-weight: bold\"> Value </span>┃<span style=\"font-weight: bold\"> Status  </span>┃\n",
       "┡━━━━╇━━━━━━━╇━━━━━━━━━┩\n",
       "│ 0  │ 94.08 │ <span style=\"color: #008000; text-decoration-color: #008000\">SUCCESS</span> │\n",
       "│ 1  │ 1.41  │ <span style=\"color: #800000; text-decoration-color: #800000\">ERROR</span>   │\n",
       "└────┴───────┴─────────┘\n",
       "</pre>\n"
      ],
      "text/plain": [
       "┏━━━━┳━━━━━━━┳━━━━━━━━━┓\n",
       "┃\u001b[1m \u001b[0m\u001b[1mID\u001b[0m\u001b[1m \u001b[0m┃\u001b[1m \u001b[0m\u001b[1mValue\u001b[0m\u001b[1m \u001b[0m┃\u001b[1m \u001b[0m\u001b[1mStatus \u001b[0m\u001b[1m \u001b[0m┃\n",
       "┡━━━━╇━━━━━━━╇━━━━━━━━━┩\n",
       "│ 0  │ 94.08 │ \u001b[32mSUCCESS\u001b[0m │\n",
       "│ 1  │ 1.41  │ \u001b[31mERROR\u001b[0m   │\n",
       "└────┴───────┴─────────┘\n"
      ]
     },
     "metadata": {},
     "output_type": "display_data"
    },
    {
     "data": {
      "text/html": [
       "<pre style=\"white-space:pre;overflow-x:auto;line-height:normal;font-family:Menlo,'DejaVu Sans Mono',consolas,'Courier New',monospace\">┏━━━━┳━━━━━━━┳━━━━━━━━━┓\n",
       "┃<span style=\"font-weight: bold\"> ID </span>┃<span style=\"font-weight: bold\"> Value </span>┃<span style=\"font-weight: bold\"> Status  </span>┃\n",
       "┡━━━━╇━━━━━━━╇━━━━━━━━━┩\n",
       "│ 0  │ 50.04 │ <span style=\"color: #008000; text-decoration-color: #008000\">SUCCESS</span> │\n",
       "│ 1  │ 45.35 │ <span style=\"color: #800000; text-decoration-color: #800000\">ERROR</span>   │\n",
       "│ 2  │ 84.24 │ <span style=\"color: #008000; text-decoration-color: #008000\">SUCCESS</span> │\n",
       "│ 3  │ 99.28 │ <span style=\"color: #008000; text-decoration-color: #008000\">SUCCESS</span> │\n",
       "│ 4  │ 0.63  │ <span style=\"color: #800000; text-decoration-color: #800000\">ERROR</span>   │\n",
       "│ 5  │ 29.67 │ <span style=\"color: #800000; text-decoration-color: #800000\">ERROR</span>   │\n",
       "└────┴───────┴─────────┘\n",
       "</pre>\n"
      ],
      "text/plain": [
       "┏━━━━┳━━━━━━━┳━━━━━━━━━┓\n",
       "┃\u001b[1m \u001b[0m\u001b[1mID\u001b[0m\u001b[1m \u001b[0m┃\u001b[1m \u001b[0m\u001b[1mValue\u001b[0m\u001b[1m \u001b[0m┃\u001b[1m \u001b[0m\u001b[1mStatus \u001b[0m\u001b[1m \u001b[0m┃\n",
       "┡━━━━╇━━━━━━━╇━━━━━━━━━┩\n",
       "│ 0  │ 50.04 │ \u001b[32mSUCCESS\u001b[0m │\n",
       "│ 1  │ 45.35 │ \u001b[31mERROR\u001b[0m   │\n",
       "│ 2  │ 84.24 │ \u001b[32mSUCCESS\u001b[0m │\n",
       "│ 3  │ 99.28 │ \u001b[32mSUCCESS\u001b[0m │\n",
       "│ 4  │ 0.63  │ \u001b[31mERROR\u001b[0m   │\n",
       "│ 5  │ 29.67 │ \u001b[31mERROR\u001b[0m   │\n",
       "└────┴───────┴─────────┘\n"
      ]
     },
     "metadata": {},
     "output_type": "display_data"
    },
    {
     "data": {
      "text/html": [
       "<pre style=\"white-space:pre;overflow-x:auto;line-height:normal;font-family:Menlo,'DejaVu Sans Mono',consolas,'Courier New',monospace\">┏━━━━┳━━━━━━━┳━━━━━━━━━┓\n",
       "┃<span style=\"font-weight: bold\"> ID </span>┃<span style=\"font-weight: bold\"> Value </span>┃<span style=\"font-weight: bold\"> Status  </span>┃\n",
       "┡━━━━╇━━━━━━━╇━━━━━━━━━┩\n",
       "│ 0  │ 50.04 │ <span style=\"color: #008000; text-decoration-color: #008000\">SUCCESS</span> │\n",
       "│ 1  │ 45.35 │ <span style=\"color: #800000; text-decoration-color: #800000\">ERROR</span>   │\n",
       "│ 2  │ 84.24 │ <span style=\"color: #008000; text-decoration-color: #008000\">SUCCESS</span> │\n",
       "│ 3  │ 99.28 │ <span style=\"color: #008000; text-decoration-color: #008000\">SUCCESS</span> │\n",
       "│ 4  │ 0.63  │ <span style=\"color: #800000; text-decoration-color: #800000\">ERROR</span>   │\n",
       "│ 5  │ 29.67 │ <span style=\"color: #800000; text-decoration-color: #800000\">ERROR</span>   │\n",
       "└────┴───────┴─────────┘\n",
       "</pre>\n"
      ],
      "text/plain": [
       "┏━━━━┳━━━━━━━┳━━━━━━━━━┓\n",
       "┃\u001b[1m \u001b[0m\u001b[1mID\u001b[0m\u001b[1m \u001b[0m┃\u001b[1m \u001b[0m\u001b[1mValue\u001b[0m\u001b[1m \u001b[0m┃\u001b[1m \u001b[0m\u001b[1mStatus \u001b[0m\u001b[1m \u001b[0m┃\n",
       "┡━━━━╇━━━━━━━╇━━━━━━━━━┩\n",
       "│ 0  │ 50.04 │ \u001b[32mSUCCESS\u001b[0m │\n",
       "│ 1  │ 45.35 │ \u001b[31mERROR\u001b[0m   │\n",
       "│ 2  │ 84.24 │ \u001b[32mSUCCESS\u001b[0m │\n",
       "│ 3  │ 99.28 │ \u001b[32mSUCCESS\u001b[0m │\n",
       "│ 4  │ 0.63  │ \u001b[31mERROR\u001b[0m   │\n",
       "│ 5  │ 29.67 │ \u001b[31mERROR\u001b[0m   │\n",
       "└────┴───────┴─────────┘\n"
      ]
     },
     "metadata": {},
     "output_type": "display_data"
    },
    {
     "data": {
      "text/html": [
       "<pre style=\"white-space:pre;overflow-x:auto;line-height:normal;font-family:Menlo,'DejaVu Sans Mono',consolas,'Courier New',monospace\">┏━━━━┳━━━━━━━┳━━━━━━━━━┓\n",
       "┃<span style=\"font-weight: bold\"> ID </span>┃<span style=\"font-weight: bold\"> Value </span>┃<span style=\"font-weight: bold\"> Status  </span>┃\n",
       "┡━━━━╇━━━━━━━╇━━━━━━━━━┩\n",
       "│ 0  │ 35.22 │ <span style=\"color: #800000; text-decoration-color: #800000\">ERROR</span>   │\n",
       "│ 1  │ 0.05  │ <span style=\"color: #800000; text-decoration-color: #800000\">ERROR</span>   │\n",
       "│ 2  │ 20.12 │ <span style=\"color: #800000; text-decoration-color: #800000\">ERROR</span>   │\n",
       "│ 3  │ 71.46 │ <span style=\"color: #008000; text-decoration-color: #008000\">SUCCESS</span> │\n",
       "│ 4  │ 54.86 │ <span style=\"color: #008000; text-decoration-color: #008000\">SUCCESS</span> │\n",
       "└────┴───────┴─────────┘\n",
       "</pre>\n"
      ],
      "text/plain": [
       "┏━━━━┳━━━━━━━┳━━━━━━━━━┓\n",
       "┃\u001b[1m \u001b[0m\u001b[1mID\u001b[0m\u001b[1m \u001b[0m┃\u001b[1m \u001b[0m\u001b[1mValue\u001b[0m\u001b[1m \u001b[0m┃\u001b[1m \u001b[0m\u001b[1mStatus \u001b[0m\u001b[1m \u001b[0m┃\n",
       "┡━━━━╇━━━━━━━╇━━━━━━━━━┩\n",
       "│ 0  │ 35.22 │ \u001b[31mERROR\u001b[0m   │\n",
       "│ 1  │ 0.05  │ \u001b[31mERROR\u001b[0m   │\n",
       "│ 2  │ 20.12 │ \u001b[31mERROR\u001b[0m   │\n",
       "│ 3  │ 71.46 │ \u001b[32mSUCCESS\u001b[0m │\n",
       "│ 4  │ 54.86 │ \u001b[32mSUCCESS\u001b[0m │\n",
       "└────┴───────┴─────────┘\n"
      ]
     },
     "metadata": {},
     "output_type": "display_data"
    },
    {
     "data": {
      "text/html": [
       "<pre style=\"white-space:pre;overflow-x:auto;line-height:normal;font-family:Menlo,'DejaVu Sans Mono',consolas,'Courier New',monospace\">┏━━━━┳━━━━━━━┳━━━━━━━━━┓\n",
       "┃<span style=\"font-weight: bold\"> ID </span>┃<span style=\"font-weight: bold\"> Value </span>┃<span style=\"font-weight: bold\"> Status  </span>┃\n",
       "┡━━━━╇━━━━━━━╇━━━━━━━━━┩\n",
       "│ 0  │ 29.50 │ <span style=\"color: #800000; text-decoration-color: #800000\">ERROR</span>   │\n",
       "│ 1  │ 8.05  │ <span style=\"color: #800000; text-decoration-color: #800000\">ERROR</span>   │\n",
       "│ 2  │ 17.18 │ <span style=\"color: #800000; text-decoration-color: #800000\">ERROR</span>   │\n",
       "│ 3  │ 49.47 │ <span style=\"color: #800000; text-decoration-color: #800000\">ERROR</span>   │\n",
       "│ 4  │ 99.92 │ <span style=\"color: #008000; text-decoration-color: #008000\">SUCCESS</span> │\n",
       "│ 5  │ 80.30 │ <span style=\"color: #008000; text-decoration-color: #008000\">SUCCESS</span> │\n",
       "└────┴───────┴─────────┘\n",
       "</pre>\n"
      ],
      "text/plain": [
       "┏━━━━┳━━━━━━━┳━━━━━━━━━┓\n",
       "┃\u001b[1m \u001b[0m\u001b[1mID\u001b[0m\u001b[1m \u001b[0m┃\u001b[1m \u001b[0m\u001b[1mValue\u001b[0m\u001b[1m \u001b[0m┃\u001b[1m \u001b[0m\u001b[1mStatus \u001b[0m\u001b[1m \u001b[0m┃\n",
       "┡━━━━╇━━━━━━━╇━━━━━━━━━┩\n",
       "│ 0  │ 29.50 │ \u001b[31mERROR\u001b[0m   │\n",
       "│ 1  │ 8.05  │ \u001b[31mERROR\u001b[0m   │\n",
       "│ 2  │ 17.18 │ \u001b[31mERROR\u001b[0m   │\n",
       "│ 3  │ 49.47 │ \u001b[31mERROR\u001b[0m   │\n",
       "│ 4  │ 99.92 │ \u001b[32mSUCCESS\u001b[0m │\n",
       "│ 5  │ 80.30 │ \u001b[32mSUCCESS\u001b[0m │\n",
       "└────┴───────┴─────────┘\n"
      ]
     },
     "metadata": {},
     "output_type": "display_data"
    },
    {
     "data": {
      "text/html": [
       "<pre style=\"white-space:pre;overflow-x:auto;line-height:normal;font-family:Menlo,'DejaVu Sans Mono',consolas,'Courier New',monospace\">┏━━━━┳━━━━━━━┳━━━━━━━━━┓\n",
       "┃<span style=\"font-weight: bold\"> ID </span>┃<span style=\"font-weight: bold\"> Value </span>┃<span style=\"font-weight: bold\"> Status  </span>┃\n",
       "┡━━━━╇━━━━━━━╇━━━━━━━━━┩\n",
       "│ 0  │ 29.50 │ <span style=\"color: #800000; text-decoration-color: #800000\">ERROR</span>   │\n",
       "│ 1  │ 8.05  │ <span style=\"color: #800000; text-decoration-color: #800000\">ERROR</span>   │\n",
       "│ 2  │ 17.18 │ <span style=\"color: #800000; text-decoration-color: #800000\">ERROR</span>   │\n",
       "│ 3  │ 49.47 │ <span style=\"color: #800000; text-decoration-color: #800000\">ERROR</span>   │\n",
       "│ 4  │ 99.92 │ <span style=\"color: #008000; text-decoration-color: #008000\">SUCCESS</span> │\n",
       "│ 5  │ 80.30 │ <span style=\"color: #008000; text-decoration-color: #008000\">SUCCESS</span> │\n",
       "└────┴───────┴─────────┘\n",
       "</pre>\n"
      ],
      "text/plain": [
       "┏━━━━┳━━━━━━━┳━━━━━━━━━┓\n",
       "┃\u001b[1m \u001b[0m\u001b[1mID\u001b[0m\u001b[1m \u001b[0m┃\u001b[1m \u001b[0m\u001b[1mValue\u001b[0m\u001b[1m \u001b[0m┃\u001b[1m \u001b[0m\u001b[1mStatus \u001b[0m\u001b[1m \u001b[0m┃\n",
       "┡━━━━╇━━━━━━━╇━━━━━━━━━┩\n",
       "│ 0  │ 29.50 │ \u001b[31mERROR\u001b[0m   │\n",
       "│ 1  │ 8.05  │ \u001b[31mERROR\u001b[0m   │\n",
       "│ 2  │ 17.18 │ \u001b[31mERROR\u001b[0m   │\n",
       "│ 3  │ 49.47 │ \u001b[31mERROR\u001b[0m   │\n",
       "│ 4  │ 99.92 │ \u001b[32mSUCCESS\u001b[0m │\n",
       "│ 5  │ 80.30 │ \u001b[32mSUCCESS\u001b[0m │\n",
       "└────┴───────┴─────────┘\n"
      ]
     },
     "metadata": {},
     "output_type": "display_data"
    },
    {
     "data": {
      "text/html": [
       "<pre style=\"white-space:pre;overflow-x:auto;line-height:normal;font-family:Menlo,'DejaVu Sans Mono',consolas,'Courier New',monospace\">┏━━━━┳━━━━━━━┳━━━━━━━━━┓\n",
       "┃<span style=\"font-weight: bold\"> ID </span>┃<span style=\"font-weight: bold\"> Value </span>┃<span style=\"font-weight: bold\"> Status  </span>┃\n",
       "┡━━━━╇━━━━━━━╇━━━━━━━━━┩\n",
       "│ 0  │ 84.59 │ <span style=\"color: #008000; text-decoration-color: #008000\">SUCCESS</span> │\n",
       "│ 1  │ 82.96 │ <span style=\"color: #008000; text-decoration-color: #008000\">SUCCESS</span> │\n",
       "│ 2  │ 80.22 │ <span style=\"color: #008000; text-decoration-color: #008000\">SUCCESS</span> │\n",
       "│ 3  │ 58.80 │ <span style=\"color: #008000; text-decoration-color: #008000\">SUCCESS</span> │\n",
       "│ 4  │ 88.91 │ <span style=\"color: #008000; text-decoration-color: #008000\">SUCCESS</span> │\n",
       "│ 5  │ 84.18 │ <span style=\"color: #008000; text-decoration-color: #008000\">SUCCESS</span> │\n",
       "└────┴───────┴─────────┘\n",
       "</pre>\n"
      ],
      "text/plain": [
       "┏━━━━┳━━━━━━━┳━━━━━━━━━┓\n",
       "┃\u001b[1m \u001b[0m\u001b[1mID\u001b[0m\u001b[1m \u001b[0m┃\u001b[1m \u001b[0m\u001b[1mValue\u001b[0m\u001b[1m \u001b[0m┃\u001b[1m \u001b[0m\u001b[1mStatus \u001b[0m\u001b[1m \u001b[0m┃\n",
       "┡━━━━╇━━━━━━━╇━━━━━━━━━┩\n",
       "│ 0  │ 84.59 │ \u001b[32mSUCCESS\u001b[0m │\n",
       "│ 1  │ 82.96 │ \u001b[32mSUCCESS\u001b[0m │\n",
       "│ 2  │ 80.22 │ \u001b[32mSUCCESS\u001b[0m │\n",
       "│ 3  │ 58.80 │ \u001b[32mSUCCESS\u001b[0m │\n",
       "│ 4  │ 88.91 │ \u001b[32mSUCCESS\u001b[0m │\n",
       "│ 5  │ 84.18 │ \u001b[32mSUCCESS\u001b[0m │\n",
       "└────┴───────┴─────────┘\n"
      ]
     },
     "metadata": {},
     "output_type": "display_data"
    },
    {
     "data": {
      "text/html": [
       "<pre style=\"white-space:pre;overflow-x:auto;line-height:normal;font-family:Menlo,'DejaVu Sans Mono',consolas,'Courier New',monospace\">┏━━━━┳━━━━━━━┳━━━━━━━━━┓\n",
       "┃<span style=\"font-weight: bold\"> ID </span>┃<span style=\"font-weight: bold\"> Value </span>┃<span style=\"font-weight: bold\"> Status  </span>┃\n",
       "┡━━━━╇━━━━━━━╇━━━━━━━━━┩\n",
       "│ 0  │ 73.82 │ <span style=\"color: #008000; text-decoration-color: #008000\">SUCCESS</span> │\n",
       "│ 1  │ 44.74 │ <span style=\"color: #800000; text-decoration-color: #800000\">ERROR</span>   │\n",
       "│ 2  │ 80.79 │ <span style=\"color: #008000; text-decoration-color: #008000\">SUCCESS</span> │\n",
       "│ 3  │ 43.29 │ <span style=\"color: #800000; text-decoration-color: #800000\">ERROR</span>   │\n",
       "│ 4  │ 23.57 │ <span style=\"color: #800000; text-decoration-color: #800000\">ERROR</span>   │\n",
       "└────┴───────┴─────────┘\n",
       "</pre>\n"
      ],
      "text/plain": [
       "┏━━━━┳━━━━━━━┳━━━━━━━━━┓\n",
       "┃\u001b[1m \u001b[0m\u001b[1mID\u001b[0m\u001b[1m \u001b[0m┃\u001b[1m \u001b[0m\u001b[1mValue\u001b[0m\u001b[1m \u001b[0m┃\u001b[1m \u001b[0m\u001b[1mStatus \u001b[0m\u001b[1m \u001b[0m┃\n",
       "┡━━━━╇━━━━━━━╇━━━━━━━━━┩\n",
       "│ 0  │ 73.82 │ \u001b[32mSUCCESS\u001b[0m │\n",
       "│ 1  │ 44.74 │ \u001b[31mERROR\u001b[0m   │\n",
       "│ 2  │ 80.79 │ \u001b[32mSUCCESS\u001b[0m │\n",
       "│ 3  │ 43.29 │ \u001b[31mERROR\u001b[0m   │\n",
       "│ 4  │ 23.57 │ \u001b[31mERROR\u001b[0m   │\n",
       "└────┴───────┴─────────┘\n"
      ]
     },
     "metadata": {},
     "output_type": "display_data"
    },
    {
     "data": {
      "text/html": [
       "<pre style=\"white-space:pre;overflow-x:auto;line-height:normal;font-family:Menlo,'DejaVu Sans Mono',consolas,'Courier New',monospace\">┏━━━━┳━━━━━━━┳━━━━━━━━━┓\n",
       "┃<span style=\"font-weight: bold\"> ID </span>┃<span style=\"font-weight: bold\"> Value </span>┃<span style=\"font-weight: bold\"> Status  </span>┃\n",
       "┡━━━━╇━━━━━━━╇━━━━━━━━━┩\n",
       "│ 0  │ 73.82 │ <span style=\"color: #008000; text-decoration-color: #008000\">SUCCESS</span> │\n",
       "│ 1  │ 44.74 │ <span style=\"color: #800000; text-decoration-color: #800000\">ERROR</span>   │\n",
       "│ 2  │ 80.79 │ <span style=\"color: #008000; text-decoration-color: #008000\">SUCCESS</span> │\n",
       "│ 3  │ 43.29 │ <span style=\"color: #800000; text-decoration-color: #800000\">ERROR</span>   │\n",
       "│ 4  │ 23.57 │ <span style=\"color: #800000; text-decoration-color: #800000\">ERROR</span>   │\n",
       "└────┴───────┴─────────┘\n",
       "</pre>\n"
      ],
      "text/plain": [
       "┏━━━━┳━━━━━━━┳━━━━━━━━━┓\n",
       "┃\u001b[1m \u001b[0m\u001b[1mID\u001b[0m\u001b[1m \u001b[0m┃\u001b[1m \u001b[0m\u001b[1mValue\u001b[0m\u001b[1m \u001b[0m┃\u001b[1m \u001b[0m\u001b[1mStatus \u001b[0m\u001b[1m \u001b[0m┃\n",
       "┡━━━━╇━━━━━━━╇━━━━━━━━━┩\n",
       "│ 0  │ 73.82 │ \u001b[32mSUCCESS\u001b[0m │\n",
       "│ 1  │ 44.74 │ \u001b[31mERROR\u001b[0m   │\n",
       "│ 2  │ 80.79 │ \u001b[32mSUCCESS\u001b[0m │\n",
       "│ 3  │ 43.29 │ \u001b[31mERROR\u001b[0m   │\n",
       "│ 4  │ 23.57 │ \u001b[31mERROR\u001b[0m   │\n",
       "└────┴───────┴─────────┘\n"
      ]
     },
     "metadata": {},
     "output_type": "display_data"
    },
    {
     "data": {
      "text/html": [
       "<pre style=\"white-space:pre;overflow-x:auto;line-height:normal;font-family:Menlo,'DejaVu Sans Mono',consolas,'Courier New',monospace\">┏━━━━┳━━━━━━━┳━━━━━━━━━┓\n",
       "┃<span style=\"font-weight: bold\"> ID </span>┃<span style=\"font-weight: bold\"> Value </span>┃<span style=\"font-weight: bold\"> Status  </span>┃\n",
       "┡━━━━╇━━━━━━━╇━━━━━━━━━┩\n",
       "│ 0  │ 44.62 │ <span style=\"color: #800000; text-decoration-color: #800000\">ERROR</span>   │\n",
       "│ 1  │ 69.53 │ <span style=\"color: #008000; text-decoration-color: #008000\">SUCCESS</span> │\n",
       "│ 2  │ 75.88 │ <span style=\"color: #008000; text-decoration-color: #008000\">SUCCESS</span> │\n",
       "│ 3  │ 88.60 │ <span style=\"color: #008000; text-decoration-color: #008000\">SUCCESS</span> │\n",
       "│ 4  │ 97.18 │ <span style=\"color: #008000; text-decoration-color: #008000\">SUCCESS</span> │\n",
       "└────┴───────┴─────────┘\n",
       "</pre>\n"
      ],
      "text/plain": [
       "┏━━━━┳━━━━━━━┳━━━━━━━━━┓\n",
       "┃\u001b[1m \u001b[0m\u001b[1mID\u001b[0m\u001b[1m \u001b[0m┃\u001b[1m \u001b[0m\u001b[1mValue\u001b[0m\u001b[1m \u001b[0m┃\u001b[1m \u001b[0m\u001b[1mStatus \u001b[0m\u001b[1m \u001b[0m┃\n",
       "┡━━━━╇━━━━━━━╇━━━━━━━━━┩\n",
       "│ 0  │ 44.62 │ \u001b[31mERROR\u001b[0m   │\n",
       "│ 1  │ 69.53 │ \u001b[32mSUCCESS\u001b[0m │\n",
       "│ 2  │ 75.88 │ \u001b[32mSUCCESS\u001b[0m │\n",
       "│ 3  │ 88.60 │ \u001b[32mSUCCESS\u001b[0m │\n",
       "│ 4  │ 97.18 │ \u001b[32mSUCCESS\u001b[0m │\n",
       "└────┴───────┴─────────┘\n"
      ]
     },
     "metadata": {},
     "output_type": "display_data"
    },
    {
     "data": {
      "text/html": [
       "<pre style=\"white-space:pre;overflow-x:auto;line-height:normal;font-family:Menlo,'DejaVu Sans Mono',consolas,'Courier New',monospace\">┏━━━━┳━━━━━━━┳━━━━━━━━━┓\n",
       "┃<span style=\"font-weight: bold\"> ID </span>┃<span style=\"font-weight: bold\"> Value </span>┃<span style=\"font-weight: bold\"> Status  </span>┃\n",
       "┡━━━━╇━━━━━━━╇━━━━━━━━━┩\n",
       "│ 0  │ 51.58 │ <span style=\"color: #008000; text-decoration-color: #008000\">SUCCESS</span> │\n",
       "│ 1  │ 19.17 │ <span style=\"color: #800000; text-decoration-color: #800000\">ERROR</span>   │\n",
       "│ 2  │ 79.95 │ <span style=\"color: #008000; text-decoration-color: #008000\">SUCCESS</span> │\n",
       "│ 3  │ 37.96 │ <span style=\"color: #800000; text-decoration-color: #800000\">ERROR</span>   │\n",
       "└────┴───────┴─────────┘\n",
       "</pre>\n"
      ],
      "text/plain": [
       "┏━━━━┳━━━━━━━┳━━━━━━━━━┓\n",
       "┃\u001b[1m \u001b[0m\u001b[1mID\u001b[0m\u001b[1m \u001b[0m┃\u001b[1m \u001b[0m\u001b[1mValue\u001b[0m\u001b[1m \u001b[0m┃\u001b[1m \u001b[0m\u001b[1mStatus \u001b[0m\u001b[1m \u001b[0m┃\n",
       "┡━━━━╇━━━━━━━╇━━━━━━━━━┩\n",
       "│ 0  │ 51.58 │ \u001b[32mSUCCESS\u001b[0m │\n",
       "│ 1  │ 19.17 │ \u001b[31mERROR\u001b[0m   │\n",
       "│ 2  │ 79.95 │ \u001b[32mSUCCESS\u001b[0m │\n",
       "│ 3  │ 37.96 │ \u001b[31mERROR\u001b[0m   │\n",
       "└────┴───────┴─────────┘\n"
      ]
     },
     "metadata": {},
     "output_type": "display_data"
    },
    {
     "data": {
      "text/html": [
       "<pre style=\"white-space:pre;overflow-x:auto;line-height:normal;font-family:Menlo,'DejaVu Sans Mono',consolas,'Courier New',monospace\">┏━━━━┳━━━━━━━┳━━━━━━━━━┓\n",
       "┃<span style=\"font-weight: bold\"> ID </span>┃<span style=\"font-weight: bold\"> Value </span>┃<span style=\"font-weight: bold\"> Status  </span>┃\n",
       "┡━━━━╇━━━━━━━╇━━━━━━━━━┩\n",
       "│ 0  │ 51.58 │ <span style=\"color: #008000; text-decoration-color: #008000\">SUCCESS</span> │\n",
       "│ 1  │ 19.17 │ <span style=\"color: #800000; text-decoration-color: #800000\">ERROR</span>   │\n",
       "│ 2  │ 79.95 │ <span style=\"color: #008000; text-decoration-color: #008000\">SUCCESS</span> │\n",
       "│ 3  │ 37.96 │ <span style=\"color: #800000; text-decoration-color: #800000\">ERROR</span>   │\n",
       "└────┴───────┴─────────┘\n",
       "</pre>\n"
      ],
      "text/plain": [
       "┏━━━━┳━━━━━━━┳━━━━━━━━━┓\n",
       "┃\u001b[1m \u001b[0m\u001b[1mID\u001b[0m\u001b[1m \u001b[0m┃\u001b[1m \u001b[0m\u001b[1mValue\u001b[0m\u001b[1m \u001b[0m┃\u001b[1m \u001b[0m\u001b[1mStatus \u001b[0m\u001b[1m \u001b[0m┃\n",
       "┡━━━━╇━━━━━━━╇━━━━━━━━━┩\n",
       "│ 0  │ 51.58 │ \u001b[32mSUCCESS\u001b[0m │\n",
       "│ 1  │ 19.17 │ \u001b[31mERROR\u001b[0m   │\n",
       "│ 2  │ 79.95 │ \u001b[32mSUCCESS\u001b[0m │\n",
       "│ 3  │ 37.96 │ \u001b[31mERROR\u001b[0m   │\n",
       "└────┴───────┴─────────┘\n"
      ]
     },
     "metadata": {},
     "output_type": "display_data"
    },
    {
     "data": {
      "text/html": [
       "<pre style=\"white-space:pre;overflow-x:auto;line-height:normal;font-family:Menlo,'DejaVu Sans Mono',consolas,'Courier New',monospace\">┏━━━━┳━━━━━━━┳━━━━━━━━┓\n",
       "┃<span style=\"font-weight: bold\"> ID </span>┃<span style=\"font-weight: bold\"> Value </span>┃<span style=\"font-weight: bold\"> Status </span>┃\n",
       "┡━━━━╇━━━━━━━╇━━━━━━━━┩\n",
       "│ 0  │ 9.03  │ <span style=\"color: #800000; text-decoration-color: #800000\">ERROR</span>  │\n",
       "│ 1  │ 33.95 │ <span style=\"color: #800000; text-decoration-color: #800000\">ERROR</span>  │\n",
       "│ 2  │ 15.76 │ <span style=\"color: #800000; text-decoration-color: #800000\">ERROR</span>  │\n",
       "└────┴───────┴────────┘\n",
       "</pre>\n"
      ],
      "text/plain": [
       "┏━━━━┳━━━━━━━┳━━━━━━━━┓\n",
       "┃\u001b[1m \u001b[0m\u001b[1mID\u001b[0m\u001b[1m \u001b[0m┃\u001b[1m \u001b[0m\u001b[1mValue\u001b[0m\u001b[1m \u001b[0m┃\u001b[1m \u001b[0m\u001b[1mStatus\u001b[0m\u001b[1m \u001b[0m┃\n",
       "┡━━━━╇━━━━━━━╇━━━━━━━━┩\n",
       "│ 0  │ 9.03  │ \u001b[31mERROR\u001b[0m  │\n",
       "│ 1  │ 33.95 │ \u001b[31mERROR\u001b[0m  │\n",
       "│ 2  │ 15.76 │ \u001b[31mERROR\u001b[0m  │\n",
       "└────┴───────┴────────┘\n"
      ]
     },
     "metadata": {},
     "output_type": "display_data"
    },
    {
     "data": {
      "text/html": [
       "<pre style=\"white-space:pre;overflow-x:auto;line-height:normal;font-family:Menlo,'DejaVu Sans Mono',consolas,'Courier New',monospace\"></pre>\n"
      ],
      "text/plain": []
     },
     "metadata": {},
     "output_type": "display_data"
    }
   ],
   "source": [
    "import random\n",
    "import time\n",
    "from rich.live import Live\n",
    "from rich.table import Table\n",
    "def generate_table() -> Table:\n",
    "    table = Table()\n",
    "    table.add_column(\"ID\")\n",
    "    table.add_column(\"Value\")\n",
    "    table.add_column(\"Status\")\n",
    "    for row in range(random.randint(2, 6)):\n",
    "        value = random.random() * 100\n",
    "        table.add_row(\n",
    "        f\"{row}\", f\"{value:3.2f}\", \"[red]ERROR\" if value < 50 else \"[green]SUCCESS\"\n",
    "        )\n",
    "    return table\n",
    "with Live(generate_table(), refresh_per_second=4) as live:\n",
    "    for _ in range(40):\n",
    "        time.sleep(0.4)\n",
    "        live.update(generate_table())"
   ]
  },
  {
   "cell_type": "code",
   "execution_count": 9,
   "id": "2307428a",
   "metadata": {},
   "outputs": [
    {
     "data": {
      "text/plain": [
       "{'eth0': ['04:d4:c4:e0:63:54'],\n",
       " 'wlan0': ['50:e0:85:5c:f4:40',\n",
       "  '192.168.14.69',\n",
       "  '255.255.255.0',\n",
       "  '192.168.14.255'],\n",
       " 'wlan1': ['56:85:61:25:0f:70']}"
      ]
     },
     "execution_count": 9,
     "metadata": {},
     "output_type": "execute_result"
    }
   ],
   "source": [
    "import re,subprocess\n",
    "intrfc = \"eth0\"\n",
    "c = subprocess.check_output([\"ifconfig\"],stderr=subprocess.DEVNULL)\n",
    "c = c.decode(\"utf-8\")\n",
    "pat = re.compile('wlan[0-9]|eth[0-9]')\n",
    "op = pat.findall(c)\n",
    "interface = {}\n",
    "for intrfc in op:\n",
    "    c = subprocess.check_output([\"ifconfig\",intrfc],stderr=subprocess.DEVNULL)\n",
    "    c = c.decode(\"utf-8\")\n",
    "    intrfc = intrfc\n",
    "    MACpat = re.compile('\\w{2}:\\w{2}:\\w{2}:\\w{2}:\\w{2}:\\w{2}')\n",
    "    IPpat = re.compile('[0-9]+\\.[0-9]+\\.[0-9]+\\.[0-9]+')\n",
    "    mac = MACpat.findall(c)\n",
    "    ips = IPpat.findall(c)\n",
    "\n",
    "    mac=mac+ips\n",
    "    interface[intrfc]= mac\n",
    "interface\n"
   ]
  },
  {
   "cell_type": "code",
   "execution_count": 40,
   "id": "0157e6fe",
   "metadata": {},
   "outputs": [
    {
     "data": {
      "text/html": [
       "<pre style=\"white-space:pre;overflow-x:auto;line-height:normal;font-family:Menlo,'DejaVu Sans Mono',consolas,'Courier New',monospace\">Widget Javascript not detected.  It may not be installed or enabled properly. Reconnecting \n",
       "the current kernel may help.\n",
       "</pre>\n"
      ],
      "text/plain": [
       "Widget Javascript not detected.  It may not be installed or enabled properly. Reconnecting \n",
       "the current kernel may help.\n"
      ]
     },
     "metadata": {},
     "output_type": "display_data"
    },
    {
     "data": {
      "application/vnd.jupyter.widget-view+json": {
       "model_id": "3b03619493544506aed4467782a3efbe"
      }
     },
     "metadata": {},
     "output_type": "display_data"
    },
    {
     "data": {
      "text/html": [
       "<pre style=\"white-space:pre;overflow-x:auto;line-height:normal;font-family:Menlo,'DejaVu Sans Mono',consolas,'Courier New',monospace\">┏━━━━┳━━━━━━━━━━━┳━━━━━┳━━━━━━━━━━━━━━┳━━━━┳━━━━━━━━┳━━━━━━━━━━━━━━━━━┓\n",
       "┃<span style=\"font-weight: bold\"> ID </span>┃<span style=\"font-weight: bold\"> INTERFACE </span>┃<span style=\"font-weight: bold\"> MAC </span>┃<span style=\"font-weight: bold\"> IS CONNECTED </span>┃<span style=\"font-weight: bold\"> IP </span>┃<span style=\"font-weight: bold\"> SUBNET </span>┃<span style=\"font-weight: bold\"> DEFAULT GATEWAY </span>┃\n",
       "┡━━━━╇━━━━━━━━━━━╇━━━━━╇━━━━━━━━━━━━━━╇━━━━╇━━━━━━━━╇━━━━━━━━━━━━━━━━━┩\n",
       "└────┴───────────┴─────┴──────────────┴────┴────────┴─────────────────┘\n",
       "</pre>\n"
      ],
      "text/plain": [
       "┏━━━━┳━━━━━━━━━━━┳━━━━━┳━━━━━━━━━━━━━━┳━━━━┳━━━━━━━━┳━━━━━━━━━━━━━━━━━┓\n",
       "┃\u001b[1m \u001b[0m\u001b[1mID\u001b[0m\u001b[1m \u001b[0m┃\u001b[1m \u001b[0m\u001b[1mINTERFACE\u001b[0m\u001b[1m \u001b[0m┃\u001b[1m \u001b[0m\u001b[1mMAC\u001b[0m\u001b[1m \u001b[0m┃\u001b[1m \u001b[0m\u001b[1mIS CONNECTED\u001b[0m\u001b[1m \u001b[0m┃\u001b[1m \u001b[0m\u001b[1mIP\u001b[0m\u001b[1m \u001b[0m┃\u001b[1m \u001b[0m\u001b[1mSUBNET\u001b[0m\u001b[1m \u001b[0m┃\u001b[1m \u001b[0m\u001b[1mDEFAULT GATEWAY\u001b[0m\u001b[1m \u001b[0m┃\n",
       "┡━━━━╇━━━━━━━━━━━╇━━━━━╇━━━━━━━━━━━━━━╇━━━━╇━━━━━━━━╇━━━━━━━━━━━━━━━━━┩\n",
       "└────┴───────────┴─────┴──────────────┴────┴────────┴─────────────────┘\n"
      ]
     },
     "metadata": {},
     "output_type": "display_data"
    },
    {
     "data": {
      "text/html": [
       "<pre style=\"white-space:pre;overflow-x:auto;line-height:normal;font-family:Menlo,'DejaVu Sans Mono',consolas,'Courier New',monospace\">┏━━━━┳━━━━━━━━━━━┳━━━━━┳━━━━━━━━━━━━━━┳━━━━┳━━━━━━━━┳━━━━━━━━━━━━━━━━━┓\n",
       "┃<span style=\"font-weight: bold\"> ID </span>┃<span style=\"font-weight: bold\"> INTERFACE </span>┃<span style=\"font-weight: bold\"> MAC </span>┃<span style=\"font-weight: bold\"> IS CONNECTED </span>┃<span style=\"font-weight: bold\"> IP </span>┃<span style=\"font-weight: bold\"> SUBNET </span>┃<span style=\"font-weight: bold\"> DEFAULT GATEWAY </span>┃\n",
       "┡━━━━╇━━━━━━━━━━━╇━━━━━╇━━━━━━━━━━━━━━╇━━━━╇━━━━━━━━╇━━━━━━━━━━━━━━━━━┩\n",
       "└────┴───────────┴─────┴──────────────┴────┴────────┴─────────────────┘\n",
       "</pre>\n"
      ],
      "text/plain": [
       "┏━━━━┳━━━━━━━━━━━┳━━━━━┳━━━━━━━━━━━━━━┳━━━━┳━━━━━━━━┳━━━━━━━━━━━━━━━━━┓\n",
       "┃\u001b[1m \u001b[0m\u001b[1mID\u001b[0m\u001b[1m \u001b[0m┃\u001b[1m \u001b[0m\u001b[1mINTERFACE\u001b[0m\u001b[1m \u001b[0m┃\u001b[1m \u001b[0m\u001b[1mMAC\u001b[0m\u001b[1m \u001b[0m┃\u001b[1m \u001b[0m\u001b[1mIS CONNECTED\u001b[0m\u001b[1m \u001b[0m┃\u001b[1m \u001b[0m\u001b[1mIP\u001b[0m\u001b[1m \u001b[0m┃\u001b[1m \u001b[0m\u001b[1mSUBNET\u001b[0m\u001b[1m \u001b[0m┃\u001b[1m \u001b[0m\u001b[1mDEFAULT GATEWAY\u001b[0m\u001b[1m \u001b[0m┃\n",
       "┡━━━━╇━━━━━━━━━━━╇━━━━━╇━━━━━━━━━━━━━━╇━━━━╇━━━━━━━━╇━━━━━━━━━━━━━━━━━┩\n",
       "└────┴───────────┴─────┴──────────────┴────┴────────┴─────────────────┘\n"
      ]
     },
     "metadata": {},
     "output_type": "display_data"
    },
    {
     "name": "stdout",
     "output_type": "stream",
     "text": [
      "{'eth0': ['04:d4:c4:e0:63:54'], 'wlan0': ['50:e0:85:5c:f4:40', '192.168.14.69', '255.255.255.0', '192.168.14.255'], 'wlan1': ['56:85:61:25:0f:70']}\n"
     ]
    },
    {
     "data": {
      "text/html": [
       "<pre style=\"white-space:pre;overflow-x:auto;line-height:normal;font-family:Menlo,'DejaVu Sans Mono',consolas,'Courier New',monospace\">┏━━━━┳━━━━━━━━━━━┳━━━━━┳━━━━━━━━━━━━━━┳━━━━┳━━━━━━━━┳━━━━━━━━━━━━━━━━━┓\n",
       "┃<span style=\"font-weight: bold\"> ID </span>┃<span style=\"font-weight: bold\"> INTERFACE </span>┃<span style=\"font-weight: bold\"> MAC </span>┃<span style=\"font-weight: bold\"> IS CONNECTED </span>┃<span style=\"font-weight: bold\"> IP </span>┃<span style=\"font-weight: bold\"> SUBNET </span>┃<span style=\"font-weight: bold\"> DEFAULT GATEWAY </span>┃\n",
       "┡━━━━╇━━━━━━━━━━━╇━━━━━╇━━━━━━━━━━━━━━╇━━━━╇━━━━━━━━╇━━━━━━━━━━━━━━━━━┩\n",
       "└────┴───────────┴─────┴──────────────┴────┴────────┴─────────────────┘\n",
       "</pre>\n"
      ],
      "text/plain": [
       "┏━━━━┳━━━━━━━━━━━┳━━━━━┳━━━━━━━━━━━━━━┳━━━━┳━━━━━━━━┳━━━━━━━━━━━━━━━━━┓\n",
       "┃\u001b[1m \u001b[0m\u001b[1mID\u001b[0m\u001b[1m \u001b[0m┃\u001b[1m \u001b[0m\u001b[1mINTERFACE\u001b[0m\u001b[1m \u001b[0m┃\u001b[1m \u001b[0m\u001b[1mMAC\u001b[0m\u001b[1m \u001b[0m┃\u001b[1m \u001b[0m\u001b[1mIS CONNECTED\u001b[0m\u001b[1m \u001b[0m┃\u001b[1m \u001b[0m\u001b[1mIP\u001b[0m\u001b[1m \u001b[0m┃\u001b[1m \u001b[0m\u001b[1mSUBNET\u001b[0m\u001b[1m \u001b[0m┃\u001b[1m \u001b[0m\u001b[1mDEFAULT GATEWAY\u001b[0m\u001b[1m \u001b[0m┃\n",
       "┡━━━━╇━━━━━━━━━━━╇━━━━━╇━━━━━━━━━━━━━━╇━━━━╇━━━━━━━━╇━━━━━━━━━━━━━━━━━┩\n",
       "└────┴───────────┴─────┴──────────────┴────┴────────┴─────────────────┘\n"
      ]
     },
     "metadata": {},
     "output_type": "display_data"
    },
    {
     "data": {
      "text/html": [
       "<pre style=\"white-space:pre;overflow-x:auto;line-height:normal;font-family:Menlo,'DejaVu Sans Mono',consolas,'Courier New',monospace\">┏━━━━┳━━━━━━━━━━━┳━━━━━┳━━━━━━━━━━━━━━┳━━━━┳━━━━━━━━┳━━━━━━━━━━━━━━━━━┓\n",
       "┃<span style=\"font-weight: bold\"> ID </span>┃<span style=\"font-weight: bold\"> INTERFACE </span>┃<span style=\"font-weight: bold\"> MAC </span>┃<span style=\"font-weight: bold\"> IS CONNECTED </span>┃<span style=\"font-weight: bold\"> IP </span>┃<span style=\"font-weight: bold\"> SUBNET </span>┃<span style=\"font-weight: bold\"> DEFAULT GATEWAY </span>┃\n",
       "┡━━━━╇━━━━━━━━━━━╇━━━━━╇━━━━━━━━━━━━━━╇━━━━╇━━━━━━━━╇━━━━━━━━━━━━━━━━━┩\n",
       "└────┴───────────┴─────┴──────────────┴────┴────────┴─────────────────┘\n",
       "</pre>\n"
      ],
      "text/plain": [
       "┏━━━━┳━━━━━━━━━━━┳━━━━━┳━━━━━━━━━━━━━━┳━━━━┳━━━━━━━━┳━━━━━━━━━━━━━━━━━┓\n",
       "┃\u001b[1m \u001b[0m\u001b[1mID\u001b[0m\u001b[1m \u001b[0m┃\u001b[1m \u001b[0m\u001b[1mINTERFACE\u001b[0m\u001b[1m \u001b[0m┃\u001b[1m \u001b[0m\u001b[1mMAC\u001b[0m\u001b[1m \u001b[0m┃\u001b[1m \u001b[0m\u001b[1mIS CONNECTED\u001b[0m\u001b[1m \u001b[0m┃\u001b[1m \u001b[0m\u001b[1mIP\u001b[0m\u001b[1m \u001b[0m┃\u001b[1m \u001b[0m\u001b[1mSUBNET\u001b[0m\u001b[1m \u001b[0m┃\u001b[1m \u001b[0m\u001b[1mDEFAULT GATEWAY\u001b[0m\u001b[1m \u001b[0m┃\n",
       "┡━━━━╇━━━━━━━━━━━╇━━━━━╇━━━━━━━━━━━━━━╇━━━━╇━━━━━━━━╇━━━━━━━━━━━━━━━━━┩\n",
       "└────┴───────────┴─────┴──────────────┴────┴────────┴─────────────────┘\n"
      ]
     },
     "metadata": {},
     "output_type": "display_data"
    },
    {
     "data": {
      "text/html": [
       "<pre style=\"white-space:pre;overflow-x:auto;line-height:normal;font-family:Menlo,'DejaVu Sans Mono',consolas,'Courier New',monospace\">┏━━━━┳━━━━━━━━━━━┳━━━━━┳━━━━━━━━━━━━━━┳━━━━┳━━━━━━━━┳━━━━━━━━━━━━━━━━━┓\n",
       "┃<span style=\"font-weight: bold\"> ID </span>┃<span style=\"font-weight: bold\"> INTERFACE </span>┃<span style=\"font-weight: bold\"> MAC </span>┃<span style=\"font-weight: bold\"> IS CONNECTED </span>┃<span style=\"font-weight: bold\"> IP </span>┃<span style=\"font-weight: bold\"> SUBNET </span>┃<span style=\"font-weight: bold\"> DEFAULT GATEWAY </span>┃\n",
       "┡━━━━╇━━━━━━━━━━━╇━━━━━╇━━━━━━━━━━━━━━╇━━━━╇━━━━━━━━╇━━━━━━━━━━━━━━━━━┩\n",
       "└────┴───────────┴─────┴──────────────┴────┴────────┴─────────────────┘\n",
       "</pre>\n"
      ],
      "text/plain": [
       "┏━━━━┳━━━━━━━━━━━┳━━━━━┳━━━━━━━━━━━━━━┳━━━━┳━━━━━━━━┳━━━━━━━━━━━━━━━━━┓\n",
       "┃\u001b[1m \u001b[0m\u001b[1mID\u001b[0m\u001b[1m \u001b[0m┃\u001b[1m \u001b[0m\u001b[1mINTERFACE\u001b[0m\u001b[1m \u001b[0m┃\u001b[1m \u001b[0m\u001b[1mMAC\u001b[0m\u001b[1m \u001b[0m┃\u001b[1m \u001b[0m\u001b[1mIS CONNECTED\u001b[0m\u001b[1m \u001b[0m┃\u001b[1m \u001b[0m\u001b[1mIP\u001b[0m\u001b[1m \u001b[0m┃\u001b[1m \u001b[0m\u001b[1mSUBNET\u001b[0m\u001b[1m \u001b[0m┃\u001b[1m \u001b[0m\u001b[1mDEFAULT GATEWAY\u001b[0m\u001b[1m \u001b[0m┃\n",
       "┡━━━━╇━━━━━━━━━━━╇━━━━━╇━━━━━━━━━━━━━━╇━━━━╇━━━━━━━━╇━━━━━━━━━━━━━━━━━┩\n",
       "└────┴───────────┴─────┴──────────────┴────┴────────┴─────────────────┘\n"
      ]
     },
     "metadata": {},
     "output_type": "display_data"
    },
    {
     "data": {
      "text/html": [
       "<pre style=\"white-space:pre;overflow-x:auto;line-height:normal;font-family:Menlo,'DejaVu Sans Mono',consolas,'Courier New',monospace\">┏━━━━┳━━━━━━━━━━━┳━━━━━┳━━━━━━━━━━━━━━┳━━━━┳━━━━━━━━┳━━━━━━━━━━━━━━━━━┓\n",
       "┃<span style=\"font-weight: bold\"> ID </span>┃<span style=\"font-weight: bold\"> INTERFACE </span>┃<span style=\"font-weight: bold\"> MAC </span>┃<span style=\"font-weight: bold\"> IS CONNECTED </span>┃<span style=\"font-weight: bold\"> IP </span>┃<span style=\"font-weight: bold\"> SUBNET </span>┃<span style=\"font-weight: bold\"> DEFAULT GATEWAY </span>┃\n",
       "┡━━━━╇━━━━━━━━━━━╇━━━━━╇━━━━━━━━━━━━━━╇━━━━╇━━━━━━━━╇━━━━━━━━━━━━━━━━━┩\n",
       "└────┴───────────┴─────┴──────────────┴────┴────────┴─────────────────┘\n",
       "</pre>\n"
      ],
      "text/plain": [
       "┏━━━━┳━━━━━━━━━━━┳━━━━━┳━━━━━━━━━━━━━━┳━━━━┳━━━━━━━━┳━━━━━━━━━━━━━━━━━┓\n",
       "┃\u001b[1m \u001b[0m\u001b[1mID\u001b[0m\u001b[1m \u001b[0m┃\u001b[1m \u001b[0m\u001b[1mINTERFACE\u001b[0m\u001b[1m \u001b[0m┃\u001b[1m \u001b[0m\u001b[1mMAC\u001b[0m\u001b[1m \u001b[0m┃\u001b[1m \u001b[0m\u001b[1mIS CONNECTED\u001b[0m\u001b[1m \u001b[0m┃\u001b[1m \u001b[0m\u001b[1mIP\u001b[0m\u001b[1m \u001b[0m┃\u001b[1m \u001b[0m\u001b[1mSUBNET\u001b[0m\u001b[1m \u001b[0m┃\u001b[1m \u001b[0m\u001b[1mDEFAULT GATEWAY\u001b[0m\u001b[1m \u001b[0m┃\n",
       "┡━━━━╇━━━━━━━━━━━╇━━━━━╇━━━━━━━━━━━━━━╇━━━━╇━━━━━━━━╇━━━━━━━━━━━━━━━━━┩\n",
       "└────┴───────────┴─────┴──────────────┴────┴────────┴─────────────────┘\n"
      ]
     },
     "metadata": {},
     "output_type": "display_data"
    },
    {
     "data": {
      "text/html": [
       "<pre style=\"white-space:pre;overflow-x:auto;line-height:normal;font-family:Menlo,'DejaVu Sans Mono',consolas,'Courier New',monospace\">┏━━━━┳━━━━━━━━━━━┳━━━━━┳━━━━━━━━━━━━━━┳━━━━┳━━━━━━━━┳━━━━━━━━━━━━━━━━━┓\n",
       "┃<span style=\"font-weight: bold\"> ID </span>┃<span style=\"font-weight: bold\"> INTERFACE </span>┃<span style=\"font-weight: bold\"> MAC </span>┃<span style=\"font-weight: bold\"> IS CONNECTED </span>┃<span style=\"font-weight: bold\"> IP </span>┃<span style=\"font-weight: bold\"> SUBNET </span>┃<span style=\"font-weight: bold\"> DEFAULT GATEWAY </span>┃\n",
       "┡━━━━╇━━━━━━━━━━━╇━━━━━╇━━━━━━━━━━━━━━╇━━━━╇━━━━━━━━╇━━━━━━━━━━━━━━━━━┩\n",
       "└────┴───────────┴─────┴──────────────┴────┴────────┴─────────────────┘\n",
       "</pre>\n"
      ],
      "text/plain": [
       "┏━━━━┳━━━━━━━━━━━┳━━━━━┳━━━━━━━━━━━━━━┳━━━━┳━━━━━━━━┳━━━━━━━━━━━━━━━━━┓\n",
       "┃\u001b[1m \u001b[0m\u001b[1mID\u001b[0m\u001b[1m \u001b[0m┃\u001b[1m \u001b[0m\u001b[1mINTERFACE\u001b[0m\u001b[1m \u001b[0m┃\u001b[1m \u001b[0m\u001b[1mMAC\u001b[0m\u001b[1m \u001b[0m┃\u001b[1m \u001b[0m\u001b[1mIS CONNECTED\u001b[0m\u001b[1m \u001b[0m┃\u001b[1m \u001b[0m\u001b[1mIP\u001b[0m\u001b[1m \u001b[0m┃\u001b[1m \u001b[0m\u001b[1mSUBNET\u001b[0m\u001b[1m \u001b[0m┃\u001b[1m \u001b[0m\u001b[1mDEFAULT GATEWAY\u001b[0m\u001b[1m \u001b[0m┃\n",
       "┡━━━━╇━━━━━━━━━━━╇━━━━━╇━━━━━━━━━━━━━━╇━━━━╇━━━━━━━━╇━━━━━━━━━━━━━━━━━┩\n",
       "└────┴───────────┴─────┴──────────────┴────┴────────┴─────────────────┘\n"
      ]
     },
     "metadata": {},
     "output_type": "display_data"
    },
    {
     "data": {
      "text/html": [
       "<pre style=\"white-space:pre;overflow-x:auto;line-height:normal;font-family:Menlo,'DejaVu Sans Mono',consolas,'Courier New',monospace\">┏━━━━┳━━━━━━━━━━━┳━━━━━┳━━━━━━━━━━━━━━┳━━━━┳━━━━━━━━┳━━━━━━━━━━━━━━━━━┓\n",
       "┃<span style=\"font-weight: bold\"> ID </span>┃<span style=\"font-weight: bold\"> INTERFACE </span>┃<span style=\"font-weight: bold\"> MAC </span>┃<span style=\"font-weight: bold\"> IS CONNECTED </span>┃<span style=\"font-weight: bold\"> IP </span>┃<span style=\"font-weight: bold\"> SUBNET </span>┃<span style=\"font-weight: bold\"> DEFAULT GATEWAY </span>┃\n",
       "┡━━━━╇━━━━━━━━━━━╇━━━━━╇━━━━━━━━━━━━━━╇━━━━╇━━━━━━━━╇━━━━━━━━━━━━━━━━━┩\n",
       "└────┴───────────┴─────┴──────────────┴────┴────────┴─────────────────┘\n",
       "</pre>\n"
      ],
      "text/plain": [
       "┏━━━━┳━━━━━━━━━━━┳━━━━━┳━━━━━━━━━━━━━━┳━━━━┳━━━━━━━━┳━━━━━━━━━━━━━━━━━┓\n",
       "┃\u001b[1m \u001b[0m\u001b[1mID\u001b[0m\u001b[1m \u001b[0m┃\u001b[1m \u001b[0m\u001b[1mINTERFACE\u001b[0m\u001b[1m \u001b[0m┃\u001b[1m \u001b[0m\u001b[1mMAC\u001b[0m\u001b[1m \u001b[0m┃\u001b[1m \u001b[0m\u001b[1mIS CONNECTED\u001b[0m\u001b[1m \u001b[0m┃\u001b[1m \u001b[0m\u001b[1mIP\u001b[0m\u001b[1m \u001b[0m┃\u001b[1m \u001b[0m\u001b[1mSUBNET\u001b[0m\u001b[1m \u001b[0m┃\u001b[1m \u001b[0m\u001b[1mDEFAULT GATEWAY\u001b[0m\u001b[1m \u001b[0m┃\n",
       "┡━━━━╇━━━━━━━━━━━╇━━━━━╇━━━━━━━━━━━━━━╇━━━━╇━━━━━━━━╇━━━━━━━━━━━━━━━━━┩\n",
       "└────┴───────────┴─────┴──────────────┴────┴────────┴─────────────────┘\n"
      ]
     },
     "metadata": {},
     "output_type": "display_data"
    },
    {
     "data": {
      "text/html": [
       "<pre style=\"white-space:pre;overflow-x:auto;line-height:normal;font-family:Menlo,'DejaVu Sans Mono',consolas,'Courier New',monospace\">┏━━━━┳━━━━━━━━━━━┳━━━━━┳━━━━━━━━━━━━━━┳━━━━┳━━━━━━━━┳━━━━━━━━━━━━━━━━━┓\n",
       "┃<span style=\"font-weight: bold\"> ID </span>┃<span style=\"font-weight: bold\"> INTERFACE </span>┃<span style=\"font-weight: bold\"> MAC </span>┃<span style=\"font-weight: bold\"> IS CONNECTED </span>┃<span style=\"font-weight: bold\"> IP </span>┃<span style=\"font-weight: bold\"> SUBNET </span>┃<span style=\"font-weight: bold\"> DEFAULT GATEWAY </span>┃\n",
       "┡━━━━╇━━━━━━━━━━━╇━━━━━╇━━━━━━━━━━━━━━╇━━━━╇━━━━━━━━╇━━━━━━━━━━━━━━━━━┩\n",
       "└────┴───────────┴─────┴──────────────┴────┴────────┴─────────────────┘\n",
       "</pre>\n"
      ],
      "text/plain": [
       "┏━━━━┳━━━━━━━━━━━┳━━━━━┳━━━━━━━━━━━━━━┳━━━━┳━━━━━━━━┳━━━━━━━━━━━━━━━━━┓\n",
       "┃\u001b[1m \u001b[0m\u001b[1mID\u001b[0m\u001b[1m \u001b[0m┃\u001b[1m \u001b[0m\u001b[1mINTERFACE\u001b[0m\u001b[1m \u001b[0m┃\u001b[1m \u001b[0m\u001b[1mMAC\u001b[0m\u001b[1m \u001b[0m┃\u001b[1m \u001b[0m\u001b[1mIS CONNECTED\u001b[0m\u001b[1m \u001b[0m┃\u001b[1m \u001b[0m\u001b[1mIP\u001b[0m\u001b[1m \u001b[0m┃\u001b[1m \u001b[0m\u001b[1mSUBNET\u001b[0m\u001b[1m \u001b[0m┃\u001b[1m \u001b[0m\u001b[1mDEFAULT GATEWAY\u001b[0m\u001b[1m \u001b[0m┃\n",
       "┡━━━━╇━━━━━━━━━━━╇━━━━━╇━━━━━━━━━━━━━━╇━━━━╇━━━━━━━━╇━━━━━━━━━━━━━━━━━┩\n",
       "└────┴───────────┴─────┴──────────────┴────┴────────┴─────────────────┘\n"
      ]
     },
     "metadata": {},
     "output_type": "display_data"
    },
    {
     "data": {
      "text/html": [
       "<pre style=\"white-space:pre;overflow-x:auto;line-height:normal;font-family:Menlo,'DejaVu Sans Mono',consolas,'Courier New',monospace\">┏━━━━┳━━━━━━━━━━━┳━━━━━┳━━━━━━━━━━━━━━┳━━━━┳━━━━━━━━┳━━━━━━━━━━━━━━━━━┓\n",
       "┃<span style=\"font-weight: bold\"> ID </span>┃<span style=\"font-weight: bold\"> INTERFACE </span>┃<span style=\"font-weight: bold\"> MAC </span>┃<span style=\"font-weight: bold\"> IS CONNECTED </span>┃<span style=\"font-weight: bold\"> IP </span>┃<span style=\"font-weight: bold\"> SUBNET </span>┃<span style=\"font-weight: bold\"> DEFAULT GATEWAY </span>┃\n",
       "┡━━━━╇━━━━━━━━━━━╇━━━━━╇━━━━━━━━━━━━━━╇━━━━╇━━━━━━━━╇━━━━━━━━━━━━━━━━━┩\n",
       "└────┴───────────┴─────┴──────────────┴────┴────────┴─────────────────┘\n",
       "</pre>\n"
      ],
      "text/plain": [
       "┏━━━━┳━━━━━━━━━━━┳━━━━━┳━━━━━━━━━━━━━━┳━━━━┳━━━━━━━━┳━━━━━━━━━━━━━━━━━┓\n",
       "┃\u001b[1m \u001b[0m\u001b[1mID\u001b[0m\u001b[1m \u001b[0m┃\u001b[1m \u001b[0m\u001b[1mINTERFACE\u001b[0m\u001b[1m \u001b[0m┃\u001b[1m \u001b[0m\u001b[1mMAC\u001b[0m\u001b[1m \u001b[0m┃\u001b[1m \u001b[0m\u001b[1mIS CONNECTED\u001b[0m\u001b[1m \u001b[0m┃\u001b[1m \u001b[0m\u001b[1mIP\u001b[0m\u001b[1m \u001b[0m┃\u001b[1m \u001b[0m\u001b[1mSUBNET\u001b[0m\u001b[1m \u001b[0m┃\u001b[1m \u001b[0m\u001b[1mDEFAULT GATEWAY\u001b[0m\u001b[1m \u001b[0m┃\n",
       "┡━━━━╇━━━━━━━━━━━╇━━━━━╇━━━━━━━━━━━━━━╇━━━━╇━━━━━━━━╇━━━━━━━━━━━━━━━━━┩\n",
       "└────┴───────────┴─────┴──────────────┴────┴────────┴─────────────────┘\n"
      ]
     },
     "metadata": {},
     "output_type": "display_data"
    },
    {
     "data": {
      "text/html": [
       "<pre style=\"white-space:pre;overflow-x:auto;line-height:normal;font-family:Menlo,'DejaVu Sans Mono',consolas,'Courier New',monospace\">┏━━━━┳━━━━━━━━━━━┳━━━━━┳━━━━━━━━━━━━━━┳━━━━┳━━━━━━━━┳━━━━━━━━━━━━━━━━━┓\n",
       "┃<span style=\"font-weight: bold\"> ID </span>┃<span style=\"font-weight: bold\"> INTERFACE </span>┃<span style=\"font-weight: bold\"> MAC </span>┃<span style=\"font-weight: bold\"> IS CONNECTED </span>┃<span style=\"font-weight: bold\"> IP </span>┃<span style=\"font-weight: bold\"> SUBNET </span>┃<span style=\"font-weight: bold\"> DEFAULT GATEWAY </span>┃\n",
       "┡━━━━╇━━━━━━━━━━━╇━━━━━╇━━━━━━━━━━━━━━╇━━━━╇━━━━━━━━╇━━━━━━━━━━━━━━━━━┩\n",
       "└────┴───────────┴─────┴──────────────┴────┴────────┴─────────────────┘\n",
       "</pre>\n"
      ],
      "text/plain": [
       "┏━━━━┳━━━━━━━━━━━┳━━━━━┳━━━━━━━━━━━━━━┳━━━━┳━━━━━━━━┳━━━━━━━━━━━━━━━━━┓\n",
       "┃\u001b[1m \u001b[0m\u001b[1mID\u001b[0m\u001b[1m \u001b[0m┃\u001b[1m \u001b[0m\u001b[1mINTERFACE\u001b[0m\u001b[1m \u001b[0m┃\u001b[1m \u001b[0m\u001b[1mMAC\u001b[0m\u001b[1m \u001b[0m┃\u001b[1m \u001b[0m\u001b[1mIS CONNECTED\u001b[0m\u001b[1m \u001b[0m┃\u001b[1m \u001b[0m\u001b[1mIP\u001b[0m\u001b[1m \u001b[0m┃\u001b[1m \u001b[0m\u001b[1mSUBNET\u001b[0m\u001b[1m \u001b[0m┃\u001b[1m \u001b[0m\u001b[1mDEFAULT GATEWAY\u001b[0m\u001b[1m \u001b[0m┃\n",
       "┡━━━━╇━━━━━━━━━━━╇━━━━━╇━━━━━━━━━━━━━━╇━━━━╇━━━━━━━━╇━━━━━━━━━━━━━━━━━┩\n",
       "└────┴───────────┴─────┴──────────────┴────┴────────┴─────────────────┘\n"
      ]
     },
     "metadata": {},
     "output_type": "display_data"
    },
    {
     "data": {
      "text/html": [
       "<pre style=\"white-space:pre;overflow-x:auto;line-height:normal;font-family:Menlo,'DejaVu Sans Mono',consolas,'Courier New',monospace\">┏━━━━┳━━━━━━━━━━━┳━━━━━┳━━━━━━━━━━━━━━┳━━━━┳━━━━━━━━┳━━━━━━━━━━━━━━━━━┓\n",
       "┃<span style=\"font-weight: bold\"> ID </span>┃<span style=\"font-weight: bold\"> INTERFACE </span>┃<span style=\"font-weight: bold\"> MAC </span>┃<span style=\"font-weight: bold\"> IS CONNECTED </span>┃<span style=\"font-weight: bold\"> IP </span>┃<span style=\"font-weight: bold\"> SUBNET </span>┃<span style=\"font-weight: bold\"> DEFAULT GATEWAY </span>┃\n",
       "┡━━━━╇━━━━━━━━━━━╇━━━━━╇━━━━━━━━━━━━━━╇━━━━╇━━━━━━━━╇━━━━━━━━━━━━━━━━━┩\n",
       "└────┴───────────┴─────┴──────────────┴────┴────────┴─────────────────┘\n",
       "</pre>\n"
      ],
      "text/plain": [
       "┏━━━━┳━━━━━━━━━━━┳━━━━━┳━━━━━━━━━━━━━━┳━━━━┳━━━━━━━━┳━━━━━━━━━━━━━━━━━┓\n",
       "┃\u001b[1m \u001b[0m\u001b[1mID\u001b[0m\u001b[1m \u001b[0m┃\u001b[1m \u001b[0m\u001b[1mINTERFACE\u001b[0m\u001b[1m \u001b[0m┃\u001b[1m \u001b[0m\u001b[1mMAC\u001b[0m\u001b[1m \u001b[0m┃\u001b[1m \u001b[0m\u001b[1mIS CONNECTED\u001b[0m\u001b[1m \u001b[0m┃\u001b[1m \u001b[0m\u001b[1mIP\u001b[0m\u001b[1m \u001b[0m┃\u001b[1m \u001b[0m\u001b[1mSUBNET\u001b[0m\u001b[1m \u001b[0m┃\u001b[1m \u001b[0m\u001b[1mDEFAULT GATEWAY\u001b[0m\u001b[1m \u001b[0m┃\n",
       "┡━━━━╇━━━━━━━━━━━╇━━━━━╇━━━━━━━━━━━━━━╇━━━━╇━━━━━━━━╇━━━━━━━━━━━━━━━━━┩\n",
       "└────┴───────────┴─────┴──────────────┴────┴────────┴─────────────────┘\n"
      ]
     },
     "metadata": {},
     "output_type": "display_data"
    },
    {
     "data": {
      "text/html": [
       "<pre style=\"white-space:pre;overflow-x:auto;line-height:normal;font-family:Menlo,'DejaVu Sans Mono',consolas,'Courier New',monospace\">┏━━━━┳━━━━━━━━━━━┳━━━━━┳━━━━━━━━━━━━━━┳━━━━┳━━━━━━━━┳━━━━━━━━━━━━━━━━━┓\n",
       "┃<span style=\"font-weight: bold\"> ID </span>┃<span style=\"font-weight: bold\"> INTERFACE </span>┃<span style=\"font-weight: bold\"> MAC </span>┃<span style=\"font-weight: bold\"> IS CONNECTED </span>┃<span style=\"font-weight: bold\"> IP </span>┃<span style=\"font-weight: bold\"> SUBNET </span>┃<span style=\"font-weight: bold\"> DEFAULT GATEWAY </span>┃\n",
       "┡━━━━╇━━━━━━━━━━━╇━━━━━╇━━━━━━━━━━━━━━╇━━━━╇━━━━━━━━╇━━━━━━━━━━━━━━━━━┩\n",
       "└────┴───────────┴─────┴──────────────┴────┴────────┴─────────────────┘\n",
       "</pre>\n"
      ],
      "text/plain": [
       "┏━━━━┳━━━━━━━━━━━┳━━━━━┳━━━━━━━━━━━━━━┳━━━━┳━━━━━━━━┳━━━━━━━━━━━━━━━━━┓\n",
       "┃\u001b[1m \u001b[0m\u001b[1mID\u001b[0m\u001b[1m \u001b[0m┃\u001b[1m \u001b[0m\u001b[1mINTERFACE\u001b[0m\u001b[1m \u001b[0m┃\u001b[1m \u001b[0m\u001b[1mMAC\u001b[0m\u001b[1m \u001b[0m┃\u001b[1m \u001b[0m\u001b[1mIS CONNECTED\u001b[0m\u001b[1m \u001b[0m┃\u001b[1m \u001b[0m\u001b[1mIP\u001b[0m\u001b[1m \u001b[0m┃\u001b[1m \u001b[0m\u001b[1mSUBNET\u001b[0m\u001b[1m \u001b[0m┃\u001b[1m \u001b[0m\u001b[1mDEFAULT GATEWAY\u001b[0m\u001b[1m \u001b[0m┃\n",
       "┡━━━━╇━━━━━━━━━━━╇━━━━━╇━━━━━━━━━━━━━━╇━━━━╇━━━━━━━━╇━━━━━━━━━━━━━━━━━┩\n",
       "└────┴───────────┴─────┴──────────────┴────┴────────┴─────────────────┘\n"
      ]
     },
     "metadata": {},
     "output_type": "display_data"
    },
    {
     "data": {
      "text/html": [
       "<pre style=\"white-space:pre;overflow-x:auto;line-height:normal;font-family:Menlo,'DejaVu Sans Mono',consolas,'Courier New',monospace\">┏━━━━┳━━━━━━━━━━━┳━━━━━┳━━━━━━━━━━━━━━┳━━━━┳━━━━━━━━┳━━━━━━━━━━━━━━━━━┓\n",
       "┃<span style=\"font-weight: bold\"> ID </span>┃<span style=\"font-weight: bold\"> INTERFACE </span>┃<span style=\"font-weight: bold\"> MAC </span>┃<span style=\"font-weight: bold\"> IS CONNECTED </span>┃<span style=\"font-weight: bold\"> IP </span>┃<span style=\"font-weight: bold\"> SUBNET </span>┃<span style=\"font-weight: bold\"> DEFAULT GATEWAY </span>┃\n",
       "┡━━━━╇━━━━━━━━━━━╇━━━━━╇━━━━━━━━━━━━━━╇━━━━╇━━━━━━━━╇━━━━━━━━━━━━━━━━━┩\n",
       "└────┴───────────┴─────┴──────────────┴────┴────────┴─────────────────┘\n",
       "</pre>\n"
      ],
      "text/plain": [
       "┏━━━━┳━━━━━━━━━━━┳━━━━━┳━━━━━━━━━━━━━━┳━━━━┳━━━━━━━━┳━━━━━━━━━━━━━━━━━┓\n",
       "┃\u001b[1m \u001b[0m\u001b[1mID\u001b[0m\u001b[1m \u001b[0m┃\u001b[1m \u001b[0m\u001b[1mINTERFACE\u001b[0m\u001b[1m \u001b[0m┃\u001b[1m \u001b[0m\u001b[1mMAC\u001b[0m\u001b[1m \u001b[0m┃\u001b[1m \u001b[0m\u001b[1mIS CONNECTED\u001b[0m\u001b[1m \u001b[0m┃\u001b[1m \u001b[0m\u001b[1mIP\u001b[0m\u001b[1m \u001b[0m┃\u001b[1m \u001b[0m\u001b[1mSUBNET\u001b[0m\u001b[1m \u001b[0m┃\u001b[1m \u001b[0m\u001b[1mDEFAULT GATEWAY\u001b[0m\u001b[1m \u001b[0m┃\n",
       "┡━━━━╇━━━━━━━━━━━╇━━━━━╇━━━━━━━━━━━━━━╇━━━━╇━━━━━━━━╇━━━━━━━━━━━━━━━━━┩\n",
       "└────┴───────────┴─────┴──────────────┴────┴────────┴─────────────────┘\n"
      ]
     },
     "metadata": {},
     "output_type": "display_data"
    },
    {
     "data": {
      "text/html": [
       "<pre style=\"white-space:pre;overflow-x:auto;line-height:normal;font-family:Menlo,'DejaVu Sans Mono',consolas,'Courier New',monospace\">┏━━━━┳━━━━━━━━━━━┳━━━━━┳━━━━━━━━━━━━━━┳━━━━┳━━━━━━━━┳━━━━━━━━━━━━━━━━━┓\n",
       "┃<span style=\"font-weight: bold\"> ID </span>┃<span style=\"font-weight: bold\"> INTERFACE </span>┃<span style=\"font-weight: bold\"> MAC </span>┃<span style=\"font-weight: bold\"> IS CONNECTED </span>┃<span style=\"font-weight: bold\"> IP </span>┃<span style=\"font-weight: bold\"> SUBNET </span>┃<span style=\"font-weight: bold\"> DEFAULT GATEWAY </span>┃\n",
       "┡━━━━╇━━━━━━━━━━━╇━━━━━╇━━━━━━━━━━━━━━╇━━━━╇━━━━━━━━╇━━━━━━━━━━━━━━━━━┩\n",
       "└────┴───────────┴─────┴──────────────┴────┴────────┴─────────────────┘\n",
       "</pre>\n"
      ],
      "text/plain": [
       "┏━━━━┳━━━━━━━━━━━┳━━━━━┳━━━━━━━━━━━━━━┳━━━━┳━━━━━━━━┳━━━━━━━━━━━━━━━━━┓\n",
       "┃\u001b[1m \u001b[0m\u001b[1mID\u001b[0m\u001b[1m \u001b[0m┃\u001b[1m \u001b[0m\u001b[1mINTERFACE\u001b[0m\u001b[1m \u001b[0m┃\u001b[1m \u001b[0m\u001b[1mMAC\u001b[0m\u001b[1m \u001b[0m┃\u001b[1m \u001b[0m\u001b[1mIS CONNECTED\u001b[0m\u001b[1m \u001b[0m┃\u001b[1m \u001b[0m\u001b[1mIP\u001b[0m\u001b[1m \u001b[0m┃\u001b[1m \u001b[0m\u001b[1mSUBNET\u001b[0m\u001b[1m \u001b[0m┃\u001b[1m \u001b[0m\u001b[1mDEFAULT GATEWAY\u001b[0m\u001b[1m \u001b[0m┃\n",
       "┡━━━━╇━━━━━━━━━━━╇━━━━━╇━━━━━━━━━━━━━━╇━━━━╇━━━━━━━━╇━━━━━━━━━━━━━━━━━┩\n",
       "└────┴───────────┴─────┴──────────────┴────┴────────┴─────────────────┘\n"
      ]
     },
     "metadata": {},
     "output_type": "display_data"
    },
    {
     "data": {
      "text/html": [
       "<pre style=\"white-space:pre;overflow-x:auto;line-height:normal;font-family:Menlo,'DejaVu Sans Mono',consolas,'Courier New',monospace\">┏━━━━┳━━━━━━━━━━━┳━━━━━┳━━━━━━━━━━━━━━┳━━━━┳━━━━━━━━┳━━━━━━━━━━━━━━━━━┓\n",
       "┃<span style=\"font-weight: bold\"> ID </span>┃<span style=\"font-weight: bold\"> INTERFACE </span>┃<span style=\"font-weight: bold\"> MAC </span>┃<span style=\"font-weight: bold\"> IS CONNECTED </span>┃<span style=\"font-weight: bold\"> IP </span>┃<span style=\"font-weight: bold\"> SUBNET </span>┃<span style=\"font-weight: bold\"> DEFAULT GATEWAY </span>┃\n",
       "┡━━━━╇━━━━━━━━━━━╇━━━━━╇━━━━━━━━━━━━━━╇━━━━╇━━━━━━━━╇━━━━━━━━━━━━━━━━━┩\n",
       "└────┴───────────┴─────┴──────────────┴────┴────────┴─────────────────┘\n",
       "</pre>\n"
      ],
      "text/plain": [
       "┏━━━━┳━━━━━━━━━━━┳━━━━━┳━━━━━━━━━━━━━━┳━━━━┳━━━━━━━━┳━━━━━━━━━━━━━━━━━┓\n",
       "┃\u001b[1m \u001b[0m\u001b[1mID\u001b[0m\u001b[1m \u001b[0m┃\u001b[1m \u001b[0m\u001b[1mINTERFACE\u001b[0m\u001b[1m \u001b[0m┃\u001b[1m \u001b[0m\u001b[1mMAC\u001b[0m\u001b[1m \u001b[0m┃\u001b[1m \u001b[0m\u001b[1mIS CONNECTED\u001b[0m\u001b[1m \u001b[0m┃\u001b[1m \u001b[0m\u001b[1mIP\u001b[0m\u001b[1m \u001b[0m┃\u001b[1m \u001b[0m\u001b[1mSUBNET\u001b[0m\u001b[1m \u001b[0m┃\u001b[1m \u001b[0m\u001b[1mDEFAULT GATEWAY\u001b[0m\u001b[1m \u001b[0m┃\n",
       "┡━━━━╇━━━━━━━━━━━╇━━━━━╇━━━━━━━━━━━━━━╇━━━━╇━━━━━━━━╇━━━━━━━━━━━━━━━━━┩\n",
       "└────┴───────────┴─────┴──────────────┴────┴────────┴─────────────────┘\n"
      ]
     },
     "metadata": {},
     "output_type": "display_data"
    },
    {
     "data": {
      "text/html": [
       "<pre style=\"white-space:pre;overflow-x:auto;line-height:normal;font-family:Menlo,'DejaVu Sans Mono',consolas,'Courier New',monospace\">┏━━━━┳━━━━━━━━━━━┳━━━━━┳━━━━━━━━━━━━━━┳━━━━┳━━━━━━━━┳━━━━━━━━━━━━━━━━━┓\n",
       "┃<span style=\"font-weight: bold\"> ID </span>┃<span style=\"font-weight: bold\"> INTERFACE </span>┃<span style=\"font-weight: bold\"> MAC </span>┃<span style=\"font-weight: bold\"> IS CONNECTED </span>┃<span style=\"font-weight: bold\"> IP </span>┃<span style=\"font-weight: bold\"> SUBNET </span>┃<span style=\"font-weight: bold\"> DEFAULT GATEWAY </span>┃\n",
       "┡━━━━╇━━━━━━━━━━━╇━━━━━╇━━━━━━━━━━━━━━╇━━━━╇━━━━━━━━╇━━━━━━━━━━━━━━━━━┩\n",
       "└────┴───────────┴─────┴──────────────┴────┴────────┴─────────────────┘\n",
       "</pre>\n"
      ],
      "text/plain": [
       "┏━━━━┳━━━━━━━━━━━┳━━━━━┳━━━━━━━━━━━━━━┳━━━━┳━━━━━━━━┳━━━━━━━━━━━━━━━━━┓\n",
       "┃\u001b[1m \u001b[0m\u001b[1mID\u001b[0m\u001b[1m \u001b[0m┃\u001b[1m \u001b[0m\u001b[1mINTERFACE\u001b[0m\u001b[1m \u001b[0m┃\u001b[1m \u001b[0m\u001b[1mMAC\u001b[0m\u001b[1m \u001b[0m┃\u001b[1m \u001b[0m\u001b[1mIS CONNECTED\u001b[0m\u001b[1m \u001b[0m┃\u001b[1m \u001b[0m\u001b[1mIP\u001b[0m\u001b[1m \u001b[0m┃\u001b[1m \u001b[0m\u001b[1mSUBNET\u001b[0m\u001b[1m \u001b[0m┃\u001b[1m \u001b[0m\u001b[1mDEFAULT GATEWAY\u001b[0m\u001b[1m \u001b[0m┃\n",
       "┡━━━━╇━━━━━━━━━━━╇━━━━━╇━━━━━━━━━━━━━━╇━━━━╇━━━━━━━━╇━━━━━━━━━━━━━━━━━┩\n",
       "└────┴───────────┴─────┴──────────────┴────┴────────┴─────────────────┘\n"
      ]
     },
     "metadata": {},
     "output_type": "display_data"
    },
    {
     "data": {
      "text/html": [
       "<pre style=\"white-space:pre;overflow-x:auto;line-height:normal;font-family:Menlo,'DejaVu Sans Mono',consolas,'Courier New',monospace\">┏━━━━┳━━━━━━━━━━━┳━━━━━┳━━━━━━━━━━━━━━┳━━━━┳━━━━━━━━┳━━━━━━━━━━━━━━━━━┓\n",
       "┃<span style=\"font-weight: bold\"> ID </span>┃<span style=\"font-weight: bold\"> INTERFACE </span>┃<span style=\"font-weight: bold\"> MAC </span>┃<span style=\"font-weight: bold\"> IS CONNECTED </span>┃<span style=\"font-weight: bold\"> IP </span>┃<span style=\"font-weight: bold\"> SUBNET </span>┃<span style=\"font-weight: bold\"> DEFAULT GATEWAY </span>┃\n",
       "┡━━━━╇━━━━━━━━━━━╇━━━━━╇━━━━━━━━━━━━━━╇━━━━╇━━━━━━━━╇━━━━━━━━━━━━━━━━━┩\n",
       "└────┴───────────┴─────┴──────────────┴────┴────────┴─────────────────┘\n",
       "</pre>\n"
      ],
      "text/plain": [
       "┏━━━━┳━━━━━━━━━━━┳━━━━━┳━━━━━━━━━━━━━━┳━━━━┳━━━━━━━━┳━━━━━━━━━━━━━━━━━┓\n",
       "┃\u001b[1m \u001b[0m\u001b[1mID\u001b[0m\u001b[1m \u001b[0m┃\u001b[1m \u001b[0m\u001b[1mINTERFACE\u001b[0m\u001b[1m \u001b[0m┃\u001b[1m \u001b[0m\u001b[1mMAC\u001b[0m\u001b[1m \u001b[0m┃\u001b[1m \u001b[0m\u001b[1mIS CONNECTED\u001b[0m\u001b[1m \u001b[0m┃\u001b[1m \u001b[0m\u001b[1mIP\u001b[0m\u001b[1m \u001b[0m┃\u001b[1m \u001b[0m\u001b[1mSUBNET\u001b[0m\u001b[1m \u001b[0m┃\u001b[1m \u001b[0m\u001b[1mDEFAULT GATEWAY\u001b[0m\u001b[1m \u001b[0m┃\n",
       "┡━━━━╇━━━━━━━━━━━╇━━━━━╇━━━━━━━━━━━━━━╇━━━━╇━━━━━━━━╇━━━━━━━━━━━━━━━━━┩\n",
       "└────┴───────────┴─────┴──────────────┴────┴────────┴─────────────────┘\n"
      ]
     },
     "metadata": {},
     "output_type": "display_data"
    },
    {
     "data": {
      "text/html": [
       "<pre style=\"white-space:pre;overflow-x:auto;line-height:normal;font-family:Menlo,'DejaVu Sans Mono',consolas,'Courier New',monospace\">┏━━━━┳━━━━━━━━━━━┳━━━━━┳━━━━━━━━━━━━━━┳━━━━┳━━━━━━━━┳━━━━━━━━━━━━━━━━━┓\n",
       "┃<span style=\"font-weight: bold\"> ID </span>┃<span style=\"font-weight: bold\"> INTERFACE </span>┃<span style=\"font-weight: bold\"> MAC </span>┃<span style=\"font-weight: bold\"> IS CONNECTED </span>┃<span style=\"font-weight: bold\"> IP </span>┃<span style=\"font-weight: bold\"> SUBNET </span>┃<span style=\"font-weight: bold\"> DEFAULT GATEWAY </span>┃\n",
       "┡━━━━╇━━━━━━━━━━━╇━━━━━╇━━━━━━━━━━━━━━╇━━━━╇━━━━━━━━╇━━━━━━━━━━━━━━━━━┩\n",
       "└────┴───────────┴─────┴──────────────┴────┴────────┴─────────────────┘\n",
       "</pre>\n"
      ],
      "text/plain": [
       "┏━━━━┳━━━━━━━━━━━┳━━━━━┳━━━━━━━━━━━━━━┳━━━━┳━━━━━━━━┳━━━━━━━━━━━━━━━━━┓\n",
       "┃\u001b[1m \u001b[0m\u001b[1mID\u001b[0m\u001b[1m \u001b[0m┃\u001b[1m \u001b[0m\u001b[1mINTERFACE\u001b[0m\u001b[1m \u001b[0m┃\u001b[1m \u001b[0m\u001b[1mMAC\u001b[0m\u001b[1m \u001b[0m┃\u001b[1m \u001b[0m\u001b[1mIS CONNECTED\u001b[0m\u001b[1m \u001b[0m┃\u001b[1m \u001b[0m\u001b[1mIP\u001b[0m\u001b[1m \u001b[0m┃\u001b[1m \u001b[0m\u001b[1mSUBNET\u001b[0m\u001b[1m \u001b[0m┃\u001b[1m \u001b[0m\u001b[1mDEFAULT GATEWAY\u001b[0m\u001b[1m \u001b[0m┃\n",
       "┡━━━━╇━━━━━━━━━━━╇━━━━━╇━━━━━━━━━━━━━━╇━━━━╇━━━━━━━━╇━━━━━━━━━━━━━━━━━┩\n",
       "└────┴───────────┴─────┴──────────────┴────┴────────┴─────────────────┘\n"
      ]
     },
     "metadata": {},
     "output_type": "display_data"
    },
    {
     "data": {
      "text/html": [
       "<pre style=\"white-space:pre;overflow-x:auto;line-height:normal;font-family:Menlo,'DejaVu Sans Mono',consolas,'Courier New',monospace\">Interface eth0 has MAC: 04:d4:c4:e0:63:54 , IP : NA, SUBNET : NA, DG : NA \n",
       "</pre>\n"
      ],
      "text/plain": [
       "Interface eth0 has MAC: 04:d4:c4:e0:63:54 , IP : NA, SUBNET : NA, DG : NA \n"
      ]
     },
     "metadata": {},
     "output_type": "display_data"
    },
    {
     "data": {
      "text/html": [
       "<pre style=\"white-space:pre;overflow-x:auto;line-height:normal;font-family:Menlo,'DejaVu Sans Mono',consolas,'Courier New',monospace\">┏━━━━┳━━━━━━━━━━━┳━━━━━━━━━━━━━━━━━━━┳━━━━━━━━━━━━━━┳━━━━┳━━━━━━━━┳━━━━━━━━━━━━━━━━━┓\n",
       "┃<span style=\"font-weight: bold\"> ID </span>┃<span style=\"font-weight: bold\"> INTERFACE </span>┃<span style=\"font-weight: bold\"> MAC               </span>┃<span style=\"font-weight: bold\"> IS CONNECTED </span>┃<span style=\"font-weight: bold\"> IP </span>┃<span style=\"font-weight: bold\"> SUBNET </span>┃<span style=\"font-weight: bold\"> DEFAULT GATEWAY </span>┃\n",
       "┡━━━━╇━━━━━━━━━━━╇━━━━━━━━━━━━━━━━━━━╇━━━━━━━━━━━━━━╇━━━━╇━━━━━━━━╇━━━━━━━━━━━━━━━━━┩\n",
       "│ 1  │ eth0      │ 04:d4:c4:e0:63:54 │ False        │ NA │ NA     │ NA              │\n",
       "└────┴───────────┴───────────────────┴──────────────┴────┴────────┴─────────────────┘\n",
       "</pre>\n"
      ],
      "text/plain": [
       "┏━━━━┳━━━━━━━━━━━┳━━━━━━━━━━━━━━━━━━━┳━━━━━━━━━━━━━━┳━━━━┳━━━━━━━━┳━━━━━━━━━━━━━━━━━┓\n",
       "┃\u001b[1m \u001b[0m\u001b[1mID\u001b[0m\u001b[1m \u001b[0m┃\u001b[1m \u001b[0m\u001b[1mINTERFACE\u001b[0m\u001b[1m \u001b[0m┃\u001b[1m \u001b[0m\u001b[1mMAC              \u001b[0m\u001b[1m \u001b[0m┃\u001b[1m \u001b[0m\u001b[1mIS CONNECTED\u001b[0m\u001b[1m \u001b[0m┃\u001b[1m \u001b[0m\u001b[1mIP\u001b[0m\u001b[1m \u001b[0m┃\u001b[1m \u001b[0m\u001b[1mSUBNET\u001b[0m\u001b[1m \u001b[0m┃\u001b[1m \u001b[0m\u001b[1mDEFAULT GATEWAY\u001b[0m\u001b[1m \u001b[0m┃\n",
       "┡━━━━╇━━━━━━━━━━━╇━━━━━━━━━━━━━━━━━━━╇━━━━━━━━━━━━━━╇━━━━╇━━━━━━━━╇━━━━━━━━━━━━━━━━━┩\n",
       "│ 1  │ eth0      │ 04:d4:c4:e0:63:54 │ False        │ NA │ NA     │ NA              │\n",
       "└────┴───────────┴───────────────────┴──────────────┴────┴────────┴─────────────────┘\n"
      ]
     },
     "metadata": {},
     "output_type": "display_data"
    },
    {
     "data": {
      "text/html": [
       "<pre style=\"white-space:pre;overflow-x:auto;line-height:normal;font-family:Menlo,'DejaVu Sans Mono',consolas,'Courier New',monospace\">┏━━━━┳━━━━━━━━━━━┳━━━━━━━━━━━━━━━━━━━┳━━━━━━━━━━━━━━┳━━━━┳━━━━━━━━┳━━━━━━━━━━━━━━━━━┓\n",
       "┃<span style=\"font-weight: bold\"> ID </span>┃<span style=\"font-weight: bold\"> INTERFACE </span>┃<span style=\"font-weight: bold\"> MAC               </span>┃<span style=\"font-weight: bold\"> IS CONNECTED </span>┃<span style=\"font-weight: bold\"> IP </span>┃<span style=\"font-weight: bold\"> SUBNET </span>┃<span style=\"font-weight: bold\"> DEFAULT GATEWAY </span>┃\n",
       "┡━━━━╇━━━━━━━━━━━╇━━━━━━━━━━━━━━━━━━━╇━━━━━━━━━━━━━━╇━━━━╇━━━━━━━━╇━━━━━━━━━━━━━━━━━┩\n",
       "│ 1  │ eth0      │ 04:d4:c4:e0:63:54 │ False        │ NA │ NA     │ NA              │\n",
       "└────┴───────────┴───────────────────┴──────────────┴────┴────────┴─────────────────┘\n",
       "</pre>\n"
      ],
      "text/plain": [
       "┏━━━━┳━━━━━━━━━━━┳━━━━━━━━━━━━━━━━━━━┳━━━━━━━━━━━━━━┳━━━━┳━━━━━━━━┳━━━━━━━━━━━━━━━━━┓\n",
       "┃\u001b[1m \u001b[0m\u001b[1mID\u001b[0m\u001b[1m \u001b[0m┃\u001b[1m \u001b[0m\u001b[1mINTERFACE\u001b[0m\u001b[1m \u001b[0m┃\u001b[1m \u001b[0m\u001b[1mMAC              \u001b[0m\u001b[1m \u001b[0m┃\u001b[1m \u001b[0m\u001b[1mIS CONNECTED\u001b[0m\u001b[1m \u001b[0m┃\u001b[1m \u001b[0m\u001b[1mIP\u001b[0m\u001b[1m \u001b[0m┃\u001b[1m \u001b[0m\u001b[1mSUBNET\u001b[0m\u001b[1m \u001b[0m┃\u001b[1m \u001b[0m\u001b[1mDEFAULT GATEWAY\u001b[0m\u001b[1m \u001b[0m┃\n",
       "┡━━━━╇━━━━━━━━━━━╇━━━━━━━━━━━━━━━━━━━╇━━━━━━━━━━━━━━╇━━━━╇━━━━━━━━╇━━━━━━━━━━━━━━━━━┩\n",
       "│ 1  │ eth0      │ 04:d4:c4:e0:63:54 │ False        │ NA │ NA     │ NA              │\n",
       "└────┴───────────┴───────────────────┴──────────────┴────┴────────┴─────────────────┘\n"
      ]
     },
     "metadata": {},
     "output_type": "display_data"
    },
    {
     "data": {
      "text/html": [
       "<pre style=\"white-space:pre;overflow-x:auto;line-height:normal;font-family:Menlo,'DejaVu Sans Mono',consolas,'Courier New',monospace\">┏━━━━┳━━━━━━━━━━━┳━━━━━━━━━━━━━━━━━━━┳━━━━━━━━━━━━━━┳━━━━┳━━━━━━━━┳━━━━━━━━━━━━━━━━━┓\n",
       "┃<span style=\"font-weight: bold\"> ID </span>┃<span style=\"font-weight: bold\"> INTERFACE </span>┃<span style=\"font-weight: bold\"> MAC               </span>┃<span style=\"font-weight: bold\"> IS CONNECTED </span>┃<span style=\"font-weight: bold\"> IP </span>┃<span style=\"font-weight: bold\"> SUBNET </span>┃<span style=\"font-weight: bold\"> DEFAULT GATEWAY </span>┃\n",
       "┡━━━━╇━━━━━━━━━━━╇━━━━━━━━━━━━━━━━━━━╇━━━━━━━━━━━━━━╇━━━━╇━━━━━━━━╇━━━━━━━━━━━━━━━━━┩\n",
       "│ 1  │ eth0      │ 04:d4:c4:e0:63:54 │ False        │ NA │ NA     │ NA              │\n",
       "└────┴───────────┴───────────────────┴──────────────┴────┴────────┴─────────────────┘\n",
       "</pre>\n"
      ],
      "text/plain": [
       "┏━━━━┳━━━━━━━━━━━┳━━━━━━━━━━━━━━━━━━━┳━━━━━━━━━━━━━━┳━━━━┳━━━━━━━━┳━━━━━━━━━━━━━━━━━┓\n",
       "┃\u001b[1m \u001b[0m\u001b[1mID\u001b[0m\u001b[1m \u001b[0m┃\u001b[1m \u001b[0m\u001b[1mINTERFACE\u001b[0m\u001b[1m \u001b[0m┃\u001b[1m \u001b[0m\u001b[1mMAC              \u001b[0m\u001b[1m \u001b[0m┃\u001b[1m \u001b[0m\u001b[1mIS CONNECTED\u001b[0m\u001b[1m \u001b[0m┃\u001b[1m \u001b[0m\u001b[1mIP\u001b[0m\u001b[1m \u001b[0m┃\u001b[1m \u001b[0m\u001b[1mSUBNET\u001b[0m\u001b[1m \u001b[0m┃\u001b[1m \u001b[0m\u001b[1mDEFAULT GATEWAY\u001b[0m\u001b[1m \u001b[0m┃\n",
       "┡━━━━╇━━━━━━━━━━━╇━━━━━━━━━━━━━━━━━━━╇━━━━━━━━━━━━━━╇━━━━╇━━━━━━━━╇━━━━━━━━━━━━━━━━━┩\n",
       "│ 1  │ eth0      │ 04:d4:c4:e0:63:54 │ False        │ NA │ NA     │ NA              │\n",
       "└────┴───────────┴───────────────────┴──────────────┴────┴────────┴─────────────────┘\n"
      ]
     },
     "metadata": {},
     "output_type": "display_data"
    },
    {
     "data": {
      "text/html": [
       "<pre style=\"white-space:pre;overflow-x:auto;line-height:normal;font-family:Menlo,'DejaVu Sans Mono',consolas,'Courier New',monospace\">┏━━━━┳━━━━━━━━━━━┳━━━━━━━━━━━━━━━━━━━┳━━━━━━━━━━━━━━┳━━━━┳━━━━━━━━┳━━━━━━━━━━━━━━━━━┓\n",
       "┃<span style=\"font-weight: bold\"> ID </span>┃<span style=\"font-weight: bold\"> INTERFACE </span>┃<span style=\"font-weight: bold\"> MAC               </span>┃<span style=\"font-weight: bold\"> IS CONNECTED </span>┃<span style=\"font-weight: bold\"> IP </span>┃<span style=\"font-weight: bold\"> SUBNET </span>┃<span style=\"font-weight: bold\"> DEFAULT GATEWAY </span>┃\n",
       "┡━━━━╇━━━━━━━━━━━╇━━━━━━━━━━━━━━━━━━━╇━━━━━━━━━━━━━━╇━━━━╇━━━━━━━━╇━━━━━━━━━━━━━━━━━┩\n",
       "│ 1  │ eth0      │ 04:d4:c4:e0:63:54 │ False        │ NA │ NA     │ NA              │\n",
       "└────┴───────────┴───────────────────┴──────────────┴────┴────────┴─────────────────┘\n",
       "</pre>\n"
      ],
      "text/plain": [
       "┏━━━━┳━━━━━━━━━━━┳━━━━━━━━━━━━━━━━━━━┳━━━━━━━━━━━━━━┳━━━━┳━━━━━━━━┳━━━━━━━━━━━━━━━━━┓\n",
       "┃\u001b[1m \u001b[0m\u001b[1mID\u001b[0m\u001b[1m \u001b[0m┃\u001b[1m \u001b[0m\u001b[1mINTERFACE\u001b[0m\u001b[1m \u001b[0m┃\u001b[1m \u001b[0m\u001b[1mMAC              \u001b[0m\u001b[1m \u001b[0m┃\u001b[1m \u001b[0m\u001b[1mIS CONNECTED\u001b[0m\u001b[1m \u001b[0m┃\u001b[1m \u001b[0m\u001b[1mIP\u001b[0m\u001b[1m \u001b[0m┃\u001b[1m \u001b[0m\u001b[1mSUBNET\u001b[0m\u001b[1m \u001b[0m┃\u001b[1m \u001b[0m\u001b[1mDEFAULT GATEWAY\u001b[0m\u001b[1m \u001b[0m┃\n",
       "┡━━━━╇━━━━━━━━━━━╇━━━━━━━━━━━━━━━━━━━╇━━━━━━━━━━━━━━╇━━━━╇━━━━━━━━╇━━━━━━━━━━━━━━━━━┩\n",
       "│ 1  │ eth0      │ 04:d4:c4:e0:63:54 │ False        │ NA │ NA     │ NA              │\n",
       "└────┴───────────┴───────────────────┴──────────────┴────┴────────┴─────────────────┘\n"
      ]
     },
     "metadata": {},
     "output_type": "display_data"
    },
    {
     "data": {
      "text/html": [
       "<pre style=\"white-space:pre;overflow-x:auto;line-height:normal;font-family:Menlo,'DejaVu Sans Mono',consolas,'Courier New',monospace\">┏━━━━┳━━━━━━━━━━━┳━━━━━━━━━━━━━━━━━━━┳━━━━━━━━━━━━━━┳━━━━┳━━━━━━━━┳━━━━━━━━━━━━━━━━━┓\n",
       "┃<span style=\"font-weight: bold\"> ID </span>┃<span style=\"font-weight: bold\"> INTERFACE </span>┃<span style=\"font-weight: bold\"> MAC               </span>┃<span style=\"font-weight: bold\"> IS CONNECTED </span>┃<span style=\"font-weight: bold\"> IP </span>┃<span style=\"font-weight: bold\"> SUBNET </span>┃<span style=\"font-weight: bold\"> DEFAULT GATEWAY </span>┃\n",
       "┡━━━━╇━━━━━━━━━━━╇━━━━━━━━━━━━━━━━━━━╇━━━━━━━━━━━━━━╇━━━━╇━━━━━━━━╇━━━━━━━━━━━━━━━━━┩\n",
       "│ 1  │ eth0      │ 04:d4:c4:e0:63:54 │ False        │ NA │ NA     │ NA              │\n",
       "└────┴───────────┴───────────────────┴──────────────┴────┴────────┴─────────────────┘\n",
       "</pre>\n"
      ],
      "text/plain": [
       "┏━━━━┳━━━━━━━━━━━┳━━━━━━━━━━━━━━━━━━━┳━━━━━━━━━━━━━━┳━━━━┳━━━━━━━━┳━━━━━━━━━━━━━━━━━┓\n",
       "┃\u001b[1m \u001b[0m\u001b[1mID\u001b[0m\u001b[1m \u001b[0m┃\u001b[1m \u001b[0m\u001b[1mINTERFACE\u001b[0m\u001b[1m \u001b[0m┃\u001b[1m \u001b[0m\u001b[1mMAC              \u001b[0m\u001b[1m \u001b[0m┃\u001b[1m \u001b[0m\u001b[1mIS CONNECTED\u001b[0m\u001b[1m \u001b[0m┃\u001b[1m \u001b[0m\u001b[1mIP\u001b[0m\u001b[1m \u001b[0m┃\u001b[1m \u001b[0m\u001b[1mSUBNET\u001b[0m\u001b[1m \u001b[0m┃\u001b[1m \u001b[0m\u001b[1mDEFAULT GATEWAY\u001b[0m\u001b[1m \u001b[0m┃\n",
       "┡━━━━╇━━━━━━━━━━━╇━━━━━━━━━━━━━━━━━━━╇━━━━━━━━━━━━━━╇━━━━╇━━━━━━━━╇━━━━━━━━━━━━━━━━━┩\n",
       "│ 1  │ eth0      │ 04:d4:c4:e0:63:54 │ False        │ NA │ NA     │ NA              │\n",
       "└────┴───────────┴───────────────────┴──────────────┴────┴────────┴─────────────────┘\n"
      ]
     },
     "metadata": {},
     "output_type": "display_data"
    },
    {
     "data": {
      "text/html": [
       "<pre style=\"white-space:pre;overflow-x:auto;line-height:normal;font-family:Menlo,'DejaVu Sans Mono',consolas,'Courier New',monospace\">┏━━━━┳━━━━━━━━━━━┳━━━━━━━━━━━━━━━━━━━┳━━━━━━━━━━━━━━┳━━━━┳━━━━━━━━┳━━━━━━━━━━━━━━━━━┓\n",
       "┃<span style=\"font-weight: bold\"> ID </span>┃<span style=\"font-weight: bold\"> INTERFACE </span>┃<span style=\"font-weight: bold\"> MAC               </span>┃<span style=\"font-weight: bold\"> IS CONNECTED </span>┃<span style=\"font-weight: bold\"> IP </span>┃<span style=\"font-weight: bold\"> SUBNET </span>┃<span style=\"font-weight: bold\"> DEFAULT GATEWAY </span>┃\n",
       "┡━━━━╇━━━━━━━━━━━╇━━━━━━━━━━━━━━━━━━━╇━━━━━━━━━━━━━━╇━━━━╇━━━━━━━━╇━━━━━━━━━━━━━━━━━┩\n",
       "│ 1  │ eth0      │ 04:d4:c4:e0:63:54 │ False        │ NA │ NA     │ NA              │\n",
       "└────┴───────────┴───────────────────┴──────────────┴────┴────────┴─────────────────┘\n",
       "</pre>\n"
      ],
      "text/plain": [
       "┏━━━━┳━━━━━━━━━━━┳━━━━━━━━━━━━━━━━━━━┳━━━━━━━━━━━━━━┳━━━━┳━━━━━━━━┳━━━━━━━━━━━━━━━━━┓\n",
       "┃\u001b[1m \u001b[0m\u001b[1mID\u001b[0m\u001b[1m \u001b[0m┃\u001b[1m \u001b[0m\u001b[1mINTERFACE\u001b[0m\u001b[1m \u001b[0m┃\u001b[1m \u001b[0m\u001b[1mMAC              \u001b[0m\u001b[1m \u001b[0m┃\u001b[1m \u001b[0m\u001b[1mIS CONNECTED\u001b[0m\u001b[1m \u001b[0m┃\u001b[1m \u001b[0m\u001b[1mIP\u001b[0m\u001b[1m \u001b[0m┃\u001b[1m \u001b[0m\u001b[1mSUBNET\u001b[0m\u001b[1m \u001b[0m┃\u001b[1m \u001b[0m\u001b[1mDEFAULT GATEWAY\u001b[0m\u001b[1m \u001b[0m┃\n",
       "┡━━━━╇━━━━━━━━━━━╇━━━━━━━━━━━━━━━━━━━╇━━━━━━━━━━━━━━╇━━━━╇━━━━━━━━╇━━━━━━━━━━━━━━━━━┩\n",
       "│ 1  │ eth0      │ 04:d4:c4:e0:63:54 │ False        │ NA │ NA     │ NA              │\n",
       "└────┴───────────┴───────────────────┴──────────────┴────┴────────┴─────────────────┘\n"
      ]
     },
     "metadata": {},
     "output_type": "display_data"
    },
    {
     "data": {
      "text/html": [
       "<pre style=\"white-space:pre;overflow-x:auto;line-height:normal;font-family:Menlo,'DejaVu Sans Mono',consolas,'Courier New',monospace\">┏━━━━┳━━━━━━━━━━━┳━━━━━━━━━━━━━━━━━━━┳━━━━━━━━━━━━━━┳━━━━┳━━━━━━━━┳━━━━━━━━━━━━━━━━━┓\n",
       "┃<span style=\"font-weight: bold\"> ID </span>┃<span style=\"font-weight: bold\"> INTERFACE </span>┃<span style=\"font-weight: bold\"> MAC               </span>┃<span style=\"font-weight: bold\"> IS CONNECTED </span>┃<span style=\"font-weight: bold\"> IP </span>┃<span style=\"font-weight: bold\"> SUBNET </span>┃<span style=\"font-weight: bold\"> DEFAULT GATEWAY </span>┃\n",
       "┡━━━━╇━━━━━━━━━━━╇━━━━━━━━━━━━━━━━━━━╇━━━━━━━━━━━━━━╇━━━━╇━━━━━━━━╇━━━━━━━━━━━━━━━━━┩\n",
       "│ 1  │ eth0      │ 04:d4:c4:e0:63:54 │ False        │ NA │ NA     │ NA              │\n",
       "└────┴───────────┴───────────────────┴──────────────┴────┴────────┴─────────────────┘\n",
       "</pre>\n"
      ],
      "text/plain": [
       "┏━━━━┳━━━━━━━━━━━┳━━━━━━━━━━━━━━━━━━━┳━━━━━━━━━━━━━━┳━━━━┳━━━━━━━━┳━━━━━━━━━━━━━━━━━┓\n",
       "┃\u001b[1m \u001b[0m\u001b[1mID\u001b[0m\u001b[1m \u001b[0m┃\u001b[1m \u001b[0m\u001b[1mINTERFACE\u001b[0m\u001b[1m \u001b[0m┃\u001b[1m \u001b[0m\u001b[1mMAC              \u001b[0m\u001b[1m \u001b[0m┃\u001b[1m \u001b[0m\u001b[1mIS CONNECTED\u001b[0m\u001b[1m \u001b[0m┃\u001b[1m \u001b[0m\u001b[1mIP\u001b[0m\u001b[1m \u001b[0m┃\u001b[1m \u001b[0m\u001b[1mSUBNET\u001b[0m\u001b[1m \u001b[0m┃\u001b[1m \u001b[0m\u001b[1mDEFAULT GATEWAY\u001b[0m\u001b[1m \u001b[0m┃\n",
       "┡━━━━╇━━━━━━━━━━━╇━━━━━━━━━━━━━━━━━━━╇━━━━━━━━━━━━━━╇━━━━╇━━━━━━━━╇━━━━━━━━━━━━━━━━━┩\n",
       "│ 1  │ eth0      │ 04:d4:c4:e0:63:54 │ False        │ NA │ NA     │ NA              │\n",
       "└────┴───────────┴───────────────────┴──────────────┴────┴────────┴─────────────────┘\n"
      ]
     },
     "metadata": {},
     "output_type": "display_data"
    },
    {
     "data": {
      "text/html": [
       "<pre style=\"white-space:pre;overflow-x:auto;line-height:normal;font-family:Menlo,'DejaVu Sans Mono',consolas,'Courier New',monospace\">┏━━━━┳━━━━━━━━━━━┳━━━━━━━━━━━━━━━━━━━┳━━━━━━━━━━━━━━┳━━━━┳━━━━━━━━┳━━━━━━━━━━━━━━━━━┓\n",
       "┃<span style=\"font-weight: bold\"> ID </span>┃<span style=\"font-weight: bold\"> INTERFACE </span>┃<span style=\"font-weight: bold\"> MAC               </span>┃<span style=\"font-weight: bold\"> IS CONNECTED </span>┃<span style=\"font-weight: bold\"> IP </span>┃<span style=\"font-weight: bold\"> SUBNET </span>┃<span style=\"font-weight: bold\"> DEFAULT GATEWAY </span>┃\n",
       "┡━━━━╇━━━━━━━━━━━╇━━━━━━━━━━━━━━━━━━━╇━━━━━━━━━━━━━━╇━━━━╇━━━━━━━━╇━━━━━━━━━━━━━━━━━┩\n",
       "│ 1  │ eth0      │ 04:d4:c4:e0:63:54 │ False        │ NA │ NA     │ NA              │\n",
       "└────┴───────────┴───────────────────┴──────────────┴────┴────────┴─────────────────┘\n",
       "</pre>\n"
      ],
      "text/plain": [
       "┏━━━━┳━━━━━━━━━━━┳━━━━━━━━━━━━━━━━━━━┳━━━━━━━━━━━━━━┳━━━━┳━━━━━━━━┳━━━━━━━━━━━━━━━━━┓\n",
       "┃\u001b[1m \u001b[0m\u001b[1mID\u001b[0m\u001b[1m \u001b[0m┃\u001b[1m \u001b[0m\u001b[1mINTERFACE\u001b[0m\u001b[1m \u001b[0m┃\u001b[1m \u001b[0m\u001b[1mMAC              \u001b[0m\u001b[1m \u001b[0m┃\u001b[1m \u001b[0m\u001b[1mIS CONNECTED\u001b[0m\u001b[1m \u001b[0m┃\u001b[1m \u001b[0m\u001b[1mIP\u001b[0m\u001b[1m \u001b[0m┃\u001b[1m \u001b[0m\u001b[1mSUBNET\u001b[0m\u001b[1m \u001b[0m┃\u001b[1m \u001b[0m\u001b[1mDEFAULT GATEWAY\u001b[0m\u001b[1m \u001b[0m┃\n",
       "┡━━━━╇━━━━━━━━━━━╇━━━━━━━━━━━━━━━━━━━╇━━━━━━━━━━━━━━╇━━━━╇━━━━━━━━╇━━━━━━━━━━━━━━━━━┩\n",
       "│ 1  │ eth0      │ 04:d4:c4:e0:63:54 │ False        │ NA │ NA     │ NA              │\n",
       "└────┴───────────┴───────────────────┴──────────────┴────┴────────┴─────────────────┘\n"
      ]
     },
     "metadata": {},
     "output_type": "display_data"
    },
    {
     "data": {
      "text/html": [
       "<pre style=\"white-space:pre;overflow-x:auto;line-height:normal;font-family:Menlo,'DejaVu Sans Mono',consolas,'Courier New',monospace\">┏━━━━┳━━━━━━━━━━━┳━━━━━━━━━━━━━━━━━━━┳━━━━━━━━━━━━━━┳━━━━┳━━━━━━━━┳━━━━━━━━━━━━━━━━━┓\n",
       "┃<span style=\"font-weight: bold\"> ID </span>┃<span style=\"font-weight: bold\"> INTERFACE </span>┃<span style=\"font-weight: bold\"> MAC               </span>┃<span style=\"font-weight: bold\"> IS CONNECTED </span>┃<span style=\"font-weight: bold\"> IP </span>┃<span style=\"font-weight: bold\"> SUBNET </span>┃<span style=\"font-weight: bold\"> DEFAULT GATEWAY </span>┃\n",
       "┡━━━━╇━━━━━━━━━━━╇━━━━━━━━━━━━━━━━━━━╇━━━━━━━━━━━━━━╇━━━━╇━━━━━━━━╇━━━━━━━━━━━━━━━━━┩\n",
       "│ 1  │ eth0      │ 04:d4:c4:e0:63:54 │ False        │ NA │ NA     │ NA              │\n",
       "└────┴───────────┴───────────────────┴──────────────┴────┴────────┴─────────────────┘\n",
       "</pre>\n"
      ],
      "text/plain": [
       "┏━━━━┳━━━━━━━━━━━┳━━━━━━━━━━━━━━━━━━━┳━━━━━━━━━━━━━━┳━━━━┳━━━━━━━━┳━━━━━━━━━━━━━━━━━┓\n",
       "┃\u001b[1m \u001b[0m\u001b[1mID\u001b[0m\u001b[1m \u001b[0m┃\u001b[1m \u001b[0m\u001b[1mINTERFACE\u001b[0m\u001b[1m \u001b[0m┃\u001b[1m \u001b[0m\u001b[1mMAC              \u001b[0m\u001b[1m \u001b[0m┃\u001b[1m \u001b[0m\u001b[1mIS CONNECTED\u001b[0m\u001b[1m \u001b[0m┃\u001b[1m \u001b[0m\u001b[1mIP\u001b[0m\u001b[1m \u001b[0m┃\u001b[1m \u001b[0m\u001b[1mSUBNET\u001b[0m\u001b[1m \u001b[0m┃\u001b[1m \u001b[0m\u001b[1mDEFAULT GATEWAY\u001b[0m\u001b[1m \u001b[0m┃\n",
       "┡━━━━╇━━━━━━━━━━━╇━━━━━━━━━━━━━━━━━━━╇━━━━━━━━━━━━━━╇━━━━╇━━━━━━━━╇━━━━━━━━━━━━━━━━━┩\n",
       "│ 1  │ eth0      │ 04:d4:c4:e0:63:54 │ False        │ NA │ NA     │ NA              │\n",
       "└────┴───────────┴───────────────────┴──────────────┴────┴────────┴─────────────────┘\n"
      ]
     },
     "metadata": {},
     "output_type": "display_data"
    },
    {
     "data": {
      "text/html": [
       "<pre style=\"white-space:pre;overflow-x:auto;line-height:normal;font-family:Menlo,'DejaVu Sans Mono',consolas,'Courier New',monospace\">┏━━━━┳━━━━━━━━━━━┳━━━━━━━━━━━━━━━━━━━┳━━━━━━━━━━━━━━┳━━━━┳━━━━━━━━┳━━━━━━━━━━━━━━━━━┓\n",
       "┃<span style=\"font-weight: bold\"> ID </span>┃<span style=\"font-weight: bold\"> INTERFACE </span>┃<span style=\"font-weight: bold\"> MAC               </span>┃<span style=\"font-weight: bold\"> IS CONNECTED </span>┃<span style=\"font-weight: bold\"> IP </span>┃<span style=\"font-weight: bold\"> SUBNET </span>┃<span style=\"font-weight: bold\"> DEFAULT GATEWAY </span>┃\n",
       "┡━━━━╇━━━━━━━━━━━╇━━━━━━━━━━━━━━━━━━━╇━━━━━━━━━━━━━━╇━━━━╇━━━━━━━━╇━━━━━━━━━━━━━━━━━┩\n",
       "│ 1  │ eth0      │ 04:d4:c4:e0:63:54 │ False        │ NA │ NA     │ NA              │\n",
       "└────┴───────────┴───────────────────┴──────────────┴────┴────────┴─────────────────┘\n",
       "</pre>\n"
      ],
      "text/plain": [
       "┏━━━━┳━━━━━━━━━━━┳━━━━━━━━━━━━━━━━━━━┳━━━━━━━━━━━━━━┳━━━━┳━━━━━━━━┳━━━━━━━━━━━━━━━━━┓\n",
       "┃\u001b[1m \u001b[0m\u001b[1mID\u001b[0m\u001b[1m \u001b[0m┃\u001b[1m \u001b[0m\u001b[1mINTERFACE\u001b[0m\u001b[1m \u001b[0m┃\u001b[1m \u001b[0m\u001b[1mMAC              \u001b[0m\u001b[1m \u001b[0m┃\u001b[1m \u001b[0m\u001b[1mIS CONNECTED\u001b[0m\u001b[1m \u001b[0m┃\u001b[1m \u001b[0m\u001b[1mIP\u001b[0m\u001b[1m \u001b[0m┃\u001b[1m \u001b[0m\u001b[1mSUBNET\u001b[0m\u001b[1m \u001b[0m┃\u001b[1m \u001b[0m\u001b[1mDEFAULT GATEWAY\u001b[0m\u001b[1m \u001b[0m┃\n",
       "┡━━━━╇━━━━━━━━━━━╇━━━━━━━━━━━━━━━━━━━╇━━━━━━━━━━━━━━╇━━━━╇━━━━━━━━╇━━━━━━━━━━━━━━━━━┩\n",
       "│ 1  │ eth0      │ 04:d4:c4:e0:63:54 │ False        │ NA │ NA     │ NA              │\n",
       "└────┴───────────┴───────────────────┴──────────────┴────┴────────┴─────────────────┘\n"
      ]
     },
     "metadata": {},
     "output_type": "display_data"
    },
    {
     "data": {
      "text/html": [
       "<pre style=\"white-space:pre;overflow-x:auto;line-height:normal;font-family:Menlo,'DejaVu Sans Mono',consolas,'Courier New',monospace\">┏━━━━┳━━━━━━━━━━━┳━━━━━━━━━━━━━━━━━━━┳━━━━━━━━━━━━━━┳━━━━┳━━━━━━━━┳━━━━━━━━━━━━━━━━━┓\n",
       "┃<span style=\"font-weight: bold\"> ID </span>┃<span style=\"font-weight: bold\"> INTERFACE </span>┃<span style=\"font-weight: bold\"> MAC               </span>┃<span style=\"font-weight: bold\"> IS CONNECTED </span>┃<span style=\"font-weight: bold\"> IP </span>┃<span style=\"font-weight: bold\"> SUBNET </span>┃<span style=\"font-weight: bold\"> DEFAULT GATEWAY </span>┃\n",
       "┡━━━━╇━━━━━━━━━━━╇━━━━━━━━━━━━━━━━━━━╇━━━━━━━━━━━━━━╇━━━━╇━━━━━━━━╇━━━━━━━━━━━━━━━━━┩\n",
       "│ 1  │ eth0      │ 04:d4:c4:e0:63:54 │ False        │ NA │ NA     │ NA              │\n",
       "└────┴───────────┴───────────────────┴──────────────┴────┴────────┴─────────────────┘\n",
       "</pre>\n"
      ],
      "text/plain": [
       "┏━━━━┳━━━━━━━━━━━┳━━━━━━━━━━━━━━━━━━━┳━━━━━━━━━━━━━━┳━━━━┳━━━━━━━━┳━━━━━━━━━━━━━━━━━┓\n",
       "┃\u001b[1m \u001b[0m\u001b[1mID\u001b[0m\u001b[1m \u001b[0m┃\u001b[1m \u001b[0m\u001b[1mINTERFACE\u001b[0m\u001b[1m \u001b[0m┃\u001b[1m \u001b[0m\u001b[1mMAC              \u001b[0m\u001b[1m \u001b[0m┃\u001b[1m \u001b[0m\u001b[1mIS CONNECTED\u001b[0m\u001b[1m \u001b[0m┃\u001b[1m \u001b[0m\u001b[1mIP\u001b[0m\u001b[1m \u001b[0m┃\u001b[1m \u001b[0m\u001b[1mSUBNET\u001b[0m\u001b[1m \u001b[0m┃\u001b[1m \u001b[0m\u001b[1mDEFAULT GATEWAY\u001b[0m\u001b[1m \u001b[0m┃\n",
       "┡━━━━╇━━━━━━━━━━━╇━━━━━━━━━━━━━━━━━━━╇━━━━━━━━━━━━━━╇━━━━╇━━━━━━━━╇━━━━━━━━━━━━━━━━━┩\n",
       "│ 1  │ eth0      │ 04:d4:c4:e0:63:54 │ False        │ NA │ NA     │ NA              │\n",
       "└────┴───────────┴───────────────────┴──────────────┴────┴────────┴─────────────────┘\n"
      ]
     },
     "metadata": {},
     "output_type": "display_data"
    },
    {
     "data": {
      "text/html": [
       "<pre style=\"white-space:pre;overflow-x:auto;line-height:normal;font-family:Menlo,'DejaVu Sans Mono',consolas,'Courier New',monospace\">┏━━━━┳━━━━━━━━━━━┳━━━━━━━━━━━━━━━━━━━┳━━━━━━━━━━━━━━┳━━━━┳━━━━━━━━┳━━━━━━━━━━━━━━━━━┓\n",
       "┃<span style=\"font-weight: bold\"> ID </span>┃<span style=\"font-weight: bold\"> INTERFACE </span>┃<span style=\"font-weight: bold\"> MAC               </span>┃<span style=\"font-weight: bold\"> IS CONNECTED </span>┃<span style=\"font-weight: bold\"> IP </span>┃<span style=\"font-weight: bold\"> SUBNET </span>┃<span style=\"font-weight: bold\"> DEFAULT GATEWAY </span>┃\n",
       "┡━━━━╇━━━━━━━━━━━╇━━━━━━━━━━━━━━━━━━━╇━━━━━━━━━━━━━━╇━━━━╇━━━━━━━━╇━━━━━━━━━━━━━━━━━┩\n",
       "│ 1  │ eth0      │ 04:d4:c4:e0:63:54 │ False        │ NA │ NA     │ NA              │\n",
       "└────┴───────────┴───────────────────┴──────────────┴────┴────────┴─────────────────┘\n",
       "</pre>\n"
      ],
      "text/plain": [
       "┏━━━━┳━━━━━━━━━━━┳━━━━━━━━━━━━━━━━━━━┳━━━━━━━━━━━━━━┳━━━━┳━━━━━━━━┳━━━━━━━━━━━━━━━━━┓\n",
       "┃\u001b[1m \u001b[0m\u001b[1mID\u001b[0m\u001b[1m \u001b[0m┃\u001b[1m \u001b[0m\u001b[1mINTERFACE\u001b[0m\u001b[1m \u001b[0m┃\u001b[1m \u001b[0m\u001b[1mMAC              \u001b[0m\u001b[1m \u001b[0m┃\u001b[1m \u001b[0m\u001b[1mIS CONNECTED\u001b[0m\u001b[1m \u001b[0m┃\u001b[1m \u001b[0m\u001b[1mIP\u001b[0m\u001b[1m \u001b[0m┃\u001b[1m \u001b[0m\u001b[1mSUBNET\u001b[0m\u001b[1m \u001b[0m┃\u001b[1m \u001b[0m\u001b[1mDEFAULT GATEWAY\u001b[0m\u001b[1m \u001b[0m┃\n",
       "┡━━━━╇━━━━━━━━━━━╇━━━━━━━━━━━━━━━━━━━╇━━━━━━━━━━━━━━╇━━━━╇━━━━━━━━╇━━━━━━━━━━━━━━━━━┩\n",
       "│ 1  │ eth0      │ 04:d4:c4:e0:63:54 │ False        │ NA │ NA     │ NA              │\n",
       "└────┴───────────┴───────────────────┴──────────────┴────┴────────┴─────────────────┘\n"
      ]
     },
     "metadata": {},
     "output_type": "display_data"
    },
    {
     "data": {
      "text/html": [
       "<pre style=\"white-space:pre;overflow-x:auto;line-height:normal;font-family:Menlo,'DejaVu Sans Mono',consolas,'Courier New',monospace\">┏━━━━┳━━━━━━━━━━━┳━━━━━━━━━━━━━━━━━━━┳━━━━━━━━━━━━━━┳━━━━┳━━━━━━━━┳━━━━━━━━━━━━━━━━━┓\n",
       "┃<span style=\"font-weight: bold\"> ID </span>┃<span style=\"font-weight: bold\"> INTERFACE </span>┃<span style=\"font-weight: bold\"> MAC               </span>┃<span style=\"font-weight: bold\"> IS CONNECTED </span>┃<span style=\"font-weight: bold\"> IP </span>┃<span style=\"font-weight: bold\"> SUBNET </span>┃<span style=\"font-weight: bold\"> DEFAULT GATEWAY </span>┃\n",
       "┡━━━━╇━━━━━━━━━━━╇━━━━━━━━━━━━━━━━━━━╇━━━━━━━━━━━━━━╇━━━━╇━━━━━━━━╇━━━━━━━━━━━━━━━━━┩\n",
       "│ 1  │ eth0      │ 04:d4:c4:e0:63:54 │ False        │ NA │ NA     │ NA              │\n",
       "└────┴───────────┴───────────────────┴──────────────┴────┴────────┴─────────────────┘\n",
       "</pre>\n"
      ],
      "text/plain": [
       "┏━━━━┳━━━━━━━━━━━┳━━━━━━━━━━━━━━━━━━━┳━━━━━━━━━━━━━━┳━━━━┳━━━━━━━━┳━━━━━━━━━━━━━━━━━┓\n",
       "┃\u001b[1m \u001b[0m\u001b[1mID\u001b[0m\u001b[1m \u001b[0m┃\u001b[1m \u001b[0m\u001b[1mINTERFACE\u001b[0m\u001b[1m \u001b[0m┃\u001b[1m \u001b[0m\u001b[1mMAC              \u001b[0m\u001b[1m \u001b[0m┃\u001b[1m \u001b[0m\u001b[1mIS CONNECTED\u001b[0m\u001b[1m \u001b[0m┃\u001b[1m \u001b[0m\u001b[1mIP\u001b[0m\u001b[1m \u001b[0m┃\u001b[1m \u001b[0m\u001b[1mSUBNET\u001b[0m\u001b[1m \u001b[0m┃\u001b[1m \u001b[0m\u001b[1mDEFAULT GATEWAY\u001b[0m\u001b[1m \u001b[0m┃\n",
       "┡━━━━╇━━━━━━━━━━━╇━━━━━━━━━━━━━━━━━━━╇━━━━━━━━━━━━━━╇━━━━╇━━━━━━━━╇━━━━━━━━━━━━━━━━━┩\n",
       "│ 1  │ eth0      │ 04:d4:c4:e0:63:54 │ False        │ NA │ NA     │ NA              │\n",
       "└────┴───────────┴───────────────────┴──────────────┴────┴────────┴─────────────────┘\n"
      ]
     },
     "metadata": {},
     "output_type": "display_data"
    },
    {
     "data": {
      "text/html": [
       "<pre style=\"white-space:pre;overflow-x:auto;line-height:normal;font-family:Menlo,'DejaVu Sans Mono',consolas,'Courier New',monospace\">┏━━━━┳━━━━━━━━━━━┳━━━━━━━━━━━━━━━━━━━┳━━━━━━━━━━━━━━┳━━━━┳━━━━━━━━┳━━━━━━━━━━━━━━━━━┓\n",
       "┃<span style=\"font-weight: bold\"> ID </span>┃<span style=\"font-weight: bold\"> INTERFACE </span>┃<span style=\"font-weight: bold\"> MAC               </span>┃<span style=\"font-weight: bold\"> IS CONNECTED </span>┃<span style=\"font-weight: bold\"> IP </span>┃<span style=\"font-weight: bold\"> SUBNET </span>┃<span style=\"font-weight: bold\"> DEFAULT GATEWAY </span>┃\n",
       "┡━━━━╇━━━━━━━━━━━╇━━━━━━━━━━━━━━━━━━━╇━━━━━━━━━━━━━━╇━━━━╇━━━━━━━━╇━━━━━━━━━━━━━━━━━┩\n",
       "│ 1  │ eth0      │ 04:d4:c4:e0:63:54 │ False        │ NA │ NA     │ NA              │\n",
       "└────┴───────────┴───────────────────┴──────────────┴────┴────────┴─────────────────┘\n",
       "</pre>\n"
      ],
      "text/plain": [
       "┏━━━━┳━━━━━━━━━━━┳━━━━━━━━━━━━━━━━━━━┳━━━━━━━━━━━━━━┳━━━━┳━━━━━━━━┳━━━━━━━━━━━━━━━━━┓\n",
       "┃\u001b[1m \u001b[0m\u001b[1mID\u001b[0m\u001b[1m \u001b[0m┃\u001b[1m \u001b[0m\u001b[1mINTERFACE\u001b[0m\u001b[1m \u001b[0m┃\u001b[1m \u001b[0m\u001b[1mMAC              \u001b[0m\u001b[1m \u001b[0m┃\u001b[1m \u001b[0m\u001b[1mIS CONNECTED\u001b[0m\u001b[1m \u001b[0m┃\u001b[1m \u001b[0m\u001b[1mIP\u001b[0m\u001b[1m \u001b[0m┃\u001b[1m \u001b[0m\u001b[1mSUBNET\u001b[0m\u001b[1m \u001b[0m┃\u001b[1m \u001b[0m\u001b[1mDEFAULT GATEWAY\u001b[0m\u001b[1m \u001b[0m┃\n",
       "┡━━━━╇━━━━━━━━━━━╇━━━━━━━━━━━━━━━━━━━╇━━━━━━━━━━━━━━╇━━━━╇━━━━━━━━╇━━━━━━━━━━━━━━━━━┩\n",
       "│ 1  │ eth0      │ 04:d4:c4:e0:63:54 │ False        │ NA │ NA     │ NA              │\n",
       "└────┴───────────┴───────────────────┴──────────────┴────┴────────┴─────────────────┘\n"
      ]
     },
     "metadata": {},
     "output_type": "display_data"
    },
    {
     "data": {
      "text/html": [
       "<pre style=\"white-space:pre;overflow-x:auto;line-height:normal;font-family:Menlo,'DejaVu Sans Mono',consolas,'Courier New',monospace\">┏━━━━┳━━━━━━━━━━━┳━━━━━━━━━━━━━━━━━━━┳━━━━━━━━━━━━━━┳━━━━┳━━━━━━━━┳━━━━━━━━━━━━━━━━━┓\n",
       "┃<span style=\"font-weight: bold\"> ID </span>┃<span style=\"font-weight: bold\"> INTERFACE </span>┃<span style=\"font-weight: bold\"> MAC               </span>┃<span style=\"font-weight: bold\"> IS CONNECTED </span>┃<span style=\"font-weight: bold\"> IP </span>┃<span style=\"font-weight: bold\"> SUBNET </span>┃<span style=\"font-weight: bold\"> DEFAULT GATEWAY </span>┃\n",
       "┡━━━━╇━━━━━━━━━━━╇━━━━━━━━━━━━━━━━━━━╇━━━━━━━━━━━━━━╇━━━━╇━━━━━━━━╇━━━━━━━━━━━━━━━━━┩\n",
       "│ 1  │ eth0      │ 04:d4:c4:e0:63:54 │ False        │ NA │ NA     │ NA              │\n",
       "└────┴───────────┴───────────────────┴──────────────┴────┴────────┴─────────────────┘\n",
       "</pre>\n"
      ],
      "text/plain": [
       "┏━━━━┳━━━━━━━━━━━┳━━━━━━━━━━━━━━━━━━━┳━━━━━━━━━━━━━━┳━━━━┳━━━━━━━━┳━━━━━━━━━━━━━━━━━┓\n",
       "┃\u001b[1m \u001b[0m\u001b[1mID\u001b[0m\u001b[1m \u001b[0m┃\u001b[1m \u001b[0m\u001b[1mINTERFACE\u001b[0m\u001b[1m \u001b[0m┃\u001b[1m \u001b[0m\u001b[1mMAC              \u001b[0m\u001b[1m \u001b[0m┃\u001b[1m \u001b[0m\u001b[1mIS CONNECTED\u001b[0m\u001b[1m \u001b[0m┃\u001b[1m \u001b[0m\u001b[1mIP\u001b[0m\u001b[1m \u001b[0m┃\u001b[1m \u001b[0m\u001b[1mSUBNET\u001b[0m\u001b[1m \u001b[0m┃\u001b[1m \u001b[0m\u001b[1mDEFAULT GATEWAY\u001b[0m\u001b[1m \u001b[0m┃\n",
       "┡━━━━╇━━━━━━━━━━━╇━━━━━━━━━━━━━━━━━━━╇━━━━━━━━━━━━━━╇━━━━╇━━━━━━━━╇━━━━━━━━━━━━━━━━━┩\n",
       "│ 1  │ eth0      │ 04:d4:c4:e0:63:54 │ False        │ NA │ NA     │ NA              │\n",
       "└────┴───────────┴───────────────────┴──────────────┴────┴────────┴─────────────────┘\n"
      ]
     },
     "metadata": {},
     "output_type": "display_data"
    },
    {
     "data": {
      "text/html": [
       "<pre style=\"white-space:pre;overflow-x:auto;line-height:normal;font-family:Menlo,'DejaVu Sans Mono',consolas,'Courier New',monospace\">┏━━━━┳━━━━━━━━━━━┳━━━━━━━━━━━━━━━━━━━┳━━━━━━━━━━━━━━┳━━━━┳━━━━━━━━┳━━━━━━━━━━━━━━━━━┓\n",
       "┃<span style=\"font-weight: bold\"> ID </span>┃<span style=\"font-weight: bold\"> INTERFACE </span>┃<span style=\"font-weight: bold\"> MAC               </span>┃<span style=\"font-weight: bold\"> IS CONNECTED </span>┃<span style=\"font-weight: bold\"> IP </span>┃<span style=\"font-weight: bold\"> SUBNET </span>┃<span style=\"font-weight: bold\"> DEFAULT GATEWAY </span>┃\n",
       "┡━━━━╇━━━━━━━━━━━╇━━━━━━━━━━━━━━━━━━━╇━━━━━━━━━━━━━━╇━━━━╇━━━━━━━━╇━━━━━━━━━━━━━━━━━┩\n",
       "│ 1  │ eth0      │ 04:d4:c4:e0:63:54 │ False        │ NA │ NA     │ NA              │\n",
       "└────┴───────────┴───────────────────┴──────────────┴────┴────────┴─────────────────┘\n",
       "</pre>\n"
      ],
      "text/plain": [
       "┏━━━━┳━━━━━━━━━━━┳━━━━━━━━━━━━━━━━━━━┳━━━━━━━━━━━━━━┳━━━━┳━━━━━━━━┳━━━━━━━━━━━━━━━━━┓\n",
       "┃\u001b[1m \u001b[0m\u001b[1mID\u001b[0m\u001b[1m \u001b[0m┃\u001b[1m \u001b[0m\u001b[1mINTERFACE\u001b[0m\u001b[1m \u001b[0m┃\u001b[1m \u001b[0m\u001b[1mMAC              \u001b[0m\u001b[1m \u001b[0m┃\u001b[1m \u001b[0m\u001b[1mIS CONNECTED\u001b[0m\u001b[1m \u001b[0m┃\u001b[1m \u001b[0m\u001b[1mIP\u001b[0m\u001b[1m \u001b[0m┃\u001b[1m \u001b[0m\u001b[1mSUBNET\u001b[0m\u001b[1m \u001b[0m┃\u001b[1m \u001b[0m\u001b[1mDEFAULT GATEWAY\u001b[0m\u001b[1m \u001b[0m┃\n",
       "┡━━━━╇━━━━━━━━━━━╇━━━━━━━━━━━━━━━━━━━╇━━━━━━━━━━━━━━╇━━━━╇━━━━━━━━╇━━━━━━━━━━━━━━━━━┩\n",
       "│ 1  │ eth0      │ 04:d4:c4:e0:63:54 │ False        │ NA │ NA     │ NA              │\n",
       "└────┴───────────┴───────────────────┴──────────────┴────┴────────┴─────────────────┘\n"
      ]
     },
     "metadata": {},
     "output_type": "display_data"
    },
    {
     "data": {
      "text/html": [
       "<pre style=\"white-space:pre;overflow-x:auto;line-height:normal;font-family:Menlo,'DejaVu Sans Mono',consolas,'Courier New',monospace\">┏━━━━┳━━━━━━━━━━━┳━━━━━━━━━━━━━━━━━━━┳━━━━━━━━━━━━━━┳━━━━┳━━━━━━━━┳━━━━━━━━━━━━━━━━━┓\n",
       "┃<span style=\"font-weight: bold\"> ID </span>┃<span style=\"font-weight: bold\"> INTERFACE </span>┃<span style=\"font-weight: bold\"> MAC               </span>┃<span style=\"font-weight: bold\"> IS CONNECTED </span>┃<span style=\"font-weight: bold\"> IP </span>┃<span style=\"font-weight: bold\"> SUBNET </span>┃<span style=\"font-weight: bold\"> DEFAULT GATEWAY </span>┃\n",
       "┡━━━━╇━━━━━━━━━━━╇━━━━━━━━━━━━━━━━━━━╇━━━━━━━━━━━━━━╇━━━━╇━━━━━━━━╇━━━━━━━━━━━━━━━━━┩\n",
       "│ 1  │ eth0      │ 04:d4:c4:e0:63:54 │ False        │ NA │ NA     │ NA              │\n",
       "└────┴───────────┴───────────────────┴──────────────┴────┴────────┴─────────────────┘\n",
       "</pre>\n"
      ],
      "text/plain": [
       "┏━━━━┳━━━━━━━━━━━┳━━━━━━━━━━━━━━━━━━━┳━━━━━━━━━━━━━━┳━━━━┳━━━━━━━━┳━━━━━━━━━━━━━━━━━┓\n",
       "┃\u001b[1m \u001b[0m\u001b[1mID\u001b[0m\u001b[1m \u001b[0m┃\u001b[1m \u001b[0m\u001b[1mINTERFACE\u001b[0m\u001b[1m \u001b[0m┃\u001b[1m \u001b[0m\u001b[1mMAC              \u001b[0m\u001b[1m \u001b[0m┃\u001b[1m \u001b[0m\u001b[1mIS CONNECTED\u001b[0m\u001b[1m \u001b[0m┃\u001b[1m \u001b[0m\u001b[1mIP\u001b[0m\u001b[1m \u001b[0m┃\u001b[1m \u001b[0m\u001b[1mSUBNET\u001b[0m\u001b[1m \u001b[0m┃\u001b[1m \u001b[0m\u001b[1mDEFAULT GATEWAY\u001b[0m\u001b[1m \u001b[0m┃\n",
       "┡━━━━╇━━━━━━━━━━━╇━━━━━━━━━━━━━━━━━━━╇━━━━━━━━━━━━━━╇━━━━╇━━━━━━━━╇━━━━━━━━━━━━━━━━━┩\n",
       "│ 1  │ eth0      │ 04:d4:c4:e0:63:54 │ False        │ NA │ NA     │ NA              │\n",
       "└────┴───────────┴───────────────────┴──────────────┴────┴────────┴─────────────────┘\n"
      ]
     },
     "metadata": {},
     "output_type": "display_data"
    },
    {
     "data": {
      "text/html": [
       "<pre style=\"white-space:pre;overflow-x:auto;line-height:normal;font-family:Menlo,'DejaVu Sans Mono',consolas,'Courier New',monospace\">┏━━━━┳━━━━━━━━━━━┳━━━━━━━━━━━━━━━━━━━┳━━━━━━━━━━━━━━┳━━━━┳━━━━━━━━┳━━━━━━━━━━━━━━━━━┓\n",
       "┃<span style=\"font-weight: bold\"> ID </span>┃<span style=\"font-weight: bold\"> INTERFACE </span>┃<span style=\"font-weight: bold\"> MAC               </span>┃<span style=\"font-weight: bold\"> IS CONNECTED </span>┃<span style=\"font-weight: bold\"> IP </span>┃<span style=\"font-weight: bold\"> SUBNET </span>┃<span style=\"font-weight: bold\"> DEFAULT GATEWAY </span>┃\n",
       "┡━━━━╇━━━━━━━━━━━╇━━━━━━━━━━━━━━━━━━━╇━━━━━━━━━━━━━━╇━━━━╇━━━━━━━━╇━━━━━━━━━━━━━━━━━┩\n",
       "│ 1  │ eth0      │ 04:d4:c4:e0:63:54 │ False        │ NA │ NA     │ NA              │\n",
       "└────┴───────────┴───────────────────┴──────────────┴────┴────────┴─────────────────┘\n",
       "</pre>\n"
      ],
      "text/plain": [
       "┏━━━━┳━━━━━━━━━━━┳━━━━━━━━━━━━━━━━━━━┳━━━━━━━━━━━━━━┳━━━━┳━━━━━━━━┳━━━━━━━━━━━━━━━━━┓\n",
       "┃\u001b[1m \u001b[0m\u001b[1mID\u001b[0m\u001b[1m \u001b[0m┃\u001b[1m \u001b[0m\u001b[1mINTERFACE\u001b[0m\u001b[1m \u001b[0m┃\u001b[1m \u001b[0m\u001b[1mMAC              \u001b[0m\u001b[1m \u001b[0m┃\u001b[1m \u001b[0m\u001b[1mIS CONNECTED\u001b[0m\u001b[1m \u001b[0m┃\u001b[1m \u001b[0m\u001b[1mIP\u001b[0m\u001b[1m \u001b[0m┃\u001b[1m \u001b[0m\u001b[1mSUBNET\u001b[0m\u001b[1m \u001b[0m┃\u001b[1m \u001b[0m\u001b[1mDEFAULT GATEWAY\u001b[0m\u001b[1m \u001b[0m┃\n",
       "┡━━━━╇━━━━━━━━━━━╇━━━━━━━━━━━━━━━━━━━╇━━━━━━━━━━━━━━╇━━━━╇━━━━━━━━╇━━━━━━━━━━━━━━━━━┩\n",
       "│ 1  │ eth0      │ 04:d4:c4:e0:63:54 │ False        │ NA │ NA     │ NA              │\n",
       "└────┴───────────┴───────────────────┴──────────────┴────┴────────┴─────────────────┘\n"
      ]
     },
     "metadata": {},
     "output_type": "display_data"
    },
    {
     "data": {
      "text/html": [
       "<pre style=\"white-space:pre;overflow-x:auto;line-height:normal;font-family:Menlo,'DejaVu Sans Mono',consolas,'Courier New',monospace\">┏━━━━┳━━━━━━━━━━━┳━━━━━━━━━━━━━━━━━━━┳━━━━━━━━━━━━━━┳━━━━┳━━━━━━━━┳━━━━━━━━━━━━━━━━━┓\n",
       "┃<span style=\"font-weight: bold\"> ID </span>┃<span style=\"font-weight: bold\"> INTERFACE </span>┃<span style=\"font-weight: bold\"> MAC               </span>┃<span style=\"font-weight: bold\"> IS CONNECTED </span>┃<span style=\"font-weight: bold\"> IP </span>┃<span style=\"font-weight: bold\"> SUBNET </span>┃<span style=\"font-weight: bold\"> DEFAULT GATEWAY </span>┃\n",
       "┡━━━━╇━━━━━━━━━━━╇━━━━━━━━━━━━━━━━━━━╇━━━━━━━━━━━━━━╇━━━━╇━━━━━━━━╇━━━━━━━━━━━━━━━━━┩\n",
       "│ 1  │ eth0      │ 04:d4:c4:e0:63:54 │ False        │ NA │ NA     │ NA              │\n",
       "└────┴───────────┴───────────────────┴──────────────┴────┴────────┴─────────────────┘\n",
       "</pre>\n"
      ],
      "text/plain": [
       "┏━━━━┳━━━━━━━━━━━┳━━━━━━━━━━━━━━━━━━━┳━━━━━━━━━━━━━━┳━━━━┳━━━━━━━━┳━━━━━━━━━━━━━━━━━┓\n",
       "┃\u001b[1m \u001b[0m\u001b[1mID\u001b[0m\u001b[1m \u001b[0m┃\u001b[1m \u001b[0m\u001b[1mINTERFACE\u001b[0m\u001b[1m \u001b[0m┃\u001b[1m \u001b[0m\u001b[1mMAC              \u001b[0m\u001b[1m \u001b[0m┃\u001b[1m \u001b[0m\u001b[1mIS CONNECTED\u001b[0m\u001b[1m \u001b[0m┃\u001b[1m \u001b[0m\u001b[1mIP\u001b[0m\u001b[1m \u001b[0m┃\u001b[1m \u001b[0m\u001b[1mSUBNET\u001b[0m\u001b[1m \u001b[0m┃\u001b[1m \u001b[0m\u001b[1mDEFAULT GATEWAY\u001b[0m\u001b[1m \u001b[0m┃\n",
       "┡━━━━╇━━━━━━━━━━━╇━━━━━━━━━━━━━━━━━━━╇━━━━━━━━━━━━━━╇━━━━╇━━━━━━━━╇━━━━━━━━━━━━━━━━━┩\n",
       "│ 1  │ eth0      │ 04:d4:c4:e0:63:54 │ False        │ NA │ NA     │ NA              │\n",
       "└────┴───────────┴───────────────────┴──────────────┴────┴────────┴─────────────────┘\n"
      ]
     },
     "metadata": {},
     "output_type": "display_data"
    },
    {
     "data": {
      "text/html": [
       "<pre style=\"white-space:pre;overflow-x:auto;line-height:normal;font-family:Menlo,'DejaVu Sans Mono',consolas,'Courier New',monospace\">Interface wlan0 has MAC: 50:e0:85:5c:f4:40\n",
       "</pre>\n"
      ],
      "text/plain": [
       "Interface wlan0 has MAC: 50:e0:85:5c:f4:40\n"
      ]
     },
     "metadata": {},
     "output_type": "display_data"
    },
    {
     "data": {
      "text/html": [
       "<pre style=\"white-space:pre;overflow-x:auto;line-height:normal;font-family:Menlo,'DejaVu Sans Mono',consolas,'Courier New',monospace\">┏━━━━┳━━━━━━━━━━━┳━━━━━━━━━━━━━━┳━━━━━━━━━━━━━━┳━━━━━━━━━━━━━━┳━━━━━━━━━━━━━━┳━━━━━━━━━━━━━━┓\n",
       "┃<span style=\"font-weight: bold\">    </span>┃<span style=\"font-weight: bold\">           </span>┃<span style=\"font-weight: bold\">              </span>┃<span style=\"font-weight: bold\">              </span>┃<span style=\"font-weight: bold\">              </span>┃<span style=\"font-weight: bold\">              </span>┃<span style=\"font-weight: bold\"> DEFAULT      </span>┃\n",
       "┃<span style=\"font-weight: bold\"> ID </span>┃<span style=\"font-weight: bold\"> INTERFACE </span>┃<span style=\"font-weight: bold\"> MAC          </span>┃<span style=\"font-weight: bold\"> IS CONNECTED </span>┃<span style=\"font-weight: bold\"> IP           </span>┃<span style=\"font-weight: bold\"> SUBNET       </span>┃<span style=\"font-weight: bold\"> GATEWAY      </span>┃\n",
       "┡━━━━╇━━━━━━━━━━━╇━━━━━━━━━━━━━━╇━━━━━━━━━━━━━━╇━━━━━━━━━━━━━━╇━━━━━━━━━━━━━━╇━━━━━━━━━━━━━━┩\n",
       "│ 1  │ eth0      │ 04:d4:c4:e0… │ False        │ NA           │ NA           │ NA           │\n",
       "│ 2  │ wlan0     │ 50:e0:85:5c… │ True         │ 192.168.14.… │ 255.255.255… │ 192.168.14.… │\n",
       "└────┴───────────┴──────────────┴──────────────┴──────────────┴──────────────┴──────────────┘\n",
       "</pre>\n"
      ],
      "text/plain": [
       "┏━━━━┳━━━━━━━━━━━┳━━━━━━━━━━━━━━┳━━━━━━━━━━━━━━┳━━━━━━━━━━━━━━┳━━━━━━━━━━━━━━┳━━━━━━━━━━━━━━┓\n",
       "┃\u001b[1m    \u001b[0m┃\u001b[1m           \u001b[0m┃\u001b[1m              \u001b[0m┃\u001b[1m              \u001b[0m┃\u001b[1m              \u001b[0m┃\u001b[1m              \u001b[0m┃\u001b[1m \u001b[0m\u001b[1mDEFAULT     \u001b[0m\u001b[1m \u001b[0m┃\n",
       "┃\u001b[1m \u001b[0m\u001b[1mID\u001b[0m\u001b[1m \u001b[0m┃\u001b[1m \u001b[0m\u001b[1mINTERFACE\u001b[0m\u001b[1m \u001b[0m┃\u001b[1m \u001b[0m\u001b[1mMAC         \u001b[0m\u001b[1m \u001b[0m┃\u001b[1m \u001b[0m\u001b[1mIS CONNECTED\u001b[0m\u001b[1m \u001b[0m┃\u001b[1m \u001b[0m\u001b[1mIP          \u001b[0m\u001b[1m \u001b[0m┃\u001b[1m \u001b[0m\u001b[1mSUBNET      \u001b[0m\u001b[1m \u001b[0m┃\u001b[1m \u001b[0m\u001b[1mGATEWAY     \u001b[0m\u001b[1m \u001b[0m┃\n",
       "┡━━━━╇━━━━━━━━━━━╇━━━━━━━━━━━━━━╇━━━━━━━━━━━━━━╇━━━━━━━━━━━━━━╇━━━━━━━━━━━━━━╇━━━━━━━━━━━━━━┩\n",
       "│ 1  │ eth0      │ 04:d4:c4:e0… │ False        │ NA           │ NA           │ NA           │\n",
       "│ 2  │ wlan0     │ 50:e0:85:5c… │ True         │ 192.168.14.… │ 255.255.255… │ 192.168.14.… │\n",
       "└────┴───────────┴──────────────┴──────────────┴──────────────┴──────────────┴──────────────┘\n"
      ]
     },
     "metadata": {},
     "output_type": "display_data"
    },
    {
     "data": {
      "text/html": [
       "<pre style=\"white-space:pre;overflow-x:auto;line-height:normal;font-family:Menlo,'DejaVu Sans Mono',consolas,'Courier New',monospace\">┏━━━━┳━━━━━━━━━━━┳━━━━━━━━━━━━━━┳━━━━━━━━━━━━━━┳━━━━━━━━━━━━━━┳━━━━━━━━━━━━━━┳━━━━━━━━━━━━━━┓\n",
       "┃<span style=\"font-weight: bold\">    </span>┃<span style=\"font-weight: bold\">           </span>┃<span style=\"font-weight: bold\">              </span>┃<span style=\"font-weight: bold\">              </span>┃<span style=\"font-weight: bold\">              </span>┃<span style=\"font-weight: bold\">              </span>┃<span style=\"font-weight: bold\"> DEFAULT      </span>┃\n",
       "┃<span style=\"font-weight: bold\"> ID </span>┃<span style=\"font-weight: bold\"> INTERFACE </span>┃<span style=\"font-weight: bold\"> MAC          </span>┃<span style=\"font-weight: bold\"> IS CONNECTED </span>┃<span style=\"font-weight: bold\"> IP           </span>┃<span style=\"font-weight: bold\"> SUBNET       </span>┃<span style=\"font-weight: bold\"> GATEWAY      </span>┃\n",
       "┡━━━━╇━━━━━━━━━━━╇━━━━━━━━━━━━━━╇━━━━━━━━━━━━━━╇━━━━━━━━━━━━━━╇━━━━━━━━━━━━━━╇━━━━━━━━━━━━━━┩\n",
       "│ 1  │ eth0      │ 04:d4:c4:e0… │ False        │ NA           │ NA           │ NA           │\n",
       "│ 2  │ wlan0     │ 50:e0:85:5c… │ True         │ 192.168.14.… │ 255.255.255… │ 192.168.14.… │\n",
       "└────┴───────────┴──────────────┴──────────────┴──────────────┴──────────────┴──────────────┘\n",
       "</pre>\n"
      ],
      "text/plain": [
       "┏━━━━┳━━━━━━━━━━━┳━━━━━━━━━━━━━━┳━━━━━━━━━━━━━━┳━━━━━━━━━━━━━━┳━━━━━━━━━━━━━━┳━━━━━━━━━━━━━━┓\n",
       "┃\u001b[1m    \u001b[0m┃\u001b[1m           \u001b[0m┃\u001b[1m              \u001b[0m┃\u001b[1m              \u001b[0m┃\u001b[1m              \u001b[0m┃\u001b[1m              \u001b[0m┃\u001b[1m \u001b[0m\u001b[1mDEFAULT     \u001b[0m\u001b[1m \u001b[0m┃\n",
       "┃\u001b[1m \u001b[0m\u001b[1mID\u001b[0m\u001b[1m \u001b[0m┃\u001b[1m \u001b[0m\u001b[1mINTERFACE\u001b[0m\u001b[1m \u001b[0m┃\u001b[1m \u001b[0m\u001b[1mMAC         \u001b[0m\u001b[1m \u001b[0m┃\u001b[1m \u001b[0m\u001b[1mIS CONNECTED\u001b[0m\u001b[1m \u001b[0m┃\u001b[1m \u001b[0m\u001b[1mIP          \u001b[0m\u001b[1m \u001b[0m┃\u001b[1m \u001b[0m\u001b[1mSUBNET      \u001b[0m\u001b[1m \u001b[0m┃\u001b[1m \u001b[0m\u001b[1mGATEWAY     \u001b[0m\u001b[1m \u001b[0m┃\n",
       "┡━━━━╇━━━━━━━━━━━╇━━━━━━━━━━━━━━╇━━━━━━━━━━━━━━╇━━━━━━━━━━━━━━╇━━━━━━━━━━━━━━╇━━━━━━━━━━━━━━┩\n",
       "│ 1  │ eth0      │ 04:d4:c4:e0… │ False        │ NA           │ NA           │ NA           │\n",
       "│ 2  │ wlan0     │ 50:e0:85:5c… │ True         │ 192.168.14.… │ 255.255.255… │ 192.168.14.… │\n",
       "└────┴───────────┴──────────────┴──────────────┴──────────────┴──────────────┴──────────────┘\n"
      ]
     },
     "metadata": {},
     "output_type": "display_data"
    },
    {
     "data": {
      "text/html": [
       "<pre style=\"white-space:pre;overflow-x:auto;line-height:normal;font-family:Menlo,'DejaVu Sans Mono',consolas,'Courier New',monospace\">┏━━━━┳━━━━━━━━━━━┳━━━━━━━━━━━━━━┳━━━━━━━━━━━━━━┳━━━━━━━━━━━━━━┳━━━━━━━━━━━━━━┳━━━━━━━━━━━━━━┓\n",
       "┃<span style=\"font-weight: bold\">    </span>┃<span style=\"font-weight: bold\">           </span>┃<span style=\"font-weight: bold\">              </span>┃<span style=\"font-weight: bold\">              </span>┃<span style=\"font-weight: bold\">              </span>┃<span style=\"font-weight: bold\">              </span>┃<span style=\"font-weight: bold\"> DEFAULT      </span>┃\n",
       "┃<span style=\"font-weight: bold\"> ID </span>┃<span style=\"font-weight: bold\"> INTERFACE </span>┃<span style=\"font-weight: bold\"> MAC          </span>┃<span style=\"font-weight: bold\"> IS CONNECTED </span>┃<span style=\"font-weight: bold\"> IP           </span>┃<span style=\"font-weight: bold\"> SUBNET       </span>┃<span style=\"font-weight: bold\"> GATEWAY      </span>┃\n",
       "┡━━━━╇━━━━━━━━━━━╇━━━━━━━━━━━━━━╇━━━━━━━━━━━━━━╇━━━━━━━━━━━━━━╇━━━━━━━━━━━━━━╇━━━━━━━━━━━━━━┩\n",
       "│ 1  │ eth0      │ 04:d4:c4:e0… │ False        │ NA           │ NA           │ NA           │\n",
       "│ 2  │ wlan0     │ 50:e0:85:5c… │ True         │ 192.168.14.… │ 255.255.255… │ 192.168.14.… │\n",
       "└────┴───────────┴──────────────┴──────────────┴──────────────┴──────────────┴──────────────┘\n",
       "</pre>\n"
      ],
      "text/plain": [
       "┏━━━━┳━━━━━━━━━━━┳━━━━━━━━━━━━━━┳━━━━━━━━━━━━━━┳━━━━━━━━━━━━━━┳━━━━━━━━━━━━━━┳━━━━━━━━━━━━━━┓\n",
       "┃\u001b[1m    \u001b[0m┃\u001b[1m           \u001b[0m┃\u001b[1m              \u001b[0m┃\u001b[1m              \u001b[0m┃\u001b[1m              \u001b[0m┃\u001b[1m              \u001b[0m┃\u001b[1m \u001b[0m\u001b[1mDEFAULT     \u001b[0m\u001b[1m \u001b[0m┃\n",
       "┃\u001b[1m \u001b[0m\u001b[1mID\u001b[0m\u001b[1m \u001b[0m┃\u001b[1m \u001b[0m\u001b[1mINTERFACE\u001b[0m\u001b[1m \u001b[0m┃\u001b[1m \u001b[0m\u001b[1mMAC         \u001b[0m\u001b[1m \u001b[0m┃\u001b[1m \u001b[0m\u001b[1mIS CONNECTED\u001b[0m\u001b[1m \u001b[0m┃\u001b[1m \u001b[0m\u001b[1mIP          \u001b[0m\u001b[1m \u001b[0m┃\u001b[1m \u001b[0m\u001b[1mSUBNET      \u001b[0m\u001b[1m \u001b[0m┃\u001b[1m \u001b[0m\u001b[1mGATEWAY     \u001b[0m\u001b[1m \u001b[0m┃\n",
       "┡━━━━╇━━━━━━━━━━━╇━━━━━━━━━━━━━━╇━━━━━━━━━━━━━━╇━━━━━━━━━━━━━━╇━━━━━━━━━━━━━━╇━━━━━━━━━━━━━━┩\n",
       "│ 1  │ eth0      │ 04:d4:c4:e0… │ False        │ NA           │ NA           │ NA           │\n",
       "│ 2  │ wlan0     │ 50:e0:85:5c… │ True         │ 192.168.14.… │ 255.255.255… │ 192.168.14.… │\n",
       "└────┴───────────┴──────────────┴──────────────┴──────────────┴──────────────┴──────────────┘\n"
      ]
     },
     "metadata": {},
     "output_type": "display_data"
    },
    {
     "data": {
      "text/html": [
       "<pre style=\"white-space:pre;overflow-x:auto;line-height:normal;font-family:Menlo,'DejaVu Sans Mono',consolas,'Courier New',monospace\">┏━━━━┳━━━━━━━━━━━┳━━━━━━━━━━━━━━┳━━━━━━━━━━━━━━┳━━━━━━━━━━━━━━┳━━━━━━━━━━━━━━┳━━━━━━━━━━━━━━┓\n",
       "┃<span style=\"font-weight: bold\">    </span>┃<span style=\"font-weight: bold\">           </span>┃<span style=\"font-weight: bold\">              </span>┃<span style=\"font-weight: bold\">              </span>┃<span style=\"font-weight: bold\">              </span>┃<span style=\"font-weight: bold\">              </span>┃<span style=\"font-weight: bold\"> DEFAULT      </span>┃\n",
       "┃<span style=\"font-weight: bold\"> ID </span>┃<span style=\"font-weight: bold\"> INTERFACE </span>┃<span style=\"font-weight: bold\"> MAC          </span>┃<span style=\"font-weight: bold\"> IS CONNECTED </span>┃<span style=\"font-weight: bold\"> IP           </span>┃<span style=\"font-weight: bold\"> SUBNET       </span>┃<span style=\"font-weight: bold\"> GATEWAY      </span>┃\n",
       "┡━━━━╇━━━━━━━━━━━╇━━━━━━━━━━━━━━╇━━━━━━━━━━━━━━╇━━━━━━━━━━━━━━╇━━━━━━━━━━━━━━╇━━━━━━━━━━━━━━┩\n",
       "│ 1  │ eth0      │ 04:d4:c4:e0… │ False        │ NA           │ NA           │ NA           │\n",
       "│ 2  │ wlan0     │ 50:e0:85:5c… │ True         │ 192.168.14.… │ 255.255.255… │ 192.168.14.… │\n",
       "└────┴───────────┴──────────────┴──────────────┴──────────────┴──────────────┴──────────────┘\n",
       "</pre>\n"
      ],
      "text/plain": [
       "┏━━━━┳━━━━━━━━━━━┳━━━━━━━━━━━━━━┳━━━━━━━━━━━━━━┳━━━━━━━━━━━━━━┳━━━━━━━━━━━━━━┳━━━━━━━━━━━━━━┓\n",
       "┃\u001b[1m    \u001b[0m┃\u001b[1m           \u001b[0m┃\u001b[1m              \u001b[0m┃\u001b[1m              \u001b[0m┃\u001b[1m              \u001b[0m┃\u001b[1m              \u001b[0m┃\u001b[1m \u001b[0m\u001b[1mDEFAULT     \u001b[0m\u001b[1m \u001b[0m┃\n",
       "┃\u001b[1m \u001b[0m\u001b[1mID\u001b[0m\u001b[1m \u001b[0m┃\u001b[1m \u001b[0m\u001b[1mINTERFACE\u001b[0m\u001b[1m \u001b[0m┃\u001b[1m \u001b[0m\u001b[1mMAC         \u001b[0m\u001b[1m \u001b[0m┃\u001b[1m \u001b[0m\u001b[1mIS CONNECTED\u001b[0m\u001b[1m \u001b[0m┃\u001b[1m \u001b[0m\u001b[1mIP          \u001b[0m\u001b[1m \u001b[0m┃\u001b[1m \u001b[0m\u001b[1mSUBNET      \u001b[0m\u001b[1m \u001b[0m┃\u001b[1m \u001b[0m\u001b[1mGATEWAY     \u001b[0m\u001b[1m \u001b[0m┃\n",
       "┡━━━━╇━━━━━━━━━━━╇━━━━━━━━━━━━━━╇━━━━━━━━━━━━━━╇━━━━━━━━━━━━━━╇━━━━━━━━━━━━━━╇━━━━━━━━━━━━━━┩\n",
       "│ 1  │ eth0      │ 04:d4:c4:e0… │ False        │ NA           │ NA           │ NA           │\n",
       "│ 2  │ wlan0     │ 50:e0:85:5c… │ True         │ 192.168.14.… │ 255.255.255… │ 192.168.14.… │\n",
       "└────┴───────────┴──────────────┴──────────────┴──────────────┴──────────────┴──────────────┘\n"
      ]
     },
     "metadata": {},
     "output_type": "display_data"
    },
    {
     "data": {
      "text/html": [
       "<pre style=\"white-space:pre;overflow-x:auto;line-height:normal;font-family:Menlo,'DejaVu Sans Mono',consolas,'Courier New',monospace\">┏━━━━┳━━━━━━━━━━━┳━━━━━━━━━━━━━━┳━━━━━━━━━━━━━━┳━━━━━━━━━━━━━━┳━━━━━━━━━━━━━━┳━━━━━━━━━━━━━━┓\n",
       "┃<span style=\"font-weight: bold\">    </span>┃<span style=\"font-weight: bold\">           </span>┃<span style=\"font-weight: bold\">              </span>┃<span style=\"font-weight: bold\">              </span>┃<span style=\"font-weight: bold\">              </span>┃<span style=\"font-weight: bold\">              </span>┃<span style=\"font-weight: bold\"> DEFAULT      </span>┃\n",
       "┃<span style=\"font-weight: bold\"> ID </span>┃<span style=\"font-weight: bold\"> INTERFACE </span>┃<span style=\"font-weight: bold\"> MAC          </span>┃<span style=\"font-weight: bold\"> IS CONNECTED </span>┃<span style=\"font-weight: bold\"> IP           </span>┃<span style=\"font-weight: bold\"> SUBNET       </span>┃<span style=\"font-weight: bold\"> GATEWAY      </span>┃\n",
       "┡━━━━╇━━━━━━━━━━━╇━━━━━━━━━━━━━━╇━━━━━━━━━━━━━━╇━━━━━━━━━━━━━━╇━━━━━━━━━━━━━━╇━━━━━━━━━━━━━━┩\n",
       "│ 1  │ eth0      │ 04:d4:c4:e0… │ False        │ NA           │ NA           │ NA           │\n",
       "│ 2  │ wlan0     │ 50:e0:85:5c… │ True         │ 192.168.14.… │ 255.255.255… │ 192.168.14.… │\n",
       "└────┴───────────┴──────────────┴──────────────┴──────────────┴──────────────┴──────────────┘\n",
       "</pre>\n"
      ],
      "text/plain": [
       "┏━━━━┳━━━━━━━━━━━┳━━━━━━━━━━━━━━┳━━━━━━━━━━━━━━┳━━━━━━━━━━━━━━┳━━━━━━━━━━━━━━┳━━━━━━━━━━━━━━┓\n",
       "┃\u001b[1m    \u001b[0m┃\u001b[1m           \u001b[0m┃\u001b[1m              \u001b[0m┃\u001b[1m              \u001b[0m┃\u001b[1m              \u001b[0m┃\u001b[1m              \u001b[0m┃\u001b[1m \u001b[0m\u001b[1mDEFAULT     \u001b[0m\u001b[1m \u001b[0m┃\n",
       "┃\u001b[1m \u001b[0m\u001b[1mID\u001b[0m\u001b[1m \u001b[0m┃\u001b[1m \u001b[0m\u001b[1mINTERFACE\u001b[0m\u001b[1m \u001b[0m┃\u001b[1m \u001b[0m\u001b[1mMAC         \u001b[0m\u001b[1m \u001b[0m┃\u001b[1m \u001b[0m\u001b[1mIS CONNECTED\u001b[0m\u001b[1m \u001b[0m┃\u001b[1m \u001b[0m\u001b[1mIP          \u001b[0m\u001b[1m \u001b[0m┃\u001b[1m \u001b[0m\u001b[1mSUBNET      \u001b[0m\u001b[1m \u001b[0m┃\u001b[1m \u001b[0m\u001b[1mGATEWAY     \u001b[0m\u001b[1m \u001b[0m┃\n",
       "┡━━━━╇━━━━━━━━━━━╇━━━━━━━━━━━━━━╇━━━━━━━━━━━━━━╇━━━━━━━━━━━━━━╇━━━━━━━━━━━━━━╇━━━━━━━━━━━━━━┩\n",
       "│ 1  │ eth0      │ 04:d4:c4:e0… │ False        │ NA           │ NA           │ NA           │\n",
       "│ 2  │ wlan0     │ 50:e0:85:5c… │ True         │ 192.168.14.… │ 255.255.255… │ 192.168.14.… │\n",
       "└────┴───────────┴──────────────┴──────────────┴──────────────┴──────────────┴──────────────┘\n"
      ]
     },
     "metadata": {},
     "output_type": "display_data"
    },
    {
     "data": {
      "text/html": [
       "<pre style=\"white-space:pre;overflow-x:auto;line-height:normal;font-family:Menlo,'DejaVu Sans Mono',consolas,'Courier New',monospace\">┏━━━━┳━━━━━━━━━━━┳━━━━━━━━━━━━━━┳━━━━━━━━━━━━━━┳━━━━━━━━━━━━━━┳━━━━━━━━━━━━━━┳━━━━━━━━━━━━━━┓\n",
       "┃<span style=\"font-weight: bold\">    </span>┃<span style=\"font-weight: bold\">           </span>┃<span style=\"font-weight: bold\">              </span>┃<span style=\"font-weight: bold\">              </span>┃<span style=\"font-weight: bold\">              </span>┃<span style=\"font-weight: bold\">              </span>┃<span style=\"font-weight: bold\"> DEFAULT      </span>┃\n",
       "┃<span style=\"font-weight: bold\"> ID </span>┃<span style=\"font-weight: bold\"> INTERFACE </span>┃<span style=\"font-weight: bold\"> MAC          </span>┃<span style=\"font-weight: bold\"> IS CONNECTED </span>┃<span style=\"font-weight: bold\"> IP           </span>┃<span style=\"font-weight: bold\"> SUBNET       </span>┃<span style=\"font-weight: bold\"> GATEWAY      </span>┃\n",
       "┡━━━━╇━━━━━━━━━━━╇━━━━━━━━━━━━━━╇━━━━━━━━━━━━━━╇━━━━━━━━━━━━━━╇━━━━━━━━━━━━━━╇━━━━━━━━━━━━━━┩\n",
       "│ 1  │ eth0      │ 04:d4:c4:e0… │ False        │ NA           │ NA           │ NA           │\n",
       "│ 2  │ wlan0     │ 50:e0:85:5c… │ True         │ 192.168.14.… │ 255.255.255… │ 192.168.14.… │\n",
       "└────┴───────────┴──────────────┴──────────────┴──────────────┴──────────────┴──────────────┘\n",
       "</pre>\n"
      ],
      "text/plain": [
       "┏━━━━┳━━━━━━━━━━━┳━━━━━━━━━━━━━━┳━━━━━━━━━━━━━━┳━━━━━━━━━━━━━━┳━━━━━━━━━━━━━━┳━━━━━━━━━━━━━━┓\n",
       "┃\u001b[1m    \u001b[0m┃\u001b[1m           \u001b[0m┃\u001b[1m              \u001b[0m┃\u001b[1m              \u001b[0m┃\u001b[1m              \u001b[0m┃\u001b[1m              \u001b[0m┃\u001b[1m \u001b[0m\u001b[1mDEFAULT     \u001b[0m\u001b[1m \u001b[0m┃\n",
       "┃\u001b[1m \u001b[0m\u001b[1mID\u001b[0m\u001b[1m \u001b[0m┃\u001b[1m \u001b[0m\u001b[1mINTERFACE\u001b[0m\u001b[1m \u001b[0m┃\u001b[1m \u001b[0m\u001b[1mMAC         \u001b[0m\u001b[1m \u001b[0m┃\u001b[1m \u001b[0m\u001b[1mIS CONNECTED\u001b[0m\u001b[1m \u001b[0m┃\u001b[1m \u001b[0m\u001b[1mIP          \u001b[0m\u001b[1m \u001b[0m┃\u001b[1m \u001b[0m\u001b[1mSUBNET      \u001b[0m\u001b[1m \u001b[0m┃\u001b[1m \u001b[0m\u001b[1mGATEWAY     \u001b[0m\u001b[1m \u001b[0m┃\n",
       "┡━━━━╇━━━━━━━━━━━╇━━━━━━━━━━━━━━╇━━━━━━━━━━━━━━╇━━━━━━━━━━━━━━╇━━━━━━━━━━━━━━╇━━━━━━━━━━━━━━┩\n",
       "│ 1  │ eth0      │ 04:d4:c4:e0… │ False        │ NA           │ NA           │ NA           │\n",
       "│ 2  │ wlan0     │ 50:e0:85:5c… │ True         │ 192.168.14.… │ 255.255.255… │ 192.168.14.… │\n",
       "└────┴───────────┴──────────────┴──────────────┴──────────────┴──────────────┴──────────────┘\n"
      ]
     },
     "metadata": {},
     "output_type": "display_data"
    },
    {
     "data": {
      "text/html": [
       "<pre style=\"white-space:pre;overflow-x:auto;line-height:normal;font-family:Menlo,'DejaVu Sans Mono',consolas,'Courier New',monospace\">┏━━━━┳━━━━━━━━━━━┳━━━━━━━━━━━━━━┳━━━━━━━━━━━━━━┳━━━━━━━━━━━━━━┳━━━━━━━━━━━━━━┳━━━━━━━━━━━━━━┓\n",
       "┃<span style=\"font-weight: bold\">    </span>┃<span style=\"font-weight: bold\">           </span>┃<span style=\"font-weight: bold\">              </span>┃<span style=\"font-weight: bold\">              </span>┃<span style=\"font-weight: bold\">              </span>┃<span style=\"font-weight: bold\">              </span>┃<span style=\"font-weight: bold\"> DEFAULT      </span>┃\n",
       "┃<span style=\"font-weight: bold\"> ID </span>┃<span style=\"font-weight: bold\"> INTERFACE </span>┃<span style=\"font-weight: bold\"> MAC          </span>┃<span style=\"font-weight: bold\"> IS CONNECTED </span>┃<span style=\"font-weight: bold\"> IP           </span>┃<span style=\"font-weight: bold\"> SUBNET       </span>┃<span style=\"font-weight: bold\"> GATEWAY      </span>┃\n",
       "┡━━━━╇━━━━━━━━━━━╇━━━━━━━━━━━━━━╇━━━━━━━━━━━━━━╇━━━━━━━━━━━━━━╇━━━━━━━━━━━━━━╇━━━━━━━━━━━━━━┩\n",
       "│ 1  │ eth0      │ 04:d4:c4:e0… │ False        │ NA           │ NA           │ NA           │\n",
       "│ 2  │ wlan0     │ 50:e0:85:5c… │ True         │ 192.168.14.… │ 255.255.255… │ 192.168.14.… │\n",
       "└────┴───────────┴──────────────┴──────────────┴──────────────┴──────────────┴──────────────┘\n",
       "</pre>\n"
      ],
      "text/plain": [
       "┏━━━━┳━━━━━━━━━━━┳━━━━━━━━━━━━━━┳━━━━━━━━━━━━━━┳━━━━━━━━━━━━━━┳━━━━━━━━━━━━━━┳━━━━━━━━━━━━━━┓\n",
       "┃\u001b[1m    \u001b[0m┃\u001b[1m           \u001b[0m┃\u001b[1m              \u001b[0m┃\u001b[1m              \u001b[0m┃\u001b[1m              \u001b[0m┃\u001b[1m              \u001b[0m┃\u001b[1m \u001b[0m\u001b[1mDEFAULT     \u001b[0m\u001b[1m \u001b[0m┃\n",
       "┃\u001b[1m \u001b[0m\u001b[1mID\u001b[0m\u001b[1m \u001b[0m┃\u001b[1m \u001b[0m\u001b[1mINTERFACE\u001b[0m\u001b[1m \u001b[0m┃\u001b[1m \u001b[0m\u001b[1mMAC         \u001b[0m\u001b[1m \u001b[0m┃\u001b[1m \u001b[0m\u001b[1mIS CONNECTED\u001b[0m\u001b[1m \u001b[0m┃\u001b[1m \u001b[0m\u001b[1mIP          \u001b[0m\u001b[1m \u001b[0m┃\u001b[1m \u001b[0m\u001b[1mSUBNET      \u001b[0m\u001b[1m \u001b[0m┃\u001b[1m \u001b[0m\u001b[1mGATEWAY     \u001b[0m\u001b[1m \u001b[0m┃\n",
       "┡━━━━╇━━━━━━━━━━━╇━━━━━━━━━━━━━━╇━━━━━━━━━━━━━━╇━━━━━━━━━━━━━━╇━━━━━━━━━━━━━━╇━━━━━━━━━━━━━━┩\n",
       "│ 1  │ eth0      │ 04:d4:c4:e0… │ False        │ NA           │ NA           │ NA           │\n",
       "│ 2  │ wlan0     │ 50:e0:85:5c… │ True         │ 192.168.14.… │ 255.255.255… │ 192.168.14.… │\n",
       "└────┴───────────┴──────────────┴──────────────┴──────────────┴──────────────┴──────────────┘\n"
      ]
     },
     "metadata": {},
     "output_type": "display_data"
    },
    {
     "data": {
      "text/html": [
       "<pre style=\"white-space:pre;overflow-x:auto;line-height:normal;font-family:Menlo,'DejaVu Sans Mono',consolas,'Courier New',monospace\">┏━━━━┳━━━━━━━━━━━┳━━━━━━━━━━━━━━┳━━━━━━━━━━━━━━┳━━━━━━━━━━━━━━┳━━━━━━━━━━━━━━┳━━━━━━━━━━━━━━┓\n",
       "┃<span style=\"font-weight: bold\">    </span>┃<span style=\"font-weight: bold\">           </span>┃<span style=\"font-weight: bold\">              </span>┃<span style=\"font-weight: bold\">              </span>┃<span style=\"font-weight: bold\">              </span>┃<span style=\"font-weight: bold\">              </span>┃<span style=\"font-weight: bold\"> DEFAULT      </span>┃\n",
       "┃<span style=\"font-weight: bold\"> ID </span>┃<span style=\"font-weight: bold\"> INTERFACE </span>┃<span style=\"font-weight: bold\"> MAC          </span>┃<span style=\"font-weight: bold\"> IS CONNECTED </span>┃<span style=\"font-weight: bold\"> IP           </span>┃<span style=\"font-weight: bold\"> SUBNET       </span>┃<span style=\"font-weight: bold\"> GATEWAY      </span>┃\n",
       "┡━━━━╇━━━━━━━━━━━╇━━━━━━━━━━━━━━╇━━━━━━━━━━━━━━╇━━━━━━━━━━━━━━╇━━━━━━━━━━━━━━╇━━━━━━━━━━━━━━┩\n",
       "│ 1  │ eth0      │ 04:d4:c4:e0… │ False        │ NA           │ NA           │ NA           │\n",
       "│ 2  │ wlan0     │ 50:e0:85:5c… │ True         │ 192.168.14.… │ 255.255.255… │ 192.168.14.… │\n",
       "└────┴───────────┴──────────────┴──────────────┴──────────────┴──────────────┴──────────────┘\n",
       "</pre>\n"
      ],
      "text/plain": [
       "┏━━━━┳━━━━━━━━━━━┳━━━━━━━━━━━━━━┳━━━━━━━━━━━━━━┳━━━━━━━━━━━━━━┳━━━━━━━━━━━━━━┳━━━━━━━━━━━━━━┓\n",
       "┃\u001b[1m    \u001b[0m┃\u001b[1m           \u001b[0m┃\u001b[1m              \u001b[0m┃\u001b[1m              \u001b[0m┃\u001b[1m              \u001b[0m┃\u001b[1m              \u001b[0m┃\u001b[1m \u001b[0m\u001b[1mDEFAULT     \u001b[0m\u001b[1m \u001b[0m┃\n",
       "┃\u001b[1m \u001b[0m\u001b[1mID\u001b[0m\u001b[1m \u001b[0m┃\u001b[1m \u001b[0m\u001b[1mINTERFACE\u001b[0m\u001b[1m \u001b[0m┃\u001b[1m \u001b[0m\u001b[1mMAC         \u001b[0m\u001b[1m \u001b[0m┃\u001b[1m \u001b[0m\u001b[1mIS CONNECTED\u001b[0m\u001b[1m \u001b[0m┃\u001b[1m \u001b[0m\u001b[1mIP          \u001b[0m\u001b[1m \u001b[0m┃\u001b[1m \u001b[0m\u001b[1mSUBNET      \u001b[0m\u001b[1m \u001b[0m┃\u001b[1m \u001b[0m\u001b[1mGATEWAY     \u001b[0m\u001b[1m \u001b[0m┃\n",
       "┡━━━━╇━━━━━━━━━━━╇━━━━━━━━━━━━━━╇━━━━━━━━━━━━━━╇━━━━━━━━━━━━━━╇━━━━━━━━━━━━━━╇━━━━━━━━━━━━━━┩\n",
       "│ 1  │ eth0      │ 04:d4:c4:e0… │ False        │ NA           │ NA           │ NA           │\n",
       "│ 2  │ wlan0     │ 50:e0:85:5c… │ True         │ 192.168.14.… │ 255.255.255… │ 192.168.14.… │\n",
       "└────┴───────────┴──────────────┴──────────────┴──────────────┴──────────────┴──────────────┘\n"
      ]
     },
     "metadata": {},
     "output_type": "display_data"
    },
    {
     "data": {
      "text/html": [
       "<pre style=\"white-space:pre;overflow-x:auto;line-height:normal;font-family:Menlo,'DejaVu Sans Mono',consolas,'Courier New',monospace\">┏━━━━┳━━━━━━━━━━━┳━━━━━━━━━━━━━━┳━━━━━━━━━━━━━━┳━━━━━━━━━━━━━━┳━━━━━━━━━━━━━━┳━━━━━━━━━━━━━━┓\n",
       "┃<span style=\"font-weight: bold\">    </span>┃<span style=\"font-weight: bold\">           </span>┃<span style=\"font-weight: bold\">              </span>┃<span style=\"font-weight: bold\">              </span>┃<span style=\"font-weight: bold\">              </span>┃<span style=\"font-weight: bold\">              </span>┃<span style=\"font-weight: bold\"> DEFAULT      </span>┃\n",
       "┃<span style=\"font-weight: bold\"> ID </span>┃<span style=\"font-weight: bold\"> INTERFACE </span>┃<span style=\"font-weight: bold\"> MAC          </span>┃<span style=\"font-weight: bold\"> IS CONNECTED </span>┃<span style=\"font-weight: bold\"> IP           </span>┃<span style=\"font-weight: bold\"> SUBNET       </span>┃<span style=\"font-weight: bold\"> GATEWAY      </span>┃\n",
       "┡━━━━╇━━━━━━━━━━━╇━━━━━━━━━━━━━━╇━━━━━━━━━━━━━━╇━━━━━━━━━━━━━━╇━━━━━━━━━━━━━━╇━━━━━━━━━━━━━━┩\n",
       "│ 1  │ eth0      │ 04:d4:c4:e0… │ False        │ NA           │ NA           │ NA           │\n",
       "│ 2  │ wlan0     │ 50:e0:85:5c… │ True         │ 192.168.14.… │ 255.255.255… │ 192.168.14.… │\n",
       "└────┴───────────┴──────────────┴──────────────┴──────────────┴──────────────┴──────────────┘\n",
       "</pre>\n"
      ],
      "text/plain": [
       "┏━━━━┳━━━━━━━━━━━┳━━━━━━━━━━━━━━┳━━━━━━━━━━━━━━┳━━━━━━━━━━━━━━┳━━━━━━━━━━━━━━┳━━━━━━━━━━━━━━┓\n",
       "┃\u001b[1m    \u001b[0m┃\u001b[1m           \u001b[0m┃\u001b[1m              \u001b[0m┃\u001b[1m              \u001b[0m┃\u001b[1m              \u001b[0m┃\u001b[1m              \u001b[0m┃\u001b[1m \u001b[0m\u001b[1mDEFAULT     \u001b[0m\u001b[1m \u001b[0m┃\n",
       "┃\u001b[1m \u001b[0m\u001b[1mID\u001b[0m\u001b[1m \u001b[0m┃\u001b[1m \u001b[0m\u001b[1mINTERFACE\u001b[0m\u001b[1m \u001b[0m┃\u001b[1m \u001b[0m\u001b[1mMAC         \u001b[0m\u001b[1m \u001b[0m┃\u001b[1m \u001b[0m\u001b[1mIS CONNECTED\u001b[0m\u001b[1m \u001b[0m┃\u001b[1m \u001b[0m\u001b[1mIP          \u001b[0m\u001b[1m \u001b[0m┃\u001b[1m \u001b[0m\u001b[1mSUBNET      \u001b[0m\u001b[1m \u001b[0m┃\u001b[1m \u001b[0m\u001b[1mGATEWAY     \u001b[0m\u001b[1m \u001b[0m┃\n",
       "┡━━━━╇━━━━━━━━━━━╇━━━━━━━━━━━━━━╇━━━━━━━━━━━━━━╇━━━━━━━━━━━━━━╇━━━━━━━━━━━━━━╇━━━━━━━━━━━━━━┩\n",
       "│ 1  │ eth0      │ 04:d4:c4:e0… │ False        │ NA           │ NA           │ NA           │\n",
       "│ 2  │ wlan0     │ 50:e0:85:5c… │ True         │ 192.168.14.… │ 255.255.255… │ 192.168.14.… │\n",
       "└────┴───────────┴──────────────┴──────────────┴──────────────┴──────────────┴──────────────┘\n"
      ]
     },
     "metadata": {},
     "output_type": "display_data"
    },
    {
     "data": {
      "text/html": [
       "<pre style=\"white-space:pre;overflow-x:auto;line-height:normal;font-family:Menlo,'DejaVu Sans Mono',consolas,'Courier New',monospace\">┏━━━━┳━━━━━━━━━━━┳━━━━━━━━━━━━━━┳━━━━━━━━━━━━━━┳━━━━━━━━━━━━━━┳━━━━━━━━━━━━━━┳━━━━━━━━━━━━━━┓\n",
       "┃<span style=\"font-weight: bold\">    </span>┃<span style=\"font-weight: bold\">           </span>┃<span style=\"font-weight: bold\">              </span>┃<span style=\"font-weight: bold\">              </span>┃<span style=\"font-weight: bold\">              </span>┃<span style=\"font-weight: bold\">              </span>┃<span style=\"font-weight: bold\"> DEFAULT      </span>┃\n",
       "┃<span style=\"font-weight: bold\"> ID </span>┃<span style=\"font-weight: bold\"> INTERFACE </span>┃<span style=\"font-weight: bold\"> MAC          </span>┃<span style=\"font-weight: bold\"> IS CONNECTED </span>┃<span style=\"font-weight: bold\"> IP           </span>┃<span style=\"font-weight: bold\"> SUBNET       </span>┃<span style=\"font-weight: bold\"> GATEWAY      </span>┃\n",
       "┡━━━━╇━━━━━━━━━━━╇━━━━━━━━━━━━━━╇━━━━━━━━━━━━━━╇━━━━━━━━━━━━━━╇━━━━━━━━━━━━━━╇━━━━━━━━━━━━━━┩\n",
       "│ 1  │ eth0      │ 04:d4:c4:e0… │ False        │ NA           │ NA           │ NA           │\n",
       "│ 2  │ wlan0     │ 50:e0:85:5c… │ True         │ 192.168.14.… │ 255.255.255… │ 192.168.14.… │\n",
       "└────┴───────────┴──────────────┴──────────────┴──────────────┴──────────────┴──────────────┘\n",
       "</pre>\n"
      ],
      "text/plain": [
       "┏━━━━┳━━━━━━━━━━━┳━━━━━━━━━━━━━━┳━━━━━━━━━━━━━━┳━━━━━━━━━━━━━━┳━━━━━━━━━━━━━━┳━━━━━━━━━━━━━━┓\n",
       "┃\u001b[1m    \u001b[0m┃\u001b[1m           \u001b[0m┃\u001b[1m              \u001b[0m┃\u001b[1m              \u001b[0m┃\u001b[1m              \u001b[0m┃\u001b[1m              \u001b[0m┃\u001b[1m \u001b[0m\u001b[1mDEFAULT     \u001b[0m\u001b[1m \u001b[0m┃\n",
       "┃\u001b[1m \u001b[0m\u001b[1mID\u001b[0m\u001b[1m \u001b[0m┃\u001b[1m \u001b[0m\u001b[1mINTERFACE\u001b[0m\u001b[1m \u001b[0m┃\u001b[1m \u001b[0m\u001b[1mMAC         \u001b[0m\u001b[1m \u001b[0m┃\u001b[1m \u001b[0m\u001b[1mIS CONNECTED\u001b[0m\u001b[1m \u001b[0m┃\u001b[1m \u001b[0m\u001b[1mIP          \u001b[0m\u001b[1m \u001b[0m┃\u001b[1m \u001b[0m\u001b[1mSUBNET      \u001b[0m\u001b[1m \u001b[0m┃\u001b[1m \u001b[0m\u001b[1mGATEWAY     \u001b[0m\u001b[1m \u001b[0m┃\n",
       "┡━━━━╇━━━━━━━━━━━╇━━━━━━━━━━━━━━╇━━━━━━━━━━━━━━╇━━━━━━━━━━━━━━╇━━━━━━━━━━━━━━╇━━━━━━━━━━━━━━┩\n",
       "│ 1  │ eth0      │ 04:d4:c4:e0… │ False        │ NA           │ NA           │ NA           │\n",
       "│ 2  │ wlan0     │ 50:e0:85:5c… │ True         │ 192.168.14.… │ 255.255.255… │ 192.168.14.… │\n",
       "└────┴───────────┴──────────────┴──────────────┴──────────────┴──────────────┴──────────────┘\n"
      ]
     },
     "metadata": {},
     "output_type": "display_data"
    },
    {
     "data": {
      "text/html": [
       "<pre style=\"white-space:pre;overflow-x:auto;line-height:normal;font-family:Menlo,'DejaVu Sans Mono',consolas,'Courier New',monospace\">┏━━━━┳━━━━━━━━━━━┳━━━━━━━━━━━━━━┳━━━━━━━━━━━━━━┳━━━━━━━━━━━━━━┳━━━━━━━━━━━━━━┳━━━━━━━━━━━━━━┓\n",
       "┃<span style=\"font-weight: bold\">    </span>┃<span style=\"font-weight: bold\">           </span>┃<span style=\"font-weight: bold\">              </span>┃<span style=\"font-weight: bold\">              </span>┃<span style=\"font-weight: bold\">              </span>┃<span style=\"font-weight: bold\">              </span>┃<span style=\"font-weight: bold\"> DEFAULT      </span>┃\n",
       "┃<span style=\"font-weight: bold\"> ID </span>┃<span style=\"font-weight: bold\"> INTERFACE </span>┃<span style=\"font-weight: bold\"> MAC          </span>┃<span style=\"font-weight: bold\"> IS CONNECTED </span>┃<span style=\"font-weight: bold\"> IP           </span>┃<span style=\"font-weight: bold\"> SUBNET       </span>┃<span style=\"font-weight: bold\"> GATEWAY      </span>┃\n",
       "┡━━━━╇━━━━━━━━━━━╇━━━━━━━━━━━━━━╇━━━━━━━━━━━━━━╇━━━━━━━━━━━━━━╇━━━━━━━━━━━━━━╇━━━━━━━━━━━━━━┩\n",
       "│ 1  │ eth0      │ 04:d4:c4:e0… │ False        │ NA           │ NA           │ NA           │\n",
       "│ 2  │ wlan0     │ 50:e0:85:5c… │ True         │ 192.168.14.… │ 255.255.255… │ 192.168.14.… │\n",
       "└────┴───────────┴──────────────┴──────────────┴──────────────┴──────────────┴──────────────┘\n",
       "</pre>\n"
      ],
      "text/plain": [
       "┏━━━━┳━━━━━━━━━━━┳━━━━━━━━━━━━━━┳━━━━━━━━━━━━━━┳━━━━━━━━━━━━━━┳━━━━━━━━━━━━━━┳━━━━━━━━━━━━━━┓\n",
       "┃\u001b[1m    \u001b[0m┃\u001b[1m           \u001b[0m┃\u001b[1m              \u001b[0m┃\u001b[1m              \u001b[0m┃\u001b[1m              \u001b[0m┃\u001b[1m              \u001b[0m┃\u001b[1m \u001b[0m\u001b[1mDEFAULT     \u001b[0m\u001b[1m \u001b[0m┃\n",
       "┃\u001b[1m \u001b[0m\u001b[1mID\u001b[0m\u001b[1m \u001b[0m┃\u001b[1m \u001b[0m\u001b[1mINTERFACE\u001b[0m\u001b[1m \u001b[0m┃\u001b[1m \u001b[0m\u001b[1mMAC         \u001b[0m\u001b[1m \u001b[0m┃\u001b[1m \u001b[0m\u001b[1mIS CONNECTED\u001b[0m\u001b[1m \u001b[0m┃\u001b[1m \u001b[0m\u001b[1mIP          \u001b[0m\u001b[1m \u001b[0m┃\u001b[1m \u001b[0m\u001b[1mSUBNET      \u001b[0m\u001b[1m \u001b[0m┃\u001b[1m \u001b[0m\u001b[1mGATEWAY     \u001b[0m\u001b[1m \u001b[0m┃\n",
       "┡━━━━╇━━━━━━━━━━━╇━━━━━━━━━━━━━━╇━━━━━━━━━━━━━━╇━━━━━━━━━━━━━━╇━━━━━━━━━━━━━━╇━━━━━━━━━━━━━━┩\n",
       "│ 1  │ eth0      │ 04:d4:c4:e0… │ False        │ NA           │ NA           │ NA           │\n",
       "│ 2  │ wlan0     │ 50:e0:85:5c… │ True         │ 192.168.14.… │ 255.255.255… │ 192.168.14.… │\n",
       "└────┴───────────┴──────────────┴──────────────┴──────────────┴──────────────┴──────────────┘\n"
      ]
     },
     "metadata": {},
     "output_type": "display_data"
    },
    {
     "data": {
      "text/html": [
       "<pre style=\"white-space:pre;overflow-x:auto;line-height:normal;font-family:Menlo,'DejaVu Sans Mono',consolas,'Courier New',monospace\">┏━━━━┳━━━━━━━━━━━┳━━━━━━━━━━━━━━┳━━━━━━━━━━━━━━┳━━━━━━━━━━━━━━┳━━━━━━━━━━━━━━┳━━━━━━━━━━━━━━┓\n",
       "┃<span style=\"font-weight: bold\">    </span>┃<span style=\"font-weight: bold\">           </span>┃<span style=\"font-weight: bold\">              </span>┃<span style=\"font-weight: bold\">              </span>┃<span style=\"font-weight: bold\">              </span>┃<span style=\"font-weight: bold\">              </span>┃<span style=\"font-weight: bold\"> DEFAULT      </span>┃\n",
       "┃<span style=\"font-weight: bold\"> ID </span>┃<span style=\"font-weight: bold\"> INTERFACE </span>┃<span style=\"font-weight: bold\"> MAC          </span>┃<span style=\"font-weight: bold\"> IS CONNECTED </span>┃<span style=\"font-weight: bold\"> IP           </span>┃<span style=\"font-weight: bold\"> SUBNET       </span>┃<span style=\"font-weight: bold\"> GATEWAY      </span>┃\n",
       "┡━━━━╇━━━━━━━━━━━╇━━━━━━━━━━━━━━╇━━━━━━━━━━━━━━╇━━━━━━━━━━━━━━╇━━━━━━━━━━━━━━╇━━━━━━━━━━━━━━┩\n",
       "│ 1  │ eth0      │ 04:d4:c4:e0… │ False        │ NA           │ NA           │ NA           │\n",
       "│ 2  │ wlan0     │ 50:e0:85:5c… │ True         │ 192.168.14.… │ 255.255.255… │ 192.168.14.… │\n",
       "└────┴───────────┴──────────────┴──────────────┴──────────────┴──────────────┴──────────────┘\n",
       "</pre>\n"
      ],
      "text/plain": [
       "┏━━━━┳━━━━━━━━━━━┳━━━━━━━━━━━━━━┳━━━━━━━━━━━━━━┳━━━━━━━━━━━━━━┳━━━━━━━━━━━━━━┳━━━━━━━━━━━━━━┓\n",
       "┃\u001b[1m    \u001b[0m┃\u001b[1m           \u001b[0m┃\u001b[1m              \u001b[0m┃\u001b[1m              \u001b[0m┃\u001b[1m              \u001b[0m┃\u001b[1m              \u001b[0m┃\u001b[1m \u001b[0m\u001b[1mDEFAULT     \u001b[0m\u001b[1m \u001b[0m┃\n",
       "┃\u001b[1m \u001b[0m\u001b[1mID\u001b[0m\u001b[1m \u001b[0m┃\u001b[1m \u001b[0m\u001b[1mINTERFACE\u001b[0m\u001b[1m \u001b[0m┃\u001b[1m \u001b[0m\u001b[1mMAC         \u001b[0m\u001b[1m \u001b[0m┃\u001b[1m \u001b[0m\u001b[1mIS CONNECTED\u001b[0m\u001b[1m \u001b[0m┃\u001b[1m \u001b[0m\u001b[1mIP          \u001b[0m\u001b[1m \u001b[0m┃\u001b[1m \u001b[0m\u001b[1mSUBNET      \u001b[0m\u001b[1m \u001b[0m┃\u001b[1m \u001b[0m\u001b[1mGATEWAY     \u001b[0m\u001b[1m \u001b[0m┃\n",
       "┡━━━━╇━━━━━━━━━━━╇━━━━━━━━━━━━━━╇━━━━━━━━━━━━━━╇━━━━━━━━━━━━━━╇━━━━━━━━━━━━━━╇━━━━━━━━━━━━━━┩\n",
       "│ 1  │ eth0      │ 04:d4:c4:e0… │ False        │ NA           │ NA           │ NA           │\n",
       "│ 2  │ wlan0     │ 50:e0:85:5c… │ True         │ 192.168.14.… │ 255.255.255… │ 192.168.14.… │\n",
       "└────┴───────────┴──────────────┴──────────────┴──────────────┴──────────────┴──────────────┘\n"
      ]
     },
     "metadata": {},
     "output_type": "display_data"
    },
    {
     "data": {
      "text/html": [
       "<pre style=\"white-space:pre;overflow-x:auto;line-height:normal;font-family:Menlo,'DejaVu Sans Mono',consolas,'Courier New',monospace\">┏━━━━┳━━━━━━━━━━━┳━━━━━━━━━━━━━━┳━━━━━━━━━━━━━━┳━━━━━━━━━━━━━━┳━━━━━━━━━━━━━━┳━━━━━━━━━━━━━━┓\n",
       "┃<span style=\"font-weight: bold\">    </span>┃<span style=\"font-weight: bold\">           </span>┃<span style=\"font-weight: bold\">              </span>┃<span style=\"font-weight: bold\">              </span>┃<span style=\"font-weight: bold\">              </span>┃<span style=\"font-weight: bold\">              </span>┃<span style=\"font-weight: bold\"> DEFAULT      </span>┃\n",
       "┃<span style=\"font-weight: bold\"> ID </span>┃<span style=\"font-weight: bold\"> INTERFACE </span>┃<span style=\"font-weight: bold\"> MAC          </span>┃<span style=\"font-weight: bold\"> IS CONNECTED </span>┃<span style=\"font-weight: bold\"> IP           </span>┃<span style=\"font-weight: bold\"> SUBNET       </span>┃<span style=\"font-weight: bold\"> GATEWAY      </span>┃\n",
       "┡━━━━╇━━━━━━━━━━━╇━━━━━━━━━━━━━━╇━━━━━━━━━━━━━━╇━━━━━━━━━━━━━━╇━━━━━━━━━━━━━━╇━━━━━━━━━━━━━━┩\n",
       "│ 1  │ eth0      │ 04:d4:c4:e0… │ False        │ NA           │ NA           │ NA           │\n",
       "│ 2  │ wlan0     │ 50:e0:85:5c… │ True         │ 192.168.14.… │ 255.255.255… │ 192.168.14.… │\n",
       "└────┴───────────┴──────────────┴──────────────┴──────────────┴──────────────┴──────────────┘\n",
       "</pre>\n"
      ],
      "text/plain": [
       "┏━━━━┳━━━━━━━━━━━┳━━━━━━━━━━━━━━┳━━━━━━━━━━━━━━┳━━━━━━━━━━━━━━┳━━━━━━━━━━━━━━┳━━━━━━━━━━━━━━┓\n",
       "┃\u001b[1m    \u001b[0m┃\u001b[1m           \u001b[0m┃\u001b[1m              \u001b[0m┃\u001b[1m              \u001b[0m┃\u001b[1m              \u001b[0m┃\u001b[1m              \u001b[0m┃\u001b[1m \u001b[0m\u001b[1mDEFAULT     \u001b[0m\u001b[1m \u001b[0m┃\n",
       "┃\u001b[1m \u001b[0m\u001b[1mID\u001b[0m\u001b[1m \u001b[0m┃\u001b[1m \u001b[0m\u001b[1mINTERFACE\u001b[0m\u001b[1m \u001b[0m┃\u001b[1m \u001b[0m\u001b[1mMAC         \u001b[0m\u001b[1m \u001b[0m┃\u001b[1m \u001b[0m\u001b[1mIS CONNECTED\u001b[0m\u001b[1m \u001b[0m┃\u001b[1m \u001b[0m\u001b[1mIP          \u001b[0m\u001b[1m \u001b[0m┃\u001b[1m \u001b[0m\u001b[1mSUBNET      \u001b[0m\u001b[1m \u001b[0m┃\u001b[1m \u001b[0m\u001b[1mGATEWAY     \u001b[0m\u001b[1m \u001b[0m┃\n",
       "┡━━━━╇━━━━━━━━━━━╇━━━━━━━━━━━━━━╇━━━━━━━━━━━━━━╇━━━━━━━━━━━━━━╇━━━━━━━━━━━━━━╇━━━━━━━━━━━━━━┩\n",
       "│ 1  │ eth0      │ 04:d4:c4:e0… │ False        │ NA           │ NA           │ NA           │\n",
       "│ 2  │ wlan0     │ 50:e0:85:5c… │ True         │ 192.168.14.… │ 255.255.255… │ 192.168.14.… │\n",
       "└────┴───────────┴──────────────┴──────────────┴──────────────┴──────────────┴──────────────┘\n"
      ]
     },
     "metadata": {},
     "output_type": "display_data"
    },
    {
     "data": {
      "text/html": [
       "<pre style=\"white-space:pre;overflow-x:auto;line-height:normal;font-family:Menlo,'DejaVu Sans Mono',consolas,'Courier New',monospace\">┏━━━━┳━━━━━━━━━━━┳━━━━━━━━━━━━━━┳━━━━━━━━━━━━━━┳━━━━━━━━━━━━━━┳━━━━━━━━━━━━━━┳━━━━━━━━━━━━━━┓\n",
       "┃<span style=\"font-weight: bold\">    </span>┃<span style=\"font-weight: bold\">           </span>┃<span style=\"font-weight: bold\">              </span>┃<span style=\"font-weight: bold\">              </span>┃<span style=\"font-weight: bold\">              </span>┃<span style=\"font-weight: bold\">              </span>┃<span style=\"font-weight: bold\"> DEFAULT      </span>┃\n",
       "┃<span style=\"font-weight: bold\"> ID </span>┃<span style=\"font-weight: bold\"> INTERFACE </span>┃<span style=\"font-weight: bold\"> MAC          </span>┃<span style=\"font-weight: bold\"> IS CONNECTED </span>┃<span style=\"font-weight: bold\"> IP           </span>┃<span style=\"font-weight: bold\"> SUBNET       </span>┃<span style=\"font-weight: bold\"> GATEWAY      </span>┃\n",
       "┡━━━━╇━━━━━━━━━━━╇━━━━━━━━━━━━━━╇━━━━━━━━━━━━━━╇━━━━━━━━━━━━━━╇━━━━━━━━━━━━━━╇━━━━━━━━━━━━━━┩\n",
       "│ 1  │ eth0      │ 04:d4:c4:e0… │ False        │ NA           │ NA           │ NA           │\n",
       "│ 2  │ wlan0     │ 50:e0:85:5c… │ True         │ 192.168.14.… │ 255.255.255… │ 192.168.14.… │\n",
       "└────┴───────────┴──────────────┴──────────────┴──────────────┴──────────────┴──────────────┘\n",
       "</pre>\n"
      ],
      "text/plain": [
       "┏━━━━┳━━━━━━━━━━━┳━━━━━━━━━━━━━━┳━━━━━━━━━━━━━━┳━━━━━━━━━━━━━━┳━━━━━━━━━━━━━━┳━━━━━━━━━━━━━━┓\n",
       "┃\u001b[1m    \u001b[0m┃\u001b[1m           \u001b[0m┃\u001b[1m              \u001b[0m┃\u001b[1m              \u001b[0m┃\u001b[1m              \u001b[0m┃\u001b[1m              \u001b[0m┃\u001b[1m \u001b[0m\u001b[1mDEFAULT     \u001b[0m\u001b[1m \u001b[0m┃\n",
       "┃\u001b[1m \u001b[0m\u001b[1mID\u001b[0m\u001b[1m \u001b[0m┃\u001b[1m \u001b[0m\u001b[1mINTERFACE\u001b[0m\u001b[1m \u001b[0m┃\u001b[1m \u001b[0m\u001b[1mMAC         \u001b[0m\u001b[1m \u001b[0m┃\u001b[1m \u001b[0m\u001b[1mIS CONNECTED\u001b[0m\u001b[1m \u001b[0m┃\u001b[1m \u001b[0m\u001b[1mIP          \u001b[0m\u001b[1m \u001b[0m┃\u001b[1m \u001b[0m\u001b[1mSUBNET      \u001b[0m\u001b[1m \u001b[0m┃\u001b[1m \u001b[0m\u001b[1mGATEWAY     \u001b[0m\u001b[1m \u001b[0m┃\n",
       "┡━━━━╇━━━━━━━━━━━╇━━━━━━━━━━━━━━╇━━━━━━━━━━━━━━╇━━━━━━━━━━━━━━╇━━━━━━━━━━━━━━╇━━━━━━━━━━━━━━┩\n",
       "│ 1  │ eth0      │ 04:d4:c4:e0… │ False        │ NA           │ NA           │ NA           │\n",
       "│ 2  │ wlan0     │ 50:e0:85:5c… │ True         │ 192.168.14.… │ 255.255.255… │ 192.168.14.… │\n",
       "└────┴───────────┴──────────────┴──────────────┴──────────────┴──────────────┴──────────────┘\n"
      ]
     },
     "metadata": {},
     "output_type": "display_data"
    },
    {
     "data": {
      "text/html": [
       "<pre style=\"white-space:pre;overflow-x:auto;line-height:normal;font-family:Menlo,'DejaVu Sans Mono',consolas,'Courier New',monospace\">┏━━━━┳━━━━━━━━━━━┳━━━━━━━━━━━━━━┳━━━━━━━━━━━━━━┳━━━━━━━━━━━━━━┳━━━━━━━━━━━━━━┳━━━━━━━━━━━━━━┓\n",
       "┃<span style=\"font-weight: bold\">    </span>┃<span style=\"font-weight: bold\">           </span>┃<span style=\"font-weight: bold\">              </span>┃<span style=\"font-weight: bold\">              </span>┃<span style=\"font-weight: bold\">              </span>┃<span style=\"font-weight: bold\">              </span>┃<span style=\"font-weight: bold\"> DEFAULT      </span>┃\n",
       "┃<span style=\"font-weight: bold\"> ID </span>┃<span style=\"font-weight: bold\"> INTERFACE </span>┃<span style=\"font-weight: bold\"> MAC          </span>┃<span style=\"font-weight: bold\"> IS CONNECTED </span>┃<span style=\"font-weight: bold\"> IP           </span>┃<span style=\"font-weight: bold\"> SUBNET       </span>┃<span style=\"font-weight: bold\"> GATEWAY      </span>┃\n",
       "┡━━━━╇━━━━━━━━━━━╇━━━━━━━━━━━━━━╇━━━━━━━━━━━━━━╇━━━━━━━━━━━━━━╇━━━━━━━━━━━━━━╇━━━━━━━━━━━━━━┩\n",
       "│ 1  │ eth0      │ 04:d4:c4:e0… │ False        │ NA           │ NA           │ NA           │\n",
       "│ 2  │ wlan0     │ 50:e0:85:5c… │ True         │ 192.168.14.… │ 255.255.255… │ 192.168.14.… │\n",
       "└────┴───────────┴──────────────┴──────────────┴──────────────┴──────────────┴──────────────┘\n",
       "</pre>\n"
      ],
      "text/plain": [
       "┏━━━━┳━━━━━━━━━━━┳━━━━━━━━━━━━━━┳━━━━━━━━━━━━━━┳━━━━━━━━━━━━━━┳━━━━━━━━━━━━━━┳━━━━━━━━━━━━━━┓\n",
       "┃\u001b[1m    \u001b[0m┃\u001b[1m           \u001b[0m┃\u001b[1m              \u001b[0m┃\u001b[1m              \u001b[0m┃\u001b[1m              \u001b[0m┃\u001b[1m              \u001b[0m┃\u001b[1m \u001b[0m\u001b[1mDEFAULT     \u001b[0m\u001b[1m \u001b[0m┃\n",
       "┃\u001b[1m \u001b[0m\u001b[1mID\u001b[0m\u001b[1m \u001b[0m┃\u001b[1m \u001b[0m\u001b[1mINTERFACE\u001b[0m\u001b[1m \u001b[0m┃\u001b[1m \u001b[0m\u001b[1mMAC         \u001b[0m\u001b[1m \u001b[0m┃\u001b[1m \u001b[0m\u001b[1mIS CONNECTED\u001b[0m\u001b[1m \u001b[0m┃\u001b[1m \u001b[0m\u001b[1mIP          \u001b[0m\u001b[1m \u001b[0m┃\u001b[1m \u001b[0m\u001b[1mSUBNET      \u001b[0m\u001b[1m \u001b[0m┃\u001b[1m \u001b[0m\u001b[1mGATEWAY     \u001b[0m\u001b[1m \u001b[0m┃\n",
       "┡━━━━╇━━━━━━━━━━━╇━━━━━━━━━━━━━━╇━━━━━━━━━━━━━━╇━━━━━━━━━━━━━━╇━━━━━━━━━━━━━━╇━━━━━━━━━━━━━━┩\n",
       "│ 1  │ eth0      │ 04:d4:c4:e0… │ False        │ NA           │ NA           │ NA           │\n",
       "│ 2  │ wlan0     │ 50:e0:85:5c… │ True         │ 192.168.14.… │ 255.255.255… │ 192.168.14.… │\n",
       "└────┴───────────┴──────────────┴──────────────┴──────────────┴──────────────┴──────────────┘\n"
      ]
     },
     "metadata": {},
     "output_type": "display_data"
    },
    {
     "data": {
      "text/html": [
       "<pre style=\"white-space:pre;overflow-x:auto;line-height:normal;font-family:Menlo,'DejaVu Sans Mono',consolas,'Courier New',monospace\">┏━━━━┳━━━━━━━━━━━┳━━━━━━━━━━━━━━┳━━━━━━━━━━━━━━┳━━━━━━━━━━━━━━┳━━━━━━━━━━━━━━┳━━━━━━━━━━━━━━┓\n",
       "┃<span style=\"font-weight: bold\">    </span>┃<span style=\"font-weight: bold\">           </span>┃<span style=\"font-weight: bold\">              </span>┃<span style=\"font-weight: bold\">              </span>┃<span style=\"font-weight: bold\">              </span>┃<span style=\"font-weight: bold\">              </span>┃<span style=\"font-weight: bold\"> DEFAULT      </span>┃\n",
       "┃<span style=\"font-weight: bold\"> ID </span>┃<span style=\"font-weight: bold\"> INTERFACE </span>┃<span style=\"font-weight: bold\"> MAC          </span>┃<span style=\"font-weight: bold\"> IS CONNECTED </span>┃<span style=\"font-weight: bold\"> IP           </span>┃<span style=\"font-weight: bold\"> SUBNET       </span>┃<span style=\"font-weight: bold\"> GATEWAY      </span>┃\n",
       "┡━━━━╇━━━━━━━━━━━╇━━━━━━━━━━━━━━╇━━━━━━━━━━━━━━╇━━━━━━━━━━━━━━╇━━━━━━━━━━━━━━╇━━━━━━━━━━━━━━┩\n",
       "│ 1  │ eth0      │ 04:d4:c4:e0… │ False        │ NA           │ NA           │ NA           │\n",
       "│ 2  │ wlan0     │ 50:e0:85:5c… │ True         │ 192.168.14.… │ 255.255.255… │ 192.168.14.… │\n",
       "└────┴───────────┴──────────────┴──────────────┴──────────────┴──────────────┴──────────────┘\n",
       "</pre>\n"
      ],
      "text/plain": [
       "┏━━━━┳━━━━━━━━━━━┳━━━━━━━━━━━━━━┳━━━━━━━━━━━━━━┳━━━━━━━━━━━━━━┳━━━━━━━━━━━━━━┳━━━━━━━━━━━━━━┓\n",
       "┃\u001b[1m    \u001b[0m┃\u001b[1m           \u001b[0m┃\u001b[1m              \u001b[0m┃\u001b[1m              \u001b[0m┃\u001b[1m              \u001b[0m┃\u001b[1m              \u001b[0m┃\u001b[1m \u001b[0m\u001b[1mDEFAULT     \u001b[0m\u001b[1m \u001b[0m┃\n",
       "┃\u001b[1m \u001b[0m\u001b[1mID\u001b[0m\u001b[1m \u001b[0m┃\u001b[1m \u001b[0m\u001b[1mINTERFACE\u001b[0m\u001b[1m \u001b[0m┃\u001b[1m \u001b[0m\u001b[1mMAC         \u001b[0m\u001b[1m \u001b[0m┃\u001b[1m \u001b[0m\u001b[1mIS CONNECTED\u001b[0m\u001b[1m \u001b[0m┃\u001b[1m \u001b[0m\u001b[1mIP          \u001b[0m\u001b[1m \u001b[0m┃\u001b[1m \u001b[0m\u001b[1mSUBNET      \u001b[0m\u001b[1m \u001b[0m┃\u001b[1m \u001b[0m\u001b[1mGATEWAY     \u001b[0m\u001b[1m \u001b[0m┃\n",
       "┡━━━━╇━━━━━━━━━━━╇━━━━━━━━━━━━━━╇━━━━━━━━━━━━━━╇━━━━━━━━━━━━━━╇━━━━━━━━━━━━━━╇━━━━━━━━━━━━━━┩\n",
       "│ 1  │ eth0      │ 04:d4:c4:e0… │ False        │ NA           │ NA           │ NA           │\n",
       "│ 2  │ wlan0     │ 50:e0:85:5c… │ True         │ 192.168.14.… │ 255.255.255… │ 192.168.14.… │\n",
       "└────┴───────────┴──────────────┴──────────────┴──────────────┴──────────────┴──────────────┘\n"
      ]
     },
     "metadata": {},
     "output_type": "display_data"
    },
    {
     "data": {
      "text/html": [
       "<pre style=\"white-space:pre;overflow-x:auto;line-height:normal;font-family:Menlo,'DejaVu Sans Mono',consolas,'Courier New',monospace\">┏━━━━┳━━━━━━━━━━━┳━━━━━━━━━━━━━━┳━━━━━━━━━━━━━━┳━━━━━━━━━━━━━━┳━━━━━━━━━━━━━━┳━━━━━━━━━━━━━━┓\n",
       "┃<span style=\"font-weight: bold\">    </span>┃<span style=\"font-weight: bold\">           </span>┃<span style=\"font-weight: bold\">              </span>┃<span style=\"font-weight: bold\">              </span>┃<span style=\"font-weight: bold\">              </span>┃<span style=\"font-weight: bold\">              </span>┃<span style=\"font-weight: bold\"> DEFAULT      </span>┃\n",
       "┃<span style=\"font-weight: bold\"> ID </span>┃<span style=\"font-weight: bold\"> INTERFACE </span>┃<span style=\"font-weight: bold\"> MAC          </span>┃<span style=\"font-weight: bold\"> IS CONNECTED </span>┃<span style=\"font-weight: bold\"> IP           </span>┃<span style=\"font-weight: bold\"> SUBNET       </span>┃<span style=\"font-weight: bold\"> GATEWAY      </span>┃\n",
       "┡━━━━╇━━━━━━━━━━━╇━━━━━━━━━━━━━━╇━━━━━━━━━━━━━━╇━━━━━━━━━━━━━━╇━━━━━━━━━━━━━━╇━━━━━━━━━━━━━━┩\n",
       "│ 1  │ eth0      │ 04:d4:c4:e0… │ False        │ NA           │ NA           │ NA           │\n",
       "│ 2  │ wlan0     │ 50:e0:85:5c… │ True         │ 192.168.14.… │ 255.255.255… │ 192.168.14.… │\n",
       "└────┴───────────┴──────────────┴──────────────┴──────────────┴──────────────┴──────────────┘\n",
       "</pre>\n"
      ],
      "text/plain": [
       "┏━━━━┳━━━━━━━━━━━┳━━━━━━━━━━━━━━┳━━━━━━━━━━━━━━┳━━━━━━━━━━━━━━┳━━━━━━━━━━━━━━┳━━━━━━━━━━━━━━┓\n",
       "┃\u001b[1m    \u001b[0m┃\u001b[1m           \u001b[0m┃\u001b[1m              \u001b[0m┃\u001b[1m              \u001b[0m┃\u001b[1m              \u001b[0m┃\u001b[1m              \u001b[0m┃\u001b[1m \u001b[0m\u001b[1mDEFAULT     \u001b[0m\u001b[1m \u001b[0m┃\n",
       "┃\u001b[1m \u001b[0m\u001b[1mID\u001b[0m\u001b[1m \u001b[0m┃\u001b[1m \u001b[0m\u001b[1mINTERFACE\u001b[0m\u001b[1m \u001b[0m┃\u001b[1m \u001b[0m\u001b[1mMAC         \u001b[0m\u001b[1m \u001b[0m┃\u001b[1m \u001b[0m\u001b[1mIS CONNECTED\u001b[0m\u001b[1m \u001b[0m┃\u001b[1m \u001b[0m\u001b[1mIP          \u001b[0m\u001b[1m \u001b[0m┃\u001b[1m \u001b[0m\u001b[1mSUBNET      \u001b[0m\u001b[1m \u001b[0m┃\u001b[1m \u001b[0m\u001b[1mGATEWAY     \u001b[0m\u001b[1m \u001b[0m┃\n",
       "┡━━━━╇━━━━━━━━━━━╇━━━━━━━━━━━━━━╇━━━━━━━━━━━━━━╇━━━━━━━━━━━━━━╇━━━━━━━━━━━━━━╇━━━━━━━━━━━━━━┩\n",
       "│ 1  │ eth0      │ 04:d4:c4:e0… │ False        │ NA           │ NA           │ NA           │\n",
       "│ 2  │ wlan0     │ 50:e0:85:5c… │ True         │ 192.168.14.… │ 255.255.255… │ 192.168.14.… │\n",
       "└────┴───────────┴──────────────┴──────────────┴──────────────┴──────────────┴──────────────┘\n"
      ]
     },
     "metadata": {},
     "output_type": "display_data"
    },
    {
     "data": {
      "text/html": [
       "<pre style=\"white-space:pre;overflow-x:auto;line-height:normal;font-family:Menlo,'DejaVu Sans Mono',consolas,'Courier New',monospace\">┏━━━━┳━━━━━━━━━━━┳━━━━━━━━━━━━━━┳━━━━━━━━━━━━━━┳━━━━━━━━━━━━━━┳━━━━━━━━━━━━━━┳━━━━━━━━━━━━━━┓\n",
       "┃<span style=\"font-weight: bold\">    </span>┃<span style=\"font-weight: bold\">           </span>┃<span style=\"font-weight: bold\">              </span>┃<span style=\"font-weight: bold\">              </span>┃<span style=\"font-weight: bold\">              </span>┃<span style=\"font-weight: bold\">              </span>┃<span style=\"font-weight: bold\"> DEFAULT      </span>┃\n",
       "┃<span style=\"font-weight: bold\"> ID </span>┃<span style=\"font-weight: bold\"> INTERFACE </span>┃<span style=\"font-weight: bold\"> MAC          </span>┃<span style=\"font-weight: bold\"> IS CONNECTED </span>┃<span style=\"font-weight: bold\"> IP           </span>┃<span style=\"font-weight: bold\"> SUBNET       </span>┃<span style=\"font-weight: bold\"> GATEWAY      </span>┃\n",
       "┡━━━━╇━━━━━━━━━━━╇━━━━━━━━━━━━━━╇━━━━━━━━━━━━━━╇━━━━━━━━━━━━━━╇━━━━━━━━━━━━━━╇━━━━━━━━━━━━━━┩\n",
       "│ 1  │ eth0      │ 04:d4:c4:e0… │ False        │ NA           │ NA           │ NA           │\n",
       "│ 2  │ wlan0     │ 50:e0:85:5c… │ True         │ 192.168.14.… │ 255.255.255… │ 192.168.14.… │\n",
       "└────┴───────────┴──────────────┴──────────────┴──────────────┴──────────────┴──────────────┘\n",
       "</pre>\n"
      ],
      "text/plain": [
       "┏━━━━┳━━━━━━━━━━━┳━━━━━━━━━━━━━━┳━━━━━━━━━━━━━━┳━━━━━━━━━━━━━━┳━━━━━━━━━━━━━━┳━━━━━━━━━━━━━━┓\n",
       "┃\u001b[1m    \u001b[0m┃\u001b[1m           \u001b[0m┃\u001b[1m              \u001b[0m┃\u001b[1m              \u001b[0m┃\u001b[1m              \u001b[0m┃\u001b[1m              \u001b[0m┃\u001b[1m \u001b[0m\u001b[1mDEFAULT     \u001b[0m\u001b[1m \u001b[0m┃\n",
       "┃\u001b[1m \u001b[0m\u001b[1mID\u001b[0m\u001b[1m \u001b[0m┃\u001b[1m \u001b[0m\u001b[1mINTERFACE\u001b[0m\u001b[1m \u001b[0m┃\u001b[1m \u001b[0m\u001b[1mMAC         \u001b[0m\u001b[1m \u001b[0m┃\u001b[1m \u001b[0m\u001b[1mIS CONNECTED\u001b[0m\u001b[1m \u001b[0m┃\u001b[1m \u001b[0m\u001b[1mIP          \u001b[0m\u001b[1m \u001b[0m┃\u001b[1m \u001b[0m\u001b[1mSUBNET      \u001b[0m\u001b[1m \u001b[0m┃\u001b[1m \u001b[0m\u001b[1mGATEWAY     \u001b[0m\u001b[1m \u001b[0m┃\n",
       "┡━━━━╇━━━━━━━━━━━╇━━━━━━━━━━━━━━╇━━━━━━━━━━━━━━╇━━━━━━━━━━━━━━╇━━━━━━━━━━━━━━╇━━━━━━━━━━━━━━┩\n",
       "│ 1  │ eth0      │ 04:d4:c4:e0… │ False        │ NA           │ NA           │ NA           │\n",
       "│ 2  │ wlan0     │ 50:e0:85:5c… │ True         │ 192.168.14.… │ 255.255.255… │ 192.168.14.… │\n",
       "└────┴───────────┴──────────────┴──────────────┴──────────────┴──────────────┴──────────────┘\n"
      ]
     },
     "metadata": {},
     "output_type": "display_data"
    },
    {
     "data": {
      "text/html": [
       "<pre style=\"white-space:pre;overflow-x:auto;line-height:normal;font-family:Menlo,'DejaVu Sans Mono',consolas,'Courier New',monospace\">Interface wlan1 has MAC: 56:85:61:25:0f:70 , IP : NA, SUBNET : NA, DG : NA \n",
       "</pre>\n"
      ],
      "text/plain": [
       "Interface wlan1 has MAC: 56:85:61:25:0f:70 , IP : NA, SUBNET : NA, DG : NA \n"
      ]
     },
     "metadata": {},
     "output_type": "display_data"
    },
    {
     "data": {
      "text/html": [
       "<pre style=\"white-space:pre;overflow-x:auto;line-height:normal;font-family:Menlo,'DejaVu Sans Mono',consolas,'Courier New',monospace\"></pre>\n"
      ],
      "text/plain": []
     },
     "metadata": {},
     "output_type": "display_data"
    }
   ],
   "source": [
    "import time\n",
    "from rich.live import Live\n",
    "from rich.table import Table\n",
    "table = Table()\n",
    "table.add_column(\"ID\")\n",
    "table.add_column(\"INTERFACE\")\n",
    "table.add_column(\"MAC\")\n",
    "table.add_column(\"IS CONNECTED\")\n",
    "table.add_column(\"IP\")\n",
    "table.add_column(\"SUBNET\")\n",
    "table.add_column(\"DEFAULT GATEWAY\")\n",
    "Id=0\n",
    "print(interface)\n",
    "with Live(table, refresh_per_second=10): # update 4 times a second to feel fluid\n",
    "    for intrfc in interface:\n",
    "        Id+=1\n",
    "        attributes = interface[intrfc]\n",
    "        isConnected = False\n",
    "        MAC=attributes[0]\n",
    "        IP='NA'\n",
    "        SUBNET='NA'\n",
    "        defaultGateway='NA'\n",
    "        if len(attributes) == 4:\n",
    "            isConnected = True\n",
    "            IP=attributes[1]\n",
    "            SUBNET=attributes[2]\n",
    "            defaultGateway=attributes[3]\n",
    "        time.sleep(2)\n",
    "        if not(isConnected):\n",
    "            table.add_row(str(Id),intrfc,MAC,str(isConnected),IP,SUBNET,defaultGateway)\n",
    "            print(\"Interface {} has MAC: {} , IP : {}, SUBNET : {}, DG : {} \".format(intrfc,MAC,IP,SUBNET,defaultGateway))\n",
    "        else:\n",
    "            table.add_row(str(Id),intrfc,MAC,str(isConnected),IP,SUBNET,defaultGateway)\n",
    "            print(\"Interface {} has MAC: {}\".format(intrfc,MAC))"
   ]
  },
  {
   "cell_type": "code",
   "execution_count": 25,
   "id": "da625559",
   "metadata": {},
   "outputs": [],
   "source": [
    "import time\n",
    "from rich.live import Live\n",
    "from rich.table import Table\n",
    "def generate_table() -> Table:\n",
    "    \"\"\"Make a new table.\"\"\"\n",
    "    table = Table()\n",
    "    table.add_column(\"ID\")\n",
    "    table.add_column(\"Value\")\n",
    "    table.add_column(\"Status\")\n",
    "    for row in range(random.randint(2, 6)):\n",
    "        value = random.random() * 100\n",
    "        table.add_row(\n",
    "        f\"{row}\", f\"{value:3.2f}\", \"[red]ERROR\" if value < 50 else \"[green]SUCCESS\"\n",
    "        )\n",
    "    return table"
   ]
  },
  {
   "cell_type": "code",
   "execution_count": 29,
   "id": "4ff76509",
   "metadata": {},
   "outputs": [
    {
     "data": {
      "text/html": [
       "<pre style=\"white-space:pre;overflow-x:auto;line-height:normal;font-family:Menlo,'DejaVu Sans Mono',consolas,'Courier New',monospace\">Widget Javascript not detected.  It may not be installed or enabled properly. Reconnecting \n",
       "the current kernel may help.\n",
       "</pre>\n"
      ],
      "text/plain": [
       "Widget Javascript not detected.  It may not be installed or enabled properly. Reconnecting \n",
       "the current kernel may help.\n"
      ]
     },
     "metadata": {},
     "output_type": "display_data"
    },
    {
     "data": {
      "application/vnd.jupyter.widget-view+json": {
       "model_id": "008d7b4fd67340c3a1d564e4d37afd2e"
      }
     },
     "metadata": {},
     "output_type": "display_data"
    },
    {
     "data": {
      "text/html": [
       "<pre style=\"white-space:pre;overflow-x:auto;line-height:normal;font-family:Menlo,'DejaVu Sans Mono',consolas,'Courier New',monospace\">┏━━━━━━━━┳━━━━━━━━━━━━━┳━━━━━━━┓\n",
       "┃<span style=\"font-weight: bold\"> Row ID </span>┃<span style=\"font-weight: bold\"> Description </span>┃<span style=\"font-weight: bold\"> Level </span>┃\n",
       "┡━━━━━━━━╇━━━━━━━━━━━━━╇━━━━━━━┩\n",
       "└────────┴─────────────┴───────┘\n",
       "</pre>\n"
      ],
      "text/plain": [
       "┏━━━━━━━━┳━━━━━━━━━━━━━┳━━━━━━━┓\n",
       "┃\u001b[1m \u001b[0m\u001b[1mRow ID\u001b[0m\u001b[1m \u001b[0m┃\u001b[1m \u001b[0m\u001b[1mDescription\u001b[0m\u001b[1m \u001b[0m┃\u001b[1m \u001b[0m\u001b[1mLevel\u001b[0m\u001b[1m \u001b[0m┃\n",
       "┡━━━━━━━━╇━━━━━━━━━━━━━╇━━━━━━━┩\n",
       "└────────┴─────────────┴───────┘\n"
      ]
     },
     "metadata": {},
     "output_type": "display_data"
    },
    {
     "data": {
      "text/html": [
       "<pre style=\"white-space:pre;overflow-x:auto;line-height:normal;font-family:Menlo,'DejaVu Sans Mono',consolas,'Courier New',monospace\">┏━━━━━━━━┳━━━━━━━━━━━━━┳━━━━━━━┓\n",
       "┃<span style=\"font-weight: bold\"> Row ID </span>┃<span style=\"font-weight: bold\"> Description </span>┃<span style=\"font-weight: bold\"> Level </span>┃\n",
       "┡━━━━━━━━╇━━━━━━━━━━━━━╇━━━━━━━┩\n",
       "└────────┴─────────────┴───────┘\n",
       "</pre>\n"
      ],
      "text/plain": [
       "┏━━━━━━━━┳━━━━━━━━━━━━━┳━━━━━━━┓\n",
       "┃\u001b[1m \u001b[0m\u001b[1mRow ID\u001b[0m\u001b[1m \u001b[0m┃\u001b[1m \u001b[0m\u001b[1mDescription\u001b[0m\u001b[1m \u001b[0m┃\u001b[1m \u001b[0m\u001b[1mLevel\u001b[0m\u001b[1m \u001b[0m┃\n",
       "┡━━━━━━━━╇━━━━━━━━━━━━━╇━━━━━━━┩\n",
       "└────────┴─────────────┴───────┘\n"
      ]
     },
     "metadata": {},
     "output_type": "display_data"
    },
    {
     "data": {
      "text/html": [
       "<pre style=\"white-space:pre;overflow-x:auto;line-height:normal;font-family:Menlo,'DejaVu Sans Mono',consolas,'Courier New',monospace\">┏━━━━━━━━┳━━━━━━━━━━━━━━━┳━━━━━━━┓\n",
       "┃<span style=\"font-weight: bold\"> Row ID </span>┃<span style=\"font-weight: bold\"> Description   </span>┃<span style=\"font-weight: bold\"> Level </span>┃\n",
       "┡━━━━━━━━╇━━━━━━━━━━━━━━━╇━━━━━━━┩\n",
       "│ 0      │ description 0 │ <span style=\"color: #800000; text-decoration-color: #800000\">ERROR</span> │\n",
       "└────────┴───────────────┴───────┘\n",
       "</pre>\n"
      ],
      "text/plain": [
       "┏━━━━━━━━┳━━━━━━━━━━━━━━━┳━━━━━━━┓\n",
       "┃\u001b[1m \u001b[0m\u001b[1mRow ID\u001b[0m\u001b[1m \u001b[0m┃\u001b[1m \u001b[0m\u001b[1mDescription  \u001b[0m\u001b[1m \u001b[0m┃\u001b[1m \u001b[0m\u001b[1mLevel\u001b[0m\u001b[1m \u001b[0m┃\n",
       "┡━━━━━━━━╇━━━━━━━━━━━━━━━╇━━━━━━━┩\n",
       "│ 0      │ description 0 │ \u001b[31mERROR\u001b[0m │\n",
       "└────────┴───────────────┴───────┘\n"
      ]
     },
     "metadata": {},
     "output_type": "display_data"
    },
    {
     "data": {
      "text/html": [
       "<pre style=\"white-space:pre;overflow-x:auto;line-height:normal;font-family:Menlo,'DejaVu Sans Mono',consolas,'Courier New',monospace\">┏━━━━━━━━┳━━━━━━━━━━━━━━━┳━━━━━━━┓\n",
       "┃<span style=\"font-weight: bold\"> Row ID </span>┃<span style=\"font-weight: bold\"> Description   </span>┃<span style=\"font-weight: bold\"> Level </span>┃\n",
       "┡━━━━━━━━╇━━━━━━━━━━━━━━━╇━━━━━━━┩\n",
       "│ 0      │ description 0 │ <span style=\"color: #800000; text-decoration-color: #800000\">ERROR</span> │\n",
       "└────────┴───────────────┴───────┘\n",
       "</pre>\n"
      ],
      "text/plain": [
       "┏━━━━━━━━┳━━━━━━━━━━━━━━━┳━━━━━━━┓\n",
       "┃\u001b[1m \u001b[0m\u001b[1mRow ID\u001b[0m\u001b[1m \u001b[0m┃\u001b[1m \u001b[0m\u001b[1mDescription  \u001b[0m\u001b[1m \u001b[0m┃\u001b[1m \u001b[0m\u001b[1mLevel\u001b[0m\u001b[1m \u001b[0m┃\n",
       "┡━━━━━━━━╇━━━━━━━━━━━━━━━╇━━━━━━━┩\n",
       "│ 0      │ description 0 │ \u001b[31mERROR\u001b[0m │\n",
       "└────────┴───────────────┴───────┘\n"
      ]
     },
     "metadata": {},
     "output_type": "display_data"
    },
    {
     "data": {
      "text/html": [
       "<pre style=\"white-space:pre;overflow-x:auto;line-height:normal;font-family:Menlo,'DejaVu Sans Mono',consolas,'Courier New',monospace\">┏━━━━━━━━┳━━━━━━━━━━━━━━━┳━━━━━━━┓\n",
       "┃<span style=\"font-weight: bold\"> Row ID </span>┃<span style=\"font-weight: bold\"> Description   </span>┃<span style=\"font-weight: bold\"> Level </span>┃\n",
       "┡━━━━━━━━╇━━━━━━━━━━━━━━━╇━━━━━━━┩\n",
       "│ 0      │ description 0 │ <span style=\"color: #800000; text-decoration-color: #800000\">ERROR</span> │\n",
       "│ 1      │ description 1 │ <span style=\"color: #800000; text-decoration-color: #800000\">ERROR</span> │\n",
       "└────────┴───────────────┴───────┘\n",
       "</pre>\n"
      ],
      "text/plain": [
       "┏━━━━━━━━┳━━━━━━━━━━━━━━━┳━━━━━━━┓\n",
       "┃\u001b[1m \u001b[0m\u001b[1mRow ID\u001b[0m\u001b[1m \u001b[0m┃\u001b[1m \u001b[0m\u001b[1mDescription  \u001b[0m\u001b[1m \u001b[0m┃\u001b[1m \u001b[0m\u001b[1mLevel\u001b[0m\u001b[1m \u001b[0m┃\n",
       "┡━━━━━━━━╇━━━━━━━━━━━━━━━╇━━━━━━━┩\n",
       "│ 0      │ description 0 │ \u001b[31mERROR\u001b[0m │\n",
       "│ 1      │ description 1 │ \u001b[31mERROR\u001b[0m │\n",
       "└────────┴───────────────┴───────┘\n"
      ]
     },
     "metadata": {},
     "output_type": "display_data"
    },
    {
     "data": {
      "text/html": [
       "<pre style=\"white-space:pre;overflow-x:auto;line-height:normal;font-family:Menlo,'DejaVu Sans Mono',consolas,'Courier New',monospace\">┏━━━━━━━━┳━━━━━━━━━━━━━━━┳━━━━━━━┓\n",
       "┃<span style=\"font-weight: bold\"> Row ID </span>┃<span style=\"font-weight: bold\"> Description   </span>┃<span style=\"font-weight: bold\"> Level </span>┃\n",
       "┡━━━━━━━━╇━━━━━━━━━━━━━━━╇━━━━━━━┩\n",
       "│ 0      │ description 0 │ <span style=\"color: #800000; text-decoration-color: #800000\">ERROR</span> │\n",
       "│ 1      │ description 1 │ <span style=\"color: #800000; text-decoration-color: #800000\">ERROR</span> │\n",
       "│ 2      │ description 2 │ <span style=\"color: #800000; text-decoration-color: #800000\">ERROR</span> │\n",
       "└────────┴───────────────┴───────┘\n",
       "</pre>\n"
      ],
      "text/plain": [
       "┏━━━━━━━━┳━━━━━━━━━━━━━━━┳━━━━━━━┓\n",
       "┃\u001b[1m \u001b[0m\u001b[1mRow ID\u001b[0m\u001b[1m \u001b[0m┃\u001b[1m \u001b[0m\u001b[1mDescription  \u001b[0m\u001b[1m \u001b[0m┃\u001b[1m \u001b[0m\u001b[1mLevel\u001b[0m\u001b[1m \u001b[0m┃\n",
       "┡━━━━━━━━╇━━━━━━━━━━━━━━━╇━━━━━━━┩\n",
       "│ 0      │ description 0 │ \u001b[31mERROR\u001b[0m │\n",
       "│ 1      │ description 1 │ \u001b[31mERROR\u001b[0m │\n",
       "│ 2      │ description 2 │ \u001b[31mERROR\u001b[0m │\n",
       "└────────┴───────────────┴───────┘\n"
      ]
     },
     "metadata": {},
     "output_type": "display_data"
    },
    {
     "data": {
      "text/html": [
       "<pre style=\"white-space:pre;overflow-x:auto;line-height:normal;font-family:Menlo,'DejaVu Sans Mono',consolas,'Courier New',monospace\">┏━━━━━━━━┳━━━━━━━━━━━━━━━┳━━━━━━━┓\n",
       "┃<span style=\"font-weight: bold\"> Row ID </span>┃<span style=\"font-weight: bold\"> Description   </span>┃<span style=\"font-weight: bold\"> Level </span>┃\n",
       "┡━━━━━━━━╇━━━━━━━━━━━━━━━╇━━━━━━━┩\n",
       "│ 0      │ description 0 │ <span style=\"color: #800000; text-decoration-color: #800000\">ERROR</span> │\n",
       "│ 1      │ description 1 │ <span style=\"color: #800000; text-decoration-color: #800000\">ERROR</span> │\n",
       "│ 2      │ description 2 │ <span style=\"color: #800000; text-decoration-color: #800000\">ERROR</span> │\n",
       "└────────┴───────────────┴───────┘\n",
       "</pre>\n"
      ],
      "text/plain": [
       "┏━━━━━━━━┳━━━━━━━━━━━━━━━┳━━━━━━━┓\n",
       "┃\u001b[1m \u001b[0m\u001b[1mRow ID\u001b[0m\u001b[1m \u001b[0m┃\u001b[1m \u001b[0m\u001b[1mDescription  \u001b[0m\u001b[1m \u001b[0m┃\u001b[1m \u001b[0m\u001b[1mLevel\u001b[0m\u001b[1m \u001b[0m┃\n",
       "┡━━━━━━━━╇━━━━━━━━━━━━━━━╇━━━━━━━┩\n",
       "│ 0      │ description 0 │ \u001b[31mERROR\u001b[0m │\n",
       "│ 1      │ description 1 │ \u001b[31mERROR\u001b[0m │\n",
       "│ 2      │ description 2 │ \u001b[31mERROR\u001b[0m │\n",
       "└────────┴───────────────┴───────┘\n"
      ]
     },
     "metadata": {},
     "output_type": "display_data"
    },
    {
     "data": {
      "text/html": [
       "<pre style=\"white-space:pre;overflow-x:auto;line-height:normal;font-family:Menlo,'DejaVu Sans Mono',consolas,'Courier New',monospace\">┏━━━━━━━━┳━━━━━━━━━━━━━━━┳━━━━━━━┓\n",
       "┃<span style=\"font-weight: bold\"> Row ID </span>┃<span style=\"font-weight: bold\"> Description   </span>┃<span style=\"font-weight: bold\"> Level </span>┃\n",
       "┡━━━━━━━━╇━━━━━━━━━━━━━━━╇━━━━━━━┩\n",
       "│ 0      │ description 0 │ <span style=\"color: #800000; text-decoration-color: #800000\">ERROR</span> │\n",
       "│ 1      │ description 1 │ <span style=\"color: #800000; text-decoration-color: #800000\">ERROR</span> │\n",
       "│ 2      │ description 2 │ <span style=\"color: #800000; text-decoration-color: #800000\">ERROR</span> │\n",
       "│ 3      │ description 3 │ <span style=\"color: #800000; text-decoration-color: #800000\">ERROR</span> │\n",
       "└────────┴───────────────┴───────┘\n",
       "</pre>\n"
      ],
      "text/plain": [
       "┏━━━━━━━━┳━━━━━━━━━━━━━━━┳━━━━━━━┓\n",
       "┃\u001b[1m \u001b[0m\u001b[1mRow ID\u001b[0m\u001b[1m \u001b[0m┃\u001b[1m \u001b[0m\u001b[1mDescription  \u001b[0m\u001b[1m \u001b[0m┃\u001b[1m \u001b[0m\u001b[1mLevel\u001b[0m\u001b[1m \u001b[0m┃\n",
       "┡━━━━━━━━╇━━━━━━━━━━━━━━━╇━━━━━━━┩\n",
       "│ 0      │ description 0 │ \u001b[31mERROR\u001b[0m │\n",
       "│ 1      │ description 1 │ \u001b[31mERROR\u001b[0m │\n",
       "│ 2      │ description 2 │ \u001b[31mERROR\u001b[0m │\n",
       "│ 3      │ description 3 │ \u001b[31mERROR\u001b[0m │\n",
       "└────────┴───────────────┴───────┘\n"
      ]
     },
     "metadata": {},
     "output_type": "display_data"
    },
    {
     "data": {
      "text/html": [
       "<pre style=\"white-space:pre;overflow-x:auto;line-height:normal;font-family:Menlo,'DejaVu Sans Mono',consolas,'Courier New',monospace\">┏━━━━━━━━┳━━━━━━━━━━━━━━━┳━━━━━━━┓\n",
       "┃<span style=\"font-weight: bold\"> Row ID </span>┃<span style=\"font-weight: bold\"> Description   </span>┃<span style=\"font-weight: bold\"> Level </span>┃\n",
       "┡━━━━━━━━╇━━━━━━━━━━━━━━━╇━━━━━━━┩\n",
       "│ 0      │ description 0 │ <span style=\"color: #800000; text-decoration-color: #800000\">ERROR</span> │\n",
       "│ 1      │ description 1 │ <span style=\"color: #800000; text-decoration-color: #800000\">ERROR</span> │\n",
       "│ 2      │ description 2 │ <span style=\"color: #800000; text-decoration-color: #800000\">ERROR</span> │\n",
       "│ 3      │ description 3 │ <span style=\"color: #800000; text-decoration-color: #800000\">ERROR</span> │\n",
       "│ 4      │ description 4 │ <span style=\"color: #800000; text-decoration-color: #800000\">ERROR</span> │\n",
       "└────────┴───────────────┴───────┘\n",
       "</pre>\n"
      ],
      "text/plain": [
       "┏━━━━━━━━┳━━━━━━━━━━━━━━━┳━━━━━━━┓\n",
       "┃\u001b[1m \u001b[0m\u001b[1mRow ID\u001b[0m\u001b[1m \u001b[0m┃\u001b[1m \u001b[0m\u001b[1mDescription  \u001b[0m\u001b[1m \u001b[0m┃\u001b[1m \u001b[0m\u001b[1mLevel\u001b[0m\u001b[1m \u001b[0m┃\n",
       "┡━━━━━━━━╇━━━━━━━━━━━━━━━╇━━━━━━━┩\n",
       "│ 0      │ description 0 │ \u001b[31mERROR\u001b[0m │\n",
       "│ 1      │ description 1 │ \u001b[31mERROR\u001b[0m │\n",
       "│ 2      │ description 2 │ \u001b[31mERROR\u001b[0m │\n",
       "│ 3      │ description 3 │ \u001b[31mERROR\u001b[0m │\n",
       "│ 4      │ description 4 │ \u001b[31mERROR\u001b[0m │\n",
       "└────────┴───────────────┴───────┘\n"
      ]
     },
     "metadata": {},
     "output_type": "display_data"
    },
    {
     "data": {
      "text/html": [
       "<pre style=\"white-space:pre;overflow-x:auto;line-height:normal;font-family:Menlo,'DejaVu Sans Mono',consolas,'Courier New',monospace\">┏━━━━━━━━┳━━━━━━━━━━━━━━━┳━━━━━━━┓\n",
       "┃<span style=\"font-weight: bold\"> Row ID </span>┃<span style=\"font-weight: bold\"> Description   </span>┃<span style=\"font-weight: bold\"> Level </span>┃\n",
       "┡━━━━━━━━╇━━━━━━━━━━━━━━━╇━━━━━━━┩\n",
       "│ 0      │ description 0 │ <span style=\"color: #800000; text-decoration-color: #800000\">ERROR</span> │\n",
       "│ 1      │ description 1 │ <span style=\"color: #800000; text-decoration-color: #800000\">ERROR</span> │\n",
       "│ 2      │ description 2 │ <span style=\"color: #800000; text-decoration-color: #800000\">ERROR</span> │\n",
       "│ 3      │ description 3 │ <span style=\"color: #800000; text-decoration-color: #800000\">ERROR</span> │\n",
       "│ 4      │ description 4 │ <span style=\"color: #800000; text-decoration-color: #800000\">ERROR</span> │\n",
       "└────────┴───────────────┴───────┘\n",
       "</pre>\n"
      ],
      "text/plain": [
       "┏━━━━━━━━┳━━━━━━━━━━━━━━━┳━━━━━━━┓\n",
       "┃\u001b[1m \u001b[0m\u001b[1mRow ID\u001b[0m\u001b[1m \u001b[0m┃\u001b[1m \u001b[0m\u001b[1mDescription  \u001b[0m\u001b[1m \u001b[0m┃\u001b[1m \u001b[0m\u001b[1mLevel\u001b[0m\u001b[1m \u001b[0m┃\n",
       "┡━━━━━━━━╇━━━━━━━━━━━━━━━╇━━━━━━━┩\n",
       "│ 0      │ description 0 │ \u001b[31mERROR\u001b[0m │\n",
       "│ 1      │ description 1 │ \u001b[31mERROR\u001b[0m │\n",
       "│ 2      │ description 2 │ \u001b[31mERROR\u001b[0m │\n",
       "│ 3      │ description 3 │ \u001b[31mERROR\u001b[0m │\n",
       "│ 4      │ description 4 │ \u001b[31mERROR\u001b[0m │\n",
       "└────────┴───────────────┴───────┘\n"
      ]
     },
     "metadata": {},
     "output_type": "display_data"
    },
    {
     "data": {
      "text/html": [
       "<pre style=\"white-space:pre;overflow-x:auto;line-height:normal;font-family:Menlo,'DejaVu Sans Mono',consolas,'Courier New',monospace\">┏━━━━━━━━┳━━━━━━━━━━━━━━━┳━━━━━━━┓\n",
       "┃<span style=\"font-weight: bold\"> Row ID </span>┃<span style=\"font-weight: bold\"> Description   </span>┃<span style=\"font-weight: bold\"> Level </span>┃\n",
       "┡━━━━━━━━╇━━━━━━━━━━━━━━━╇━━━━━━━┩\n",
       "│ 0      │ description 0 │ <span style=\"color: #800000; text-decoration-color: #800000\">ERROR</span> │\n",
       "│ 1      │ description 1 │ <span style=\"color: #800000; text-decoration-color: #800000\">ERROR</span> │\n",
       "│ 2      │ description 2 │ <span style=\"color: #800000; text-decoration-color: #800000\">ERROR</span> │\n",
       "│ 3      │ description 3 │ <span style=\"color: #800000; text-decoration-color: #800000\">ERROR</span> │\n",
       "│ 4      │ description 4 │ <span style=\"color: #800000; text-decoration-color: #800000\">ERROR</span> │\n",
       "│ 5      │ description 5 │ <span style=\"color: #800000; text-decoration-color: #800000\">ERROR</span> │\n",
       "└────────┴───────────────┴───────┘\n",
       "</pre>\n"
      ],
      "text/plain": [
       "┏━━━━━━━━┳━━━━━━━━━━━━━━━┳━━━━━━━┓\n",
       "┃\u001b[1m \u001b[0m\u001b[1mRow ID\u001b[0m\u001b[1m \u001b[0m┃\u001b[1m \u001b[0m\u001b[1mDescription  \u001b[0m\u001b[1m \u001b[0m┃\u001b[1m \u001b[0m\u001b[1mLevel\u001b[0m\u001b[1m \u001b[0m┃\n",
       "┡━━━━━━━━╇━━━━━━━━━━━━━━━╇━━━━━━━┩\n",
       "│ 0      │ description 0 │ \u001b[31mERROR\u001b[0m │\n",
       "│ 1      │ description 1 │ \u001b[31mERROR\u001b[0m │\n",
       "│ 2      │ description 2 │ \u001b[31mERROR\u001b[0m │\n",
       "│ 3      │ description 3 │ \u001b[31mERROR\u001b[0m │\n",
       "│ 4      │ description 4 │ \u001b[31mERROR\u001b[0m │\n",
       "│ 5      │ description 5 │ \u001b[31mERROR\u001b[0m │\n",
       "└────────┴───────────────┴───────┘\n"
      ]
     },
     "metadata": {},
     "output_type": "display_data"
    },
    {
     "data": {
      "text/html": [
       "<pre style=\"white-space:pre;overflow-x:auto;line-height:normal;font-family:Menlo,'DejaVu Sans Mono',consolas,'Courier New',monospace\">┏━━━━━━━━┳━━━━━━━━━━━━━━━┳━━━━━━━┓\n",
       "┃<span style=\"font-weight: bold\"> Row ID </span>┃<span style=\"font-weight: bold\"> Description   </span>┃<span style=\"font-weight: bold\"> Level </span>┃\n",
       "┡━━━━━━━━╇━━━━━━━━━━━━━━━╇━━━━━━━┩\n",
       "│ 0      │ description 0 │ <span style=\"color: #800000; text-decoration-color: #800000\">ERROR</span> │\n",
       "│ 1      │ description 1 │ <span style=\"color: #800000; text-decoration-color: #800000\">ERROR</span> │\n",
       "│ 2      │ description 2 │ <span style=\"color: #800000; text-decoration-color: #800000\">ERROR</span> │\n",
       "│ 3      │ description 3 │ <span style=\"color: #800000; text-decoration-color: #800000\">ERROR</span> │\n",
       "│ 4      │ description 4 │ <span style=\"color: #800000; text-decoration-color: #800000\">ERROR</span> │\n",
       "│ 5      │ description 5 │ <span style=\"color: #800000; text-decoration-color: #800000\">ERROR</span> │\n",
       "│ 6      │ description 6 │ <span style=\"color: #800000; text-decoration-color: #800000\">ERROR</span> │\n",
       "└────────┴───────────────┴───────┘\n",
       "</pre>\n"
      ],
      "text/plain": [
       "┏━━━━━━━━┳━━━━━━━━━━━━━━━┳━━━━━━━┓\n",
       "┃\u001b[1m \u001b[0m\u001b[1mRow ID\u001b[0m\u001b[1m \u001b[0m┃\u001b[1m \u001b[0m\u001b[1mDescription  \u001b[0m\u001b[1m \u001b[0m┃\u001b[1m \u001b[0m\u001b[1mLevel\u001b[0m\u001b[1m \u001b[0m┃\n",
       "┡━━━━━━━━╇━━━━━━━━━━━━━━━╇━━━━━━━┩\n",
       "│ 0      │ description 0 │ \u001b[31mERROR\u001b[0m │\n",
       "│ 1      │ description 1 │ \u001b[31mERROR\u001b[0m │\n",
       "│ 2      │ description 2 │ \u001b[31mERROR\u001b[0m │\n",
       "│ 3      │ description 3 │ \u001b[31mERROR\u001b[0m │\n",
       "│ 4      │ description 4 │ \u001b[31mERROR\u001b[0m │\n",
       "│ 5      │ description 5 │ \u001b[31mERROR\u001b[0m │\n",
       "│ 6      │ description 6 │ \u001b[31mERROR\u001b[0m │\n",
       "└────────┴───────────────┴───────┘\n"
      ]
     },
     "metadata": {},
     "output_type": "display_data"
    },
    {
     "data": {
      "text/html": [
       "<pre style=\"white-space:pre;overflow-x:auto;line-height:normal;font-family:Menlo,'DejaVu Sans Mono',consolas,'Courier New',monospace\">┏━━━━━━━━┳━━━━━━━━━━━━━━━┳━━━━━━━┓\n",
       "┃<span style=\"font-weight: bold\"> Row ID </span>┃<span style=\"font-weight: bold\"> Description   </span>┃<span style=\"font-weight: bold\"> Level </span>┃\n",
       "┡━━━━━━━━╇━━━━━━━━━━━━━━━╇━━━━━━━┩\n",
       "│ 0      │ description 0 │ <span style=\"color: #800000; text-decoration-color: #800000\">ERROR</span> │\n",
       "│ 1      │ description 1 │ <span style=\"color: #800000; text-decoration-color: #800000\">ERROR</span> │\n",
       "│ 2      │ description 2 │ <span style=\"color: #800000; text-decoration-color: #800000\">ERROR</span> │\n",
       "│ 3      │ description 3 │ <span style=\"color: #800000; text-decoration-color: #800000\">ERROR</span> │\n",
       "│ 4      │ description 4 │ <span style=\"color: #800000; text-decoration-color: #800000\">ERROR</span> │\n",
       "│ 5      │ description 5 │ <span style=\"color: #800000; text-decoration-color: #800000\">ERROR</span> │\n",
       "│ 6      │ description 6 │ <span style=\"color: #800000; text-decoration-color: #800000\">ERROR</span> │\n",
       "└────────┴───────────────┴───────┘\n",
       "</pre>\n"
      ],
      "text/plain": [
       "┏━━━━━━━━┳━━━━━━━━━━━━━━━┳━━━━━━━┓\n",
       "┃\u001b[1m \u001b[0m\u001b[1mRow ID\u001b[0m\u001b[1m \u001b[0m┃\u001b[1m \u001b[0m\u001b[1mDescription  \u001b[0m\u001b[1m \u001b[0m┃\u001b[1m \u001b[0m\u001b[1mLevel\u001b[0m\u001b[1m \u001b[0m┃\n",
       "┡━━━━━━━━╇━━━━━━━━━━━━━━━╇━━━━━━━┩\n",
       "│ 0      │ description 0 │ \u001b[31mERROR\u001b[0m │\n",
       "│ 1      │ description 1 │ \u001b[31mERROR\u001b[0m │\n",
       "│ 2      │ description 2 │ \u001b[31mERROR\u001b[0m │\n",
       "│ 3      │ description 3 │ \u001b[31mERROR\u001b[0m │\n",
       "│ 4      │ description 4 │ \u001b[31mERROR\u001b[0m │\n",
       "│ 5      │ description 5 │ \u001b[31mERROR\u001b[0m │\n",
       "│ 6      │ description 6 │ \u001b[31mERROR\u001b[0m │\n",
       "└────────┴───────────────┴───────┘\n"
      ]
     },
     "metadata": {},
     "output_type": "display_data"
    },
    {
     "data": {
      "text/html": [
       "<pre style=\"white-space:pre;overflow-x:auto;line-height:normal;font-family:Menlo,'DejaVu Sans Mono',consolas,'Courier New',monospace\">┏━━━━━━━━┳━━━━━━━━━━━━━━━┳━━━━━━━┓\n",
       "┃<span style=\"font-weight: bold\"> Row ID </span>┃<span style=\"font-weight: bold\"> Description   </span>┃<span style=\"font-weight: bold\"> Level </span>┃\n",
       "┡━━━━━━━━╇━━━━━━━━━━━━━━━╇━━━━━━━┩\n",
       "│ 0      │ description 0 │ <span style=\"color: #800000; text-decoration-color: #800000\">ERROR</span> │\n",
       "│ 1      │ description 1 │ <span style=\"color: #800000; text-decoration-color: #800000\">ERROR</span> │\n",
       "│ 2      │ description 2 │ <span style=\"color: #800000; text-decoration-color: #800000\">ERROR</span> │\n",
       "│ 3      │ description 3 │ <span style=\"color: #800000; text-decoration-color: #800000\">ERROR</span> │\n",
       "│ 4      │ description 4 │ <span style=\"color: #800000; text-decoration-color: #800000\">ERROR</span> │\n",
       "│ 5      │ description 5 │ <span style=\"color: #800000; text-decoration-color: #800000\">ERROR</span> │\n",
       "│ 6      │ description 6 │ <span style=\"color: #800000; text-decoration-color: #800000\">ERROR</span> │\n",
       "│ 7      │ description 7 │ <span style=\"color: #800000; text-decoration-color: #800000\">ERROR</span> │\n",
       "└────────┴───────────────┴───────┘\n",
       "</pre>\n"
      ],
      "text/plain": [
       "┏━━━━━━━━┳━━━━━━━━━━━━━━━┳━━━━━━━┓\n",
       "┃\u001b[1m \u001b[0m\u001b[1mRow ID\u001b[0m\u001b[1m \u001b[0m┃\u001b[1m \u001b[0m\u001b[1mDescription  \u001b[0m\u001b[1m \u001b[0m┃\u001b[1m \u001b[0m\u001b[1mLevel\u001b[0m\u001b[1m \u001b[0m┃\n",
       "┡━━━━━━━━╇━━━━━━━━━━━━━━━╇━━━━━━━┩\n",
       "│ 0      │ description 0 │ \u001b[31mERROR\u001b[0m │\n",
       "│ 1      │ description 1 │ \u001b[31mERROR\u001b[0m │\n",
       "│ 2      │ description 2 │ \u001b[31mERROR\u001b[0m │\n",
       "│ 3      │ description 3 │ \u001b[31mERROR\u001b[0m │\n",
       "│ 4      │ description 4 │ \u001b[31mERROR\u001b[0m │\n",
       "│ 5      │ description 5 │ \u001b[31mERROR\u001b[0m │\n",
       "│ 6      │ description 6 │ \u001b[31mERROR\u001b[0m │\n",
       "│ 7      │ description 7 │ \u001b[31mERROR\u001b[0m │\n",
       "└────────┴───────────────┴───────┘\n"
      ]
     },
     "metadata": {},
     "output_type": "display_data"
    },
    {
     "data": {
      "text/html": [
       "<pre style=\"white-space:pre;overflow-x:auto;line-height:normal;font-family:Menlo,'DejaVu Sans Mono',consolas,'Courier New',monospace\">┏━━━━━━━━┳━━━━━━━━━━━━━━━┳━━━━━━━┓\n",
       "┃<span style=\"font-weight: bold\"> Row ID </span>┃<span style=\"font-weight: bold\"> Description   </span>┃<span style=\"font-weight: bold\"> Level </span>┃\n",
       "┡━━━━━━━━╇━━━━━━━━━━━━━━━╇━━━━━━━┩\n",
       "│ 0      │ description 0 │ <span style=\"color: #800000; text-decoration-color: #800000\">ERROR</span> │\n",
       "│ 1      │ description 1 │ <span style=\"color: #800000; text-decoration-color: #800000\">ERROR</span> │\n",
       "│ 2      │ description 2 │ <span style=\"color: #800000; text-decoration-color: #800000\">ERROR</span> │\n",
       "│ 3      │ description 3 │ <span style=\"color: #800000; text-decoration-color: #800000\">ERROR</span> │\n",
       "│ 4      │ description 4 │ <span style=\"color: #800000; text-decoration-color: #800000\">ERROR</span> │\n",
       "│ 5      │ description 5 │ <span style=\"color: #800000; text-decoration-color: #800000\">ERROR</span> │\n",
       "│ 6      │ description 6 │ <span style=\"color: #800000; text-decoration-color: #800000\">ERROR</span> │\n",
       "│ 7      │ description 7 │ <span style=\"color: #800000; text-decoration-color: #800000\">ERROR</span> │\n",
       "└────────┴───────────────┴───────┘\n",
       "</pre>\n"
      ],
      "text/plain": [
       "┏━━━━━━━━┳━━━━━━━━━━━━━━━┳━━━━━━━┓\n",
       "┃\u001b[1m \u001b[0m\u001b[1mRow ID\u001b[0m\u001b[1m \u001b[0m┃\u001b[1m \u001b[0m\u001b[1mDescription  \u001b[0m\u001b[1m \u001b[0m┃\u001b[1m \u001b[0m\u001b[1mLevel\u001b[0m\u001b[1m \u001b[0m┃\n",
       "┡━━━━━━━━╇━━━━━━━━━━━━━━━╇━━━━━━━┩\n",
       "│ 0      │ description 0 │ \u001b[31mERROR\u001b[0m │\n",
       "│ 1      │ description 1 │ \u001b[31mERROR\u001b[0m │\n",
       "│ 2      │ description 2 │ \u001b[31mERROR\u001b[0m │\n",
       "│ 3      │ description 3 │ \u001b[31mERROR\u001b[0m │\n",
       "│ 4      │ description 4 │ \u001b[31mERROR\u001b[0m │\n",
       "│ 5      │ description 5 │ \u001b[31mERROR\u001b[0m │\n",
       "│ 6      │ description 6 │ \u001b[31mERROR\u001b[0m │\n",
       "│ 7      │ description 7 │ \u001b[31mERROR\u001b[0m │\n",
       "└────────┴───────────────┴───────┘\n"
      ]
     },
     "metadata": {},
     "output_type": "display_data"
    },
    {
     "data": {
      "text/html": [
       "<pre style=\"white-space:pre;overflow-x:auto;line-height:normal;font-family:Menlo,'DejaVu Sans Mono',consolas,'Courier New',monospace\">┏━━━━━━━━┳━━━━━━━━━━━━━━━┳━━━━━━━┓\n",
       "┃<span style=\"font-weight: bold\"> Row ID </span>┃<span style=\"font-weight: bold\"> Description   </span>┃<span style=\"font-weight: bold\"> Level </span>┃\n",
       "┡━━━━━━━━╇━━━━━━━━━━━━━━━╇━━━━━━━┩\n",
       "│ 0      │ description 0 │ <span style=\"color: #800000; text-decoration-color: #800000\">ERROR</span> │\n",
       "│ 1      │ description 1 │ <span style=\"color: #800000; text-decoration-color: #800000\">ERROR</span> │\n",
       "│ 2      │ description 2 │ <span style=\"color: #800000; text-decoration-color: #800000\">ERROR</span> │\n",
       "│ 3      │ description 3 │ <span style=\"color: #800000; text-decoration-color: #800000\">ERROR</span> │\n",
       "│ 4      │ description 4 │ <span style=\"color: #800000; text-decoration-color: #800000\">ERROR</span> │\n",
       "│ 5      │ description 5 │ <span style=\"color: #800000; text-decoration-color: #800000\">ERROR</span> │\n",
       "│ 6      │ description 6 │ <span style=\"color: #800000; text-decoration-color: #800000\">ERROR</span> │\n",
       "│ 7      │ description 7 │ <span style=\"color: #800000; text-decoration-color: #800000\">ERROR</span> │\n",
       "│ 8      │ description 8 │ <span style=\"color: #800000; text-decoration-color: #800000\">ERROR</span> │\n",
       "└────────┴───────────────┴───────┘\n",
       "</pre>\n"
      ],
      "text/plain": [
       "┏━━━━━━━━┳━━━━━━━━━━━━━━━┳━━━━━━━┓\n",
       "┃\u001b[1m \u001b[0m\u001b[1mRow ID\u001b[0m\u001b[1m \u001b[0m┃\u001b[1m \u001b[0m\u001b[1mDescription  \u001b[0m\u001b[1m \u001b[0m┃\u001b[1m \u001b[0m\u001b[1mLevel\u001b[0m\u001b[1m \u001b[0m┃\n",
       "┡━━━━━━━━╇━━━━━━━━━━━━━━━╇━━━━━━━┩\n",
       "│ 0      │ description 0 │ \u001b[31mERROR\u001b[0m │\n",
       "│ 1      │ description 1 │ \u001b[31mERROR\u001b[0m │\n",
       "│ 2      │ description 2 │ \u001b[31mERROR\u001b[0m │\n",
       "│ 3      │ description 3 │ \u001b[31mERROR\u001b[0m │\n",
       "│ 4      │ description 4 │ \u001b[31mERROR\u001b[0m │\n",
       "│ 5      │ description 5 │ \u001b[31mERROR\u001b[0m │\n",
       "│ 6      │ description 6 │ \u001b[31mERROR\u001b[0m │\n",
       "│ 7      │ description 7 │ \u001b[31mERROR\u001b[0m │\n",
       "│ 8      │ description 8 │ \u001b[31mERROR\u001b[0m │\n",
       "└────────┴───────────────┴───────┘\n"
      ]
     },
     "metadata": {},
     "output_type": "display_data"
    },
    {
     "data": {
      "text/html": [
       "<pre style=\"white-space:pre;overflow-x:auto;line-height:normal;font-family:Menlo,'DejaVu Sans Mono',consolas,'Courier New',monospace\">┏━━━━━━━━┳━━━━━━━━━━━━━━━┳━━━━━━━┓\n",
       "┃<span style=\"font-weight: bold\"> Row ID </span>┃<span style=\"font-weight: bold\"> Description   </span>┃<span style=\"font-weight: bold\"> Level </span>┃\n",
       "┡━━━━━━━━╇━━━━━━━━━━━━━━━╇━━━━━━━┩\n",
       "│ 0      │ description 0 │ <span style=\"color: #800000; text-decoration-color: #800000\">ERROR</span> │\n",
       "│ 1      │ description 1 │ <span style=\"color: #800000; text-decoration-color: #800000\">ERROR</span> │\n",
       "│ 2      │ description 2 │ <span style=\"color: #800000; text-decoration-color: #800000\">ERROR</span> │\n",
       "│ 3      │ description 3 │ <span style=\"color: #800000; text-decoration-color: #800000\">ERROR</span> │\n",
       "│ 4      │ description 4 │ <span style=\"color: #800000; text-decoration-color: #800000\">ERROR</span> │\n",
       "│ 5      │ description 5 │ <span style=\"color: #800000; text-decoration-color: #800000\">ERROR</span> │\n",
       "│ 6      │ description 6 │ <span style=\"color: #800000; text-decoration-color: #800000\">ERROR</span> │\n",
       "│ 7      │ description 7 │ <span style=\"color: #800000; text-decoration-color: #800000\">ERROR</span> │\n",
       "│ 8      │ description 8 │ <span style=\"color: #800000; text-decoration-color: #800000\">ERROR</span> │\n",
       "│ 9      │ description 9 │ <span style=\"color: #800000; text-decoration-color: #800000\">ERROR</span> │\n",
       "└────────┴───────────────┴───────┘\n",
       "</pre>\n"
      ],
      "text/plain": [
       "┏━━━━━━━━┳━━━━━━━━━━━━━━━┳━━━━━━━┓\n",
       "┃\u001b[1m \u001b[0m\u001b[1mRow ID\u001b[0m\u001b[1m \u001b[0m┃\u001b[1m \u001b[0m\u001b[1mDescription  \u001b[0m\u001b[1m \u001b[0m┃\u001b[1m \u001b[0m\u001b[1mLevel\u001b[0m\u001b[1m \u001b[0m┃\n",
       "┡━━━━━━━━╇━━━━━━━━━━━━━━━╇━━━━━━━┩\n",
       "│ 0      │ description 0 │ \u001b[31mERROR\u001b[0m │\n",
       "│ 1      │ description 1 │ \u001b[31mERROR\u001b[0m │\n",
       "│ 2      │ description 2 │ \u001b[31mERROR\u001b[0m │\n",
       "│ 3      │ description 3 │ \u001b[31mERROR\u001b[0m │\n",
       "│ 4      │ description 4 │ \u001b[31mERROR\u001b[0m │\n",
       "│ 5      │ description 5 │ \u001b[31mERROR\u001b[0m │\n",
       "│ 6      │ description 6 │ \u001b[31mERROR\u001b[0m │\n",
       "│ 7      │ description 7 │ \u001b[31mERROR\u001b[0m │\n",
       "│ 8      │ description 8 │ \u001b[31mERROR\u001b[0m │\n",
       "│ 9      │ description 9 │ \u001b[31mERROR\u001b[0m │\n",
       "└────────┴───────────────┴───────┘\n"
      ]
     },
     "metadata": {},
     "output_type": "display_data"
    },
    {
     "data": {
      "text/html": [
       "<pre style=\"white-space:pre;overflow-x:auto;line-height:normal;font-family:Menlo,'DejaVu Sans Mono',consolas,'Courier New',monospace\">┏━━━━━━━━┳━━━━━━━━━━━━━━━┳━━━━━━━┓\n",
       "┃<span style=\"font-weight: bold\"> Row ID </span>┃<span style=\"font-weight: bold\"> Description   </span>┃<span style=\"font-weight: bold\"> Level </span>┃\n",
       "┡━━━━━━━━╇━━━━━━━━━━━━━━━╇━━━━━━━┩\n",
       "│ 0      │ description 0 │ <span style=\"color: #800000; text-decoration-color: #800000\">ERROR</span> │\n",
       "│ 1      │ description 1 │ <span style=\"color: #800000; text-decoration-color: #800000\">ERROR</span> │\n",
       "│ 2      │ description 2 │ <span style=\"color: #800000; text-decoration-color: #800000\">ERROR</span> │\n",
       "│ 3      │ description 3 │ <span style=\"color: #800000; text-decoration-color: #800000\">ERROR</span> │\n",
       "│ 4      │ description 4 │ <span style=\"color: #800000; text-decoration-color: #800000\">ERROR</span> │\n",
       "│ 5      │ description 5 │ <span style=\"color: #800000; text-decoration-color: #800000\">ERROR</span> │\n",
       "│ 6      │ description 6 │ <span style=\"color: #800000; text-decoration-color: #800000\">ERROR</span> │\n",
       "│ 7      │ description 7 │ <span style=\"color: #800000; text-decoration-color: #800000\">ERROR</span> │\n",
       "│ 8      │ description 8 │ <span style=\"color: #800000; text-decoration-color: #800000\">ERROR</span> │\n",
       "│ 9      │ description 9 │ <span style=\"color: #800000; text-decoration-color: #800000\">ERROR</span> │\n",
       "└────────┴───────────────┴───────┘\n",
       "</pre>\n"
      ],
      "text/plain": [
       "┏━━━━━━━━┳━━━━━━━━━━━━━━━┳━━━━━━━┓\n",
       "┃\u001b[1m \u001b[0m\u001b[1mRow ID\u001b[0m\u001b[1m \u001b[0m┃\u001b[1m \u001b[0m\u001b[1mDescription  \u001b[0m\u001b[1m \u001b[0m┃\u001b[1m \u001b[0m\u001b[1mLevel\u001b[0m\u001b[1m \u001b[0m┃\n",
       "┡━━━━━━━━╇━━━━━━━━━━━━━━━╇━━━━━━━┩\n",
       "│ 0      │ description 0 │ \u001b[31mERROR\u001b[0m │\n",
       "│ 1      │ description 1 │ \u001b[31mERROR\u001b[0m │\n",
       "│ 2      │ description 2 │ \u001b[31mERROR\u001b[0m │\n",
       "│ 3      │ description 3 │ \u001b[31mERROR\u001b[0m │\n",
       "│ 4      │ description 4 │ \u001b[31mERROR\u001b[0m │\n",
       "│ 5      │ description 5 │ \u001b[31mERROR\u001b[0m │\n",
       "│ 6      │ description 6 │ \u001b[31mERROR\u001b[0m │\n",
       "│ 7      │ description 7 │ \u001b[31mERROR\u001b[0m │\n",
       "│ 8      │ description 8 │ \u001b[31mERROR\u001b[0m │\n",
       "│ 9      │ description 9 │ \u001b[31mERROR\u001b[0m │\n",
       "└────────┴───────────────┴───────┘\n"
      ]
     },
     "metadata": {},
     "output_type": "display_data"
    },
    {
     "data": {
      "text/html": [
       "<pre style=\"white-space:pre;overflow-x:auto;line-height:normal;font-family:Menlo,'DejaVu Sans Mono',consolas,'Courier New',monospace\">┏━━━━━━━━┳━━━━━━━━━━━━━━━━┳━━━━━━━┓\n",
       "┃<span style=\"font-weight: bold\"> Row ID </span>┃<span style=\"font-weight: bold\"> Description    </span>┃<span style=\"font-weight: bold\"> Level </span>┃\n",
       "┡━━━━━━━━╇━━━━━━━━━━━━━━━━╇━━━━━━━┩\n",
       "│ 0      │ description 0  │ <span style=\"color: #800000; text-decoration-color: #800000\">ERROR</span> │\n",
       "│ 1      │ description 1  │ <span style=\"color: #800000; text-decoration-color: #800000\">ERROR</span> │\n",
       "│ 2      │ description 2  │ <span style=\"color: #800000; text-decoration-color: #800000\">ERROR</span> │\n",
       "│ 3      │ description 3  │ <span style=\"color: #800000; text-decoration-color: #800000\">ERROR</span> │\n",
       "│ 4      │ description 4  │ <span style=\"color: #800000; text-decoration-color: #800000\">ERROR</span> │\n",
       "│ 5      │ description 5  │ <span style=\"color: #800000; text-decoration-color: #800000\">ERROR</span> │\n",
       "│ 6      │ description 6  │ <span style=\"color: #800000; text-decoration-color: #800000\">ERROR</span> │\n",
       "│ 7      │ description 7  │ <span style=\"color: #800000; text-decoration-color: #800000\">ERROR</span> │\n",
       "│ 8      │ description 8  │ <span style=\"color: #800000; text-decoration-color: #800000\">ERROR</span> │\n",
       "│ 9      │ description 9  │ <span style=\"color: #800000; text-decoration-color: #800000\">ERROR</span> │\n",
       "│ 10     │ description 10 │ <span style=\"color: #800000; text-decoration-color: #800000\">ERROR</span> │\n",
       "└────────┴────────────────┴───────┘\n",
       "</pre>\n"
      ],
      "text/plain": [
       "┏━━━━━━━━┳━━━━━━━━━━━━━━━━┳━━━━━━━┓\n",
       "┃\u001b[1m \u001b[0m\u001b[1mRow ID\u001b[0m\u001b[1m \u001b[0m┃\u001b[1m \u001b[0m\u001b[1mDescription   \u001b[0m\u001b[1m \u001b[0m┃\u001b[1m \u001b[0m\u001b[1mLevel\u001b[0m\u001b[1m \u001b[0m┃\n",
       "┡━━━━━━━━╇━━━━━━━━━━━━━━━━╇━━━━━━━┩\n",
       "│ 0      │ description 0  │ \u001b[31mERROR\u001b[0m │\n",
       "│ 1      │ description 1  │ \u001b[31mERROR\u001b[0m │\n",
       "│ 2      │ description 2  │ \u001b[31mERROR\u001b[0m │\n",
       "│ 3      │ description 3  │ \u001b[31mERROR\u001b[0m │\n",
       "│ 4      │ description 4  │ \u001b[31mERROR\u001b[0m │\n",
       "│ 5      │ description 5  │ \u001b[31mERROR\u001b[0m │\n",
       "│ 6      │ description 6  │ \u001b[31mERROR\u001b[0m │\n",
       "│ 7      │ description 7  │ \u001b[31mERROR\u001b[0m │\n",
       "│ 8      │ description 8  │ \u001b[31mERROR\u001b[0m │\n",
       "│ 9      │ description 9  │ \u001b[31mERROR\u001b[0m │\n",
       "│ 10     │ description 10 │ \u001b[31mERROR\u001b[0m │\n",
       "└────────┴────────────────┴───────┘\n"
      ]
     },
     "metadata": {},
     "output_type": "display_data"
    },
    {
     "data": {
      "text/html": [
       "<pre style=\"white-space:pre;overflow-x:auto;line-height:normal;font-family:Menlo,'DejaVu Sans Mono',consolas,'Courier New',monospace\"></pre>\n"
      ],
      "text/plain": []
     },
     "metadata": {},
     "output_type": "display_data"
    }
   ],
   "source": [
    "import time\n",
    "from rich.live import Live\n",
    "from rich.table import Table\n",
    "table = Table()\n",
    "table.add_column(\"Row ID\")\n",
    "table.add_column(\"Description\")\n",
    "table.add_column(\"Level\")\n",
    "with Live(table, refresh_per_second=4): # update 4 times a second to feel fluid\n",
    "    for row in range(12):\n",
    "        time.sleep(0.4) # arbitrary delay\n",
    "        # update the renderable internally\n",
    "        table.add_row(f\"{row}\", f\"description {row}\", \"[red]ERROR\")"
   ]
  },
  {
   "cell_type": "code",
   "execution_count": 34,
   "id": "a6b10236",
   "metadata": {},
   "outputs": [
    {
     "name": "stdout",
     "output_type": "stream",
     "text": [
      "True\n"
     ]
    }
   ],
   "source": [
    "idasd =True\n",
    "print(str(idasd))"
   ]
  },
  {
   "cell_type": "code",
   "execution_count": 10,
   "id": "ae57d5ee",
   "metadata": {},
   "outputs": [
    {
     "data": {
      "text/html": [
       "<pre style=\"white-space:pre;overflow-x:auto;line-height:normal;font-family:Menlo,'DejaVu Sans Mono',consolas,'Courier New',monospace\">Widget Javascript not detected.  It may not be installed or enabled properly. Reconnecting \n",
       "the current kernel may help.\n",
       "</pre>\n"
      ],
      "text/plain": [
       "Widget Javascript not detected.  It may not be installed or enabled properly. Reconnecting \n",
       "the current kernel may help.\n"
      ]
     },
     "metadata": {},
     "output_type": "display_data"
    },
    {
     "data": {
      "application/vnd.jupyter.widget-view+json": {
       "model_id": "f86e8fd4313d4b8f91bd9787987ee54e"
      }
     },
     "metadata": {},
     "output_type": "display_data"
    },
    {
     "data": {
      "text/html": [
       "<pre style=\"white-space:pre;overflow-x:auto;line-height:normal;font-family:Menlo,'DejaVu Sans Mono',consolas,'Courier New',monospace\"><span style=\"font-style: italic\">                                 LIST OF AVAILABLE NETWORKS                                  </span>\n",
       "┏━━━━━━━━━━━━┳━━━━━━━━━━━━┳━━━━━━━━━━━━┳━━━━━━━━━━━━┳━━━━━━━━━━━━┳━━━━━━━━━━━━┳━━━━━━━━━━━━━┓\n",
       "┃<span style=\"font-weight: bold\">            </span>┃<span style=\"font-weight: bold\">            </span>┃<span style=\"font-weight: bold\">            </span>┃<span style=\"font-weight: bold\"> IS         </span>┃<span style=\"font-weight: bold\">            </span>┃<span style=\"font-weight: bold\">            </span>┃<span style=\"font-weight: bold\"> DEFAULT     </span>┃\n",
       "┃<span style=\"font-weight: bold\"> ID         </span>┃<span style=\"font-weight: bold\"> INTERFACE  </span>┃<span style=\"font-weight: bold\"> MAC        </span>┃<span style=\"font-weight: bold\"> CONNECTED  </span>┃<span style=\"font-weight: bold\"> IP         </span>┃<span style=\"font-weight: bold\"> SUBNET     </span>┃<span style=\"font-weight: bold\"> GATEWAY     </span>┃\n",
       "┡━━━━━━━━━━━━╇━━━━━━━━━━━━╇━━━━━━━━━━━━╇━━━━━━━━━━━━╇━━━━━━━━━━━━╇━━━━━━━━━━━━╇━━━━━━━━━━━━━┩\n",
       "└────────────┴────────────┴────────────┴────────────┴────────────┴────────────┴─────────────┘\n",
       "</pre>\n"
      ],
      "text/plain": [
       "\u001b[3m                                 LIST OF AVAILABLE NETWORKS                                  \u001b[0m\n",
       "┏━━━━━━━━━━━━┳━━━━━━━━━━━━┳━━━━━━━━━━━━┳━━━━━━━━━━━━┳━━━━━━━━━━━━┳━━━━━━━━━━━━┳━━━━━━━━━━━━━┓\n",
       "┃\u001b[1m            \u001b[0m┃\u001b[1m            \u001b[0m┃\u001b[1m            \u001b[0m┃\u001b[1m \u001b[0m\u001b[1mIS        \u001b[0m\u001b[1m \u001b[0m┃\u001b[1m            \u001b[0m┃\u001b[1m            \u001b[0m┃\u001b[1m \u001b[0m\u001b[1mDEFAULT    \u001b[0m\u001b[1m \u001b[0m┃\n",
       "┃\u001b[1m \u001b[0m\u001b[1mID        \u001b[0m\u001b[1m \u001b[0m┃\u001b[1m \u001b[0m\u001b[1mINTERFACE \u001b[0m\u001b[1m \u001b[0m┃\u001b[1m \u001b[0m\u001b[1mMAC       \u001b[0m\u001b[1m \u001b[0m┃\u001b[1m \u001b[0m\u001b[1mCONNECTED \u001b[0m\u001b[1m \u001b[0m┃\u001b[1m \u001b[0m\u001b[1mIP        \u001b[0m\u001b[1m \u001b[0m┃\u001b[1m \u001b[0m\u001b[1mSUBNET    \u001b[0m\u001b[1m \u001b[0m┃\u001b[1m \u001b[0m\u001b[1mGATEWAY    \u001b[0m\u001b[1m \u001b[0m┃\n",
       "┡━━━━━━━━━━━━╇━━━━━━━━━━━━╇━━━━━━━━━━━━╇━━━━━━━━━━━━╇━━━━━━━━━━━━╇━━━━━━━━━━━━╇━━━━━━━━━━━━━┩\n",
       "└────────────┴────────────┴────────────┴────────────┴────────────┴────────────┴─────────────┘\n"
      ]
     },
     "metadata": {},
     "output_type": "display_data"
    },
    {
     "data": {
      "text/html": [
       "<pre style=\"white-space:pre;overflow-x:auto;line-height:normal;font-family:Menlo,'DejaVu Sans Mono',consolas,'Courier New',monospace\"><span style=\"font-style: italic\">                                 LIST OF AVAILABLE NETWORKS                                  </span>\n",
       "┏━━━━━━━━━━━━┳━━━━━━━━━━━━┳━━━━━━━━━━━━┳━━━━━━━━━━━━┳━━━━━━━━━━━━┳━━━━━━━━━━━━┳━━━━━━━━━━━━━┓\n",
       "┃<span style=\"font-weight: bold\">            </span>┃<span style=\"font-weight: bold\">            </span>┃<span style=\"font-weight: bold\">            </span>┃<span style=\"font-weight: bold\"> IS         </span>┃<span style=\"font-weight: bold\">            </span>┃<span style=\"font-weight: bold\">            </span>┃<span style=\"font-weight: bold\"> DEFAULT     </span>┃\n",
       "┃<span style=\"font-weight: bold\"> ID         </span>┃<span style=\"font-weight: bold\"> INTERFACE  </span>┃<span style=\"font-weight: bold\"> MAC        </span>┃<span style=\"font-weight: bold\"> CONNECTED  </span>┃<span style=\"font-weight: bold\"> IP         </span>┃<span style=\"font-weight: bold\"> SUBNET     </span>┃<span style=\"font-weight: bold\"> GATEWAY     </span>┃\n",
       "┡━━━━━━━━━━━━╇━━━━━━━━━━━━╇━━━━━━━━━━━━╇━━━━━━━━━━━━╇━━━━━━━━━━━━╇━━━━━━━━━━━━╇━━━━━━━━━━━━━┩\n",
       "└────────────┴────────────┴────────────┴────────────┴────────────┴────────────┴─────────────┘\n",
       "</pre>\n"
      ],
      "text/plain": [
       "\u001b[3m                                 LIST OF AVAILABLE NETWORKS                                  \u001b[0m\n",
       "┏━━━━━━━━━━━━┳━━━━━━━━━━━━┳━━━━━━━━━━━━┳━━━━━━━━━━━━┳━━━━━━━━━━━━┳━━━━━━━━━━━━┳━━━━━━━━━━━━━┓\n",
       "┃\u001b[1m            \u001b[0m┃\u001b[1m            \u001b[0m┃\u001b[1m            \u001b[0m┃\u001b[1m \u001b[0m\u001b[1mIS        \u001b[0m\u001b[1m \u001b[0m┃\u001b[1m            \u001b[0m┃\u001b[1m            \u001b[0m┃\u001b[1m \u001b[0m\u001b[1mDEFAULT    \u001b[0m\u001b[1m \u001b[0m┃\n",
       "┃\u001b[1m \u001b[0m\u001b[1mID        \u001b[0m\u001b[1m \u001b[0m┃\u001b[1m \u001b[0m\u001b[1mINTERFACE \u001b[0m\u001b[1m \u001b[0m┃\u001b[1m \u001b[0m\u001b[1mMAC       \u001b[0m\u001b[1m \u001b[0m┃\u001b[1m \u001b[0m\u001b[1mCONNECTED \u001b[0m\u001b[1m \u001b[0m┃\u001b[1m \u001b[0m\u001b[1mIP        \u001b[0m\u001b[1m \u001b[0m┃\u001b[1m \u001b[0m\u001b[1mSUBNET    \u001b[0m\u001b[1m \u001b[0m┃\u001b[1m \u001b[0m\u001b[1mGATEWAY    \u001b[0m\u001b[1m \u001b[0m┃\n",
       "┡━━━━━━━━━━━━╇━━━━━━━━━━━━╇━━━━━━━━━━━━╇━━━━━━━━━━━━╇━━━━━━━━━━━━╇━━━━━━━━━━━━╇━━━━━━━━━━━━━┩\n",
       "└────────────┴────────────┴────────────┴────────────┴────────────┴────────────┴─────────────┘\n"
      ]
     },
     "metadata": {},
     "output_type": "display_data"
    },
    {
     "name": "stdout",
     "output_type": "stream",
     "text": [
      "{'eth0': ['04:d4:c4:e0:63:54'], 'wlan0': ['16:22:33:44:55:66', '192.168.2.106', '255.255.255.0', '192.168.2.255'], 'wlan1': ['50:e0:85:5c:f4:40', '192.168.14.70', '255.255.255.0', '192.168.14.255']}\n"
     ]
    },
    {
     "data": {
      "text/html": [
       "<pre style=\"white-space:pre;overflow-x:auto;line-height:normal;font-family:Menlo,'DejaVu Sans Mono',consolas,'Courier New',monospace\"><span style=\"font-style: italic\">                                 LIST OF AVAILABLE NETWORKS                                  </span>\n",
       "┏━━━━━━━━━━━━┳━━━━━━━━━━━━┳━━━━━━━━━━━━┳━━━━━━━━━━━━┳━━━━━━━━━━━━┳━━━━━━━━━━━━┳━━━━━━━━━━━━━┓\n",
       "┃<span style=\"font-weight: bold\">            </span>┃<span style=\"font-weight: bold\">            </span>┃<span style=\"font-weight: bold\">            </span>┃<span style=\"font-weight: bold\"> IS         </span>┃<span style=\"font-weight: bold\">            </span>┃<span style=\"font-weight: bold\">            </span>┃<span style=\"font-weight: bold\"> DEFAULT     </span>┃\n",
       "┃<span style=\"font-weight: bold\"> ID         </span>┃<span style=\"font-weight: bold\"> INTERFACE  </span>┃<span style=\"font-weight: bold\"> MAC        </span>┃<span style=\"font-weight: bold\"> CONNECTED  </span>┃<span style=\"font-weight: bold\"> IP         </span>┃<span style=\"font-weight: bold\"> SUBNET     </span>┃<span style=\"font-weight: bold\"> GATEWAY     </span>┃\n",
       "┡━━━━━━━━━━━━╇━━━━━━━━━━━━╇━━━━━━━━━━━━╇━━━━━━━━━━━━╇━━━━━━━━━━━━╇━━━━━━━━━━━━╇━━━━━━━━━━━━━┩\n",
       "└────────────┴────────────┴────────────┴────────────┴────────────┴────────────┴─────────────┘\n",
       "</pre>\n"
      ],
      "text/plain": [
       "\u001b[3m                                 LIST OF AVAILABLE NETWORKS                                  \u001b[0m\n",
       "┏━━━━━━━━━━━━┳━━━━━━━━━━━━┳━━━━━━━━━━━━┳━━━━━━━━━━━━┳━━━━━━━━━━━━┳━━━━━━━━━━━━┳━━━━━━━━━━━━━┓\n",
       "┃\u001b[1m            \u001b[0m┃\u001b[1m            \u001b[0m┃\u001b[1m            \u001b[0m┃\u001b[1m \u001b[0m\u001b[1mIS        \u001b[0m\u001b[1m \u001b[0m┃\u001b[1m            \u001b[0m┃\u001b[1m            \u001b[0m┃\u001b[1m \u001b[0m\u001b[1mDEFAULT    \u001b[0m\u001b[1m \u001b[0m┃\n",
       "┃\u001b[1m \u001b[0m\u001b[1mID        \u001b[0m\u001b[1m \u001b[0m┃\u001b[1m \u001b[0m\u001b[1mINTERFACE \u001b[0m\u001b[1m \u001b[0m┃\u001b[1m \u001b[0m\u001b[1mMAC       \u001b[0m\u001b[1m \u001b[0m┃\u001b[1m \u001b[0m\u001b[1mCONNECTED \u001b[0m\u001b[1m \u001b[0m┃\u001b[1m \u001b[0m\u001b[1mIP        \u001b[0m\u001b[1m \u001b[0m┃\u001b[1m \u001b[0m\u001b[1mSUBNET    \u001b[0m\u001b[1m \u001b[0m┃\u001b[1m \u001b[0m\u001b[1mGATEWAY    \u001b[0m\u001b[1m \u001b[0m┃\n",
       "┡━━━━━━━━━━━━╇━━━━━━━━━━━━╇━━━━━━━━━━━━╇━━━━━━━━━━━━╇━━━━━━━━━━━━╇━━━━━━━━━━━━╇━━━━━━━━━━━━━┩\n",
       "└────────────┴────────────┴────────────┴────────────┴────────────┴────────────┴─────────────┘\n"
      ]
     },
     "metadata": {},
     "output_type": "display_data"
    },
    {
     "data": {
      "text/html": [
       "<pre style=\"white-space:pre;overflow-x:auto;line-height:normal;font-family:Menlo,'DejaVu Sans Mono',consolas,'Courier New',monospace\"><span style=\"font-style: italic\">                                 LIST OF AVAILABLE NETWORKS                                  </span>\n",
       "┏━━━━━━━━━━━━┳━━━━━━━━━━━━┳━━━━━━━━━━━━┳━━━━━━━━━━━━┳━━━━━━━━━━━━┳━━━━━━━━━━━━┳━━━━━━━━━━━━━┓\n",
       "┃<span style=\"font-weight: bold\">            </span>┃<span style=\"font-weight: bold\">            </span>┃<span style=\"font-weight: bold\">            </span>┃<span style=\"font-weight: bold\"> IS         </span>┃<span style=\"font-weight: bold\">            </span>┃<span style=\"font-weight: bold\">            </span>┃<span style=\"font-weight: bold\"> DEFAULT     </span>┃\n",
       "┃<span style=\"font-weight: bold\"> ID         </span>┃<span style=\"font-weight: bold\"> INTERFACE  </span>┃<span style=\"font-weight: bold\"> MAC        </span>┃<span style=\"font-weight: bold\"> CONNECTED  </span>┃<span style=\"font-weight: bold\"> IP         </span>┃<span style=\"font-weight: bold\"> SUBNET     </span>┃<span style=\"font-weight: bold\"> GATEWAY     </span>┃\n",
       "┡━━━━━━━━━━━━╇━━━━━━━━━━━━╇━━━━━━━━━━━━╇━━━━━━━━━━━━╇━━━━━━━━━━━━╇━━━━━━━━━━━━╇━━━━━━━━━━━━━┩\n",
       "└────────────┴────────────┴────────────┴────────────┴────────────┴────────────┴─────────────┘\n",
       "</pre>\n"
      ],
      "text/plain": [
       "\u001b[3m                                 LIST OF AVAILABLE NETWORKS                                  \u001b[0m\n",
       "┏━━━━━━━━━━━━┳━━━━━━━━━━━━┳━━━━━━━━━━━━┳━━━━━━━━━━━━┳━━━━━━━━━━━━┳━━━━━━━━━━━━┳━━━━━━━━━━━━━┓\n",
       "┃\u001b[1m            \u001b[0m┃\u001b[1m            \u001b[0m┃\u001b[1m            \u001b[0m┃\u001b[1m \u001b[0m\u001b[1mIS        \u001b[0m\u001b[1m \u001b[0m┃\u001b[1m            \u001b[0m┃\u001b[1m            \u001b[0m┃\u001b[1m \u001b[0m\u001b[1mDEFAULT    \u001b[0m\u001b[1m \u001b[0m┃\n",
       "┃\u001b[1m \u001b[0m\u001b[1mID        \u001b[0m\u001b[1m \u001b[0m┃\u001b[1m \u001b[0m\u001b[1mINTERFACE \u001b[0m\u001b[1m \u001b[0m┃\u001b[1m \u001b[0m\u001b[1mMAC       \u001b[0m\u001b[1m \u001b[0m┃\u001b[1m \u001b[0m\u001b[1mCONNECTED \u001b[0m\u001b[1m \u001b[0m┃\u001b[1m \u001b[0m\u001b[1mIP        \u001b[0m\u001b[1m \u001b[0m┃\u001b[1m \u001b[0m\u001b[1mSUBNET    \u001b[0m\u001b[1m \u001b[0m┃\u001b[1m \u001b[0m\u001b[1mGATEWAY    \u001b[0m\u001b[1m \u001b[0m┃\n",
       "┡━━━━━━━━━━━━╇━━━━━━━━━━━━╇━━━━━━━━━━━━╇━━━━━━━━━━━━╇━━━━━━━━━━━━╇━━━━━━━━━━━━╇━━━━━━━━━━━━━┩\n",
       "└────────────┴────────────┴────────────┴────────────┴────────────┴────────────┴─────────────┘\n"
      ]
     },
     "metadata": {},
     "output_type": "display_data"
    },
    {
     "data": {
      "text/html": [
       "<pre style=\"white-space:pre;overflow-x:auto;line-height:normal;font-family:Menlo,'DejaVu Sans Mono',consolas,'Courier New',monospace\"><span style=\"font-style: italic\">                                 LIST OF AVAILABLE NETWORKS                                  </span>\n",
       "┏━━━━━━━━━━━━┳━━━━━━━━━━━━┳━━━━━━━━━━━━┳━━━━━━━━━━━━┳━━━━━━━━━━━━┳━━━━━━━━━━━━┳━━━━━━━━━━━━━┓\n",
       "┃<span style=\"font-weight: bold\">            </span>┃<span style=\"font-weight: bold\">            </span>┃<span style=\"font-weight: bold\">            </span>┃<span style=\"font-weight: bold\"> IS         </span>┃<span style=\"font-weight: bold\">            </span>┃<span style=\"font-weight: bold\">            </span>┃<span style=\"font-weight: bold\"> DEFAULT     </span>┃\n",
       "┃<span style=\"font-weight: bold\"> ID         </span>┃<span style=\"font-weight: bold\"> INTERFACE  </span>┃<span style=\"font-weight: bold\"> MAC        </span>┃<span style=\"font-weight: bold\"> CONNECTED  </span>┃<span style=\"font-weight: bold\"> IP         </span>┃<span style=\"font-weight: bold\"> SUBNET     </span>┃<span style=\"font-weight: bold\"> GATEWAY     </span>┃\n",
       "┡━━━━━━━━━━━━╇━━━━━━━━━━━━╇━━━━━━━━━━━━╇━━━━━━━━━━━━╇━━━━━━━━━━━━╇━━━━━━━━━━━━╇━━━━━━━━━━━━━┩\n",
       "└────────────┴────────────┴────────────┴────────────┴────────────┴────────────┴─────────────┘\n",
       "</pre>\n"
      ],
      "text/plain": [
       "\u001b[3m                                 LIST OF AVAILABLE NETWORKS                                  \u001b[0m\n",
       "┏━━━━━━━━━━━━┳━━━━━━━━━━━━┳━━━━━━━━━━━━┳━━━━━━━━━━━━┳━━━━━━━━━━━━┳━━━━━━━━━━━━┳━━━━━━━━━━━━━┓\n",
       "┃\u001b[1m            \u001b[0m┃\u001b[1m            \u001b[0m┃\u001b[1m            \u001b[0m┃\u001b[1m \u001b[0m\u001b[1mIS        \u001b[0m\u001b[1m \u001b[0m┃\u001b[1m            \u001b[0m┃\u001b[1m            \u001b[0m┃\u001b[1m \u001b[0m\u001b[1mDEFAULT    \u001b[0m\u001b[1m \u001b[0m┃\n",
       "┃\u001b[1m \u001b[0m\u001b[1mID        \u001b[0m\u001b[1m \u001b[0m┃\u001b[1m \u001b[0m\u001b[1mINTERFACE \u001b[0m\u001b[1m \u001b[0m┃\u001b[1m \u001b[0m\u001b[1mMAC       \u001b[0m\u001b[1m \u001b[0m┃\u001b[1m \u001b[0m\u001b[1mCONNECTED \u001b[0m\u001b[1m \u001b[0m┃\u001b[1m \u001b[0m\u001b[1mIP        \u001b[0m\u001b[1m \u001b[0m┃\u001b[1m \u001b[0m\u001b[1mSUBNET    \u001b[0m\u001b[1m \u001b[0m┃\u001b[1m \u001b[0m\u001b[1mGATEWAY    \u001b[0m\u001b[1m \u001b[0m┃\n",
       "┡━━━━━━━━━━━━╇━━━━━━━━━━━━╇━━━━━━━━━━━━╇━━━━━━━━━━━━╇━━━━━━━━━━━━╇━━━━━━━━━━━━╇━━━━━━━━━━━━━┩\n",
       "└────────────┴────────────┴────────────┴────────────┴────────────┴────────────┴─────────────┘\n"
      ]
     },
     "metadata": {},
     "output_type": "display_data"
    },
    {
     "data": {
      "text/html": [
       "<pre style=\"white-space:pre;overflow-x:auto;line-height:normal;font-family:Menlo,'DejaVu Sans Mono',consolas,'Courier New',monospace\"><span style=\"font-style: italic\">                                 LIST OF AVAILABLE NETWORKS                                  </span>\n",
       "┏━━━━━━━━━━━━┳━━━━━━━━━━━━┳━━━━━━━━━━━━┳━━━━━━━━━━━━┳━━━━━━━━━━━━┳━━━━━━━━━━━━┳━━━━━━━━━━━━━┓\n",
       "┃<span style=\"font-weight: bold\">            </span>┃<span style=\"font-weight: bold\">            </span>┃<span style=\"font-weight: bold\">            </span>┃<span style=\"font-weight: bold\"> IS         </span>┃<span style=\"font-weight: bold\">            </span>┃<span style=\"font-weight: bold\">            </span>┃<span style=\"font-weight: bold\"> DEFAULT     </span>┃\n",
       "┃<span style=\"font-weight: bold\"> ID         </span>┃<span style=\"font-weight: bold\"> INTERFACE  </span>┃<span style=\"font-weight: bold\"> MAC        </span>┃<span style=\"font-weight: bold\"> CONNECTED  </span>┃<span style=\"font-weight: bold\"> IP         </span>┃<span style=\"font-weight: bold\"> SUBNET     </span>┃<span style=\"font-weight: bold\"> GATEWAY     </span>┃\n",
       "┡━━━━━━━━━━━━╇━━━━━━━━━━━━╇━━━━━━━━━━━━╇━━━━━━━━━━━━╇━━━━━━━━━━━━╇━━━━━━━━━━━━╇━━━━━━━━━━━━━┩\n",
       "└────────────┴────────────┴────────────┴────────────┴────────────┴────────────┴─────────────┘\n",
       "</pre>\n"
      ],
      "text/plain": [
       "\u001b[3m                                 LIST OF AVAILABLE NETWORKS                                  \u001b[0m\n",
       "┏━━━━━━━━━━━━┳━━━━━━━━━━━━┳━━━━━━━━━━━━┳━━━━━━━━━━━━┳━━━━━━━━━━━━┳━━━━━━━━━━━━┳━━━━━━━━━━━━━┓\n",
       "┃\u001b[1m            \u001b[0m┃\u001b[1m            \u001b[0m┃\u001b[1m            \u001b[0m┃\u001b[1m \u001b[0m\u001b[1mIS        \u001b[0m\u001b[1m \u001b[0m┃\u001b[1m            \u001b[0m┃\u001b[1m            \u001b[0m┃\u001b[1m \u001b[0m\u001b[1mDEFAULT    \u001b[0m\u001b[1m \u001b[0m┃\n",
       "┃\u001b[1m \u001b[0m\u001b[1mID        \u001b[0m\u001b[1m \u001b[0m┃\u001b[1m \u001b[0m\u001b[1mINTERFACE \u001b[0m\u001b[1m \u001b[0m┃\u001b[1m \u001b[0m\u001b[1mMAC       \u001b[0m\u001b[1m \u001b[0m┃\u001b[1m \u001b[0m\u001b[1mCONNECTED \u001b[0m\u001b[1m \u001b[0m┃\u001b[1m \u001b[0m\u001b[1mIP        \u001b[0m\u001b[1m \u001b[0m┃\u001b[1m \u001b[0m\u001b[1mSUBNET    \u001b[0m\u001b[1m \u001b[0m┃\u001b[1m \u001b[0m\u001b[1mGATEWAY    \u001b[0m\u001b[1m \u001b[0m┃\n",
       "┡━━━━━━━━━━━━╇━━━━━━━━━━━━╇━━━━━━━━━━━━╇━━━━━━━━━━━━╇━━━━━━━━━━━━╇━━━━━━━━━━━━╇━━━━━━━━━━━━━┩\n",
       "└────────────┴────────────┴────────────┴────────────┴────────────┴────────────┴─────────────┘\n"
      ]
     },
     "metadata": {},
     "output_type": "display_data"
    },
    {
     "data": {
      "text/html": [
       "<pre style=\"white-space:pre;overflow-x:auto;line-height:normal;font-family:Menlo,'DejaVu Sans Mono',consolas,'Courier New',monospace\"><span style=\"font-style: italic\">                                 LIST OF AVAILABLE NETWORKS                                  </span>\n",
       "┏━━━━━━━━━━━━┳━━━━━━━━━━━━┳━━━━━━━━━━━━┳━━━━━━━━━━━━┳━━━━━━━━━━━━┳━━━━━━━━━━━━┳━━━━━━━━━━━━━┓\n",
       "┃<span style=\"font-weight: bold\">            </span>┃<span style=\"font-weight: bold\">            </span>┃<span style=\"font-weight: bold\">            </span>┃<span style=\"font-weight: bold\"> IS         </span>┃<span style=\"font-weight: bold\">            </span>┃<span style=\"font-weight: bold\">            </span>┃<span style=\"font-weight: bold\"> DEFAULT     </span>┃\n",
       "┃<span style=\"font-weight: bold\"> ID         </span>┃<span style=\"font-weight: bold\"> INTERFACE  </span>┃<span style=\"font-weight: bold\"> MAC        </span>┃<span style=\"font-weight: bold\"> CONNECTED  </span>┃<span style=\"font-weight: bold\"> IP         </span>┃<span style=\"font-weight: bold\"> SUBNET     </span>┃<span style=\"font-weight: bold\"> GATEWAY     </span>┃\n",
       "┡━━━━━━━━━━━━╇━━━━━━━━━━━━╇━━━━━━━━━━━━╇━━━━━━━━━━━━╇━━━━━━━━━━━━╇━━━━━━━━━━━━╇━━━━━━━━━━━━━┩\n",
       "└────────────┴────────────┴────────────┴────────────┴────────────┴────────────┴─────────────┘\n",
       "</pre>\n"
      ],
      "text/plain": [
       "\u001b[3m                                 LIST OF AVAILABLE NETWORKS                                  \u001b[0m\n",
       "┏━━━━━━━━━━━━┳━━━━━━━━━━━━┳━━━━━━━━━━━━┳━━━━━━━━━━━━┳━━━━━━━━━━━━┳━━━━━━━━━━━━┳━━━━━━━━━━━━━┓\n",
       "┃\u001b[1m            \u001b[0m┃\u001b[1m            \u001b[0m┃\u001b[1m            \u001b[0m┃\u001b[1m \u001b[0m\u001b[1mIS        \u001b[0m\u001b[1m \u001b[0m┃\u001b[1m            \u001b[0m┃\u001b[1m            \u001b[0m┃\u001b[1m \u001b[0m\u001b[1mDEFAULT    \u001b[0m\u001b[1m \u001b[0m┃\n",
       "┃\u001b[1m \u001b[0m\u001b[1mID        \u001b[0m\u001b[1m \u001b[0m┃\u001b[1m \u001b[0m\u001b[1mINTERFACE \u001b[0m\u001b[1m \u001b[0m┃\u001b[1m \u001b[0m\u001b[1mMAC       \u001b[0m\u001b[1m \u001b[0m┃\u001b[1m \u001b[0m\u001b[1mCONNECTED \u001b[0m\u001b[1m \u001b[0m┃\u001b[1m \u001b[0m\u001b[1mIP        \u001b[0m\u001b[1m \u001b[0m┃\u001b[1m \u001b[0m\u001b[1mSUBNET    \u001b[0m\u001b[1m \u001b[0m┃\u001b[1m \u001b[0m\u001b[1mGATEWAY    \u001b[0m\u001b[1m \u001b[0m┃\n",
       "┡━━━━━━━━━━━━╇━━━━━━━━━━━━╇━━━━━━━━━━━━╇━━━━━━━━━━━━╇━━━━━━━━━━━━╇━━━━━━━━━━━━╇━━━━━━━━━━━━━┩\n",
       "└────────────┴────────────┴────────────┴────────────┴────────────┴────────────┴─────────────┘\n"
      ]
     },
     "metadata": {},
     "output_type": "display_data"
    },
    {
     "data": {
      "text/html": [
       "<pre style=\"white-space:pre;overflow-x:auto;line-height:normal;font-family:Menlo,'DejaVu Sans Mono',consolas,'Courier New',monospace\"><span style=\"font-style: italic\">                                 LIST OF AVAILABLE NETWORKS                                  </span>\n",
       "┏━━━━━━━━━━━━┳━━━━━━━━━━━━┳━━━━━━━━━━━━┳━━━━━━━━━━━━┳━━━━━━━━━━━━┳━━━━━━━━━━━━┳━━━━━━━━━━━━━┓\n",
       "┃<span style=\"font-weight: bold\">            </span>┃<span style=\"font-weight: bold\">            </span>┃<span style=\"font-weight: bold\">            </span>┃<span style=\"font-weight: bold\"> IS         </span>┃<span style=\"font-weight: bold\">            </span>┃<span style=\"font-weight: bold\">            </span>┃<span style=\"font-weight: bold\"> DEFAULT     </span>┃\n",
       "┃<span style=\"font-weight: bold\"> ID         </span>┃<span style=\"font-weight: bold\"> INTERFACE  </span>┃<span style=\"font-weight: bold\"> MAC        </span>┃<span style=\"font-weight: bold\"> CONNECTED  </span>┃<span style=\"font-weight: bold\"> IP         </span>┃<span style=\"font-weight: bold\"> SUBNET     </span>┃<span style=\"font-weight: bold\"> GATEWAY     </span>┃\n",
       "┡━━━━━━━━━━━━╇━━━━━━━━━━━━╇━━━━━━━━━━━━╇━━━━━━━━━━━━╇━━━━━━━━━━━━╇━━━━━━━━━━━━╇━━━━━━━━━━━━━┩\n",
       "└────────────┴────────────┴────────────┴────────────┴────────────┴────────────┴─────────────┘\n",
       "</pre>\n"
      ],
      "text/plain": [
       "\u001b[3m                                 LIST OF AVAILABLE NETWORKS                                  \u001b[0m\n",
       "┏━━━━━━━━━━━━┳━━━━━━━━━━━━┳━━━━━━━━━━━━┳━━━━━━━━━━━━┳━━━━━━━━━━━━┳━━━━━━━━━━━━┳━━━━━━━━━━━━━┓\n",
       "┃\u001b[1m            \u001b[0m┃\u001b[1m            \u001b[0m┃\u001b[1m            \u001b[0m┃\u001b[1m \u001b[0m\u001b[1mIS        \u001b[0m\u001b[1m \u001b[0m┃\u001b[1m            \u001b[0m┃\u001b[1m            \u001b[0m┃\u001b[1m \u001b[0m\u001b[1mDEFAULT    \u001b[0m\u001b[1m \u001b[0m┃\n",
       "┃\u001b[1m \u001b[0m\u001b[1mID        \u001b[0m\u001b[1m \u001b[0m┃\u001b[1m \u001b[0m\u001b[1mINTERFACE \u001b[0m\u001b[1m \u001b[0m┃\u001b[1m \u001b[0m\u001b[1mMAC       \u001b[0m\u001b[1m \u001b[0m┃\u001b[1m \u001b[0m\u001b[1mCONNECTED \u001b[0m\u001b[1m \u001b[0m┃\u001b[1m \u001b[0m\u001b[1mIP        \u001b[0m\u001b[1m \u001b[0m┃\u001b[1m \u001b[0m\u001b[1mSUBNET    \u001b[0m\u001b[1m \u001b[0m┃\u001b[1m \u001b[0m\u001b[1mGATEWAY    \u001b[0m\u001b[1m \u001b[0m┃\n",
       "┡━━━━━━━━━━━━╇━━━━━━━━━━━━╇━━━━━━━━━━━━╇━━━━━━━━━━━━╇━━━━━━━━━━━━╇━━━━━━━━━━━━╇━━━━━━━━━━━━━┩\n",
       "└────────────┴────────────┴────────────┴────────────┴────────────┴────────────┴─────────────┘\n"
      ]
     },
     "metadata": {},
     "output_type": "display_data"
    },
    {
     "data": {
      "text/html": [
       "<pre style=\"white-space:pre;overflow-x:auto;line-height:normal;font-family:Menlo,'DejaVu Sans Mono',consolas,'Courier New',monospace\"><span style=\"font-style: italic\">                                 LIST OF AVAILABLE NETWORKS                                  </span>\n",
       "┏━━━━━━━━━━━━┳━━━━━━━━━━━━┳━━━━━━━━━━━━┳━━━━━━━━━━━━┳━━━━━━━━━━━━┳━━━━━━━━━━━━┳━━━━━━━━━━━━━┓\n",
       "┃<span style=\"font-weight: bold\">            </span>┃<span style=\"font-weight: bold\">            </span>┃<span style=\"font-weight: bold\">            </span>┃<span style=\"font-weight: bold\"> IS         </span>┃<span style=\"font-weight: bold\">            </span>┃<span style=\"font-weight: bold\">            </span>┃<span style=\"font-weight: bold\"> DEFAULT     </span>┃\n",
       "┃<span style=\"font-weight: bold\"> ID         </span>┃<span style=\"font-weight: bold\"> INTERFACE  </span>┃<span style=\"font-weight: bold\"> MAC        </span>┃<span style=\"font-weight: bold\"> CONNECTED  </span>┃<span style=\"font-weight: bold\"> IP         </span>┃<span style=\"font-weight: bold\"> SUBNET     </span>┃<span style=\"font-weight: bold\"> GATEWAY     </span>┃\n",
       "┡━━━━━━━━━━━━╇━━━━━━━━━━━━╇━━━━━━━━━━━━╇━━━━━━━━━━━━╇━━━━━━━━━━━━╇━━━━━━━━━━━━╇━━━━━━━━━━━━━┩\n",
       "└────────────┴────────────┴────────────┴────────────┴────────────┴────────────┴─────────────┘\n",
       "</pre>\n"
      ],
      "text/plain": [
       "\u001b[3m                                 LIST OF AVAILABLE NETWORKS                                  \u001b[0m\n",
       "┏━━━━━━━━━━━━┳━━━━━━━━━━━━┳━━━━━━━━━━━━┳━━━━━━━━━━━━┳━━━━━━━━━━━━┳━━━━━━━━━━━━┳━━━━━━━━━━━━━┓\n",
       "┃\u001b[1m            \u001b[0m┃\u001b[1m            \u001b[0m┃\u001b[1m            \u001b[0m┃\u001b[1m \u001b[0m\u001b[1mIS        \u001b[0m\u001b[1m \u001b[0m┃\u001b[1m            \u001b[0m┃\u001b[1m            \u001b[0m┃\u001b[1m \u001b[0m\u001b[1mDEFAULT    \u001b[0m\u001b[1m \u001b[0m┃\n",
       "┃\u001b[1m \u001b[0m\u001b[1mID        \u001b[0m\u001b[1m \u001b[0m┃\u001b[1m \u001b[0m\u001b[1mINTERFACE \u001b[0m\u001b[1m \u001b[0m┃\u001b[1m \u001b[0m\u001b[1mMAC       \u001b[0m\u001b[1m \u001b[0m┃\u001b[1m \u001b[0m\u001b[1mCONNECTED \u001b[0m\u001b[1m \u001b[0m┃\u001b[1m \u001b[0m\u001b[1mIP        \u001b[0m\u001b[1m \u001b[0m┃\u001b[1m \u001b[0m\u001b[1mSUBNET    \u001b[0m\u001b[1m \u001b[0m┃\u001b[1m \u001b[0m\u001b[1mGATEWAY    \u001b[0m\u001b[1m \u001b[0m┃\n",
       "┡━━━━━━━━━━━━╇━━━━━━━━━━━━╇━━━━━━━━━━━━╇━━━━━━━━━━━━╇━━━━━━━━━━━━╇━━━━━━━━━━━━╇━━━━━━━━━━━━━┩\n",
       "└────────────┴────────────┴────────────┴────────────┴────────────┴────────────┴─────────────┘\n"
      ]
     },
     "metadata": {},
     "output_type": "display_data"
    },
    {
     "data": {
      "text/html": [
       "<pre style=\"white-space:pre;overflow-x:auto;line-height:normal;font-family:Menlo,'DejaVu Sans Mono',consolas,'Courier New',monospace\"><span style=\"font-style: italic\">                                 LIST OF AVAILABLE NETWORKS                                  </span>\n",
       "┏━━━━━━━━━━━━┳━━━━━━━━━━━━┳━━━━━━━━━━━━┳━━━━━━━━━━━━┳━━━━━━━━━━━━┳━━━━━━━━━━━━┳━━━━━━━━━━━━━┓\n",
       "┃<span style=\"font-weight: bold\">            </span>┃<span style=\"font-weight: bold\">            </span>┃<span style=\"font-weight: bold\">            </span>┃<span style=\"font-weight: bold\"> IS         </span>┃<span style=\"font-weight: bold\">            </span>┃<span style=\"font-weight: bold\">            </span>┃<span style=\"font-weight: bold\"> DEFAULT     </span>┃\n",
       "┃<span style=\"font-weight: bold\"> ID         </span>┃<span style=\"font-weight: bold\"> INTERFACE  </span>┃<span style=\"font-weight: bold\"> MAC        </span>┃<span style=\"font-weight: bold\"> CONNECTED  </span>┃<span style=\"font-weight: bold\"> IP         </span>┃<span style=\"font-weight: bold\"> SUBNET     </span>┃<span style=\"font-weight: bold\"> GATEWAY     </span>┃\n",
       "┡━━━━━━━━━━━━╇━━━━━━━━━━━━╇━━━━━━━━━━━━╇━━━━━━━━━━━━╇━━━━━━━━━━━━╇━━━━━━━━━━━━╇━━━━━━━━━━━━━┩\n",
       "└────────────┴────────────┴────────────┴────────────┴────────────┴────────────┴─────────────┘\n",
       "</pre>\n"
      ],
      "text/plain": [
       "\u001b[3m                                 LIST OF AVAILABLE NETWORKS                                  \u001b[0m\n",
       "┏━━━━━━━━━━━━┳━━━━━━━━━━━━┳━━━━━━━━━━━━┳━━━━━━━━━━━━┳━━━━━━━━━━━━┳━━━━━━━━━━━━┳━━━━━━━━━━━━━┓\n",
       "┃\u001b[1m            \u001b[0m┃\u001b[1m            \u001b[0m┃\u001b[1m            \u001b[0m┃\u001b[1m \u001b[0m\u001b[1mIS        \u001b[0m\u001b[1m \u001b[0m┃\u001b[1m            \u001b[0m┃\u001b[1m            \u001b[0m┃\u001b[1m \u001b[0m\u001b[1mDEFAULT    \u001b[0m\u001b[1m \u001b[0m┃\n",
       "┃\u001b[1m \u001b[0m\u001b[1mID        \u001b[0m\u001b[1m \u001b[0m┃\u001b[1m \u001b[0m\u001b[1mINTERFACE \u001b[0m\u001b[1m \u001b[0m┃\u001b[1m \u001b[0m\u001b[1mMAC       \u001b[0m\u001b[1m \u001b[0m┃\u001b[1m \u001b[0m\u001b[1mCONNECTED \u001b[0m\u001b[1m \u001b[0m┃\u001b[1m \u001b[0m\u001b[1mIP        \u001b[0m\u001b[1m \u001b[0m┃\u001b[1m \u001b[0m\u001b[1mSUBNET    \u001b[0m\u001b[1m \u001b[0m┃\u001b[1m \u001b[0m\u001b[1mGATEWAY    \u001b[0m\u001b[1m \u001b[0m┃\n",
       "┡━━━━━━━━━━━━╇━━━━━━━━━━━━╇━━━━━━━━━━━━╇━━━━━━━━━━━━╇━━━━━━━━━━━━╇━━━━━━━━━━━━╇━━━━━━━━━━━━━┩\n",
       "└────────────┴────────────┴────────────┴────────────┴────────────┴────────────┴─────────────┘\n"
      ]
     },
     "metadata": {},
     "output_type": "display_data"
    },
    {
     "data": {
      "text/html": [
       "<pre style=\"white-space:pre;overflow-x:auto;line-height:normal;font-family:Menlo,'DejaVu Sans Mono',consolas,'Courier New',monospace\"><span style=\"font-style: italic\">                                 LIST OF AVAILABLE NETWORKS                                  </span>\n",
       "┏━━━━━━━━━━━━┳━━━━━━━━━━━━┳━━━━━━━━━━━━┳━━━━━━━━━━━━┳━━━━━━━━━━━━┳━━━━━━━━━━━━┳━━━━━━━━━━━━━┓\n",
       "┃<span style=\"font-weight: bold\">            </span>┃<span style=\"font-weight: bold\">            </span>┃<span style=\"font-weight: bold\">            </span>┃<span style=\"font-weight: bold\"> IS         </span>┃<span style=\"font-weight: bold\">            </span>┃<span style=\"font-weight: bold\">            </span>┃<span style=\"font-weight: bold\"> DEFAULT     </span>┃\n",
       "┃<span style=\"font-weight: bold\"> ID         </span>┃<span style=\"font-weight: bold\"> INTERFACE  </span>┃<span style=\"font-weight: bold\"> MAC        </span>┃<span style=\"font-weight: bold\"> CONNECTED  </span>┃<span style=\"font-weight: bold\"> IP         </span>┃<span style=\"font-weight: bold\"> SUBNET     </span>┃<span style=\"font-weight: bold\"> GATEWAY     </span>┃\n",
       "┡━━━━━━━━━━━━╇━━━━━━━━━━━━╇━━━━━━━━━━━━╇━━━━━━━━━━━━╇━━━━━━━━━━━━╇━━━━━━━━━━━━╇━━━━━━━━━━━━━┩\n",
       "└────────────┴────────────┴────────────┴────────────┴────────────┴────────────┴─────────────┘\n",
       "</pre>\n"
      ],
      "text/plain": [
       "\u001b[3m                                 LIST OF AVAILABLE NETWORKS                                  \u001b[0m\n",
       "┏━━━━━━━━━━━━┳━━━━━━━━━━━━┳━━━━━━━━━━━━┳━━━━━━━━━━━━┳━━━━━━━━━━━━┳━━━━━━━━━━━━┳━━━━━━━━━━━━━┓\n",
       "┃\u001b[1m            \u001b[0m┃\u001b[1m            \u001b[0m┃\u001b[1m            \u001b[0m┃\u001b[1m \u001b[0m\u001b[1mIS        \u001b[0m\u001b[1m \u001b[0m┃\u001b[1m            \u001b[0m┃\u001b[1m            \u001b[0m┃\u001b[1m \u001b[0m\u001b[1mDEFAULT    \u001b[0m\u001b[1m \u001b[0m┃\n",
       "┃\u001b[1m \u001b[0m\u001b[1mID        \u001b[0m\u001b[1m \u001b[0m┃\u001b[1m \u001b[0m\u001b[1mINTERFACE \u001b[0m\u001b[1m \u001b[0m┃\u001b[1m \u001b[0m\u001b[1mMAC       \u001b[0m\u001b[1m \u001b[0m┃\u001b[1m \u001b[0m\u001b[1mCONNECTED \u001b[0m\u001b[1m \u001b[0m┃\u001b[1m \u001b[0m\u001b[1mIP        \u001b[0m\u001b[1m \u001b[0m┃\u001b[1m \u001b[0m\u001b[1mSUBNET    \u001b[0m\u001b[1m \u001b[0m┃\u001b[1m \u001b[0m\u001b[1mGATEWAY    \u001b[0m\u001b[1m \u001b[0m┃\n",
       "┡━━━━━━━━━━━━╇━━━━━━━━━━━━╇━━━━━━━━━━━━╇━━━━━━━━━━━━╇━━━━━━━━━━━━╇━━━━━━━━━━━━╇━━━━━━━━━━━━━┩\n",
       "└────────────┴────────────┴────────────┴────────────┴────────────┴────────────┴─────────────┘\n"
      ]
     },
     "metadata": {},
     "output_type": "display_data"
    },
    {
     "data": {
      "text/html": [
       "<pre style=\"white-space:pre;overflow-x:auto;line-height:normal;font-family:Menlo,'DejaVu Sans Mono',consolas,'Courier New',monospace\"><span style=\"font-style: italic\">                                 LIST OF AVAILABLE NETWORKS                                  </span>\n",
       "┏━━━━━━━━━━━━┳━━━━━━━━━━━━┳━━━━━━━━━━━━┳━━━━━━━━━━━━┳━━━━━━━━━━━━┳━━━━━━━━━━━━┳━━━━━━━━━━━━━┓\n",
       "┃<span style=\"font-weight: bold\">            </span>┃<span style=\"font-weight: bold\">            </span>┃<span style=\"font-weight: bold\">            </span>┃<span style=\"font-weight: bold\"> IS         </span>┃<span style=\"font-weight: bold\">            </span>┃<span style=\"font-weight: bold\">            </span>┃<span style=\"font-weight: bold\"> DEFAULT     </span>┃\n",
       "┃<span style=\"font-weight: bold\"> ID         </span>┃<span style=\"font-weight: bold\"> INTERFACE  </span>┃<span style=\"font-weight: bold\"> MAC        </span>┃<span style=\"font-weight: bold\"> CONNECTED  </span>┃<span style=\"font-weight: bold\"> IP         </span>┃<span style=\"font-weight: bold\"> SUBNET     </span>┃<span style=\"font-weight: bold\"> GATEWAY     </span>┃\n",
       "┡━━━━━━━━━━━━╇━━━━━━━━━━━━╇━━━━━━━━━━━━╇━━━━━━━━━━━━╇━━━━━━━━━━━━╇━━━━━━━━━━━━╇━━━━━━━━━━━━━┩\n",
       "└────────────┴────────────┴────────────┴────────────┴────────────┴────────────┴─────────────┘\n",
       "</pre>\n"
      ],
      "text/plain": [
       "\u001b[3m                                 LIST OF AVAILABLE NETWORKS                                  \u001b[0m\n",
       "┏━━━━━━━━━━━━┳━━━━━━━━━━━━┳━━━━━━━━━━━━┳━━━━━━━━━━━━┳━━━━━━━━━━━━┳━━━━━━━━━━━━┳━━━━━━━━━━━━━┓\n",
       "┃\u001b[1m            \u001b[0m┃\u001b[1m            \u001b[0m┃\u001b[1m            \u001b[0m┃\u001b[1m \u001b[0m\u001b[1mIS        \u001b[0m\u001b[1m \u001b[0m┃\u001b[1m            \u001b[0m┃\u001b[1m            \u001b[0m┃\u001b[1m \u001b[0m\u001b[1mDEFAULT    \u001b[0m\u001b[1m \u001b[0m┃\n",
       "┃\u001b[1m \u001b[0m\u001b[1mID        \u001b[0m\u001b[1m \u001b[0m┃\u001b[1m \u001b[0m\u001b[1mINTERFACE \u001b[0m\u001b[1m \u001b[0m┃\u001b[1m \u001b[0m\u001b[1mMAC       \u001b[0m\u001b[1m \u001b[0m┃\u001b[1m \u001b[0m\u001b[1mCONNECTED \u001b[0m\u001b[1m \u001b[0m┃\u001b[1m \u001b[0m\u001b[1mIP        \u001b[0m\u001b[1m \u001b[0m┃\u001b[1m \u001b[0m\u001b[1mSUBNET    \u001b[0m\u001b[1m \u001b[0m┃\u001b[1m \u001b[0m\u001b[1mGATEWAY    \u001b[0m\u001b[1m \u001b[0m┃\n",
       "┡━━━━━━━━━━━━╇━━━━━━━━━━━━╇━━━━━━━━━━━━╇━━━━━━━━━━━━╇━━━━━━━━━━━━╇━━━━━━━━━━━━╇━━━━━━━━━━━━━┩\n",
       "└────────────┴────────────┴────────────┴────────────┴────────────┴────────────┴─────────────┘\n"
      ]
     },
     "metadata": {},
     "output_type": "display_data"
    },
    {
     "data": {
      "text/html": [
       "<pre style=\"white-space:pre;overflow-x:auto;line-height:normal;font-family:Menlo,'DejaVu Sans Mono',consolas,'Courier New',monospace\"><span style=\"font-style: italic\">                                 LIST OF AVAILABLE NETWORKS                                  </span>\n",
       "┏━━━━━━━━━━━━┳━━━━━━━━━━━━┳━━━━━━━━━━━━┳━━━━━━━━━━━━┳━━━━━━━━━━━━┳━━━━━━━━━━━━┳━━━━━━━━━━━━━┓\n",
       "┃<span style=\"font-weight: bold\">            </span>┃<span style=\"font-weight: bold\">            </span>┃<span style=\"font-weight: bold\">            </span>┃<span style=\"font-weight: bold\"> IS         </span>┃<span style=\"font-weight: bold\">            </span>┃<span style=\"font-weight: bold\">            </span>┃<span style=\"font-weight: bold\"> DEFAULT     </span>┃\n",
       "┃<span style=\"font-weight: bold\"> ID         </span>┃<span style=\"font-weight: bold\"> INTERFACE  </span>┃<span style=\"font-weight: bold\"> MAC        </span>┃<span style=\"font-weight: bold\"> CONNECTED  </span>┃<span style=\"font-weight: bold\"> IP         </span>┃<span style=\"font-weight: bold\"> SUBNET     </span>┃<span style=\"font-weight: bold\"> GATEWAY     </span>┃\n",
       "┡━━━━━━━━━━━━╇━━━━━━━━━━━━╇━━━━━━━━━━━━╇━━━━━━━━━━━━╇━━━━━━━━━━━━╇━━━━━━━━━━━━╇━━━━━━━━━━━━━┩\n",
       "└────────────┴────────────┴────────────┴────────────┴────────────┴────────────┴─────────────┘\n",
       "</pre>\n"
      ],
      "text/plain": [
       "\u001b[3m                                 LIST OF AVAILABLE NETWORKS                                  \u001b[0m\n",
       "┏━━━━━━━━━━━━┳━━━━━━━━━━━━┳━━━━━━━━━━━━┳━━━━━━━━━━━━┳━━━━━━━━━━━━┳━━━━━━━━━━━━┳━━━━━━━━━━━━━┓\n",
       "┃\u001b[1m            \u001b[0m┃\u001b[1m            \u001b[0m┃\u001b[1m            \u001b[0m┃\u001b[1m \u001b[0m\u001b[1mIS        \u001b[0m\u001b[1m \u001b[0m┃\u001b[1m            \u001b[0m┃\u001b[1m            \u001b[0m┃\u001b[1m \u001b[0m\u001b[1mDEFAULT    \u001b[0m\u001b[1m \u001b[0m┃\n",
       "┃\u001b[1m \u001b[0m\u001b[1mID        \u001b[0m\u001b[1m \u001b[0m┃\u001b[1m \u001b[0m\u001b[1mINTERFACE \u001b[0m\u001b[1m \u001b[0m┃\u001b[1m \u001b[0m\u001b[1mMAC       \u001b[0m\u001b[1m \u001b[0m┃\u001b[1m \u001b[0m\u001b[1mCONNECTED \u001b[0m\u001b[1m \u001b[0m┃\u001b[1m \u001b[0m\u001b[1mIP        \u001b[0m\u001b[1m \u001b[0m┃\u001b[1m \u001b[0m\u001b[1mSUBNET    \u001b[0m\u001b[1m \u001b[0m┃\u001b[1m \u001b[0m\u001b[1mGATEWAY    \u001b[0m\u001b[1m \u001b[0m┃\n",
       "┡━━━━━━━━━━━━╇━━━━━━━━━━━━╇━━━━━━━━━━━━╇━━━━━━━━━━━━╇━━━━━━━━━━━━╇━━━━━━━━━━━━╇━━━━━━━━━━━━━┩\n",
       "└────────────┴────────────┴────────────┴────────────┴────────────┴────────────┴─────────────┘\n"
      ]
     },
     "metadata": {},
     "output_type": "display_data"
    },
    {
     "data": {
      "text/html": [
       "<pre style=\"white-space:pre;overflow-x:auto;line-height:normal;font-family:Menlo,'DejaVu Sans Mono',consolas,'Courier New',monospace\"><span style=\"font-style: italic\">                                 LIST OF AVAILABLE NETWORKS                                  </span>\n",
       "┏━━━━━━━━━━━━┳━━━━━━━━━━━━┳━━━━━━━━━━━━┳━━━━━━━━━━━━┳━━━━━━━━━━━━┳━━━━━━━━━━━━┳━━━━━━━━━━━━━┓\n",
       "┃<span style=\"font-weight: bold\">            </span>┃<span style=\"font-weight: bold\">            </span>┃<span style=\"font-weight: bold\">            </span>┃<span style=\"font-weight: bold\"> IS         </span>┃<span style=\"font-weight: bold\">            </span>┃<span style=\"font-weight: bold\">            </span>┃<span style=\"font-weight: bold\"> DEFAULT     </span>┃\n",
       "┃<span style=\"font-weight: bold\"> ID         </span>┃<span style=\"font-weight: bold\"> INTERFACE  </span>┃<span style=\"font-weight: bold\"> MAC        </span>┃<span style=\"font-weight: bold\"> CONNECTED  </span>┃<span style=\"font-weight: bold\"> IP         </span>┃<span style=\"font-weight: bold\"> SUBNET     </span>┃<span style=\"font-weight: bold\"> GATEWAY     </span>┃\n",
       "┡━━━━━━━━━━━━╇━━━━━━━━━━━━╇━━━━━━━━━━━━╇━━━━━━━━━━━━╇━━━━━━━━━━━━╇━━━━━━━━━━━━╇━━━━━━━━━━━━━┩\n",
       "└────────────┴────────────┴────────────┴────────────┴────────────┴────────────┴─────────────┘\n",
       "</pre>\n"
      ],
      "text/plain": [
       "\u001b[3m                                 LIST OF AVAILABLE NETWORKS                                  \u001b[0m\n",
       "┏━━━━━━━━━━━━┳━━━━━━━━━━━━┳━━━━━━━━━━━━┳━━━━━━━━━━━━┳━━━━━━━━━━━━┳━━━━━━━━━━━━┳━━━━━━━━━━━━━┓\n",
       "┃\u001b[1m            \u001b[0m┃\u001b[1m            \u001b[0m┃\u001b[1m            \u001b[0m┃\u001b[1m \u001b[0m\u001b[1mIS        \u001b[0m\u001b[1m \u001b[0m┃\u001b[1m            \u001b[0m┃\u001b[1m            \u001b[0m┃\u001b[1m \u001b[0m\u001b[1mDEFAULT    \u001b[0m\u001b[1m \u001b[0m┃\n",
       "┃\u001b[1m \u001b[0m\u001b[1mID        \u001b[0m\u001b[1m \u001b[0m┃\u001b[1m \u001b[0m\u001b[1mINTERFACE \u001b[0m\u001b[1m \u001b[0m┃\u001b[1m \u001b[0m\u001b[1mMAC       \u001b[0m\u001b[1m \u001b[0m┃\u001b[1m \u001b[0m\u001b[1mCONNECTED \u001b[0m\u001b[1m \u001b[0m┃\u001b[1m \u001b[0m\u001b[1mIP        \u001b[0m\u001b[1m \u001b[0m┃\u001b[1m \u001b[0m\u001b[1mSUBNET    \u001b[0m\u001b[1m \u001b[0m┃\u001b[1m \u001b[0m\u001b[1mGATEWAY    \u001b[0m\u001b[1m \u001b[0m┃\n",
       "┡━━━━━━━━━━━━╇━━━━━━━━━━━━╇━━━━━━━━━━━━╇━━━━━━━━━━━━╇━━━━━━━━━━━━╇━━━━━━━━━━━━╇━━━━━━━━━━━━━┩\n",
       "└────────────┴────────────┴────────────┴────────────┴────────────┴────────────┴─────────────┘\n"
      ]
     },
     "metadata": {},
     "output_type": "display_data"
    },
    {
     "data": {
      "text/html": [
       "<pre style=\"white-space:pre;overflow-x:auto;line-height:normal;font-family:Menlo,'DejaVu Sans Mono',consolas,'Courier New',monospace\"><span style=\"font-style: italic\">                                 LIST OF AVAILABLE NETWORKS                                  </span>\n",
       "┏━━━━━━━━━━━━┳━━━━━━━━━━━━┳━━━━━━━━━━━━┳━━━━━━━━━━━━┳━━━━━━━━━━━━┳━━━━━━━━━━━━┳━━━━━━━━━━━━━┓\n",
       "┃<span style=\"font-weight: bold\">            </span>┃<span style=\"font-weight: bold\">            </span>┃<span style=\"font-weight: bold\">            </span>┃<span style=\"font-weight: bold\"> IS         </span>┃<span style=\"font-weight: bold\">            </span>┃<span style=\"font-weight: bold\">            </span>┃<span style=\"font-weight: bold\"> DEFAULT     </span>┃\n",
       "┃<span style=\"font-weight: bold\"> ID         </span>┃<span style=\"font-weight: bold\"> INTERFACE  </span>┃<span style=\"font-weight: bold\"> MAC        </span>┃<span style=\"font-weight: bold\"> CONNECTED  </span>┃<span style=\"font-weight: bold\"> IP         </span>┃<span style=\"font-weight: bold\"> SUBNET     </span>┃<span style=\"font-weight: bold\"> GATEWAY     </span>┃\n",
       "┡━━━━━━━━━━━━╇━━━━━━━━━━━━╇━━━━━━━━━━━━╇━━━━━━━━━━━━╇━━━━━━━━━━━━╇━━━━━━━━━━━━╇━━━━━━━━━━━━━┩\n",
       "└────────────┴────────────┴────────────┴────────────┴────────────┴────────────┴─────────────┘\n",
       "</pre>\n"
      ],
      "text/plain": [
       "\u001b[3m                                 LIST OF AVAILABLE NETWORKS                                  \u001b[0m\n",
       "┏━━━━━━━━━━━━┳━━━━━━━━━━━━┳━━━━━━━━━━━━┳━━━━━━━━━━━━┳━━━━━━━━━━━━┳━━━━━━━━━━━━┳━━━━━━━━━━━━━┓\n",
       "┃\u001b[1m            \u001b[0m┃\u001b[1m            \u001b[0m┃\u001b[1m            \u001b[0m┃\u001b[1m \u001b[0m\u001b[1mIS        \u001b[0m\u001b[1m \u001b[0m┃\u001b[1m            \u001b[0m┃\u001b[1m            \u001b[0m┃\u001b[1m \u001b[0m\u001b[1mDEFAULT    \u001b[0m\u001b[1m \u001b[0m┃\n",
       "┃\u001b[1m \u001b[0m\u001b[1mID        \u001b[0m\u001b[1m \u001b[0m┃\u001b[1m \u001b[0m\u001b[1mINTERFACE \u001b[0m\u001b[1m \u001b[0m┃\u001b[1m \u001b[0m\u001b[1mMAC       \u001b[0m\u001b[1m \u001b[0m┃\u001b[1m \u001b[0m\u001b[1mCONNECTED \u001b[0m\u001b[1m \u001b[0m┃\u001b[1m \u001b[0m\u001b[1mIP        \u001b[0m\u001b[1m \u001b[0m┃\u001b[1m \u001b[0m\u001b[1mSUBNET    \u001b[0m\u001b[1m \u001b[0m┃\u001b[1m \u001b[0m\u001b[1mGATEWAY    \u001b[0m\u001b[1m \u001b[0m┃\n",
       "┡━━━━━━━━━━━━╇━━━━━━━━━━━━╇━━━━━━━━━━━━╇━━━━━━━━━━━━╇━━━━━━━━━━━━╇━━━━━━━━━━━━╇━━━━━━━━━━━━━┩\n",
       "└────────────┴────────────┴────────────┴────────────┴────────────┴────────────┴─────────────┘\n"
      ]
     },
     "metadata": {},
     "output_type": "display_data"
    },
    {
     "data": {
      "text/html": [
       "<pre style=\"white-space:pre;overflow-x:auto;line-height:normal;font-family:Menlo,'DejaVu Sans Mono',consolas,'Courier New',monospace\"><span style=\"font-style: italic\">                                 LIST OF AVAILABLE NETWORKS                                  </span>\n",
       "┏━━━━━━━━━━━━┳━━━━━━━━━━━━┳━━━━━━━━━━━━┳━━━━━━━━━━━━┳━━━━━━━━━━━━┳━━━━━━━━━━━━┳━━━━━━━━━━━━━┓\n",
       "┃<span style=\"font-weight: bold\">            </span>┃<span style=\"font-weight: bold\">            </span>┃<span style=\"font-weight: bold\">            </span>┃<span style=\"font-weight: bold\"> IS         </span>┃<span style=\"font-weight: bold\">            </span>┃<span style=\"font-weight: bold\">            </span>┃<span style=\"font-weight: bold\"> DEFAULT     </span>┃\n",
       "┃<span style=\"font-weight: bold\"> ID         </span>┃<span style=\"font-weight: bold\"> INTERFACE  </span>┃<span style=\"font-weight: bold\"> MAC        </span>┃<span style=\"font-weight: bold\"> CONNECTED  </span>┃<span style=\"font-weight: bold\"> IP         </span>┃<span style=\"font-weight: bold\"> SUBNET     </span>┃<span style=\"font-weight: bold\"> GATEWAY     </span>┃\n",
       "┡━━━━━━━━━━━━╇━━━━━━━━━━━━╇━━━━━━━━━━━━╇━━━━━━━━━━━━╇━━━━━━━━━━━━╇━━━━━━━━━━━━╇━━━━━━━━━━━━━┩\n",
       "└────────────┴────────────┴────────────┴────────────┴────────────┴────────────┴─────────────┘\n",
       "</pre>\n"
      ],
      "text/plain": [
       "\u001b[3m                                 LIST OF AVAILABLE NETWORKS                                  \u001b[0m\n",
       "┏━━━━━━━━━━━━┳━━━━━━━━━━━━┳━━━━━━━━━━━━┳━━━━━━━━━━━━┳━━━━━━━━━━━━┳━━━━━━━━━━━━┳━━━━━━━━━━━━━┓\n",
       "┃\u001b[1m            \u001b[0m┃\u001b[1m            \u001b[0m┃\u001b[1m            \u001b[0m┃\u001b[1m \u001b[0m\u001b[1mIS        \u001b[0m\u001b[1m \u001b[0m┃\u001b[1m            \u001b[0m┃\u001b[1m            \u001b[0m┃\u001b[1m \u001b[0m\u001b[1mDEFAULT    \u001b[0m\u001b[1m \u001b[0m┃\n",
       "┃\u001b[1m \u001b[0m\u001b[1mID        \u001b[0m\u001b[1m \u001b[0m┃\u001b[1m \u001b[0m\u001b[1mINTERFACE \u001b[0m\u001b[1m \u001b[0m┃\u001b[1m \u001b[0m\u001b[1mMAC       \u001b[0m\u001b[1m \u001b[0m┃\u001b[1m \u001b[0m\u001b[1mCONNECTED \u001b[0m\u001b[1m \u001b[0m┃\u001b[1m \u001b[0m\u001b[1mIP        \u001b[0m\u001b[1m \u001b[0m┃\u001b[1m \u001b[0m\u001b[1mSUBNET    \u001b[0m\u001b[1m \u001b[0m┃\u001b[1m \u001b[0m\u001b[1mGATEWAY    \u001b[0m\u001b[1m \u001b[0m┃\n",
       "┡━━━━━━━━━━━━╇━━━━━━━━━━━━╇━━━━━━━━━━━━╇━━━━━━━━━━━━╇━━━━━━━━━━━━╇━━━━━━━━━━━━╇━━━━━━━━━━━━━┩\n",
       "└────────────┴────────────┴────────────┴────────────┴────────────┴────────────┴─────────────┘\n"
      ]
     },
     "metadata": {},
     "output_type": "display_data"
    },
    {
     "data": {
      "text/html": [
       "<pre style=\"white-space:pre;overflow-x:auto;line-height:normal;font-family:Menlo,'DejaVu Sans Mono',consolas,'Courier New',monospace\"><span style=\"font-style: italic\">                                 LIST OF AVAILABLE NETWORKS                                  </span>\n",
       "┏━━━━━━━━━━━━┳━━━━━━━━━━━━┳━━━━━━━━━━━━┳━━━━━━━━━━━━┳━━━━━━━━━━━━┳━━━━━━━━━━━━┳━━━━━━━━━━━━━┓\n",
       "┃<span style=\"font-weight: bold\">            </span>┃<span style=\"font-weight: bold\">            </span>┃<span style=\"font-weight: bold\">            </span>┃<span style=\"font-weight: bold\"> IS         </span>┃<span style=\"font-weight: bold\">            </span>┃<span style=\"font-weight: bold\">            </span>┃<span style=\"font-weight: bold\"> DEFAULT     </span>┃\n",
       "┃<span style=\"font-weight: bold\"> ID         </span>┃<span style=\"font-weight: bold\"> INTERFACE  </span>┃<span style=\"font-weight: bold\"> MAC        </span>┃<span style=\"font-weight: bold\"> CONNECTED  </span>┃<span style=\"font-weight: bold\"> IP         </span>┃<span style=\"font-weight: bold\"> SUBNET     </span>┃<span style=\"font-weight: bold\"> GATEWAY     </span>┃\n",
       "┡━━━━━━━━━━━━╇━━━━━━━━━━━━╇━━━━━━━━━━━━╇━━━━━━━━━━━━╇━━━━━━━━━━━━╇━━━━━━━━━━━━╇━━━━━━━━━━━━━┩\n",
       "└────────────┴────────────┴────────────┴────────────┴────────────┴────────────┴─────────────┘\n",
       "</pre>\n"
      ],
      "text/plain": [
       "\u001b[3m                                 LIST OF AVAILABLE NETWORKS                                  \u001b[0m\n",
       "┏━━━━━━━━━━━━┳━━━━━━━━━━━━┳━━━━━━━━━━━━┳━━━━━━━━━━━━┳━━━━━━━━━━━━┳━━━━━━━━━━━━┳━━━━━━━━━━━━━┓\n",
       "┃\u001b[1m            \u001b[0m┃\u001b[1m            \u001b[0m┃\u001b[1m            \u001b[0m┃\u001b[1m \u001b[0m\u001b[1mIS        \u001b[0m\u001b[1m \u001b[0m┃\u001b[1m            \u001b[0m┃\u001b[1m            \u001b[0m┃\u001b[1m \u001b[0m\u001b[1mDEFAULT    \u001b[0m\u001b[1m \u001b[0m┃\n",
       "┃\u001b[1m \u001b[0m\u001b[1mID        \u001b[0m\u001b[1m \u001b[0m┃\u001b[1m \u001b[0m\u001b[1mINTERFACE \u001b[0m\u001b[1m \u001b[0m┃\u001b[1m \u001b[0m\u001b[1mMAC       \u001b[0m\u001b[1m \u001b[0m┃\u001b[1m \u001b[0m\u001b[1mCONNECTED \u001b[0m\u001b[1m \u001b[0m┃\u001b[1m \u001b[0m\u001b[1mIP        \u001b[0m\u001b[1m \u001b[0m┃\u001b[1m \u001b[0m\u001b[1mSUBNET    \u001b[0m\u001b[1m \u001b[0m┃\u001b[1m \u001b[0m\u001b[1mGATEWAY    \u001b[0m\u001b[1m \u001b[0m┃\n",
       "┡━━━━━━━━━━━━╇━━━━━━━━━━━━╇━━━━━━━━━━━━╇━━━━━━━━━━━━╇━━━━━━━━━━━━╇━━━━━━━━━━━━╇━━━━━━━━━━━━━┩\n",
       "└────────────┴────────────┴────────────┴────────────┴────────────┴────────────┴─────────────┘\n"
      ]
     },
     "metadata": {},
     "output_type": "display_data"
    },
    {
     "data": {
      "text/html": [
       "<pre style=\"white-space:pre;overflow-x:auto;line-height:normal;font-family:Menlo,'DejaVu Sans Mono',consolas,'Courier New',monospace\"><span style=\"font-style: italic\">                                 LIST OF AVAILABLE NETWORKS                                  </span>\n",
       "┏━━━━━━━━━━━━┳━━━━━━━━━━━━┳━━━━━━━━━━━━┳━━━━━━━━━━━━┳━━━━━━━━━━━━┳━━━━━━━━━━━━┳━━━━━━━━━━━━━┓\n",
       "┃<span style=\"font-weight: bold\">            </span>┃<span style=\"font-weight: bold\">            </span>┃<span style=\"font-weight: bold\">            </span>┃<span style=\"font-weight: bold\"> IS         </span>┃<span style=\"font-weight: bold\">            </span>┃<span style=\"font-weight: bold\">            </span>┃<span style=\"font-weight: bold\"> DEFAULT     </span>┃\n",
       "┃<span style=\"font-weight: bold\"> ID         </span>┃<span style=\"font-weight: bold\"> INTERFACE  </span>┃<span style=\"font-weight: bold\"> MAC        </span>┃<span style=\"font-weight: bold\"> CONNECTED  </span>┃<span style=\"font-weight: bold\"> IP         </span>┃<span style=\"font-weight: bold\"> SUBNET     </span>┃<span style=\"font-weight: bold\"> GATEWAY     </span>┃\n",
       "┡━━━━━━━━━━━━╇━━━━━━━━━━━━╇━━━━━━━━━━━━╇━━━━━━━━━━━━╇━━━━━━━━━━━━╇━━━━━━━━━━━━╇━━━━━━━━━━━━━┩\n",
       "└────────────┴────────────┴────────────┴────────────┴────────────┴────────────┴─────────────┘\n",
       "</pre>\n"
      ],
      "text/plain": [
       "\u001b[3m                                 LIST OF AVAILABLE NETWORKS                                  \u001b[0m\n",
       "┏━━━━━━━━━━━━┳━━━━━━━━━━━━┳━━━━━━━━━━━━┳━━━━━━━━━━━━┳━━━━━━━━━━━━┳━━━━━━━━━━━━┳━━━━━━━━━━━━━┓\n",
       "┃\u001b[1m            \u001b[0m┃\u001b[1m            \u001b[0m┃\u001b[1m            \u001b[0m┃\u001b[1m \u001b[0m\u001b[1mIS        \u001b[0m\u001b[1m \u001b[0m┃\u001b[1m            \u001b[0m┃\u001b[1m            \u001b[0m┃\u001b[1m \u001b[0m\u001b[1mDEFAULT    \u001b[0m\u001b[1m \u001b[0m┃\n",
       "┃\u001b[1m \u001b[0m\u001b[1mID        \u001b[0m\u001b[1m \u001b[0m┃\u001b[1m \u001b[0m\u001b[1mINTERFACE \u001b[0m\u001b[1m \u001b[0m┃\u001b[1m \u001b[0m\u001b[1mMAC       \u001b[0m\u001b[1m \u001b[0m┃\u001b[1m \u001b[0m\u001b[1mCONNECTED \u001b[0m\u001b[1m \u001b[0m┃\u001b[1m \u001b[0m\u001b[1mIP        \u001b[0m\u001b[1m \u001b[0m┃\u001b[1m \u001b[0m\u001b[1mSUBNET    \u001b[0m\u001b[1m \u001b[0m┃\u001b[1m \u001b[0m\u001b[1mGATEWAY    \u001b[0m\u001b[1m \u001b[0m┃\n",
       "┡━━━━━━━━━━━━╇━━━━━━━━━━━━╇━━━━━━━━━━━━╇━━━━━━━━━━━━╇━━━━━━━━━━━━╇━━━━━━━━━━━━╇━━━━━━━━━━━━━┩\n",
       "└────────────┴────────────┴────────────┴────────────┴────────────┴────────────┴─────────────┘\n"
      ]
     },
     "metadata": {},
     "output_type": "display_data"
    },
    {
     "data": {
      "text/html": [
       "<pre style=\"white-space:pre;overflow-x:auto;line-height:normal;font-family:Menlo,'DejaVu Sans Mono',consolas,'Courier New',monospace\"><span style=\"font-style: italic\">                                 LIST OF AVAILABLE NETWORKS                                  </span>\n",
       "┏━━━━━━━━━━━━┳━━━━━━━━━━━━┳━━━━━━━━━━━━┳━━━━━━━━━━━━┳━━━━━━━━━━━━┳━━━━━━━━━━━━┳━━━━━━━━━━━━━┓\n",
       "┃<span style=\"font-weight: bold\">            </span>┃<span style=\"font-weight: bold\">            </span>┃<span style=\"font-weight: bold\">            </span>┃<span style=\"font-weight: bold\"> IS         </span>┃<span style=\"font-weight: bold\">            </span>┃<span style=\"font-weight: bold\">            </span>┃<span style=\"font-weight: bold\"> DEFAULT     </span>┃\n",
       "┃<span style=\"font-weight: bold\"> ID         </span>┃<span style=\"font-weight: bold\"> INTERFACE  </span>┃<span style=\"font-weight: bold\"> MAC        </span>┃<span style=\"font-weight: bold\"> CONNECTED  </span>┃<span style=\"font-weight: bold\"> IP         </span>┃<span style=\"font-weight: bold\"> SUBNET     </span>┃<span style=\"font-weight: bold\"> GATEWAY     </span>┃\n",
       "┡━━━━━━━━━━━━╇━━━━━━━━━━━━╇━━━━━━━━━━━━╇━━━━━━━━━━━━╇━━━━━━━━━━━━╇━━━━━━━━━━━━╇━━━━━━━━━━━━━┩\n",
       "└────────────┴────────────┴────────────┴────────────┴────────────┴────────────┴─────────────┘\n",
       "</pre>\n"
      ],
      "text/plain": [
       "\u001b[3m                                 LIST OF AVAILABLE NETWORKS                                  \u001b[0m\n",
       "┏━━━━━━━━━━━━┳━━━━━━━━━━━━┳━━━━━━━━━━━━┳━━━━━━━━━━━━┳━━━━━━━━━━━━┳━━━━━━━━━━━━┳━━━━━━━━━━━━━┓\n",
       "┃\u001b[1m            \u001b[0m┃\u001b[1m            \u001b[0m┃\u001b[1m            \u001b[0m┃\u001b[1m \u001b[0m\u001b[1mIS        \u001b[0m\u001b[1m \u001b[0m┃\u001b[1m            \u001b[0m┃\u001b[1m            \u001b[0m┃\u001b[1m \u001b[0m\u001b[1mDEFAULT    \u001b[0m\u001b[1m \u001b[0m┃\n",
       "┃\u001b[1m \u001b[0m\u001b[1mID        \u001b[0m\u001b[1m \u001b[0m┃\u001b[1m \u001b[0m\u001b[1mINTERFACE \u001b[0m\u001b[1m \u001b[0m┃\u001b[1m \u001b[0m\u001b[1mMAC       \u001b[0m\u001b[1m \u001b[0m┃\u001b[1m \u001b[0m\u001b[1mCONNECTED \u001b[0m\u001b[1m \u001b[0m┃\u001b[1m \u001b[0m\u001b[1mIP        \u001b[0m\u001b[1m \u001b[0m┃\u001b[1m \u001b[0m\u001b[1mSUBNET    \u001b[0m\u001b[1m \u001b[0m┃\u001b[1m \u001b[0m\u001b[1mGATEWAY    \u001b[0m\u001b[1m \u001b[0m┃\n",
       "┡━━━━━━━━━━━━╇━━━━━━━━━━━━╇━━━━━━━━━━━━╇━━━━━━━━━━━━╇━━━━━━━━━━━━╇━━━━━━━━━━━━╇━━━━━━━━━━━━━┩\n",
       "└────────────┴────────────┴────────────┴────────────┴────────────┴────────────┴─────────────┘\n"
      ]
     },
     "metadata": {},
     "output_type": "display_data"
    },
    {
     "data": {
      "text/html": [
       "<pre style=\"white-space:pre;overflow-x:auto;line-height:normal;font-family:Menlo,'DejaVu Sans Mono',consolas,'Courier New',monospace\"><span style=\"font-style: italic\">                                 LIST OF AVAILABLE NETWORKS                                  </span>\n",
       "┏━━━━━━━━━━━━┳━━━━━━━━━━━━┳━━━━━━━━━━━━┳━━━━━━━━━━━━┳━━━━━━━━━━━━┳━━━━━━━━━━━━┳━━━━━━━━━━━━━┓\n",
       "┃<span style=\"font-weight: bold\">            </span>┃<span style=\"font-weight: bold\">            </span>┃<span style=\"font-weight: bold\">            </span>┃<span style=\"font-weight: bold\"> IS         </span>┃<span style=\"font-weight: bold\">            </span>┃<span style=\"font-weight: bold\">            </span>┃<span style=\"font-weight: bold\"> DEFAULT     </span>┃\n",
       "┃<span style=\"font-weight: bold\"> ID         </span>┃<span style=\"font-weight: bold\"> INTERFACE  </span>┃<span style=\"font-weight: bold\"> MAC        </span>┃<span style=\"font-weight: bold\"> CONNECTED  </span>┃<span style=\"font-weight: bold\"> IP         </span>┃<span style=\"font-weight: bold\"> SUBNET     </span>┃<span style=\"font-weight: bold\"> GATEWAY     </span>┃\n",
       "┡━━━━━━━━━━━━╇━━━━━━━━━━━━╇━━━━━━━━━━━━╇━━━━━━━━━━━━╇━━━━━━━━━━━━╇━━━━━━━━━━━━╇━━━━━━━━━━━━━┩\n",
       "└────────────┴────────────┴────────────┴────────────┴────────────┴────────────┴─────────────┘\n",
       "</pre>\n"
      ],
      "text/plain": [
       "\u001b[3m                                 LIST OF AVAILABLE NETWORKS                                  \u001b[0m\n",
       "┏━━━━━━━━━━━━┳━━━━━━━━━━━━┳━━━━━━━━━━━━┳━━━━━━━━━━━━┳━━━━━━━━━━━━┳━━━━━━━━━━━━┳━━━━━━━━━━━━━┓\n",
       "┃\u001b[1m            \u001b[0m┃\u001b[1m            \u001b[0m┃\u001b[1m            \u001b[0m┃\u001b[1m \u001b[0m\u001b[1mIS        \u001b[0m\u001b[1m \u001b[0m┃\u001b[1m            \u001b[0m┃\u001b[1m            \u001b[0m┃\u001b[1m \u001b[0m\u001b[1mDEFAULT    \u001b[0m\u001b[1m \u001b[0m┃\n",
       "┃\u001b[1m \u001b[0m\u001b[1mID        \u001b[0m\u001b[1m \u001b[0m┃\u001b[1m \u001b[0m\u001b[1mINTERFACE \u001b[0m\u001b[1m \u001b[0m┃\u001b[1m \u001b[0m\u001b[1mMAC       \u001b[0m\u001b[1m \u001b[0m┃\u001b[1m \u001b[0m\u001b[1mCONNECTED \u001b[0m\u001b[1m \u001b[0m┃\u001b[1m \u001b[0m\u001b[1mIP        \u001b[0m\u001b[1m \u001b[0m┃\u001b[1m \u001b[0m\u001b[1mSUBNET    \u001b[0m\u001b[1m \u001b[0m┃\u001b[1m \u001b[0m\u001b[1mGATEWAY    \u001b[0m\u001b[1m \u001b[0m┃\n",
       "┡━━━━━━━━━━━━╇━━━━━━━━━━━━╇━━━━━━━━━━━━╇━━━━━━━━━━━━╇━━━━━━━━━━━━╇━━━━━━━━━━━━╇━━━━━━━━━━━━━┩\n",
       "└────────────┴────────────┴────────────┴────────────┴────────────┴────────────┴─────────────┘\n"
      ]
     },
     "metadata": {},
     "output_type": "display_data"
    },
    {
     "data": {
      "text/html": [
       "<pre style=\"white-space:pre;overflow-x:auto;line-height:normal;font-family:Menlo,'DejaVu Sans Mono',consolas,'Courier New',monospace\">Interface eth0 has MAC: 04:d4:c4:e0:63:54 , IP : NA, SUBNET : NA, DG : NA \n",
       "</pre>\n"
      ],
      "text/plain": [
       "Interface eth0 has MAC: 04:d4:c4:e0:63:54 , IP : NA, SUBNET : NA, DG : NA \n"
      ]
     },
     "metadata": {},
     "output_type": "display_data"
    },
    {
     "data": {
      "text/html": [
       "<pre style=\"white-space:pre;overflow-x:auto;line-height:normal;font-family:Menlo,'DejaVu Sans Mono',consolas,'Courier New',monospace\"><span style=\"font-style: italic\">                                 LIST OF AVAILABLE NETWORKS                                  </span>\n",
       "┏━━━━━━━━━━━━┳━━━━━━━━━━━━┳━━━━━━━━━━━━┳━━━━━━━━━━━━┳━━━━━━━━━━━━┳━━━━━━━━━━━━┳━━━━━━━━━━━━━┓\n",
       "┃<span style=\"font-weight: bold\">            </span>┃<span style=\"font-weight: bold\">            </span>┃<span style=\"font-weight: bold\">            </span>┃<span style=\"font-weight: bold\"> IS         </span>┃<span style=\"font-weight: bold\">            </span>┃<span style=\"font-weight: bold\">            </span>┃<span style=\"font-weight: bold\"> DEFAULT     </span>┃\n",
       "┃<span style=\"font-weight: bold\"> ID         </span>┃<span style=\"font-weight: bold\"> INTERFACE  </span>┃<span style=\"font-weight: bold\"> MAC        </span>┃<span style=\"font-weight: bold\"> CONNECTED  </span>┃<span style=\"font-weight: bold\"> IP         </span>┃<span style=\"font-weight: bold\"> SUBNET     </span>┃<span style=\"font-weight: bold\"> GATEWAY     </span>┃\n",
       "┡━━━━━━━━━━━━╇━━━━━━━━━━━━╇━━━━━━━━━━━━╇━━━━━━━━━━━━╇━━━━━━━━━━━━╇━━━━━━━━━━━━╇━━━━━━━━━━━━━┩\n",
       "│ 1          │ eth0       │ 04:d4:c4:… │ False      │ NA         │ NA         │ NA          │\n",
       "└────────────┴────────────┴────────────┴────────────┴────────────┴────────────┴─────────────┘\n",
       "</pre>\n"
      ],
      "text/plain": [
       "\u001b[3m                                 LIST OF AVAILABLE NETWORKS                                  \u001b[0m\n",
       "┏━━━━━━━━━━━━┳━━━━━━━━━━━━┳━━━━━━━━━━━━┳━━━━━━━━━━━━┳━━━━━━━━━━━━┳━━━━━━━━━━━━┳━━━━━━━━━━━━━┓\n",
       "┃\u001b[1m            \u001b[0m┃\u001b[1m            \u001b[0m┃\u001b[1m            \u001b[0m┃\u001b[1m \u001b[0m\u001b[1mIS        \u001b[0m\u001b[1m \u001b[0m┃\u001b[1m            \u001b[0m┃\u001b[1m            \u001b[0m┃\u001b[1m \u001b[0m\u001b[1mDEFAULT    \u001b[0m\u001b[1m \u001b[0m┃\n",
       "┃\u001b[1m \u001b[0m\u001b[1mID        \u001b[0m\u001b[1m \u001b[0m┃\u001b[1m \u001b[0m\u001b[1mINTERFACE \u001b[0m\u001b[1m \u001b[0m┃\u001b[1m \u001b[0m\u001b[1mMAC       \u001b[0m\u001b[1m \u001b[0m┃\u001b[1m \u001b[0m\u001b[1mCONNECTED \u001b[0m\u001b[1m \u001b[0m┃\u001b[1m \u001b[0m\u001b[1mIP        \u001b[0m\u001b[1m \u001b[0m┃\u001b[1m \u001b[0m\u001b[1mSUBNET    \u001b[0m\u001b[1m \u001b[0m┃\u001b[1m \u001b[0m\u001b[1mGATEWAY    \u001b[0m\u001b[1m \u001b[0m┃\n",
       "┡━━━━━━━━━━━━╇━━━━━━━━━━━━╇━━━━━━━━━━━━╇━━━━━━━━━━━━╇━━━━━━━━━━━━╇━━━━━━━━━━━━╇━━━━━━━━━━━━━┩\n",
       "│ 1          │ eth0       │ 04:d4:c4:… │ False      │ NA         │ NA         │ NA          │\n",
       "└────────────┴────────────┴────────────┴────────────┴────────────┴────────────┴─────────────┘\n"
      ]
     },
     "metadata": {},
     "output_type": "display_data"
    },
    {
     "data": {
      "text/html": [
       "<pre style=\"white-space:pre;overflow-x:auto;line-height:normal;font-family:Menlo,'DejaVu Sans Mono',consolas,'Courier New',monospace\"><span style=\"font-style: italic\">                                 LIST OF AVAILABLE NETWORKS                                  </span>\n",
       "┏━━━━━━━━━━━━┳━━━━━━━━━━━━┳━━━━━━━━━━━━┳━━━━━━━━━━━━┳━━━━━━━━━━━━┳━━━━━━━━━━━━┳━━━━━━━━━━━━━┓\n",
       "┃<span style=\"font-weight: bold\">            </span>┃<span style=\"font-weight: bold\">            </span>┃<span style=\"font-weight: bold\">            </span>┃<span style=\"font-weight: bold\"> IS         </span>┃<span style=\"font-weight: bold\">            </span>┃<span style=\"font-weight: bold\">            </span>┃<span style=\"font-weight: bold\"> DEFAULT     </span>┃\n",
       "┃<span style=\"font-weight: bold\"> ID         </span>┃<span style=\"font-weight: bold\"> INTERFACE  </span>┃<span style=\"font-weight: bold\"> MAC        </span>┃<span style=\"font-weight: bold\"> CONNECTED  </span>┃<span style=\"font-weight: bold\"> IP         </span>┃<span style=\"font-weight: bold\"> SUBNET     </span>┃<span style=\"font-weight: bold\"> GATEWAY     </span>┃\n",
       "┡━━━━━━━━━━━━╇━━━━━━━━━━━━╇━━━━━━━━━━━━╇━━━━━━━━━━━━╇━━━━━━━━━━━━╇━━━━━━━━━━━━╇━━━━━━━━━━━━━┩\n",
       "│ 1          │ eth0       │ 04:d4:c4:… │ False      │ NA         │ NA         │ NA          │\n",
       "└────────────┴────────────┴────────────┴────────────┴────────────┴────────────┴─────────────┘\n",
       "</pre>\n"
      ],
      "text/plain": [
       "\u001b[3m                                 LIST OF AVAILABLE NETWORKS                                  \u001b[0m\n",
       "┏━━━━━━━━━━━━┳━━━━━━━━━━━━┳━━━━━━━━━━━━┳━━━━━━━━━━━━┳━━━━━━━━━━━━┳━━━━━━━━━━━━┳━━━━━━━━━━━━━┓\n",
       "┃\u001b[1m            \u001b[0m┃\u001b[1m            \u001b[0m┃\u001b[1m            \u001b[0m┃\u001b[1m \u001b[0m\u001b[1mIS        \u001b[0m\u001b[1m \u001b[0m┃\u001b[1m            \u001b[0m┃\u001b[1m            \u001b[0m┃\u001b[1m \u001b[0m\u001b[1mDEFAULT    \u001b[0m\u001b[1m \u001b[0m┃\n",
       "┃\u001b[1m \u001b[0m\u001b[1mID        \u001b[0m\u001b[1m \u001b[0m┃\u001b[1m \u001b[0m\u001b[1mINTERFACE \u001b[0m\u001b[1m \u001b[0m┃\u001b[1m \u001b[0m\u001b[1mMAC       \u001b[0m\u001b[1m \u001b[0m┃\u001b[1m \u001b[0m\u001b[1mCONNECTED \u001b[0m\u001b[1m \u001b[0m┃\u001b[1m \u001b[0m\u001b[1mIP        \u001b[0m\u001b[1m \u001b[0m┃\u001b[1m \u001b[0m\u001b[1mSUBNET    \u001b[0m\u001b[1m \u001b[0m┃\u001b[1m \u001b[0m\u001b[1mGATEWAY    \u001b[0m\u001b[1m \u001b[0m┃\n",
       "┡━━━━━━━━━━━━╇━━━━━━━━━━━━╇━━━━━━━━━━━━╇━━━━━━━━━━━━╇━━━━━━━━━━━━╇━━━━━━━━━━━━╇━━━━━━━━━━━━━┩\n",
       "│ 1          │ eth0       │ 04:d4:c4:… │ False      │ NA         │ NA         │ NA          │\n",
       "└────────────┴────────────┴────────────┴────────────┴────────────┴────────────┴─────────────┘\n"
      ]
     },
     "metadata": {},
     "output_type": "display_data"
    },
    {
     "data": {
      "text/html": [
       "<pre style=\"white-space:pre;overflow-x:auto;line-height:normal;font-family:Menlo,'DejaVu Sans Mono',consolas,'Courier New',monospace\"><span style=\"font-style: italic\">                                 LIST OF AVAILABLE NETWORKS                                  </span>\n",
       "┏━━━━━━━━━━━━┳━━━━━━━━━━━━┳━━━━━━━━━━━━┳━━━━━━━━━━━━┳━━━━━━━━━━━━┳━━━━━━━━━━━━┳━━━━━━━━━━━━━┓\n",
       "┃<span style=\"font-weight: bold\">            </span>┃<span style=\"font-weight: bold\">            </span>┃<span style=\"font-weight: bold\">            </span>┃<span style=\"font-weight: bold\"> IS         </span>┃<span style=\"font-weight: bold\">            </span>┃<span style=\"font-weight: bold\">            </span>┃<span style=\"font-weight: bold\"> DEFAULT     </span>┃\n",
       "┃<span style=\"font-weight: bold\"> ID         </span>┃<span style=\"font-weight: bold\"> INTERFACE  </span>┃<span style=\"font-weight: bold\"> MAC        </span>┃<span style=\"font-weight: bold\"> CONNECTED  </span>┃<span style=\"font-weight: bold\"> IP         </span>┃<span style=\"font-weight: bold\"> SUBNET     </span>┃<span style=\"font-weight: bold\"> GATEWAY     </span>┃\n",
       "┡━━━━━━━━━━━━╇━━━━━━━━━━━━╇━━━━━━━━━━━━╇━━━━━━━━━━━━╇━━━━━━━━━━━━╇━━━━━━━━━━━━╇━━━━━━━━━━━━━┩\n",
       "│ 1          │ eth0       │ 04:d4:c4:… │ False      │ NA         │ NA         │ NA          │\n",
       "└────────────┴────────────┴────────────┴────────────┴────────────┴────────────┴─────────────┘\n",
       "</pre>\n"
      ],
      "text/plain": [
       "\u001b[3m                                 LIST OF AVAILABLE NETWORKS                                  \u001b[0m\n",
       "┏━━━━━━━━━━━━┳━━━━━━━━━━━━┳━━━━━━━━━━━━┳━━━━━━━━━━━━┳━━━━━━━━━━━━┳━━━━━━━━━━━━┳━━━━━━━━━━━━━┓\n",
       "┃\u001b[1m            \u001b[0m┃\u001b[1m            \u001b[0m┃\u001b[1m            \u001b[0m┃\u001b[1m \u001b[0m\u001b[1mIS        \u001b[0m\u001b[1m \u001b[0m┃\u001b[1m            \u001b[0m┃\u001b[1m            \u001b[0m┃\u001b[1m \u001b[0m\u001b[1mDEFAULT    \u001b[0m\u001b[1m \u001b[0m┃\n",
       "┃\u001b[1m \u001b[0m\u001b[1mID        \u001b[0m\u001b[1m \u001b[0m┃\u001b[1m \u001b[0m\u001b[1mINTERFACE \u001b[0m\u001b[1m \u001b[0m┃\u001b[1m \u001b[0m\u001b[1mMAC       \u001b[0m\u001b[1m \u001b[0m┃\u001b[1m \u001b[0m\u001b[1mCONNECTED \u001b[0m\u001b[1m \u001b[0m┃\u001b[1m \u001b[0m\u001b[1mIP        \u001b[0m\u001b[1m \u001b[0m┃\u001b[1m \u001b[0m\u001b[1mSUBNET    \u001b[0m\u001b[1m \u001b[0m┃\u001b[1m \u001b[0m\u001b[1mGATEWAY    \u001b[0m\u001b[1m \u001b[0m┃\n",
       "┡━━━━━━━━━━━━╇━━━━━━━━━━━━╇━━━━━━━━━━━━╇━━━━━━━━━━━━╇━━━━━━━━━━━━╇━━━━━━━━━━━━╇━━━━━━━━━━━━━┩\n",
       "│ 1          │ eth0       │ 04:d4:c4:… │ False      │ NA         │ NA         │ NA          │\n",
       "└────────────┴────────────┴────────────┴────────────┴────────────┴────────────┴─────────────┘\n"
      ]
     },
     "metadata": {},
     "output_type": "display_data"
    },
    {
     "data": {
      "text/html": [
       "<pre style=\"white-space:pre;overflow-x:auto;line-height:normal;font-family:Menlo,'DejaVu Sans Mono',consolas,'Courier New',monospace\"><span style=\"font-style: italic\">                                 LIST OF AVAILABLE NETWORKS                                  </span>\n",
       "┏━━━━━━━━━━━━┳━━━━━━━━━━━━┳━━━━━━━━━━━━┳━━━━━━━━━━━━┳━━━━━━━━━━━━┳━━━━━━━━━━━━┳━━━━━━━━━━━━━┓\n",
       "┃<span style=\"font-weight: bold\">            </span>┃<span style=\"font-weight: bold\">            </span>┃<span style=\"font-weight: bold\">            </span>┃<span style=\"font-weight: bold\"> IS         </span>┃<span style=\"font-weight: bold\">            </span>┃<span style=\"font-weight: bold\">            </span>┃<span style=\"font-weight: bold\"> DEFAULT     </span>┃\n",
       "┃<span style=\"font-weight: bold\"> ID         </span>┃<span style=\"font-weight: bold\"> INTERFACE  </span>┃<span style=\"font-weight: bold\"> MAC        </span>┃<span style=\"font-weight: bold\"> CONNECTED  </span>┃<span style=\"font-weight: bold\"> IP         </span>┃<span style=\"font-weight: bold\"> SUBNET     </span>┃<span style=\"font-weight: bold\"> GATEWAY     </span>┃\n",
       "┡━━━━━━━━━━━━╇━━━━━━━━━━━━╇━━━━━━━━━━━━╇━━━━━━━━━━━━╇━━━━━━━━━━━━╇━━━━━━━━━━━━╇━━━━━━━━━━━━━┩\n",
       "│ 1          │ eth0       │ 04:d4:c4:… │ False      │ NA         │ NA         │ NA          │\n",
       "└────────────┴────────────┴────────────┴────────────┴────────────┴────────────┴─────────────┘\n",
       "</pre>\n"
      ],
      "text/plain": [
       "\u001b[3m                                 LIST OF AVAILABLE NETWORKS                                  \u001b[0m\n",
       "┏━━━━━━━━━━━━┳━━━━━━━━━━━━┳━━━━━━━━━━━━┳━━━━━━━━━━━━┳━━━━━━━━━━━━┳━━━━━━━━━━━━┳━━━━━━━━━━━━━┓\n",
       "┃\u001b[1m            \u001b[0m┃\u001b[1m            \u001b[0m┃\u001b[1m            \u001b[0m┃\u001b[1m \u001b[0m\u001b[1mIS        \u001b[0m\u001b[1m \u001b[0m┃\u001b[1m            \u001b[0m┃\u001b[1m            \u001b[0m┃\u001b[1m \u001b[0m\u001b[1mDEFAULT    \u001b[0m\u001b[1m \u001b[0m┃\n",
       "┃\u001b[1m \u001b[0m\u001b[1mID        \u001b[0m\u001b[1m \u001b[0m┃\u001b[1m \u001b[0m\u001b[1mINTERFACE \u001b[0m\u001b[1m \u001b[0m┃\u001b[1m \u001b[0m\u001b[1mMAC       \u001b[0m\u001b[1m \u001b[0m┃\u001b[1m \u001b[0m\u001b[1mCONNECTED \u001b[0m\u001b[1m \u001b[0m┃\u001b[1m \u001b[0m\u001b[1mIP        \u001b[0m\u001b[1m \u001b[0m┃\u001b[1m \u001b[0m\u001b[1mSUBNET    \u001b[0m\u001b[1m \u001b[0m┃\u001b[1m \u001b[0m\u001b[1mGATEWAY    \u001b[0m\u001b[1m \u001b[0m┃\n",
       "┡━━━━━━━━━━━━╇━━━━━━━━━━━━╇━━━━━━━━━━━━╇━━━━━━━━━━━━╇━━━━━━━━━━━━╇━━━━━━━━━━━━╇━━━━━━━━━━━━━┩\n",
       "│ 1          │ eth0       │ 04:d4:c4:… │ False      │ NA         │ NA         │ NA          │\n",
       "└────────────┴────────────┴────────────┴────────────┴────────────┴────────────┴─────────────┘\n"
      ]
     },
     "metadata": {},
     "output_type": "display_data"
    },
    {
     "data": {
      "text/html": [
       "<pre style=\"white-space:pre;overflow-x:auto;line-height:normal;font-family:Menlo,'DejaVu Sans Mono',consolas,'Courier New',monospace\"><span style=\"font-style: italic\">                                 LIST OF AVAILABLE NETWORKS                                  </span>\n",
       "┏━━━━━━━━━━━━┳━━━━━━━━━━━━┳━━━━━━━━━━━━┳━━━━━━━━━━━━┳━━━━━━━━━━━━┳━━━━━━━━━━━━┳━━━━━━━━━━━━━┓\n",
       "┃<span style=\"font-weight: bold\">            </span>┃<span style=\"font-weight: bold\">            </span>┃<span style=\"font-weight: bold\">            </span>┃<span style=\"font-weight: bold\"> IS         </span>┃<span style=\"font-weight: bold\">            </span>┃<span style=\"font-weight: bold\">            </span>┃<span style=\"font-weight: bold\"> DEFAULT     </span>┃\n",
       "┃<span style=\"font-weight: bold\"> ID         </span>┃<span style=\"font-weight: bold\"> INTERFACE  </span>┃<span style=\"font-weight: bold\"> MAC        </span>┃<span style=\"font-weight: bold\"> CONNECTED  </span>┃<span style=\"font-weight: bold\"> IP         </span>┃<span style=\"font-weight: bold\"> SUBNET     </span>┃<span style=\"font-weight: bold\"> GATEWAY     </span>┃\n",
       "┡━━━━━━━━━━━━╇━━━━━━━━━━━━╇━━━━━━━━━━━━╇━━━━━━━━━━━━╇━━━━━━━━━━━━╇━━━━━━━━━━━━╇━━━━━━━━━━━━━┩\n",
       "│ 1          │ eth0       │ 04:d4:c4:… │ False      │ NA         │ NA         │ NA          │\n",
       "└────────────┴────────────┴────────────┴────────────┴────────────┴────────────┴─────────────┘\n",
       "</pre>\n"
      ],
      "text/plain": [
       "\u001b[3m                                 LIST OF AVAILABLE NETWORKS                                  \u001b[0m\n",
       "┏━━━━━━━━━━━━┳━━━━━━━━━━━━┳━━━━━━━━━━━━┳━━━━━━━━━━━━┳━━━━━━━━━━━━┳━━━━━━━━━━━━┳━━━━━━━━━━━━━┓\n",
       "┃\u001b[1m            \u001b[0m┃\u001b[1m            \u001b[0m┃\u001b[1m            \u001b[0m┃\u001b[1m \u001b[0m\u001b[1mIS        \u001b[0m\u001b[1m \u001b[0m┃\u001b[1m            \u001b[0m┃\u001b[1m            \u001b[0m┃\u001b[1m \u001b[0m\u001b[1mDEFAULT    \u001b[0m\u001b[1m \u001b[0m┃\n",
       "┃\u001b[1m \u001b[0m\u001b[1mID        \u001b[0m\u001b[1m \u001b[0m┃\u001b[1m \u001b[0m\u001b[1mINTERFACE \u001b[0m\u001b[1m \u001b[0m┃\u001b[1m \u001b[0m\u001b[1mMAC       \u001b[0m\u001b[1m \u001b[0m┃\u001b[1m \u001b[0m\u001b[1mCONNECTED \u001b[0m\u001b[1m \u001b[0m┃\u001b[1m \u001b[0m\u001b[1mIP        \u001b[0m\u001b[1m \u001b[0m┃\u001b[1m \u001b[0m\u001b[1mSUBNET    \u001b[0m\u001b[1m \u001b[0m┃\u001b[1m \u001b[0m\u001b[1mGATEWAY    \u001b[0m\u001b[1m \u001b[0m┃\n",
       "┡━━━━━━━━━━━━╇━━━━━━━━━━━━╇━━━━━━━━━━━━╇━━━━━━━━━━━━╇━━━━━━━━━━━━╇━━━━━━━━━━━━╇━━━━━━━━━━━━━┩\n",
       "│ 1          │ eth0       │ 04:d4:c4:… │ False      │ NA         │ NA         │ NA          │\n",
       "└────────────┴────────────┴────────────┴────────────┴────────────┴────────────┴─────────────┘\n"
      ]
     },
     "metadata": {},
     "output_type": "display_data"
    },
    {
     "data": {
      "text/html": [
       "<pre style=\"white-space:pre;overflow-x:auto;line-height:normal;font-family:Menlo,'DejaVu Sans Mono',consolas,'Courier New',monospace\"><span style=\"font-style: italic\">                                 LIST OF AVAILABLE NETWORKS                                  </span>\n",
       "┏━━━━━━━━━━━━┳━━━━━━━━━━━━┳━━━━━━━━━━━━┳━━━━━━━━━━━━┳━━━━━━━━━━━━┳━━━━━━━━━━━━┳━━━━━━━━━━━━━┓\n",
       "┃<span style=\"font-weight: bold\">            </span>┃<span style=\"font-weight: bold\">            </span>┃<span style=\"font-weight: bold\">            </span>┃<span style=\"font-weight: bold\"> IS         </span>┃<span style=\"font-weight: bold\">            </span>┃<span style=\"font-weight: bold\">            </span>┃<span style=\"font-weight: bold\"> DEFAULT     </span>┃\n",
       "┃<span style=\"font-weight: bold\"> ID         </span>┃<span style=\"font-weight: bold\"> INTERFACE  </span>┃<span style=\"font-weight: bold\"> MAC        </span>┃<span style=\"font-weight: bold\"> CONNECTED  </span>┃<span style=\"font-weight: bold\"> IP         </span>┃<span style=\"font-weight: bold\"> SUBNET     </span>┃<span style=\"font-weight: bold\"> GATEWAY     </span>┃\n",
       "┡━━━━━━━━━━━━╇━━━━━━━━━━━━╇━━━━━━━━━━━━╇━━━━━━━━━━━━╇━━━━━━━━━━━━╇━━━━━━━━━━━━╇━━━━━━━━━━━━━┩\n",
       "│ 1          │ eth0       │ 04:d4:c4:… │ False      │ NA         │ NA         │ NA          │\n",
       "└────────────┴────────────┴────────────┴────────────┴────────────┴────────────┴─────────────┘\n",
       "</pre>\n"
      ],
      "text/plain": [
       "\u001b[3m                                 LIST OF AVAILABLE NETWORKS                                  \u001b[0m\n",
       "┏━━━━━━━━━━━━┳━━━━━━━━━━━━┳━━━━━━━━━━━━┳━━━━━━━━━━━━┳━━━━━━━━━━━━┳━━━━━━━━━━━━┳━━━━━━━━━━━━━┓\n",
       "┃\u001b[1m            \u001b[0m┃\u001b[1m            \u001b[0m┃\u001b[1m            \u001b[0m┃\u001b[1m \u001b[0m\u001b[1mIS        \u001b[0m\u001b[1m \u001b[0m┃\u001b[1m            \u001b[0m┃\u001b[1m            \u001b[0m┃\u001b[1m \u001b[0m\u001b[1mDEFAULT    \u001b[0m\u001b[1m \u001b[0m┃\n",
       "┃\u001b[1m \u001b[0m\u001b[1mID        \u001b[0m\u001b[1m \u001b[0m┃\u001b[1m \u001b[0m\u001b[1mINTERFACE \u001b[0m\u001b[1m \u001b[0m┃\u001b[1m \u001b[0m\u001b[1mMAC       \u001b[0m\u001b[1m \u001b[0m┃\u001b[1m \u001b[0m\u001b[1mCONNECTED \u001b[0m\u001b[1m \u001b[0m┃\u001b[1m \u001b[0m\u001b[1mIP        \u001b[0m\u001b[1m \u001b[0m┃\u001b[1m \u001b[0m\u001b[1mSUBNET    \u001b[0m\u001b[1m \u001b[0m┃\u001b[1m \u001b[0m\u001b[1mGATEWAY    \u001b[0m\u001b[1m \u001b[0m┃\n",
       "┡━━━━━━━━━━━━╇━━━━━━━━━━━━╇━━━━━━━━━━━━╇━━━━━━━━━━━━╇━━━━━━━━━━━━╇━━━━━━━━━━━━╇━━━━━━━━━━━━━┩\n",
       "│ 1          │ eth0       │ 04:d4:c4:… │ False      │ NA         │ NA         │ NA          │\n",
       "└────────────┴────────────┴────────────┴────────────┴────────────┴────────────┴─────────────┘\n"
      ]
     },
     "metadata": {},
     "output_type": "display_data"
    },
    {
     "data": {
      "text/html": [
       "<pre style=\"white-space:pre;overflow-x:auto;line-height:normal;font-family:Menlo,'DejaVu Sans Mono',consolas,'Courier New',monospace\"><span style=\"font-style: italic\">                                 LIST OF AVAILABLE NETWORKS                                  </span>\n",
       "┏━━━━━━━━━━━━┳━━━━━━━━━━━━┳━━━━━━━━━━━━┳━━━━━━━━━━━━┳━━━━━━━━━━━━┳━━━━━━━━━━━━┳━━━━━━━━━━━━━┓\n",
       "┃<span style=\"font-weight: bold\">            </span>┃<span style=\"font-weight: bold\">            </span>┃<span style=\"font-weight: bold\">            </span>┃<span style=\"font-weight: bold\"> IS         </span>┃<span style=\"font-weight: bold\">            </span>┃<span style=\"font-weight: bold\">            </span>┃<span style=\"font-weight: bold\"> DEFAULT     </span>┃\n",
       "┃<span style=\"font-weight: bold\"> ID         </span>┃<span style=\"font-weight: bold\"> INTERFACE  </span>┃<span style=\"font-weight: bold\"> MAC        </span>┃<span style=\"font-weight: bold\"> CONNECTED  </span>┃<span style=\"font-weight: bold\"> IP         </span>┃<span style=\"font-weight: bold\"> SUBNET     </span>┃<span style=\"font-weight: bold\"> GATEWAY     </span>┃\n",
       "┡━━━━━━━━━━━━╇━━━━━━━━━━━━╇━━━━━━━━━━━━╇━━━━━━━━━━━━╇━━━━━━━━━━━━╇━━━━━━━━━━━━╇━━━━━━━━━━━━━┩\n",
       "│ 1          │ eth0       │ 04:d4:c4:… │ False      │ NA         │ NA         │ NA          │\n",
       "└────────────┴────────────┴────────────┴────────────┴────────────┴────────────┴─────────────┘\n",
       "</pre>\n"
      ],
      "text/plain": [
       "\u001b[3m                                 LIST OF AVAILABLE NETWORKS                                  \u001b[0m\n",
       "┏━━━━━━━━━━━━┳━━━━━━━━━━━━┳━━━━━━━━━━━━┳━━━━━━━━━━━━┳━━━━━━━━━━━━┳━━━━━━━━━━━━┳━━━━━━━━━━━━━┓\n",
       "┃\u001b[1m            \u001b[0m┃\u001b[1m            \u001b[0m┃\u001b[1m            \u001b[0m┃\u001b[1m \u001b[0m\u001b[1mIS        \u001b[0m\u001b[1m \u001b[0m┃\u001b[1m            \u001b[0m┃\u001b[1m            \u001b[0m┃\u001b[1m \u001b[0m\u001b[1mDEFAULT    \u001b[0m\u001b[1m \u001b[0m┃\n",
       "┃\u001b[1m \u001b[0m\u001b[1mID        \u001b[0m\u001b[1m \u001b[0m┃\u001b[1m \u001b[0m\u001b[1mINTERFACE \u001b[0m\u001b[1m \u001b[0m┃\u001b[1m \u001b[0m\u001b[1mMAC       \u001b[0m\u001b[1m \u001b[0m┃\u001b[1m \u001b[0m\u001b[1mCONNECTED \u001b[0m\u001b[1m \u001b[0m┃\u001b[1m \u001b[0m\u001b[1mIP        \u001b[0m\u001b[1m \u001b[0m┃\u001b[1m \u001b[0m\u001b[1mSUBNET    \u001b[0m\u001b[1m \u001b[0m┃\u001b[1m \u001b[0m\u001b[1mGATEWAY    \u001b[0m\u001b[1m \u001b[0m┃\n",
       "┡━━━━━━━━━━━━╇━━━━━━━━━━━━╇━━━━━━━━━━━━╇━━━━━━━━━━━━╇━━━━━━━━━━━━╇━━━━━━━━━━━━╇━━━━━━━━━━━━━┩\n",
       "│ 1          │ eth0       │ 04:d4:c4:… │ False      │ NA         │ NA         │ NA          │\n",
       "└────────────┴────────────┴────────────┴────────────┴────────────┴────────────┴─────────────┘\n"
      ]
     },
     "metadata": {},
     "output_type": "display_data"
    },
    {
     "data": {
      "text/html": [
       "<pre style=\"white-space:pre;overflow-x:auto;line-height:normal;font-family:Menlo,'DejaVu Sans Mono',consolas,'Courier New',monospace\"><span style=\"font-style: italic\">                                 LIST OF AVAILABLE NETWORKS                                  </span>\n",
       "┏━━━━━━━━━━━━┳━━━━━━━━━━━━┳━━━━━━━━━━━━┳━━━━━━━━━━━━┳━━━━━━━━━━━━┳━━━━━━━━━━━━┳━━━━━━━━━━━━━┓\n",
       "┃<span style=\"font-weight: bold\">            </span>┃<span style=\"font-weight: bold\">            </span>┃<span style=\"font-weight: bold\">            </span>┃<span style=\"font-weight: bold\"> IS         </span>┃<span style=\"font-weight: bold\">            </span>┃<span style=\"font-weight: bold\">            </span>┃<span style=\"font-weight: bold\"> DEFAULT     </span>┃\n",
       "┃<span style=\"font-weight: bold\"> ID         </span>┃<span style=\"font-weight: bold\"> INTERFACE  </span>┃<span style=\"font-weight: bold\"> MAC        </span>┃<span style=\"font-weight: bold\"> CONNECTED  </span>┃<span style=\"font-weight: bold\"> IP         </span>┃<span style=\"font-weight: bold\"> SUBNET     </span>┃<span style=\"font-weight: bold\"> GATEWAY     </span>┃\n",
       "┡━━━━━━━━━━━━╇━━━━━━━━━━━━╇━━━━━━━━━━━━╇━━━━━━━━━━━━╇━━━━━━━━━━━━╇━━━━━━━━━━━━╇━━━━━━━━━━━━━┩\n",
       "│ 1          │ eth0       │ 04:d4:c4:… │ False      │ NA         │ NA         │ NA          │\n",
       "└────────────┴────────────┴────────────┴────────────┴────────────┴────────────┴─────────────┘\n",
       "</pre>\n"
      ],
      "text/plain": [
       "\u001b[3m                                 LIST OF AVAILABLE NETWORKS                                  \u001b[0m\n",
       "┏━━━━━━━━━━━━┳━━━━━━━━━━━━┳━━━━━━━━━━━━┳━━━━━━━━━━━━┳━━━━━━━━━━━━┳━━━━━━━━━━━━┳━━━━━━━━━━━━━┓\n",
       "┃\u001b[1m            \u001b[0m┃\u001b[1m            \u001b[0m┃\u001b[1m            \u001b[0m┃\u001b[1m \u001b[0m\u001b[1mIS        \u001b[0m\u001b[1m \u001b[0m┃\u001b[1m            \u001b[0m┃\u001b[1m            \u001b[0m┃\u001b[1m \u001b[0m\u001b[1mDEFAULT    \u001b[0m\u001b[1m \u001b[0m┃\n",
       "┃\u001b[1m \u001b[0m\u001b[1mID        \u001b[0m\u001b[1m \u001b[0m┃\u001b[1m \u001b[0m\u001b[1mINTERFACE \u001b[0m\u001b[1m \u001b[0m┃\u001b[1m \u001b[0m\u001b[1mMAC       \u001b[0m\u001b[1m \u001b[0m┃\u001b[1m \u001b[0m\u001b[1mCONNECTED \u001b[0m\u001b[1m \u001b[0m┃\u001b[1m \u001b[0m\u001b[1mIP        \u001b[0m\u001b[1m \u001b[0m┃\u001b[1m \u001b[0m\u001b[1mSUBNET    \u001b[0m\u001b[1m \u001b[0m┃\u001b[1m \u001b[0m\u001b[1mGATEWAY    \u001b[0m\u001b[1m \u001b[0m┃\n",
       "┡━━━━━━━━━━━━╇━━━━━━━━━━━━╇━━━━━━━━━━━━╇━━━━━━━━━━━━╇━━━━━━━━━━━━╇━━━━━━━━━━━━╇━━━━━━━━━━━━━┩\n",
       "│ 1          │ eth0       │ 04:d4:c4:… │ False      │ NA         │ NA         │ NA          │\n",
       "└────────────┴────────────┴────────────┴────────────┴────────────┴────────────┴─────────────┘\n"
      ]
     },
     "metadata": {},
     "output_type": "display_data"
    },
    {
     "data": {
      "text/html": [
       "<pre style=\"white-space:pre;overflow-x:auto;line-height:normal;font-family:Menlo,'DejaVu Sans Mono',consolas,'Courier New',monospace\"><span style=\"font-style: italic\">                                 LIST OF AVAILABLE NETWORKS                                  </span>\n",
       "┏━━━━━━━━━━━━┳━━━━━━━━━━━━┳━━━━━━━━━━━━┳━━━━━━━━━━━━┳━━━━━━━━━━━━┳━━━━━━━━━━━━┳━━━━━━━━━━━━━┓\n",
       "┃<span style=\"font-weight: bold\">            </span>┃<span style=\"font-weight: bold\">            </span>┃<span style=\"font-weight: bold\">            </span>┃<span style=\"font-weight: bold\"> IS         </span>┃<span style=\"font-weight: bold\">            </span>┃<span style=\"font-weight: bold\">            </span>┃<span style=\"font-weight: bold\"> DEFAULT     </span>┃\n",
       "┃<span style=\"font-weight: bold\"> ID         </span>┃<span style=\"font-weight: bold\"> INTERFACE  </span>┃<span style=\"font-weight: bold\"> MAC        </span>┃<span style=\"font-weight: bold\"> CONNECTED  </span>┃<span style=\"font-weight: bold\"> IP         </span>┃<span style=\"font-weight: bold\"> SUBNET     </span>┃<span style=\"font-weight: bold\"> GATEWAY     </span>┃\n",
       "┡━━━━━━━━━━━━╇━━━━━━━━━━━━╇━━━━━━━━━━━━╇━━━━━━━━━━━━╇━━━━━━━━━━━━╇━━━━━━━━━━━━╇━━━━━━━━━━━━━┩\n",
       "│ 1          │ eth0       │ 04:d4:c4:… │ False      │ NA         │ NA         │ NA          │\n",
       "└────────────┴────────────┴────────────┴────────────┴────────────┴────────────┴─────────────┘\n",
       "</pre>\n"
      ],
      "text/plain": [
       "\u001b[3m                                 LIST OF AVAILABLE NETWORKS                                  \u001b[0m\n",
       "┏━━━━━━━━━━━━┳━━━━━━━━━━━━┳━━━━━━━━━━━━┳━━━━━━━━━━━━┳━━━━━━━━━━━━┳━━━━━━━━━━━━┳━━━━━━━━━━━━━┓\n",
       "┃\u001b[1m            \u001b[0m┃\u001b[1m            \u001b[0m┃\u001b[1m            \u001b[0m┃\u001b[1m \u001b[0m\u001b[1mIS        \u001b[0m\u001b[1m \u001b[0m┃\u001b[1m            \u001b[0m┃\u001b[1m            \u001b[0m┃\u001b[1m \u001b[0m\u001b[1mDEFAULT    \u001b[0m\u001b[1m \u001b[0m┃\n",
       "┃\u001b[1m \u001b[0m\u001b[1mID        \u001b[0m\u001b[1m \u001b[0m┃\u001b[1m \u001b[0m\u001b[1mINTERFACE \u001b[0m\u001b[1m \u001b[0m┃\u001b[1m \u001b[0m\u001b[1mMAC       \u001b[0m\u001b[1m \u001b[0m┃\u001b[1m \u001b[0m\u001b[1mCONNECTED \u001b[0m\u001b[1m \u001b[0m┃\u001b[1m \u001b[0m\u001b[1mIP        \u001b[0m\u001b[1m \u001b[0m┃\u001b[1m \u001b[0m\u001b[1mSUBNET    \u001b[0m\u001b[1m \u001b[0m┃\u001b[1m \u001b[0m\u001b[1mGATEWAY    \u001b[0m\u001b[1m \u001b[0m┃\n",
       "┡━━━━━━━━━━━━╇━━━━━━━━━━━━╇━━━━━━━━━━━━╇━━━━━━━━━━━━╇━━━━━━━━━━━━╇━━━━━━━━━━━━╇━━━━━━━━━━━━━┩\n",
       "│ 1          │ eth0       │ 04:d4:c4:… │ False      │ NA         │ NA         │ NA          │\n",
       "└────────────┴────────────┴────────────┴────────────┴────────────┴────────────┴─────────────┘\n"
      ]
     },
     "metadata": {},
     "output_type": "display_data"
    },
    {
     "data": {
      "text/html": [
       "<pre style=\"white-space:pre;overflow-x:auto;line-height:normal;font-family:Menlo,'DejaVu Sans Mono',consolas,'Courier New',monospace\"><span style=\"font-style: italic\">                                 LIST OF AVAILABLE NETWORKS                                  </span>\n",
       "┏━━━━━━━━━━━━┳━━━━━━━━━━━━┳━━━━━━━━━━━━┳━━━━━━━━━━━━┳━━━━━━━━━━━━┳━━━━━━━━━━━━┳━━━━━━━━━━━━━┓\n",
       "┃<span style=\"font-weight: bold\">            </span>┃<span style=\"font-weight: bold\">            </span>┃<span style=\"font-weight: bold\">            </span>┃<span style=\"font-weight: bold\"> IS         </span>┃<span style=\"font-weight: bold\">            </span>┃<span style=\"font-weight: bold\">            </span>┃<span style=\"font-weight: bold\"> DEFAULT     </span>┃\n",
       "┃<span style=\"font-weight: bold\"> ID         </span>┃<span style=\"font-weight: bold\"> INTERFACE  </span>┃<span style=\"font-weight: bold\"> MAC        </span>┃<span style=\"font-weight: bold\"> CONNECTED  </span>┃<span style=\"font-weight: bold\"> IP         </span>┃<span style=\"font-weight: bold\"> SUBNET     </span>┃<span style=\"font-weight: bold\"> GATEWAY     </span>┃\n",
       "┡━━━━━━━━━━━━╇━━━━━━━━━━━━╇━━━━━━━━━━━━╇━━━━━━━━━━━━╇━━━━━━━━━━━━╇━━━━━━━━━━━━╇━━━━━━━━━━━━━┩\n",
       "│ 1          │ eth0       │ 04:d4:c4:… │ False      │ NA         │ NA         │ NA          │\n",
       "└────────────┴────────────┴────────────┴────────────┴────────────┴────────────┴─────────────┘\n",
       "</pre>\n"
      ],
      "text/plain": [
       "\u001b[3m                                 LIST OF AVAILABLE NETWORKS                                  \u001b[0m\n",
       "┏━━━━━━━━━━━━┳━━━━━━━━━━━━┳━━━━━━━━━━━━┳━━━━━━━━━━━━┳━━━━━━━━━━━━┳━━━━━━━━━━━━┳━━━━━━━━━━━━━┓\n",
       "┃\u001b[1m            \u001b[0m┃\u001b[1m            \u001b[0m┃\u001b[1m            \u001b[0m┃\u001b[1m \u001b[0m\u001b[1mIS        \u001b[0m\u001b[1m \u001b[0m┃\u001b[1m            \u001b[0m┃\u001b[1m            \u001b[0m┃\u001b[1m \u001b[0m\u001b[1mDEFAULT    \u001b[0m\u001b[1m \u001b[0m┃\n",
       "┃\u001b[1m \u001b[0m\u001b[1mID        \u001b[0m\u001b[1m \u001b[0m┃\u001b[1m \u001b[0m\u001b[1mINTERFACE \u001b[0m\u001b[1m \u001b[0m┃\u001b[1m \u001b[0m\u001b[1mMAC       \u001b[0m\u001b[1m \u001b[0m┃\u001b[1m \u001b[0m\u001b[1mCONNECTED \u001b[0m\u001b[1m \u001b[0m┃\u001b[1m \u001b[0m\u001b[1mIP        \u001b[0m\u001b[1m \u001b[0m┃\u001b[1m \u001b[0m\u001b[1mSUBNET    \u001b[0m\u001b[1m \u001b[0m┃\u001b[1m \u001b[0m\u001b[1mGATEWAY    \u001b[0m\u001b[1m \u001b[0m┃\n",
       "┡━━━━━━━━━━━━╇━━━━━━━━━━━━╇━━━━━━━━━━━━╇━━━━━━━━━━━━╇━━━━━━━━━━━━╇━━━━━━━━━━━━╇━━━━━━━━━━━━━┩\n",
       "│ 1          │ eth0       │ 04:d4:c4:… │ False      │ NA         │ NA         │ NA          │\n",
       "└────────────┴────────────┴────────────┴────────────┴────────────┴────────────┴─────────────┘\n"
      ]
     },
     "metadata": {},
     "output_type": "display_data"
    },
    {
     "data": {
      "text/html": [
       "<pre style=\"white-space:pre;overflow-x:auto;line-height:normal;font-family:Menlo,'DejaVu Sans Mono',consolas,'Courier New',monospace\"><span style=\"font-style: italic\">                                 LIST OF AVAILABLE NETWORKS                                  </span>\n",
       "┏━━━━━━━━━━━━┳━━━━━━━━━━━━┳━━━━━━━━━━━━┳━━━━━━━━━━━━┳━━━━━━━━━━━━┳━━━━━━━━━━━━┳━━━━━━━━━━━━━┓\n",
       "┃<span style=\"font-weight: bold\">            </span>┃<span style=\"font-weight: bold\">            </span>┃<span style=\"font-weight: bold\">            </span>┃<span style=\"font-weight: bold\"> IS         </span>┃<span style=\"font-weight: bold\">            </span>┃<span style=\"font-weight: bold\">            </span>┃<span style=\"font-weight: bold\"> DEFAULT     </span>┃\n",
       "┃<span style=\"font-weight: bold\"> ID         </span>┃<span style=\"font-weight: bold\"> INTERFACE  </span>┃<span style=\"font-weight: bold\"> MAC        </span>┃<span style=\"font-weight: bold\"> CONNECTED  </span>┃<span style=\"font-weight: bold\"> IP         </span>┃<span style=\"font-weight: bold\"> SUBNET     </span>┃<span style=\"font-weight: bold\"> GATEWAY     </span>┃\n",
       "┡━━━━━━━━━━━━╇━━━━━━━━━━━━╇━━━━━━━━━━━━╇━━━━━━━━━━━━╇━━━━━━━━━━━━╇━━━━━━━━━━━━╇━━━━━━━━━━━━━┩\n",
       "│ 1          │ eth0       │ 04:d4:c4:… │ False      │ NA         │ NA         │ NA          │\n",
       "└────────────┴────────────┴────────────┴────────────┴────────────┴────────────┴─────────────┘\n",
       "</pre>\n"
      ],
      "text/plain": [
       "\u001b[3m                                 LIST OF AVAILABLE NETWORKS                                  \u001b[0m\n",
       "┏━━━━━━━━━━━━┳━━━━━━━━━━━━┳━━━━━━━━━━━━┳━━━━━━━━━━━━┳━━━━━━━━━━━━┳━━━━━━━━━━━━┳━━━━━━━━━━━━━┓\n",
       "┃\u001b[1m            \u001b[0m┃\u001b[1m            \u001b[0m┃\u001b[1m            \u001b[0m┃\u001b[1m \u001b[0m\u001b[1mIS        \u001b[0m\u001b[1m \u001b[0m┃\u001b[1m            \u001b[0m┃\u001b[1m            \u001b[0m┃\u001b[1m \u001b[0m\u001b[1mDEFAULT    \u001b[0m\u001b[1m \u001b[0m┃\n",
       "┃\u001b[1m \u001b[0m\u001b[1mID        \u001b[0m\u001b[1m \u001b[0m┃\u001b[1m \u001b[0m\u001b[1mINTERFACE \u001b[0m\u001b[1m \u001b[0m┃\u001b[1m \u001b[0m\u001b[1mMAC       \u001b[0m\u001b[1m \u001b[0m┃\u001b[1m \u001b[0m\u001b[1mCONNECTED \u001b[0m\u001b[1m \u001b[0m┃\u001b[1m \u001b[0m\u001b[1mIP        \u001b[0m\u001b[1m \u001b[0m┃\u001b[1m \u001b[0m\u001b[1mSUBNET    \u001b[0m\u001b[1m \u001b[0m┃\u001b[1m \u001b[0m\u001b[1mGATEWAY    \u001b[0m\u001b[1m \u001b[0m┃\n",
       "┡━━━━━━━━━━━━╇━━━━━━━━━━━━╇━━━━━━━━━━━━╇━━━━━━━━━━━━╇━━━━━━━━━━━━╇━━━━━━━━━━━━╇━━━━━━━━━━━━━┩\n",
       "│ 1          │ eth0       │ 04:d4:c4:… │ False      │ NA         │ NA         │ NA          │\n",
       "└────────────┴────────────┴────────────┴────────────┴────────────┴────────────┴─────────────┘\n"
      ]
     },
     "metadata": {},
     "output_type": "display_data"
    },
    {
     "data": {
      "text/html": [
       "<pre style=\"white-space:pre;overflow-x:auto;line-height:normal;font-family:Menlo,'DejaVu Sans Mono',consolas,'Courier New',monospace\"><span style=\"font-style: italic\">                                 LIST OF AVAILABLE NETWORKS                                  </span>\n",
       "┏━━━━━━━━━━━━┳━━━━━━━━━━━━┳━━━━━━━━━━━━┳━━━━━━━━━━━━┳━━━━━━━━━━━━┳━━━━━━━━━━━━┳━━━━━━━━━━━━━┓\n",
       "┃<span style=\"font-weight: bold\">            </span>┃<span style=\"font-weight: bold\">            </span>┃<span style=\"font-weight: bold\">            </span>┃<span style=\"font-weight: bold\"> IS         </span>┃<span style=\"font-weight: bold\">            </span>┃<span style=\"font-weight: bold\">            </span>┃<span style=\"font-weight: bold\"> DEFAULT     </span>┃\n",
       "┃<span style=\"font-weight: bold\"> ID         </span>┃<span style=\"font-weight: bold\"> INTERFACE  </span>┃<span style=\"font-weight: bold\"> MAC        </span>┃<span style=\"font-weight: bold\"> CONNECTED  </span>┃<span style=\"font-weight: bold\"> IP         </span>┃<span style=\"font-weight: bold\"> SUBNET     </span>┃<span style=\"font-weight: bold\"> GATEWAY     </span>┃\n",
       "┡━━━━━━━━━━━━╇━━━━━━━━━━━━╇━━━━━━━━━━━━╇━━━━━━━━━━━━╇━━━━━━━━━━━━╇━━━━━━━━━━━━╇━━━━━━━━━━━━━┩\n",
       "│ 1          │ eth0       │ 04:d4:c4:… │ False      │ NA         │ NA         │ NA          │\n",
       "└────────────┴────────────┴────────────┴────────────┴────────────┴────────────┴─────────────┘\n",
       "</pre>\n"
      ],
      "text/plain": [
       "\u001b[3m                                 LIST OF AVAILABLE NETWORKS                                  \u001b[0m\n",
       "┏━━━━━━━━━━━━┳━━━━━━━━━━━━┳━━━━━━━━━━━━┳━━━━━━━━━━━━┳━━━━━━━━━━━━┳━━━━━━━━━━━━┳━━━━━━━━━━━━━┓\n",
       "┃\u001b[1m            \u001b[0m┃\u001b[1m            \u001b[0m┃\u001b[1m            \u001b[0m┃\u001b[1m \u001b[0m\u001b[1mIS        \u001b[0m\u001b[1m \u001b[0m┃\u001b[1m            \u001b[0m┃\u001b[1m            \u001b[0m┃\u001b[1m \u001b[0m\u001b[1mDEFAULT    \u001b[0m\u001b[1m \u001b[0m┃\n",
       "┃\u001b[1m \u001b[0m\u001b[1mID        \u001b[0m\u001b[1m \u001b[0m┃\u001b[1m \u001b[0m\u001b[1mINTERFACE \u001b[0m\u001b[1m \u001b[0m┃\u001b[1m \u001b[0m\u001b[1mMAC       \u001b[0m\u001b[1m \u001b[0m┃\u001b[1m \u001b[0m\u001b[1mCONNECTED \u001b[0m\u001b[1m \u001b[0m┃\u001b[1m \u001b[0m\u001b[1mIP        \u001b[0m\u001b[1m \u001b[0m┃\u001b[1m \u001b[0m\u001b[1mSUBNET    \u001b[0m\u001b[1m \u001b[0m┃\u001b[1m \u001b[0m\u001b[1mGATEWAY    \u001b[0m\u001b[1m \u001b[0m┃\n",
       "┡━━━━━━━━━━━━╇━━━━━━━━━━━━╇━━━━━━━━━━━━╇━━━━━━━━━━━━╇━━━━━━━━━━━━╇━━━━━━━━━━━━╇━━━━━━━━━━━━━┩\n",
       "│ 1          │ eth0       │ 04:d4:c4:… │ False      │ NA         │ NA         │ NA          │\n",
       "└────────────┴────────────┴────────────┴────────────┴────────────┴────────────┴─────────────┘\n"
      ]
     },
     "metadata": {},
     "output_type": "display_data"
    },
    {
     "data": {
      "text/html": [
       "<pre style=\"white-space:pre;overflow-x:auto;line-height:normal;font-family:Menlo,'DejaVu Sans Mono',consolas,'Courier New',monospace\"><span style=\"font-style: italic\">                                 LIST OF AVAILABLE NETWORKS                                  </span>\n",
       "┏━━━━━━━━━━━━┳━━━━━━━━━━━━┳━━━━━━━━━━━━┳━━━━━━━━━━━━┳━━━━━━━━━━━━┳━━━━━━━━━━━━┳━━━━━━━━━━━━━┓\n",
       "┃<span style=\"font-weight: bold\">            </span>┃<span style=\"font-weight: bold\">            </span>┃<span style=\"font-weight: bold\">            </span>┃<span style=\"font-weight: bold\"> IS         </span>┃<span style=\"font-weight: bold\">            </span>┃<span style=\"font-weight: bold\">            </span>┃<span style=\"font-weight: bold\"> DEFAULT     </span>┃\n",
       "┃<span style=\"font-weight: bold\"> ID         </span>┃<span style=\"font-weight: bold\"> INTERFACE  </span>┃<span style=\"font-weight: bold\"> MAC        </span>┃<span style=\"font-weight: bold\"> CONNECTED  </span>┃<span style=\"font-weight: bold\"> IP         </span>┃<span style=\"font-weight: bold\"> SUBNET     </span>┃<span style=\"font-weight: bold\"> GATEWAY     </span>┃\n",
       "┡━━━━━━━━━━━━╇━━━━━━━━━━━━╇━━━━━━━━━━━━╇━━━━━━━━━━━━╇━━━━━━━━━━━━╇━━━━━━━━━━━━╇━━━━━━━━━━━━━┩\n",
       "│ 1          │ eth0       │ 04:d4:c4:… │ False      │ NA         │ NA         │ NA          │\n",
       "└────────────┴────────────┴────────────┴────────────┴────────────┴────────────┴─────────────┘\n",
       "</pre>\n"
      ],
      "text/plain": [
       "\u001b[3m                                 LIST OF AVAILABLE NETWORKS                                  \u001b[0m\n",
       "┏━━━━━━━━━━━━┳━━━━━━━━━━━━┳━━━━━━━━━━━━┳━━━━━━━━━━━━┳━━━━━━━━━━━━┳━━━━━━━━━━━━┳━━━━━━━━━━━━━┓\n",
       "┃\u001b[1m            \u001b[0m┃\u001b[1m            \u001b[0m┃\u001b[1m            \u001b[0m┃\u001b[1m \u001b[0m\u001b[1mIS        \u001b[0m\u001b[1m \u001b[0m┃\u001b[1m            \u001b[0m┃\u001b[1m            \u001b[0m┃\u001b[1m \u001b[0m\u001b[1mDEFAULT    \u001b[0m\u001b[1m \u001b[0m┃\n",
       "┃\u001b[1m \u001b[0m\u001b[1mID        \u001b[0m\u001b[1m \u001b[0m┃\u001b[1m \u001b[0m\u001b[1mINTERFACE \u001b[0m\u001b[1m \u001b[0m┃\u001b[1m \u001b[0m\u001b[1mMAC       \u001b[0m\u001b[1m \u001b[0m┃\u001b[1m \u001b[0m\u001b[1mCONNECTED \u001b[0m\u001b[1m \u001b[0m┃\u001b[1m \u001b[0m\u001b[1mIP        \u001b[0m\u001b[1m \u001b[0m┃\u001b[1m \u001b[0m\u001b[1mSUBNET    \u001b[0m\u001b[1m \u001b[0m┃\u001b[1m \u001b[0m\u001b[1mGATEWAY    \u001b[0m\u001b[1m \u001b[0m┃\n",
       "┡━━━━━━━━━━━━╇━━━━━━━━━━━━╇━━━━━━━━━━━━╇━━━━━━━━━━━━╇━━━━━━━━━━━━╇━━━━━━━━━━━━╇━━━━━━━━━━━━━┩\n",
       "│ 1          │ eth0       │ 04:d4:c4:… │ False      │ NA         │ NA         │ NA          │\n",
       "└────────────┴────────────┴────────────┴────────────┴────────────┴────────────┴─────────────┘\n"
      ]
     },
     "metadata": {},
     "output_type": "display_data"
    },
    {
     "data": {
      "text/html": [
       "<pre style=\"white-space:pre;overflow-x:auto;line-height:normal;font-family:Menlo,'DejaVu Sans Mono',consolas,'Courier New',monospace\"><span style=\"font-style: italic\">                                 LIST OF AVAILABLE NETWORKS                                  </span>\n",
       "┏━━━━━━━━━━━━┳━━━━━━━━━━━━┳━━━━━━━━━━━━┳━━━━━━━━━━━━┳━━━━━━━━━━━━┳━━━━━━━━━━━━┳━━━━━━━━━━━━━┓\n",
       "┃<span style=\"font-weight: bold\">            </span>┃<span style=\"font-weight: bold\">            </span>┃<span style=\"font-weight: bold\">            </span>┃<span style=\"font-weight: bold\"> IS         </span>┃<span style=\"font-weight: bold\">            </span>┃<span style=\"font-weight: bold\">            </span>┃<span style=\"font-weight: bold\"> DEFAULT     </span>┃\n",
       "┃<span style=\"font-weight: bold\"> ID         </span>┃<span style=\"font-weight: bold\"> INTERFACE  </span>┃<span style=\"font-weight: bold\"> MAC        </span>┃<span style=\"font-weight: bold\"> CONNECTED  </span>┃<span style=\"font-weight: bold\"> IP         </span>┃<span style=\"font-weight: bold\"> SUBNET     </span>┃<span style=\"font-weight: bold\"> GATEWAY     </span>┃\n",
       "┡━━━━━━━━━━━━╇━━━━━━━━━━━━╇━━━━━━━━━━━━╇━━━━━━━━━━━━╇━━━━━━━━━━━━╇━━━━━━━━━━━━╇━━━━━━━━━━━━━┩\n",
       "│ 1          │ eth0       │ 04:d4:c4:… │ False      │ NA         │ NA         │ NA          │\n",
       "└────────────┴────────────┴────────────┴────────────┴────────────┴────────────┴─────────────┘\n",
       "</pre>\n"
      ],
      "text/plain": [
       "\u001b[3m                                 LIST OF AVAILABLE NETWORKS                                  \u001b[0m\n",
       "┏━━━━━━━━━━━━┳━━━━━━━━━━━━┳━━━━━━━━━━━━┳━━━━━━━━━━━━┳━━━━━━━━━━━━┳━━━━━━━━━━━━┳━━━━━━━━━━━━━┓\n",
       "┃\u001b[1m            \u001b[0m┃\u001b[1m            \u001b[0m┃\u001b[1m            \u001b[0m┃\u001b[1m \u001b[0m\u001b[1mIS        \u001b[0m\u001b[1m \u001b[0m┃\u001b[1m            \u001b[0m┃\u001b[1m            \u001b[0m┃\u001b[1m \u001b[0m\u001b[1mDEFAULT    \u001b[0m\u001b[1m \u001b[0m┃\n",
       "┃\u001b[1m \u001b[0m\u001b[1mID        \u001b[0m\u001b[1m \u001b[0m┃\u001b[1m \u001b[0m\u001b[1mINTERFACE \u001b[0m\u001b[1m \u001b[0m┃\u001b[1m \u001b[0m\u001b[1mMAC       \u001b[0m\u001b[1m \u001b[0m┃\u001b[1m \u001b[0m\u001b[1mCONNECTED \u001b[0m\u001b[1m \u001b[0m┃\u001b[1m \u001b[0m\u001b[1mIP        \u001b[0m\u001b[1m \u001b[0m┃\u001b[1m \u001b[0m\u001b[1mSUBNET    \u001b[0m\u001b[1m \u001b[0m┃\u001b[1m \u001b[0m\u001b[1mGATEWAY    \u001b[0m\u001b[1m \u001b[0m┃\n",
       "┡━━━━━━━━━━━━╇━━━━━━━━━━━━╇━━━━━━━━━━━━╇━━━━━━━━━━━━╇━━━━━━━━━━━━╇━━━━━━━━━━━━╇━━━━━━━━━━━━━┩\n",
       "│ 1          │ eth0       │ 04:d4:c4:… │ False      │ NA         │ NA         │ NA          │\n",
       "└────────────┴────────────┴────────────┴────────────┴────────────┴────────────┴─────────────┘\n"
      ]
     },
     "metadata": {},
     "output_type": "display_data"
    },
    {
     "data": {
      "text/html": [
       "<pre style=\"white-space:pre;overflow-x:auto;line-height:normal;font-family:Menlo,'DejaVu Sans Mono',consolas,'Courier New',monospace\"><span style=\"font-style: italic\">                                 LIST OF AVAILABLE NETWORKS                                  </span>\n",
       "┏━━━━━━━━━━━━┳━━━━━━━━━━━━┳━━━━━━━━━━━━┳━━━━━━━━━━━━┳━━━━━━━━━━━━┳━━━━━━━━━━━━┳━━━━━━━━━━━━━┓\n",
       "┃<span style=\"font-weight: bold\">            </span>┃<span style=\"font-weight: bold\">            </span>┃<span style=\"font-weight: bold\">            </span>┃<span style=\"font-weight: bold\"> IS         </span>┃<span style=\"font-weight: bold\">            </span>┃<span style=\"font-weight: bold\">            </span>┃<span style=\"font-weight: bold\"> DEFAULT     </span>┃\n",
       "┃<span style=\"font-weight: bold\"> ID         </span>┃<span style=\"font-weight: bold\"> INTERFACE  </span>┃<span style=\"font-weight: bold\"> MAC        </span>┃<span style=\"font-weight: bold\"> CONNECTED  </span>┃<span style=\"font-weight: bold\"> IP         </span>┃<span style=\"font-weight: bold\"> SUBNET     </span>┃<span style=\"font-weight: bold\"> GATEWAY     </span>┃\n",
       "┡━━━━━━━━━━━━╇━━━━━━━━━━━━╇━━━━━━━━━━━━╇━━━━━━━━━━━━╇━━━━━━━━━━━━╇━━━━━━━━━━━━╇━━━━━━━━━━━━━┩\n",
       "│ 1          │ eth0       │ 04:d4:c4:… │ False      │ NA         │ NA         │ NA          │\n",
       "└────────────┴────────────┴────────────┴────────────┴────────────┴────────────┴─────────────┘\n",
       "</pre>\n"
      ],
      "text/plain": [
       "\u001b[3m                                 LIST OF AVAILABLE NETWORKS                                  \u001b[0m\n",
       "┏━━━━━━━━━━━━┳━━━━━━━━━━━━┳━━━━━━━━━━━━┳━━━━━━━━━━━━┳━━━━━━━━━━━━┳━━━━━━━━━━━━┳━━━━━━━━━━━━━┓\n",
       "┃\u001b[1m            \u001b[0m┃\u001b[1m            \u001b[0m┃\u001b[1m            \u001b[0m┃\u001b[1m \u001b[0m\u001b[1mIS        \u001b[0m\u001b[1m \u001b[0m┃\u001b[1m            \u001b[0m┃\u001b[1m            \u001b[0m┃\u001b[1m \u001b[0m\u001b[1mDEFAULT    \u001b[0m\u001b[1m \u001b[0m┃\n",
       "┃\u001b[1m \u001b[0m\u001b[1mID        \u001b[0m\u001b[1m \u001b[0m┃\u001b[1m \u001b[0m\u001b[1mINTERFACE \u001b[0m\u001b[1m \u001b[0m┃\u001b[1m \u001b[0m\u001b[1mMAC       \u001b[0m\u001b[1m \u001b[0m┃\u001b[1m \u001b[0m\u001b[1mCONNECTED \u001b[0m\u001b[1m \u001b[0m┃\u001b[1m \u001b[0m\u001b[1mIP        \u001b[0m\u001b[1m \u001b[0m┃\u001b[1m \u001b[0m\u001b[1mSUBNET    \u001b[0m\u001b[1m \u001b[0m┃\u001b[1m \u001b[0m\u001b[1mGATEWAY    \u001b[0m\u001b[1m \u001b[0m┃\n",
       "┡━━━━━━━━━━━━╇━━━━━━━━━━━━╇━━━━━━━━━━━━╇━━━━━━━━━━━━╇━━━━━━━━━━━━╇━━━━━━━━━━━━╇━━━━━━━━━━━━━┩\n",
       "│ 1          │ eth0       │ 04:d4:c4:… │ False      │ NA         │ NA         │ NA          │\n",
       "└────────────┴────────────┴────────────┴────────────┴────────────┴────────────┴─────────────┘\n"
      ]
     },
     "metadata": {},
     "output_type": "display_data"
    },
    {
     "data": {
      "text/html": [
       "<pre style=\"white-space:pre;overflow-x:auto;line-height:normal;font-family:Menlo,'DejaVu Sans Mono',consolas,'Courier New',monospace\"><span style=\"font-style: italic\">                                 LIST OF AVAILABLE NETWORKS                                  </span>\n",
       "┏━━━━━━━━━━━━┳━━━━━━━━━━━━┳━━━━━━━━━━━━┳━━━━━━━━━━━━┳━━━━━━━━━━━━┳━━━━━━━━━━━━┳━━━━━━━━━━━━━┓\n",
       "┃<span style=\"font-weight: bold\">            </span>┃<span style=\"font-weight: bold\">            </span>┃<span style=\"font-weight: bold\">            </span>┃<span style=\"font-weight: bold\"> IS         </span>┃<span style=\"font-weight: bold\">            </span>┃<span style=\"font-weight: bold\">            </span>┃<span style=\"font-weight: bold\"> DEFAULT     </span>┃\n",
       "┃<span style=\"font-weight: bold\"> ID         </span>┃<span style=\"font-weight: bold\"> INTERFACE  </span>┃<span style=\"font-weight: bold\"> MAC        </span>┃<span style=\"font-weight: bold\"> CONNECTED  </span>┃<span style=\"font-weight: bold\"> IP         </span>┃<span style=\"font-weight: bold\"> SUBNET     </span>┃<span style=\"font-weight: bold\"> GATEWAY     </span>┃\n",
       "┡━━━━━━━━━━━━╇━━━━━━━━━━━━╇━━━━━━━━━━━━╇━━━━━━━━━━━━╇━━━━━━━━━━━━╇━━━━━━━━━━━━╇━━━━━━━━━━━━━┩\n",
       "│ 1          │ eth0       │ 04:d4:c4:… │ False      │ NA         │ NA         │ NA          │\n",
       "└────────────┴────────────┴────────────┴────────────┴────────────┴────────────┴─────────────┘\n",
       "</pre>\n"
      ],
      "text/plain": [
       "\u001b[3m                                 LIST OF AVAILABLE NETWORKS                                  \u001b[0m\n",
       "┏━━━━━━━━━━━━┳━━━━━━━━━━━━┳━━━━━━━━━━━━┳━━━━━━━━━━━━┳━━━━━━━━━━━━┳━━━━━━━━━━━━┳━━━━━━━━━━━━━┓\n",
       "┃\u001b[1m            \u001b[0m┃\u001b[1m            \u001b[0m┃\u001b[1m            \u001b[0m┃\u001b[1m \u001b[0m\u001b[1mIS        \u001b[0m\u001b[1m \u001b[0m┃\u001b[1m            \u001b[0m┃\u001b[1m            \u001b[0m┃\u001b[1m \u001b[0m\u001b[1mDEFAULT    \u001b[0m\u001b[1m \u001b[0m┃\n",
       "┃\u001b[1m \u001b[0m\u001b[1mID        \u001b[0m\u001b[1m \u001b[0m┃\u001b[1m \u001b[0m\u001b[1mINTERFACE \u001b[0m\u001b[1m \u001b[0m┃\u001b[1m \u001b[0m\u001b[1mMAC       \u001b[0m\u001b[1m \u001b[0m┃\u001b[1m \u001b[0m\u001b[1mCONNECTED \u001b[0m\u001b[1m \u001b[0m┃\u001b[1m \u001b[0m\u001b[1mIP        \u001b[0m\u001b[1m \u001b[0m┃\u001b[1m \u001b[0m\u001b[1mSUBNET    \u001b[0m\u001b[1m \u001b[0m┃\u001b[1m \u001b[0m\u001b[1mGATEWAY    \u001b[0m\u001b[1m \u001b[0m┃\n",
       "┡━━━━━━━━━━━━╇━━━━━━━━━━━━╇━━━━━━━━━━━━╇━━━━━━━━━━━━╇━━━━━━━━━━━━╇━━━━━━━━━━━━╇━━━━━━━━━━━━━┩\n",
       "│ 1          │ eth0       │ 04:d4:c4:… │ False      │ NA         │ NA         │ NA          │\n",
       "└────────────┴────────────┴────────────┴────────────┴────────────┴────────────┴─────────────┘\n"
      ]
     },
     "metadata": {},
     "output_type": "display_data"
    },
    {
     "data": {
      "text/html": [
       "<pre style=\"white-space:pre;overflow-x:auto;line-height:normal;font-family:Menlo,'DejaVu Sans Mono',consolas,'Courier New',monospace\"><span style=\"font-style: italic\">                                 LIST OF AVAILABLE NETWORKS                                  </span>\n",
       "┏━━━━━━━━━━━━┳━━━━━━━━━━━━┳━━━━━━━━━━━━┳━━━━━━━━━━━━┳━━━━━━━━━━━━┳━━━━━━━━━━━━┳━━━━━━━━━━━━━┓\n",
       "┃<span style=\"font-weight: bold\">            </span>┃<span style=\"font-weight: bold\">            </span>┃<span style=\"font-weight: bold\">            </span>┃<span style=\"font-weight: bold\"> IS         </span>┃<span style=\"font-weight: bold\">            </span>┃<span style=\"font-weight: bold\">            </span>┃<span style=\"font-weight: bold\"> DEFAULT     </span>┃\n",
       "┃<span style=\"font-weight: bold\"> ID         </span>┃<span style=\"font-weight: bold\"> INTERFACE  </span>┃<span style=\"font-weight: bold\"> MAC        </span>┃<span style=\"font-weight: bold\"> CONNECTED  </span>┃<span style=\"font-weight: bold\"> IP         </span>┃<span style=\"font-weight: bold\"> SUBNET     </span>┃<span style=\"font-weight: bold\"> GATEWAY     </span>┃\n",
       "┡━━━━━━━━━━━━╇━━━━━━━━━━━━╇━━━━━━━━━━━━╇━━━━━━━━━━━━╇━━━━━━━━━━━━╇━━━━━━━━━━━━╇━━━━━━━━━━━━━┩\n",
       "│ 1          │ eth0       │ 04:d4:c4:… │ False      │ NA         │ NA         │ NA          │\n",
       "└────────────┴────────────┴────────────┴────────────┴────────────┴────────────┴─────────────┘\n",
       "</pre>\n"
      ],
      "text/plain": [
       "\u001b[3m                                 LIST OF AVAILABLE NETWORKS                                  \u001b[0m\n",
       "┏━━━━━━━━━━━━┳━━━━━━━━━━━━┳━━━━━━━━━━━━┳━━━━━━━━━━━━┳━━━━━━━━━━━━┳━━━━━━━━━━━━┳━━━━━━━━━━━━━┓\n",
       "┃\u001b[1m            \u001b[0m┃\u001b[1m            \u001b[0m┃\u001b[1m            \u001b[0m┃\u001b[1m \u001b[0m\u001b[1mIS        \u001b[0m\u001b[1m \u001b[0m┃\u001b[1m            \u001b[0m┃\u001b[1m            \u001b[0m┃\u001b[1m \u001b[0m\u001b[1mDEFAULT    \u001b[0m\u001b[1m \u001b[0m┃\n",
       "┃\u001b[1m \u001b[0m\u001b[1mID        \u001b[0m\u001b[1m \u001b[0m┃\u001b[1m \u001b[0m\u001b[1mINTERFACE \u001b[0m\u001b[1m \u001b[0m┃\u001b[1m \u001b[0m\u001b[1mMAC       \u001b[0m\u001b[1m \u001b[0m┃\u001b[1m \u001b[0m\u001b[1mCONNECTED \u001b[0m\u001b[1m \u001b[0m┃\u001b[1m \u001b[0m\u001b[1mIP        \u001b[0m\u001b[1m \u001b[0m┃\u001b[1m \u001b[0m\u001b[1mSUBNET    \u001b[0m\u001b[1m \u001b[0m┃\u001b[1m \u001b[0m\u001b[1mGATEWAY    \u001b[0m\u001b[1m \u001b[0m┃\n",
       "┡━━━━━━━━━━━━╇━━━━━━━━━━━━╇━━━━━━━━━━━━╇━━━━━━━━━━━━╇━━━━━━━━━━━━╇━━━━━━━━━━━━╇━━━━━━━━━━━━━┩\n",
       "│ 1          │ eth0       │ 04:d4:c4:… │ False      │ NA         │ NA         │ NA          │\n",
       "└────────────┴────────────┴────────────┴────────────┴────────────┴────────────┴─────────────┘\n"
      ]
     },
     "metadata": {},
     "output_type": "display_data"
    },
    {
     "data": {
      "text/html": [
       "<pre style=\"white-space:pre;overflow-x:auto;line-height:normal;font-family:Menlo,'DejaVu Sans Mono',consolas,'Courier New',monospace\"><span style=\"font-style: italic\">                                 LIST OF AVAILABLE NETWORKS                                  </span>\n",
       "┏━━━━━━━━━━━━┳━━━━━━━━━━━━┳━━━━━━━━━━━━┳━━━━━━━━━━━━┳━━━━━━━━━━━━┳━━━━━━━━━━━━┳━━━━━━━━━━━━━┓\n",
       "┃<span style=\"font-weight: bold\">            </span>┃<span style=\"font-weight: bold\">            </span>┃<span style=\"font-weight: bold\">            </span>┃<span style=\"font-weight: bold\"> IS         </span>┃<span style=\"font-weight: bold\">            </span>┃<span style=\"font-weight: bold\">            </span>┃<span style=\"font-weight: bold\"> DEFAULT     </span>┃\n",
       "┃<span style=\"font-weight: bold\"> ID         </span>┃<span style=\"font-weight: bold\"> INTERFACE  </span>┃<span style=\"font-weight: bold\"> MAC        </span>┃<span style=\"font-weight: bold\"> CONNECTED  </span>┃<span style=\"font-weight: bold\"> IP         </span>┃<span style=\"font-weight: bold\"> SUBNET     </span>┃<span style=\"font-weight: bold\"> GATEWAY     </span>┃\n",
       "┡━━━━━━━━━━━━╇━━━━━━━━━━━━╇━━━━━━━━━━━━╇━━━━━━━━━━━━╇━━━━━━━━━━━━╇━━━━━━━━━━━━╇━━━━━━━━━━━━━┩\n",
       "│ 1          │ eth0       │ 04:d4:c4:… │ False      │ NA         │ NA         │ NA          │\n",
       "└────────────┴────────────┴────────────┴────────────┴────────────┴────────────┴─────────────┘\n",
       "</pre>\n"
      ],
      "text/plain": [
       "\u001b[3m                                 LIST OF AVAILABLE NETWORKS                                  \u001b[0m\n",
       "┏━━━━━━━━━━━━┳━━━━━━━━━━━━┳━━━━━━━━━━━━┳━━━━━━━━━━━━┳━━━━━━━━━━━━┳━━━━━━━━━━━━┳━━━━━━━━━━━━━┓\n",
       "┃\u001b[1m            \u001b[0m┃\u001b[1m            \u001b[0m┃\u001b[1m            \u001b[0m┃\u001b[1m \u001b[0m\u001b[1mIS        \u001b[0m\u001b[1m \u001b[0m┃\u001b[1m            \u001b[0m┃\u001b[1m            \u001b[0m┃\u001b[1m \u001b[0m\u001b[1mDEFAULT    \u001b[0m\u001b[1m \u001b[0m┃\n",
       "┃\u001b[1m \u001b[0m\u001b[1mID        \u001b[0m\u001b[1m \u001b[0m┃\u001b[1m \u001b[0m\u001b[1mINTERFACE \u001b[0m\u001b[1m \u001b[0m┃\u001b[1m \u001b[0m\u001b[1mMAC       \u001b[0m\u001b[1m \u001b[0m┃\u001b[1m \u001b[0m\u001b[1mCONNECTED \u001b[0m\u001b[1m \u001b[0m┃\u001b[1m \u001b[0m\u001b[1mIP        \u001b[0m\u001b[1m \u001b[0m┃\u001b[1m \u001b[0m\u001b[1mSUBNET    \u001b[0m\u001b[1m \u001b[0m┃\u001b[1m \u001b[0m\u001b[1mGATEWAY    \u001b[0m\u001b[1m \u001b[0m┃\n",
       "┡━━━━━━━━━━━━╇━━━━━━━━━━━━╇━━━━━━━━━━━━╇━━━━━━━━━━━━╇━━━━━━━━━━━━╇━━━━━━━━━━━━╇━━━━━━━━━━━━━┩\n",
       "│ 1          │ eth0       │ 04:d4:c4:… │ False      │ NA         │ NA         │ NA          │\n",
       "└────────────┴────────────┴────────────┴────────────┴────────────┴────────────┴─────────────┘\n"
      ]
     },
     "metadata": {},
     "output_type": "display_data"
    },
    {
     "data": {
      "text/html": [
       "<pre style=\"white-space:pre;overflow-x:auto;line-height:normal;font-family:Menlo,'DejaVu Sans Mono',consolas,'Courier New',monospace\"><span style=\"font-style: italic\">                                 LIST OF AVAILABLE NETWORKS                                  </span>\n",
       "┏━━━━━━━━━━━━┳━━━━━━━━━━━━┳━━━━━━━━━━━━┳━━━━━━━━━━━━┳━━━━━━━━━━━━┳━━━━━━━━━━━━┳━━━━━━━━━━━━━┓\n",
       "┃<span style=\"font-weight: bold\">            </span>┃<span style=\"font-weight: bold\">            </span>┃<span style=\"font-weight: bold\">            </span>┃<span style=\"font-weight: bold\"> IS         </span>┃<span style=\"font-weight: bold\">            </span>┃<span style=\"font-weight: bold\">            </span>┃<span style=\"font-weight: bold\"> DEFAULT     </span>┃\n",
       "┃<span style=\"font-weight: bold\"> ID         </span>┃<span style=\"font-weight: bold\"> INTERFACE  </span>┃<span style=\"font-weight: bold\"> MAC        </span>┃<span style=\"font-weight: bold\"> CONNECTED  </span>┃<span style=\"font-weight: bold\"> IP         </span>┃<span style=\"font-weight: bold\"> SUBNET     </span>┃<span style=\"font-weight: bold\"> GATEWAY     </span>┃\n",
       "┡━━━━━━━━━━━━╇━━━━━━━━━━━━╇━━━━━━━━━━━━╇━━━━━━━━━━━━╇━━━━━━━━━━━━╇━━━━━━━━━━━━╇━━━━━━━━━━━━━┩\n",
       "│ 1          │ eth0       │ 04:d4:c4:… │ False      │ NA         │ NA         │ NA          │\n",
       "└────────────┴────────────┴────────────┴────────────┴────────────┴────────────┴─────────────┘\n",
       "</pre>\n"
      ],
      "text/plain": [
       "\u001b[3m                                 LIST OF AVAILABLE NETWORKS                                  \u001b[0m\n",
       "┏━━━━━━━━━━━━┳━━━━━━━━━━━━┳━━━━━━━━━━━━┳━━━━━━━━━━━━┳━━━━━━━━━━━━┳━━━━━━━━━━━━┳━━━━━━━━━━━━━┓\n",
       "┃\u001b[1m            \u001b[0m┃\u001b[1m            \u001b[0m┃\u001b[1m            \u001b[0m┃\u001b[1m \u001b[0m\u001b[1mIS        \u001b[0m\u001b[1m \u001b[0m┃\u001b[1m            \u001b[0m┃\u001b[1m            \u001b[0m┃\u001b[1m \u001b[0m\u001b[1mDEFAULT    \u001b[0m\u001b[1m \u001b[0m┃\n",
       "┃\u001b[1m \u001b[0m\u001b[1mID        \u001b[0m\u001b[1m \u001b[0m┃\u001b[1m \u001b[0m\u001b[1mINTERFACE \u001b[0m\u001b[1m \u001b[0m┃\u001b[1m \u001b[0m\u001b[1mMAC       \u001b[0m\u001b[1m \u001b[0m┃\u001b[1m \u001b[0m\u001b[1mCONNECTED \u001b[0m\u001b[1m \u001b[0m┃\u001b[1m \u001b[0m\u001b[1mIP        \u001b[0m\u001b[1m \u001b[0m┃\u001b[1m \u001b[0m\u001b[1mSUBNET    \u001b[0m\u001b[1m \u001b[0m┃\u001b[1m \u001b[0m\u001b[1mGATEWAY    \u001b[0m\u001b[1m \u001b[0m┃\n",
       "┡━━━━━━━━━━━━╇━━━━━━━━━━━━╇━━━━━━━━━━━━╇━━━━━━━━━━━━╇━━━━━━━━━━━━╇━━━━━━━━━━━━╇━━━━━━━━━━━━━┩\n",
       "│ 1          │ eth0       │ 04:d4:c4:… │ False      │ NA         │ NA         │ NA          │\n",
       "└────────────┴────────────┴────────────┴────────────┴────────────┴────────────┴─────────────┘\n"
      ]
     },
     "metadata": {},
     "output_type": "display_data"
    },
    {
     "data": {
      "text/html": [
       "<pre style=\"white-space:pre;overflow-x:auto;line-height:normal;font-family:Menlo,'DejaVu Sans Mono',consolas,'Courier New',monospace\">Interface wlan0 has MAC: 16:22:33:44:55:66\n",
       "</pre>\n"
      ],
      "text/plain": [
       "Interface wlan0 has MAC: 16:22:33:44:55:66\n"
      ]
     },
     "metadata": {},
     "output_type": "display_data"
    },
    {
     "data": {
      "text/html": [
       "<pre style=\"white-space:pre;overflow-x:auto;line-height:normal;font-family:Menlo,'DejaVu Sans Mono',consolas,'Courier New',monospace\"><span style=\"font-style: italic\">                                 LIST OF AVAILABLE NETWORKS                                  </span>\n",
       "┏━━━━━━━━━━━━┳━━━━━━━━━━━━┳━━━━━━━━━━━━┳━━━━━━━━━━━━┳━━━━━━━━━━━━┳━━━━━━━━━━━━┳━━━━━━━━━━━━━┓\n",
       "┃<span style=\"font-weight: bold\">            </span>┃<span style=\"font-weight: bold\">            </span>┃<span style=\"font-weight: bold\">            </span>┃<span style=\"font-weight: bold\"> IS         </span>┃<span style=\"font-weight: bold\">            </span>┃<span style=\"font-weight: bold\">            </span>┃<span style=\"font-weight: bold\"> DEFAULT     </span>┃\n",
       "┃<span style=\"font-weight: bold\"> ID         </span>┃<span style=\"font-weight: bold\"> INTERFACE  </span>┃<span style=\"font-weight: bold\"> MAC        </span>┃<span style=\"font-weight: bold\"> CONNECTED  </span>┃<span style=\"font-weight: bold\"> IP         </span>┃<span style=\"font-weight: bold\"> SUBNET     </span>┃<span style=\"font-weight: bold\"> GATEWAY     </span>┃\n",
       "┡━━━━━━━━━━━━╇━━━━━━━━━━━━╇━━━━━━━━━━━━╇━━━━━━━━━━━━╇━━━━━━━━━━━━╇━━━━━━━━━━━━╇━━━━━━━━━━━━━┩\n",
       "│ 1          │ eth0       │ 04:d4:c4:… │ False      │ NA         │ NA         │ NA          │\n",
       "│ 2          │ wlan0      │ 16:22:33:… │ True       │ 192.168.2… │ 255.255.2… │ 192.168.2.… │\n",
       "└────────────┴────────────┴────────────┴────────────┴────────────┴────────────┴─────────────┘\n",
       "</pre>\n"
      ],
      "text/plain": [
       "\u001b[3m                                 LIST OF AVAILABLE NETWORKS                                  \u001b[0m\n",
       "┏━━━━━━━━━━━━┳━━━━━━━━━━━━┳━━━━━━━━━━━━┳━━━━━━━━━━━━┳━━━━━━━━━━━━┳━━━━━━━━━━━━┳━━━━━━━━━━━━━┓\n",
       "┃\u001b[1m            \u001b[0m┃\u001b[1m            \u001b[0m┃\u001b[1m            \u001b[0m┃\u001b[1m \u001b[0m\u001b[1mIS        \u001b[0m\u001b[1m \u001b[0m┃\u001b[1m            \u001b[0m┃\u001b[1m            \u001b[0m┃\u001b[1m \u001b[0m\u001b[1mDEFAULT    \u001b[0m\u001b[1m \u001b[0m┃\n",
       "┃\u001b[1m \u001b[0m\u001b[1mID        \u001b[0m\u001b[1m \u001b[0m┃\u001b[1m \u001b[0m\u001b[1mINTERFACE \u001b[0m\u001b[1m \u001b[0m┃\u001b[1m \u001b[0m\u001b[1mMAC       \u001b[0m\u001b[1m \u001b[0m┃\u001b[1m \u001b[0m\u001b[1mCONNECTED \u001b[0m\u001b[1m \u001b[0m┃\u001b[1m \u001b[0m\u001b[1mIP        \u001b[0m\u001b[1m \u001b[0m┃\u001b[1m \u001b[0m\u001b[1mSUBNET    \u001b[0m\u001b[1m \u001b[0m┃\u001b[1m \u001b[0m\u001b[1mGATEWAY    \u001b[0m\u001b[1m \u001b[0m┃\n",
       "┡━━━━━━━━━━━━╇━━━━━━━━━━━━╇━━━━━━━━━━━━╇━━━━━━━━━━━━╇━━━━━━━━━━━━╇━━━━━━━━━━━━╇━━━━━━━━━━━━━┩\n",
       "│ 1          │ eth0       │ 04:d4:c4:… │ False      │ NA         │ NA         │ NA          │\n",
       "│ 2          │ wlan0      │ 16:22:33:… │ True       │ 192.168.2… │ 255.255.2… │ 192.168.2.… │\n",
       "└────────────┴────────────┴────────────┴────────────┴────────────┴────────────┴─────────────┘\n"
      ]
     },
     "metadata": {},
     "output_type": "display_data"
    },
    {
     "data": {
      "text/html": [
       "<pre style=\"white-space:pre;overflow-x:auto;line-height:normal;font-family:Menlo,'DejaVu Sans Mono',consolas,'Courier New',monospace\"><span style=\"font-style: italic\">                                 LIST OF AVAILABLE NETWORKS                                  </span>\n",
       "┏━━━━━━━━━━━━┳━━━━━━━━━━━━┳━━━━━━━━━━━━┳━━━━━━━━━━━━┳━━━━━━━━━━━━┳━━━━━━━━━━━━┳━━━━━━━━━━━━━┓\n",
       "┃<span style=\"font-weight: bold\">            </span>┃<span style=\"font-weight: bold\">            </span>┃<span style=\"font-weight: bold\">            </span>┃<span style=\"font-weight: bold\"> IS         </span>┃<span style=\"font-weight: bold\">            </span>┃<span style=\"font-weight: bold\">            </span>┃<span style=\"font-weight: bold\"> DEFAULT     </span>┃\n",
       "┃<span style=\"font-weight: bold\"> ID         </span>┃<span style=\"font-weight: bold\"> INTERFACE  </span>┃<span style=\"font-weight: bold\"> MAC        </span>┃<span style=\"font-weight: bold\"> CONNECTED  </span>┃<span style=\"font-weight: bold\"> IP         </span>┃<span style=\"font-weight: bold\"> SUBNET     </span>┃<span style=\"font-weight: bold\"> GATEWAY     </span>┃\n",
       "┡━━━━━━━━━━━━╇━━━━━━━━━━━━╇━━━━━━━━━━━━╇━━━━━━━━━━━━╇━━━━━━━━━━━━╇━━━━━━━━━━━━╇━━━━━━━━━━━━━┩\n",
       "│ 1          │ eth0       │ 04:d4:c4:… │ False      │ NA         │ NA         │ NA          │\n",
       "│ 2          │ wlan0      │ 16:22:33:… │ True       │ 192.168.2… │ 255.255.2… │ 192.168.2.… │\n",
       "└────────────┴────────────┴────────────┴────────────┴────────────┴────────────┴─────────────┘\n",
       "</pre>\n"
      ],
      "text/plain": [
       "\u001b[3m                                 LIST OF AVAILABLE NETWORKS                                  \u001b[0m\n",
       "┏━━━━━━━━━━━━┳━━━━━━━━━━━━┳━━━━━━━━━━━━┳━━━━━━━━━━━━┳━━━━━━━━━━━━┳━━━━━━━━━━━━┳━━━━━━━━━━━━━┓\n",
       "┃\u001b[1m            \u001b[0m┃\u001b[1m            \u001b[0m┃\u001b[1m            \u001b[0m┃\u001b[1m \u001b[0m\u001b[1mIS        \u001b[0m\u001b[1m \u001b[0m┃\u001b[1m            \u001b[0m┃\u001b[1m            \u001b[0m┃\u001b[1m \u001b[0m\u001b[1mDEFAULT    \u001b[0m\u001b[1m \u001b[0m┃\n",
       "┃\u001b[1m \u001b[0m\u001b[1mID        \u001b[0m\u001b[1m \u001b[0m┃\u001b[1m \u001b[0m\u001b[1mINTERFACE \u001b[0m\u001b[1m \u001b[0m┃\u001b[1m \u001b[0m\u001b[1mMAC       \u001b[0m\u001b[1m \u001b[0m┃\u001b[1m \u001b[0m\u001b[1mCONNECTED \u001b[0m\u001b[1m \u001b[0m┃\u001b[1m \u001b[0m\u001b[1mIP        \u001b[0m\u001b[1m \u001b[0m┃\u001b[1m \u001b[0m\u001b[1mSUBNET    \u001b[0m\u001b[1m \u001b[0m┃\u001b[1m \u001b[0m\u001b[1mGATEWAY    \u001b[0m\u001b[1m \u001b[0m┃\n",
       "┡━━━━━━━━━━━━╇━━━━━━━━━━━━╇━━━━━━━━━━━━╇━━━━━━━━━━━━╇━━━━━━━━━━━━╇━━━━━━━━━━━━╇━━━━━━━━━━━━━┩\n",
       "│ 1          │ eth0       │ 04:d4:c4:… │ False      │ NA         │ NA         │ NA          │\n",
       "│ 2          │ wlan0      │ 16:22:33:… │ True       │ 192.168.2… │ 255.255.2… │ 192.168.2.… │\n",
       "└────────────┴────────────┴────────────┴────────────┴────────────┴────────────┴─────────────┘\n"
      ]
     },
     "metadata": {},
     "output_type": "display_data"
    },
    {
     "data": {
      "text/html": [
       "<pre style=\"white-space:pre;overflow-x:auto;line-height:normal;font-family:Menlo,'DejaVu Sans Mono',consolas,'Courier New',monospace\"><span style=\"font-style: italic\">                                 LIST OF AVAILABLE NETWORKS                                  </span>\n",
       "┏━━━━━━━━━━━━┳━━━━━━━━━━━━┳━━━━━━━━━━━━┳━━━━━━━━━━━━┳━━━━━━━━━━━━┳━━━━━━━━━━━━┳━━━━━━━━━━━━━┓\n",
       "┃<span style=\"font-weight: bold\">            </span>┃<span style=\"font-weight: bold\">            </span>┃<span style=\"font-weight: bold\">            </span>┃<span style=\"font-weight: bold\"> IS         </span>┃<span style=\"font-weight: bold\">            </span>┃<span style=\"font-weight: bold\">            </span>┃<span style=\"font-weight: bold\"> DEFAULT     </span>┃\n",
       "┃<span style=\"font-weight: bold\"> ID         </span>┃<span style=\"font-weight: bold\"> INTERFACE  </span>┃<span style=\"font-weight: bold\"> MAC        </span>┃<span style=\"font-weight: bold\"> CONNECTED  </span>┃<span style=\"font-weight: bold\"> IP         </span>┃<span style=\"font-weight: bold\"> SUBNET     </span>┃<span style=\"font-weight: bold\"> GATEWAY     </span>┃\n",
       "┡━━━━━━━━━━━━╇━━━━━━━━━━━━╇━━━━━━━━━━━━╇━━━━━━━━━━━━╇━━━━━━━━━━━━╇━━━━━━━━━━━━╇━━━━━━━━━━━━━┩\n",
       "│ 1          │ eth0       │ 04:d4:c4:… │ False      │ NA         │ NA         │ NA          │\n",
       "│ 2          │ wlan0      │ 16:22:33:… │ True       │ 192.168.2… │ 255.255.2… │ 192.168.2.… │\n",
       "└────────────┴────────────┴────────────┴────────────┴────────────┴────────────┴─────────────┘\n",
       "</pre>\n"
      ],
      "text/plain": [
       "\u001b[3m                                 LIST OF AVAILABLE NETWORKS                                  \u001b[0m\n",
       "┏━━━━━━━━━━━━┳━━━━━━━━━━━━┳━━━━━━━━━━━━┳━━━━━━━━━━━━┳━━━━━━━━━━━━┳━━━━━━━━━━━━┳━━━━━━━━━━━━━┓\n",
       "┃\u001b[1m            \u001b[0m┃\u001b[1m            \u001b[0m┃\u001b[1m            \u001b[0m┃\u001b[1m \u001b[0m\u001b[1mIS        \u001b[0m\u001b[1m \u001b[0m┃\u001b[1m            \u001b[0m┃\u001b[1m            \u001b[0m┃\u001b[1m \u001b[0m\u001b[1mDEFAULT    \u001b[0m\u001b[1m \u001b[0m┃\n",
       "┃\u001b[1m \u001b[0m\u001b[1mID        \u001b[0m\u001b[1m \u001b[0m┃\u001b[1m \u001b[0m\u001b[1mINTERFACE \u001b[0m\u001b[1m \u001b[0m┃\u001b[1m \u001b[0m\u001b[1mMAC       \u001b[0m\u001b[1m \u001b[0m┃\u001b[1m \u001b[0m\u001b[1mCONNECTED \u001b[0m\u001b[1m \u001b[0m┃\u001b[1m \u001b[0m\u001b[1mIP        \u001b[0m\u001b[1m \u001b[0m┃\u001b[1m \u001b[0m\u001b[1mSUBNET    \u001b[0m\u001b[1m \u001b[0m┃\u001b[1m \u001b[0m\u001b[1mGATEWAY    \u001b[0m\u001b[1m \u001b[0m┃\n",
       "┡━━━━━━━━━━━━╇━━━━━━━━━━━━╇━━━━━━━━━━━━╇━━━━━━━━━━━━╇━━━━━━━━━━━━╇━━━━━━━━━━━━╇━━━━━━━━━━━━━┩\n",
       "│ 1          │ eth0       │ 04:d4:c4:… │ False      │ NA         │ NA         │ NA          │\n",
       "│ 2          │ wlan0      │ 16:22:33:… │ True       │ 192.168.2… │ 255.255.2… │ 192.168.2.… │\n",
       "└────────────┴────────────┴────────────┴────────────┴────────────┴────────────┴─────────────┘\n"
      ]
     },
     "metadata": {},
     "output_type": "display_data"
    },
    {
     "data": {
      "text/html": [
       "<pre style=\"white-space:pre;overflow-x:auto;line-height:normal;font-family:Menlo,'DejaVu Sans Mono',consolas,'Courier New',monospace\"><span style=\"font-style: italic\">                                 LIST OF AVAILABLE NETWORKS                                  </span>\n",
       "┏━━━━━━━━━━━━┳━━━━━━━━━━━━┳━━━━━━━━━━━━┳━━━━━━━━━━━━┳━━━━━━━━━━━━┳━━━━━━━━━━━━┳━━━━━━━━━━━━━┓\n",
       "┃<span style=\"font-weight: bold\">            </span>┃<span style=\"font-weight: bold\">            </span>┃<span style=\"font-weight: bold\">            </span>┃<span style=\"font-weight: bold\"> IS         </span>┃<span style=\"font-weight: bold\">            </span>┃<span style=\"font-weight: bold\">            </span>┃<span style=\"font-weight: bold\"> DEFAULT     </span>┃\n",
       "┃<span style=\"font-weight: bold\"> ID         </span>┃<span style=\"font-weight: bold\"> INTERFACE  </span>┃<span style=\"font-weight: bold\"> MAC        </span>┃<span style=\"font-weight: bold\"> CONNECTED  </span>┃<span style=\"font-weight: bold\"> IP         </span>┃<span style=\"font-weight: bold\"> SUBNET     </span>┃<span style=\"font-weight: bold\"> GATEWAY     </span>┃\n",
       "┡━━━━━━━━━━━━╇━━━━━━━━━━━━╇━━━━━━━━━━━━╇━━━━━━━━━━━━╇━━━━━━━━━━━━╇━━━━━━━━━━━━╇━━━━━━━━━━━━━┩\n",
       "│ 1          │ eth0       │ 04:d4:c4:… │ False      │ NA         │ NA         │ NA          │\n",
       "│ 2          │ wlan0      │ 16:22:33:… │ True       │ 192.168.2… │ 255.255.2… │ 192.168.2.… │\n",
       "└────────────┴────────────┴────────────┴────────────┴────────────┴────────────┴─────────────┘\n",
       "</pre>\n"
      ],
      "text/plain": [
       "\u001b[3m                                 LIST OF AVAILABLE NETWORKS                                  \u001b[0m\n",
       "┏━━━━━━━━━━━━┳━━━━━━━━━━━━┳━━━━━━━━━━━━┳━━━━━━━━━━━━┳━━━━━━━━━━━━┳━━━━━━━━━━━━┳━━━━━━━━━━━━━┓\n",
       "┃\u001b[1m            \u001b[0m┃\u001b[1m            \u001b[0m┃\u001b[1m            \u001b[0m┃\u001b[1m \u001b[0m\u001b[1mIS        \u001b[0m\u001b[1m \u001b[0m┃\u001b[1m            \u001b[0m┃\u001b[1m            \u001b[0m┃\u001b[1m \u001b[0m\u001b[1mDEFAULT    \u001b[0m\u001b[1m \u001b[0m┃\n",
       "┃\u001b[1m \u001b[0m\u001b[1mID        \u001b[0m\u001b[1m \u001b[0m┃\u001b[1m \u001b[0m\u001b[1mINTERFACE \u001b[0m\u001b[1m \u001b[0m┃\u001b[1m \u001b[0m\u001b[1mMAC       \u001b[0m\u001b[1m \u001b[0m┃\u001b[1m \u001b[0m\u001b[1mCONNECTED \u001b[0m\u001b[1m \u001b[0m┃\u001b[1m \u001b[0m\u001b[1mIP        \u001b[0m\u001b[1m \u001b[0m┃\u001b[1m \u001b[0m\u001b[1mSUBNET    \u001b[0m\u001b[1m \u001b[0m┃\u001b[1m \u001b[0m\u001b[1mGATEWAY    \u001b[0m\u001b[1m \u001b[0m┃\n",
       "┡━━━━━━━━━━━━╇━━━━━━━━━━━━╇━━━━━━━━━━━━╇━━━━━━━━━━━━╇━━━━━━━━━━━━╇━━━━━━━━━━━━╇━━━━━━━━━━━━━┩\n",
       "│ 1          │ eth0       │ 04:d4:c4:… │ False      │ NA         │ NA         │ NA          │\n",
       "│ 2          │ wlan0      │ 16:22:33:… │ True       │ 192.168.2… │ 255.255.2… │ 192.168.2.… │\n",
       "└────────────┴────────────┴────────────┴────────────┴────────────┴────────────┴─────────────┘\n"
      ]
     },
     "metadata": {},
     "output_type": "display_data"
    },
    {
     "data": {
      "text/html": [
       "<pre style=\"white-space:pre;overflow-x:auto;line-height:normal;font-family:Menlo,'DejaVu Sans Mono',consolas,'Courier New',monospace\"><span style=\"font-style: italic\">                                 LIST OF AVAILABLE NETWORKS                                  </span>\n",
       "┏━━━━━━━━━━━━┳━━━━━━━━━━━━┳━━━━━━━━━━━━┳━━━━━━━━━━━━┳━━━━━━━━━━━━┳━━━━━━━━━━━━┳━━━━━━━━━━━━━┓\n",
       "┃<span style=\"font-weight: bold\">            </span>┃<span style=\"font-weight: bold\">            </span>┃<span style=\"font-weight: bold\">            </span>┃<span style=\"font-weight: bold\"> IS         </span>┃<span style=\"font-weight: bold\">            </span>┃<span style=\"font-weight: bold\">            </span>┃<span style=\"font-weight: bold\"> DEFAULT     </span>┃\n",
       "┃<span style=\"font-weight: bold\"> ID         </span>┃<span style=\"font-weight: bold\"> INTERFACE  </span>┃<span style=\"font-weight: bold\"> MAC        </span>┃<span style=\"font-weight: bold\"> CONNECTED  </span>┃<span style=\"font-weight: bold\"> IP         </span>┃<span style=\"font-weight: bold\"> SUBNET     </span>┃<span style=\"font-weight: bold\"> GATEWAY     </span>┃\n",
       "┡━━━━━━━━━━━━╇━━━━━━━━━━━━╇━━━━━━━━━━━━╇━━━━━━━━━━━━╇━━━━━━━━━━━━╇━━━━━━━━━━━━╇━━━━━━━━━━━━━┩\n",
       "│ 1          │ eth0       │ 04:d4:c4:… │ False      │ NA         │ NA         │ NA          │\n",
       "│ 2          │ wlan0      │ 16:22:33:… │ True       │ 192.168.2… │ 255.255.2… │ 192.168.2.… │\n",
       "└────────────┴────────────┴────────────┴────────────┴────────────┴────────────┴─────────────┘\n",
       "</pre>\n"
      ],
      "text/plain": [
       "\u001b[3m                                 LIST OF AVAILABLE NETWORKS                                  \u001b[0m\n",
       "┏━━━━━━━━━━━━┳━━━━━━━━━━━━┳━━━━━━━━━━━━┳━━━━━━━━━━━━┳━━━━━━━━━━━━┳━━━━━━━━━━━━┳━━━━━━━━━━━━━┓\n",
       "┃\u001b[1m            \u001b[0m┃\u001b[1m            \u001b[0m┃\u001b[1m            \u001b[0m┃\u001b[1m \u001b[0m\u001b[1mIS        \u001b[0m\u001b[1m \u001b[0m┃\u001b[1m            \u001b[0m┃\u001b[1m            \u001b[0m┃\u001b[1m \u001b[0m\u001b[1mDEFAULT    \u001b[0m\u001b[1m \u001b[0m┃\n",
       "┃\u001b[1m \u001b[0m\u001b[1mID        \u001b[0m\u001b[1m \u001b[0m┃\u001b[1m \u001b[0m\u001b[1mINTERFACE \u001b[0m\u001b[1m \u001b[0m┃\u001b[1m \u001b[0m\u001b[1mMAC       \u001b[0m\u001b[1m \u001b[0m┃\u001b[1m \u001b[0m\u001b[1mCONNECTED \u001b[0m\u001b[1m \u001b[0m┃\u001b[1m \u001b[0m\u001b[1mIP        \u001b[0m\u001b[1m \u001b[0m┃\u001b[1m \u001b[0m\u001b[1mSUBNET    \u001b[0m\u001b[1m \u001b[0m┃\u001b[1m \u001b[0m\u001b[1mGATEWAY    \u001b[0m\u001b[1m \u001b[0m┃\n",
       "┡━━━━━━━━━━━━╇━━━━━━━━━━━━╇━━━━━━━━━━━━╇━━━━━━━━━━━━╇━━━━━━━━━━━━╇━━━━━━━━━━━━╇━━━━━━━━━━━━━┩\n",
       "│ 1          │ eth0       │ 04:d4:c4:… │ False      │ NA         │ NA         │ NA          │\n",
       "│ 2          │ wlan0      │ 16:22:33:… │ True       │ 192.168.2… │ 255.255.2… │ 192.168.2.… │\n",
       "└────────────┴────────────┴────────────┴────────────┴────────────┴────────────┴─────────────┘\n"
      ]
     },
     "metadata": {},
     "output_type": "display_data"
    },
    {
     "data": {
      "text/html": [
       "<pre style=\"white-space:pre;overflow-x:auto;line-height:normal;font-family:Menlo,'DejaVu Sans Mono',consolas,'Courier New',monospace\"><span style=\"font-style: italic\">                                 LIST OF AVAILABLE NETWORKS                                  </span>\n",
       "┏━━━━━━━━━━━━┳━━━━━━━━━━━━┳━━━━━━━━━━━━┳━━━━━━━━━━━━┳━━━━━━━━━━━━┳━━━━━━━━━━━━┳━━━━━━━━━━━━━┓\n",
       "┃<span style=\"font-weight: bold\">            </span>┃<span style=\"font-weight: bold\">            </span>┃<span style=\"font-weight: bold\">            </span>┃<span style=\"font-weight: bold\"> IS         </span>┃<span style=\"font-weight: bold\">            </span>┃<span style=\"font-weight: bold\">            </span>┃<span style=\"font-weight: bold\"> DEFAULT     </span>┃\n",
       "┃<span style=\"font-weight: bold\"> ID         </span>┃<span style=\"font-weight: bold\"> INTERFACE  </span>┃<span style=\"font-weight: bold\"> MAC        </span>┃<span style=\"font-weight: bold\"> CONNECTED  </span>┃<span style=\"font-weight: bold\"> IP         </span>┃<span style=\"font-weight: bold\"> SUBNET     </span>┃<span style=\"font-weight: bold\"> GATEWAY     </span>┃\n",
       "┡━━━━━━━━━━━━╇━━━━━━━━━━━━╇━━━━━━━━━━━━╇━━━━━━━━━━━━╇━━━━━━━━━━━━╇━━━━━━━━━━━━╇━━━━━━━━━━━━━┩\n",
       "│ 1          │ eth0       │ 04:d4:c4:… │ False      │ NA         │ NA         │ NA          │\n",
       "│ 2          │ wlan0      │ 16:22:33:… │ True       │ 192.168.2… │ 255.255.2… │ 192.168.2.… │\n",
       "└────────────┴────────────┴────────────┴────────────┴────────────┴────────────┴─────────────┘\n",
       "</pre>\n"
      ],
      "text/plain": [
       "\u001b[3m                                 LIST OF AVAILABLE NETWORKS                                  \u001b[0m\n",
       "┏━━━━━━━━━━━━┳━━━━━━━━━━━━┳━━━━━━━━━━━━┳━━━━━━━━━━━━┳━━━━━━━━━━━━┳━━━━━━━━━━━━┳━━━━━━━━━━━━━┓\n",
       "┃\u001b[1m            \u001b[0m┃\u001b[1m            \u001b[0m┃\u001b[1m            \u001b[0m┃\u001b[1m \u001b[0m\u001b[1mIS        \u001b[0m\u001b[1m \u001b[0m┃\u001b[1m            \u001b[0m┃\u001b[1m            \u001b[0m┃\u001b[1m \u001b[0m\u001b[1mDEFAULT    \u001b[0m\u001b[1m \u001b[0m┃\n",
       "┃\u001b[1m \u001b[0m\u001b[1mID        \u001b[0m\u001b[1m \u001b[0m┃\u001b[1m \u001b[0m\u001b[1mINTERFACE \u001b[0m\u001b[1m \u001b[0m┃\u001b[1m \u001b[0m\u001b[1mMAC       \u001b[0m\u001b[1m \u001b[0m┃\u001b[1m \u001b[0m\u001b[1mCONNECTED \u001b[0m\u001b[1m \u001b[0m┃\u001b[1m \u001b[0m\u001b[1mIP        \u001b[0m\u001b[1m \u001b[0m┃\u001b[1m \u001b[0m\u001b[1mSUBNET    \u001b[0m\u001b[1m \u001b[0m┃\u001b[1m \u001b[0m\u001b[1mGATEWAY    \u001b[0m\u001b[1m \u001b[0m┃\n",
       "┡━━━━━━━━━━━━╇━━━━━━━━━━━━╇━━━━━━━━━━━━╇━━━━━━━━━━━━╇━━━━━━━━━━━━╇━━━━━━━━━━━━╇━━━━━━━━━━━━━┩\n",
       "│ 1          │ eth0       │ 04:d4:c4:… │ False      │ NA         │ NA         │ NA          │\n",
       "│ 2          │ wlan0      │ 16:22:33:… │ True       │ 192.168.2… │ 255.255.2… │ 192.168.2.… │\n",
       "└────────────┴────────────┴────────────┴────────────┴────────────┴────────────┴─────────────┘\n"
      ]
     },
     "metadata": {},
     "output_type": "display_data"
    },
    {
     "data": {
      "text/html": [
       "<pre style=\"white-space:pre;overflow-x:auto;line-height:normal;font-family:Menlo,'DejaVu Sans Mono',consolas,'Courier New',monospace\"><span style=\"font-style: italic\">                                 LIST OF AVAILABLE NETWORKS                                  </span>\n",
       "┏━━━━━━━━━━━━┳━━━━━━━━━━━━┳━━━━━━━━━━━━┳━━━━━━━━━━━━┳━━━━━━━━━━━━┳━━━━━━━━━━━━┳━━━━━━━━━━━━━┓\n",
       "┃<span style=\"font-weight: bold\">            </span>┃<span style=\"font-weight: bold\">            </span>┃<span style=\"font-weight: bold\">            </span>┃<span style=\"font-weight: bold\"> IS         </span>┃<span style=\"font-weight: bold\">            </span>┃<span style=\"font-weight: bold\">            </span>┃<span style=\"font-weight: bold\"> DEFAULT     </span>┃\n",
       "┃<span style=\"font-weight: bold\"> ID         </span>┃<span style=\"font-weight: bold\"> INTERFACE  </span>┃<span style=\"font-weight: bold\"> MAC        </span>┃<span style=\"font-weight: bold\"> CONNECTED  </span>┃<span style=\"font-weight: bold\"> IP         </span>┃<span style=\"font-weight: bold\"> SUBNET     </span>┃<span style=\"font-weight: bold\"> GATEWAY     </span>┃\n",
       "┡━━━━━━━━━━━━╇━━━━━━━━━━━━╇━━━━━━━━━━━━╇━━━━━━━━━━━━╇━━━━━━━━━━━━╇━━━━━━━━━━━━╇━━━━━━━━━━━━━┩\n",
       "│ 1          │ eth0       │ 04:d4:c4:… │ False      │ NA         │ NA         │ NA          │\n",
       "│ 2          │ wlan0      │ 16:22:33:… │ True       │ 192.168.2… │ 255.255.2… │ 192.168.2.… │\n",
       "└────────────┴────────────┴────────────┴────────────┴────────────┴────────────┴─────────────┘\n",
       "</pre>\n"
      ],
      "text/plain": [
       "\u001b[3m                                 LIST OF AVAILABLE NETWORKS                                  \u001b[0m\n",
       "┏━━━━━━━━━━━━┳━━━━━━━━━━━━┳━━━━━━━━━━━━┳━━━━━━━━━━━━┳━━━━━━━━━━━━┳━━━━━━━━━━━━┳━━━━━━━━━━━━━┓\n",
       "┃\u001b[1m            \u001b[0m┃\u001b[1m            \u001b[0m┃\u001b[1m            \u001b[0m┃\u001b[1m \u001b[0m\u001b[1mIS        \u001b[0m\u001b[1m \u001b[0m┃\u001b[1m            \u001b[0m┃\u001b[1m            \u001b[0m┃\u001b[1m \u001b[0m\u001b[1mDEFAULT    \u001b[0m\u001b[1m \u001b[0m┃\n",
       "┃\u001b[1m \u001b[0m\u001b[1mID        \u001b[0m\u001b[1m \u001b[0m┃\u001b[1m \u001b[0m\u001b[1mINTERFACE \u001b[0m\u001b[1m \u001b[0m┃\u001b[1m \u001b[0m\u001b[1mMAC       \u001b[0m\u001b[1m \u001b[0m┃\u001b[1m \u001b[0m\u001b[1mCONNECTED \u001b[0m\u001b[1m \u001b[0m┃\u001b[1m \u001b[0m\u001b[1mIP        \u001b[0m\u001b[1m \u001b[0m┃\u001b[1m \u001b[0m\u001b[1mSUBNET    \u001b[0m\u001b[1m \u001b[0m┃\u001b[1m \u001b[0m\u001b[1mGATEWAY    \u001b[0m\u001b[1m \u001b[0m┃\n",
       "┡━━━━━━━━━━━━╇━━━━━━━━━━━━╇━━━━━━━━━━━━╇━━━━━━━━━━━━╇━━━━━━━━━━━━╇━━━━━━━━━━━━╇━━━━━━━━━━━━━┩\n",
       "│ 1          │ eth0       │ 04:d4:c4:… │ False      │ NA         │ NA         │ NA          │\n",
       "│ 2          │ wlan0      │ 16:22:33:… │ True       │ 192.168.2… │ 255.255.2… │ 192.168.2.… │\n",
       "└────────────┴────────────┴────────────┴────────────┴────────────┴────────────┴─────────────┘\n"
      ]
     },
     "metadata": {},
     "output_type": "display_data"
    },
    {
     "data": {
      "text/html": [
       "<pre style=\"white-space:pre;overflow-x:auto;line-height:normal;font-family:Menlo,'DejaVu Sans Mono',consolas,'Courier New',monospace\"><span style=\"font-style: italic\">                                 LIST OF AVAILABLE NETWORKS                                  </span>\n",
       "┏━━━━━━━━━━━━┳━━━━━━━━━━━━┳━━━━━━━━━━━━┳━━━━━━━━━━━━┳━━━━━━━━━━━━┳━━━━━━━━━━━━┳━━━━━━━━━━━━━┓\n",
       "┃<span style=\"font-weight: bold\">            </span>┃<span style=\"font-weight: bold\">            </span>┃<span style=\"font-weight: bold\">            </span>┃<span style=\"font-weight: bold\"> IS         </span>┃<span style=\"font-weight: bold\">            </span>┃<span style=\"font-weight: bold\">            </span>┃<span style=\"font-weight: bold\"> DEFAULT     </span>┃\n",
       "┃<span style=\"font-weight: bold\"> ID         </span>┃<span style=\"font-weight: bold\"> INTERFACE  </span>┃<span style=\"font-weight: bold\"> MAC        </span>┃<span style=\"font-weight: bold\"> CONNECTED  </span>┃<span style=\"font-weight: bold\"> IP         </span>┃<span style=\"font-weight: bold\"> SUBNET     </span>┃<span style=\"font-weight: bold\"> GATEWAY     </span>┃\n",
       "┡━━━━━━━━━━━━╇━━━━━━━━━━━━╇━━━━━━━━━━━━╇━━━━━━━━━━━━╇━━━━━━━━━━━━╇━━━━━━━━━━━━╇━━━━━━━━━━━━━┩\n",
       "│ 1          │ eth0       │ 04:d4:c4:… │ False      │ NA         │ NA         │ NA          │\n",
       "│ 2          │ wlan0      │ 16:22:33:… │ True       │ 192.168.2… │ 255.255.2… │ 192.168.2.… │\n",
       "└────────────┴────────────┴────────────┴────────────┴────────────┴────────────┴─────────────┘\n",
       "</pre>\n"
      ],
      "text/plain": [
       "\u001b[3m                                 LIST OF AVAILABLE NETWORKS                                  \u001b[0m\n",
       "┏━━━━━━━━━━━━┳━━━━━━━━━━━━┳━━━━━━━━━━━━┳━━━━━━━━━━━━┳━━━━━━━━━━━━┳━━━━━━━━━━━━┳━━━━━━━━━━━━━┓\n",
       "┃\u001b[1m            \u001b[0m┃\u001b[1m            \u001b[0m┃\u001b[1m            \u001b[0m┃\u001b[1m \u001b[0m\u001b[1mIS        \u001b[0m\u001b[1m \u001b[0m┃\u001b[1m            \u001b[0m┃\u001b[1m            \u001b[0m┃\u001b[1m \u001b[0m\u001b[1mDEFAULT    \u001b[0m\u001b[1m \u001b[0m┃\n",
       "┃\u001b[1m \u001b[0m\u001b[1mID        \u001b[0m\u001b[1m \u001b[0m┃\u001b[1m \u001b[0m\u001b[1mINTERFACE \u001b[0m\u001b[1m \u001b[0m┃\u001b[1m \u001b[0m\u001b[1mMAC       \u001b[0m\u001b[1m \u001b[0m┃\u001b[1m \u001b[0m\u001b[1mCONNECTED \u001b[0m\u001b[1m \u001b[0m┃\u001b[1m \u001b[0m\u001b[1mIP        \u001b[0m\u001b[1m \u001b[0m┃\u001b[1m \u001b[0m\u001b[1mSUBNET    \u001b[0m\u001b[1m \u001b[0m┃\u001b[1m \u001b[0m\u001b[1mGATEWAY    \u001b[0m\u001b[1m \u001b[0m┃\n",
       "┡━━━━━━━━━━━━╇━━━━━━━━━━━━╇━━━━━━━━━━━━╇━━━━━━━━━━━━╇━━━━━━━━━━━━╇━━━━━━━━━━━━╇━━━━━━━━━━━━━┩\n",
       "│ 1          │ eth0       │ 04:d4:c4:… │ False      │ NA         │ NA         │ NA          │\n",
       "│ 2          │ wlan0      │ 16:22:33:… │ True       │ 192.168.2… │ 255.255.2… │ 192.168.2.… │\n",
       "└────────────┴────────────┴────────────┴────────────┴────────────┴────────────┴─────────────┘\n"
      ]
     },
     "metadata": {},
     "output_type": "display_data"
    },
    {
     "data": {
      "text/html": [
       "<pre style=\"white-space:pre;overflow-x:auto;line-height:normal;font-family:Menlo,'DejaVu Sans Mono',consolas,'Courier New',monospace\"><span style=\"font-style: italic\">                                 LIST OF AVAILABLE NETWORKS                                  </span>\n",
       "┏━━━━━━━━━━━━┳━━━━━━━━━━━━┳━━━━━━━━━━━━┳━━━━━━━━━━━━┳━━━━━━━━━━━━┳━━━━━━━━━━━━┳━━━━━━━━━━━━━┓\n",
       "┃<span style=\"font-weight: bold\">            </span>┃<span style=\"font-weight: bold\">            </span>┃<span style=\"font-weight: bold\">            </span>┃<span style=\"font-weight: bold\"> IS         </span>┃<span style=\"font-weight: bold\">            </span>┃<span style=\"font-weight: bold\">            </span>┃<span style=\"font-weight: bold\"> DEFAULT     </span>┃\n",
       "┃<span style=\"font-weight: bold\"> ID         </span>┃<span style=\"font-weight: bold\"> INTERFACE  </span>┃<span style=\"font-weight: bold\"> MAC        </span>┃<span style=\"font-weight: bold\"> CONNECTED  </span>┃<span style=\"font-weight: bold\"> IP         </span>┃<span style=\"font-weight: bold\"> SUBNET     </span>┃<span style=\"font-weight: bold\"> GATEWAY     </span>┃\n",
       "┡━━━━━━━━━━━━╇━━━━━━━━━━━━╇━━━━━━━━━━━━╇━━━━━━━━━━━━╇━━━━━━━━━━━━╇━━━━━━━━━━━━╇━━━━━━━━━━━━━┩\n",
       "│ 1          │ eth0       │ 04:d4:c4:… │ False      │ NA         │ NA         │ NA          │\n",
       "│ 2          │ wlan0      │ 16:22:33:… │ True       │ 192.168.2… │ 255.255.2… │ 192.168.2.… │\n",
       "└────────────┴────────────┴────────────┴────────────┴────────────┴────────────┴─────────────┘\n",
       "</pre>\n"
      ],
      "text/plain": [
       "\u001b[3m                                 LIST OF AVAILABLE NETWORKS                                  \u001b[0m\n",
       "┏━━━━━━━━━━━━┳━━━━━━━━━━━━┳━━━━━━━━━━━━┳━━━━━━━━━━━━┳━━━━━━━━━━━━┳━━━━━━━━━━━━┳━━━━━━━━━━━━━┓\n",
       "┃\u001b[1m            \u001b[0m┃\u001b[1m            \u001b[0m┃\u001b[1m            \u001b[0m┃\u001b[1m \u001b[0m\u001b[1mIS        \u001b[0m\u001b[1m \u001b[0m┃\u001b[1m            \u001b[0m┃\u001b[1m            \u001b[0m┃\u001b[1m \u001b[0m\u001b[1mDEFAULT    \u001b[0m\u001b[1m \u001b[0m┃\n",
       "┃\u001b[1m \u001b[0m\u001b[1mID        \u001b[0m\u001b[1m \u001b[0m┃\u001b[1m \u001b[0m\u001b[1mINTERFACE \u001b[0m\u001b[1m \u001b[0m┃\u001b[1m \u001b[0m\u001b[1mMAC       \u001b[0m\u001b[1m \u001b[0m┃\u001b[1m \u001b[0m\u001b[1mCONNECTED \u001b[0m\u001b[1m \u001b[0m┃\u001b[1m \u001b[0m\u001b[1mIP        \u001b[0m\u001b[1m \u001b[0m┃\u001b[1m \u001b[0m\u001b[1mSUBNET    \u001b[0m\u001b[1m \u001b[0m┃\u001b[1m \u001b[0m\u001b[1mGATEWAY    \u001b[0m\u001b[1m \u001b[0m┃\n",
       "┡━━━━━━━━━━━━╇━━━━━━━━━━━━╇━━━━━━━━━━━━╇━━━━━━━━━━━━╇━━━━━━━━━━━━╇━━━━━━━━━━━━╇━━━━━━━━━━━━━┩\n",
       "│ 1          │ eth0       │ 04:d4:c4:… │ False      │ NA         │ NA         │ NA          │\n",
       "│ 2          │ wlan0      │ 16:22:33:… │ True       │ 192.168.2… │ 255.255.2… │ 192.168.2.… │\n",
       "└────────────┴────────────┴────────────┴────────────┴────────────┴────────────┴─────────────┘\n"
      ]
     },
     "metadata": {},
     "output_type": "display_data"
    },
    {
     "data": {
      "text/html": [
       "<pre style=\"white-space:pre;overflow-x:auto;line-height:normal;font-family:Menlo,'DejaVu Sans Mono',consolas,'Courier New',monospace\"><span style=\"font-style: italic\">                                 LIST OF AVAILABLE NETWORKS                                  </span>\n",
       "┏━━━━━━━━━━━━┳━━━━━━━━━━━━┳━━━━━━━━━━━━┳━━━━━━━━━━━━┳━━━━━━━━━━━━┳━━━━━━━━━━━━┳━━━━━━━━━━━━━┓\n",
       "┃<span style=\"font-weight: bold\">            </span>┃<span style=\"font-weight: bold\">            </span>┃<span style=\"font-weight: bold\">            </span>┃<span style=\"font-weight: bold\"> IS         </span>┃<span style=\"font-weight: bold\">            </span>┃<span style=\"font-weight: bold\">            </span>┃<span style=\"font-weight: bold\"> DEFAULT     </span>┃\n",
       "┃<span style=\"font-weight: bold\"> ID         </span>┃<span style=\"font-weight: bold\"> INTERFACE  </span>┃<span style=\"font-weight: bold\"> MAC        </span>┃<span style=\"font-weight: bold\"> CONNECTED  </span>┃<span style=\"font-weight: bold\"> IP         </span>┃<span style=\"font-weight: bold\"> SUBNET     </span>┃<span style=\"font-weight: bold\"> GATEWAY     </span>┃\n",
       "┡━━━━━━━━━━━━╇━━━━━━━━━━━━╇━━━━━━━━━━━━╇━━━━━━━━━━━━╇━━━━━━━━━━━━╇━━━━━━━━━━━━╇━━━━━━━━━━━━━┩\n",
       "│ 1          │ eth0       │ 04:d4:c4:… │ False      │ NA         │ NA         │ NA          │\n",
       "│ 2          │ wlan0      │ 16:22:33:… │ True       │ 192.168.2… │ 255.255.2… │ 192.168.2.… │\n",
       "└────────────┴────────────┴────────────┴────────────┴────────────┴────────────┴─────────────┘\n",
       "</pre>\n"
      ],
      "text/plain": [
       "\u001b[3m                                 LIST OF AVAILABLE NETWORKS                                  \u001b[0m\n",
       "┏━━━━━━━━━━━━┳━━━━━━━━━━━━┳━━━━━━━━━━━━┳━━━━━━━━━━━━┳━━━━━━━━━━━━┳━━━━━━━━━━━━┳━━━━━━━━━━━━━┓\n",
       "┃\u001b[1m            \u001b[0m┃\u001b[1m            \u001b[0m┃\u001b[1m            \u001b[0m┃\u001b[1m \u001b[0m\u001b[1mIS        \u001b[0m\u001b[1m \u001b[0m┃\u001b[1m            \u001b[0m┃\u001b[1m            \u001b[0m┃\u001b[1m \u001b[0m\u001b[1mDEFAULT    \u001b[0m\u001b[1m \u001b[0m┃\n",
       "┃\u001b[1m \u001b[0m\u001b[1mID        \u001b[0m\u001b[1m \u001b[0m┃\u001b[1m \u001b[0m\u001b[1mINTERFACE \u001b[0m\u001b[1m \u001b[0m┃\u001b[1m \u001b[0m\u001b[1mMAC       \u001b[0m\u001b[1m \u001b[0m┃\u001b[1m \u001b[0m\u001b[1mCONNECTED \u001b[0m\u001b[1m \u001b[0m┃\u001b[1m \u001b[0m\u001b[1mIP        \u001b[0m\u001b[1m \u001b[0m┃\u001b[1m \u001b[0m\u001b[1mSUBNET    \u001b[0m\u001b[1m \u001b[0m┃\u001b[1m \u001b[0m\u001b[1mGATEWAY    \u001b[0m\u001b[1m \u001b[0m┃\n",
       "┡━━━━━━━━━━━━╇━━━━━━━━━━━━╇━━━━━━━━━━━━╇━━━━━━━━━━━━╇━━━━━━━━━━━━╇━━━━━━━━━━━━╇━━━━━━━━━━━━━┩\n",
       "│ 1          │ eth0       │ 04:d4:c4:… │ False      │ NA         │ NA         │ NA          │\n",
       "│ 2          │ wlan0      │ 16:22:33:… │ True       │ 192.168.2… │ 255.255.2… │ 192.168.2.… │\n",
       "└────────────┴────────────┴────────────┴────────────┴────────────┴────────────┴─────────────┘\n"
      ]
     },
     "metadata": {},
     "output_type": "display_data"
    },
    {
     "data": {
      "text/html": [
       "<pre style=\"white-space:pre;overflow-x:auto;line-height:normal;font-family:Menlo,'DejaVu Sans Mono',consolas,'Courier New',monospace\"><span style=\"font-style: italic\">                                 LIST OF AVAILABLE NETWORKS                                  </span>\n",
       "┏━━━━━━━━━━━━┳━━━━━━━━━━━━┳━━━━━━━━━━━━┳━━━━━━━━━━━━┳━━━━━━━━━━━━┳━━━━━━━━━━━━┳━━━━━━━━━━━━━┓\n",
       "┃<span style=\"font-weight: bold\">            </span>┃<span style=\"font-weight: bold\">            </span>┃<span style=\"font-weight: bold\">            </span>┃<span style=\"font-weight: bold\"> IS         </span>┃<span style=\"font-weight: bold\">            </span>┃<span style=\"font-weight: bold\">            </span>┃<span style=\"font-weight: bold\"> DEFAULT     </span>┃\n",
       "┃<span style=\"font-weight: bold\"> ID         </span>┃<span style=\"font-weight: bold\"> INTERFACE  </span>┃<span style=\"font-weight: bold\"> MAC        </span>┃<span style=\"font-weight: bold\"> CONNECTED  </span>┃<span style=\"font-weight: bold\"> IP         </span>┃<span style=\"font-weight: bold\"> SUBNET     </span>┃<span style=\"font-weight: bold\"> GATEWAY     </span>┃\n",
       "┡━━━━━━━━━━━━╇━━━━━━━━━━━━╇━━━━━━━━━━━━╇━━━━━━━━━━━━╇━━━━━━━━━━━━╇━━━━━━━━━━━━╇━━━━━━━━━━━━━┩\n",
       "│ 1          │ eth0       │ 04:d4:c4:… │ False      │ NA         │ NA         │ NA          │\n",
       "│ 2          │ wlan0      │ 16:22:33:… │ True       │ 192.168.2… │ 255.255.2… │ 192.168.2.… │\n",
       "└────────────┴────────────┴────────────┴────────────┴────────────┴────────────┴─────────────┘\n",
       "</pre>\n"
      ],
      "text/plain": [
       "\u001b[3m                                 LIST OF AVAILABLE NETWORKS                                  \u001b[0m\n",
       "┏━━━━━━━━━━━━┳━━━━━━━━━━━━┳━━━━━━━━━━━━┳━━━━━━━━━━━━┳━━━━━━━━━━━━┳━━━━━━━━━━━━┳━━━━━━━━━━━━━┓\n",
       "┃\u001b[1m            \u001b[0m┃\u001b[1m            \u001b[0m┃\u001b[1m            \u001b[0m┃\u001b[1m \u001b[0m\u001b[1mIS        \u001b[0m\u001b[1m \u001b[0m┃\u001b[1m            \u001b[0m┃\u001b[1m            \u001b[0m┃\u001b[1m \u001b[0m\u001b[1mDEFAULT    \u001b[0m\u001b[1m \u001b[0m┃\n",
       "┃\u001b[1m \u001b[0m\u001b[1mID        \u001b[0m\u001b[1m \u001b[0m┃\u001b[1m \u001b[0m\u001b[1mINTERFACE \u001b[0m\u001b[1m \u001b[0m┃\u001b[1m \u001b[0m\u001b[1mMAC       \u001b[0m\u001b[1m \u001b[0m┃\u001b[1m \u001b[0m\u001b[1mCONNECTED \u001b[0m\u001b[1m \u001b[0m┃\u001b[1m \u001b[0m\u001b[1mIP        \u001b[0m\u001b[1m \u001b[0m┃\u001b[1m \u001b[0m\u001b[1mSUBNET    \u001b[0m\u001b[1m \u001b[0m┃\u001b[1m \u001b[0m\u001b[1mGATEWAY    \u001b[0m\u001b[1m \u001b[0m┃\n",
       "┡━━━━━━━━━━━━╇━━━━━━━━━━━━╇━━━━━━━━━━━━╇━━━━━━━━━━━━╇━━━━━━━━━━━━╇━━━━━━━━━━━━╇━━━━━━━━━━━━━┩\n",
       "│ 1          │ eth0       │ 04:d4:c4:… │ False      │ NA         │ NA         │ NA          │\n",
       "│ 2          │ wlan0      │ 16:22:33:… │ True       │ 192.168.2… │ 255.255.2… │ 192.168.2.… │\n",
       "└────────────┴────────────┴────────────┴────────────┴────────────┴────────────┴─────────────┘\n"
      ]
     },
     "metadata": {},
     "output_type": "display_data"
    },
    {
     "data": {
      "text/html": [
       "<pre style=\"white-space:pre;overflow-x:auto;line-height:normal;font-family:Menlo,'DejaVu Sans Mono',consolas,'Courier New',monospace\"><span style=\"font-style: italic\">                                 LIST OF AVAILABLE NETWORKS                                  </span>\n",
       "┏━━━━━━━━━━━━┳━━━━━━━━━━━━┳━━━━━━━━━━━━┳━━━━━━━━━━━━┳━━━━━━━━━━━━┳━━━━━━━━━━━━┳━━━━━━━━━━━━━┓\n",
       "┃<span style=\"font-weight: bold\">            </span>┃<span style=\"font-weight: bold\">            </span>┃<span style=\"font-weight: bold\">            </span>┃<span style=\"font-weight: bold\"> IS         </span>┃<span style=\"font-weight: bold\">            </span>┃<span style=\"font-weight: bold\">            </span>┃<span style=\"font-weight: bold\"> DEFAULT     </span>┃\n",
       "┃<span style=\"font-weight: bold\"> ID         </span>┃<span style=\"font-weight: bold\"> INTERFACE  </span>┃<span style=\"font-weight: bold\"> MAC        </span>┃<span style=\"font-weight: bold\"> CONNECTED  </span>┃<span style=\"font-weight: bold\"> IP         </span>┃<span style=\"font-weight: bold\"> SUBNET     </span>┃<span style=\"font-weight: bold\"> GATEWAY     </span>┃\n",
       "┡━━━━━━━━━━━━╇━━━━━━━━━━━━╇━━━━━━━━━━━━╇━━━━━━━━━━━━╇━━━━━━━━━━━━╇━━━━━━━━━━━━╇━━━━━━━━━━━━━┩\n",
       "│ 1          │ eth0       │ 04:d4:c4:… │ False      │ NA         │ NA         │ NA          │\n",
       "│ 2          │ wlan0      │ 16:22:33:… │ True       │ 192.168.2… │ 255.255.2… │ 192.168.2.… │\n",
       "└────────────┴────────────┴────────────┴────────────┴────────────┴────────────┴─────────────┘\n",
       "</pre>\n"
      ],
      "text/plain": [
       "\u001b[3m                                 LIST OF AVAILABLE NETWORKS                                  \u001b[0m\n",
       "┏━━━━━━━━━━━━┳━━━━━━━━━━━━┳━━━━━━━━━━━━┳━━━━━━━━━━━━┳━━━━━━━━━━━━┳━━━━━━━━━━━━┳━━━━━━━━━━━━━┓\n",
       "┃\u001b[1m            \u001b[0m┃\u001b[1m            \u001b[0m┃\u001b[1m            \u001b[0m┃\u001b[1m \u001b[0m\u001b[1mIS        \u001b[0m\u001b[1m \u001b[0m┃\u001b[1m            \u001b[0m┃\u001b[1m            \u001b[0m┃\u001b[1m \u001b[0m\u001b[1mDEFAULT    \u001b[0m\u001b[1m \u001b[0m┃\n",
       "┃\u001b[1m \u001b[0m\u001b[1mID        \u001b[0m\u001b[1m \u001b[0m┃\u001b[1m \u001b[0m\u001b[1mINTERFACE \u001b[0m\u001b[1m \u001b[0m┃\u001b[1m \u001b[0m\u001b[1mMAC       \u001b[0m\u001b[1m \u001b[0m┃\u001b[1m \u001b[0m\u001b[1mCONNECTED \u001b[0m\u001b[1m \u001b[0m┃\u001b[1m \u001b[0m\u001b[1mIP        \u001b[0m\u001b[1m \u001b[0m┃\u001b[1m \u001b[0m\u001b[1mSUBNET    \u001b[0m\u001b[1m \u001b[0m┃\u001b[1m \u001b[0m\u001b[1mGATEWAY    \u001b[0m\u001b[1m \u001b[0m┃\n",
       "┡━━━━━━━━━━━━╇━━━━━━━━━━━━╇━━━━━━━━━━━━╇━━━━━━━━━━━━╇━━━━━━━━━━━━╇━━━━━━━━━━━━╇━━━━━━━━━━━━━┩\n",
       "│ 1          │ eth0       │ 04:d4:c4:… │ False      │ NA         │ NA         │ NA          │\n",
       "│ 2          │ wlan0      │ 16:22:33:… │ True       │ 192.168.2… │ 255.255.2… │ 192.168.2.… │\n",
       "└────────────┴────────────┴────────────┴────────────┴────────────┴────────────┴─────────────┘\n"
      ]
     },
     "metadata": {},
     "output_type": "display_data"
    },
    {
     "data": {
      "text/html": [
       "<pre style=\"white-space:pre;overflow-x:auto;line-height:normal;font-family:Menlo,'DejaVu Sans Mono',consolas,'Courier New',monospace\"><span style=\"font-style: italic\">                                 LIST OF AVAILABLE NETWORKS                                  </span>\n",
       "┏━━━━━━━━━━━━┳━━━━━━━━━━━━┳━━━━━━━━━━━━┳━━━━━━━━━━━━┳━━━━━━━━━━━━┳━━━━━━━━━━━━┳━━━━━━━━━━━━━┓\n",
       "┃<span style=\"font-weight: bold\">            </span>┃<span style=\"font-weight: bold\">            </span>┃<span style=\"font-weight: bold\">            </span>┃<span style=\"font-weight: bold\"> IS         </span>┃<span style=\"font-weight: bold\">            </span>┃<span style=\"font-weight: bold\">            </span>┃<span style=\"font-weight: bold\"> DEFAULT     </span>┃\n",
       "┃<span style=\"font-weight: bold\"> ID         </span>┃<span style=\"font-weight: bold\"> INTERFACE  </span>┃<span style=\"font-weight: bold\"> MAC        </span>┃<span style=\"font-weight: bold\"> CONNECTED  </span>┃<span style=\"font-weight: bold\"> IP         </span>┃<span style=\"font-weight: bold\"> SUBNET     </span>┃<span style=\"font-weight: bold\"> GATEWAY     </span>┃\n",
       "┡━━━━━━━━━━━━╇━━━━━━━━━━━━╇━━━━━━━━━━━━╇━━━━━━━━━━━━╇━━━━━━━━━━━━╇━━━━━━━━━━━━╇━━━━━━━━━━━━━┩\n",
       "│ 1          │ eth0       │ 04:d4:c4:… │ False      │ NA         │ NA         │ NA          │\n",
       "│ 2          │ wlan0      │ 16:22:33:… │ True       │ 192.168.2… │ 255.255.2… │ 192.168.2.… │\n",
       "└────────────┴────────────┴────────────┴────────────┴────────────┴────────────┴─────────────┘\n",
       "</pre>\n"
      ],
      "text/plain": [
       "\u001b[3m                                 LIST OF AVAILABLE NETWORKS                                  \u001b[0m\n",
       "┏━━━━━━━━━━━━┳━━━━━━━━━━━━┳━━━━━━━━━━━━┳━━━━━━━━━━━━┳━━━━━━━━━━━━┳━━━━━━━━━━━━┳━━━━━━━━━━━━━┓\n",
       "┃\u001b[1m            \u001b[0m┃\u001b[1m            \u001b[0m┃\u001b[1m            \u001b[0m┃\u001b[1m \u001b[0m\u001b[1mIS        \u001b[0m\u001b[1m \u001b[0m┃\u001b[1m            \u001b[0m┃\u001b[1m            \u001b[0m┃\u001b[1m \u001b[0m\u001b[1mDEFAULT    \u001b[0m\u001b[1m \u001b[0m┃\n",
       "┃\u001b[1m \u001b[0m\u001b[1mID        \u001b[0m\u001b[1m \u001b[0m┃\u001b[1m \u001b[0m\u001b[1mINTERFACE \u001b[0m\u001b[1m \u001b[0m┃\u001b[1m \u001b[0m\u001b[1mMAC       \u001b[0m\u001b[1m \u001b[0m┃\u001b[1m \u001b[0m\u001b[1mCONNECTED \u001b[0m\u001b[1m \u001b[0m┃\u001b[1m \u001b[0m\u001b[1mIP        \u001b[0m\u001b[1m \u001b[0m┃\u001b[1m \u001b[0m\u001b[1mSUBNET    \u001b[0m\u001b[1m \u001b[0m┃\u001b[1m \u001b[0m\u001b[1mGATEWAY    \u001b[0m\u001b[1m \u001b[0m┃\n",
       "┡━━━━━━━━━━━━╇━━━━━━━━━━━━╇━━━━━━━━━━━━╇━━━━━━━━━━━━╇━━━━━━━━━━━━╇━━━━━━━━━━━━╇━━━━━━━━━━━━━┩\n",
       "│ 1          │ eth0       │ 04:d4:c4:… │ False      │ NA         │ NA         │ NA          │\n",
       "│ 2          │ wlan0      │ 16:22:33:… │ True       │ 192.168.2… │ 255.255.2… │ 192.168.2.… │\n",
       "└────────────┴────────────┴────────────┴────────────┴────────────┴────────────┴─────────────┘\n"
      ]
     },
     "metadata": {},
     "output_type": "display_data"
    },
    {
     "data": {
      "text/html": [
       "<pre style=\"white-space:pre;overflow-x:auto;line-height:normal;font-family:Menlo,'DejaVu Sans Mono',consolas,'Courier New',monospace\"><span style=\"font-style: italic\">                                 LIST OF AVAILABLE NETWORKS                                  </span>\n",
       "┏━━━━━━━━━━━━┳━━━━━━━━━━━━┳━━━━━━━━━━━━┳━━━━━━━━━━━━┳━━━━━━━━━━━━┳━━━━━━━━━━━━┳━━━━━━━━━━━━━┓\n",
       "┃<span style=\"font-weight: bold\">            </span>┃<span style=\"font-weight: bold\">            </span>┃<span style=\"font-weight: bold\">            </span>┃<span style=\"font-weight: bold\"> IS         </span>┃<span style=\"font-weight: bold\">            </span>┃<span style=\"font-weight: bold\">            </span>┃<span style=\"font-weight: bold\"> DEFAULT     </span>┃\n",
       "┃<span style=\"font-weight: bold\"> ID         </span>┃<span style=\"font-weight: bold\"> INTERFACE  </span>┃<span style=\"font-weight: bold\"> MAC        </span>┃<span style=\"font-weight: bold\"> CONNECTED  </span>┃<span style=\"font-weight: bold\"> IP         </span>┃<span style=\"font-weight: bold\"> SUBNET     </span>┃<span style=\"font-weight: bold\"> GATEWAY     </span>┃\n",
       "┡━━━━━━━━━━━━╇━━━━━━━━━━━━╇━━━━━━━━━━━━╇━━━━━━━━━━━━╇━━━━━━━━━━━━╇━━━━━━━━━━━━╇━━━━━━━━━━━━━┩\n",
       "│ 1          │ eth0       │ 04:d4:c4:… │ False      │ NA         │ NA         │ NA          │\n",
       "│ 2          │ wlan0      │ 16:22:33:… │ True       │ 192.168.2… │ 255.255.2… │ 192.168.2.… │\n",
       "└────────────┴────────────┴────────────┴────────────┴────────────┴────────────┴─────────────┘\n",
       "</pre>\n"
      ],
      "text/plain": [
       "\u001b[3m                                 LIST OF AVAILABLE NETWORKS                                  \u001b[0m\n",
       "┏━━━━━━━━━━━━┳━━━━━━━━━━━━┳━━━━━━━━━━━━┳━━━━━━━━━━━━┳━━━━━━━━━━━━┳━━━━━━━━━━━━┳━━━━━━━━━━━━━┓\n",
       "┃\u001b[1m            \u001b[0m┃\u001b[1m            \u001b[0m┃\u001b[1m            \u001b[0m┃\u001b[1m \u001b[0m\u001b[1mIS        \u001b[0m\u001b[1m \u001b[0m┃\u001b[1m            \u001b[0m┃\u001b[1m            \u001b[0m┃\u001b[1m \u001b[0m\u001b[1mDEFAULT    \u001b[0m\u001b[1m \u001b[0m┃\n",
       "┃\u001b[1m \u001b[0m\u001b[1mID        \u001b[0m\u001b[1m \u001b[0m┃\u001b[1m \u001b[0m\u001b[1mINTERFACE \u001b[0m\u001b[1m \u001b[0m┃\u001b[1m \u001b[0m\u001b[1mMAC       \u001b[0m\u001b[1m \u001b[0m┃\u001b[1m \u001b[0m\u001b[1mCONNECTED \u001b[0m\u001b[1m \u001b[0m┃\u001b[1m \u001b[0m\u001b[1mIP        \u001b[0m\u001b[1m \u001b[0m┃\u001b[1m \u001b[0m\u001b[1mSUBNET    \u001b[0m\u001b[1m \u001b[0m┃\u001b[1m \u001b[0m\u001b[1mGATEWAY    \u001b[0m\u001b[1m \u001b[0m┃\n",
       "┡━━━━━━━━━━━━╇━━━━━━━━━━━━╇━━━━━━━━━━━━╇━━━━━━━━━━━━╇━━━━━━━━━━━━╇━━━━━━━━━━━━╇━━━━━━━━━━━━━┩\n",
       "│ 1          │ eth0       │ 04:d4:c4:… │ False      │ NA         │ NA         │ NA          │\n",
       "│ 2          │ wlan0      │ 16:22:33:… │ True       │ 192.168.2… │ 255.255.2… │ 192.168.2.… │\n",
       "└────────────┴────────────┴────────────┴────────────┴────────────┴────────────┴─────────────┘\n"
      ]
     },
     "metadata": {},
     "output_type": "display_data"
    },
    {
     "data": {
      "text/html": [
       "<pre style=\"white-space:pre;overflow-x:auto;line-height:normal;font-family:Menlo,'DejaVu Sans Mono',consolas,'Courier New',monospace\"><span style=\"font-style: italic\">                                 LIST OF AVAILABLE NETWORKS                                  </span>\n",
       "┏━━━━━━━━━━━━┳━━━━━━━━━━━━┳━━━━━━━━━━━━┳━━━━━━━━━━━━┳━━━━━━━━━━━━┳━━━━━━━━━━━━┳━━━━━━━━━━━━━┓\n",
       "┃<span style=\"font-weight: bold\">            </span>┃<span style=\"font-weight: bold\">            </span>┃<span style=\"font-weight: bold\">            </span>┃<span style=\"font-weight: bold\"> IS         </span>┃<span style=\"font-weight: bold\">            </span>┃<span style=\"font-weight: bold\">            </span>┃<span style=\"font-weight: bold\"> DEFAULT     </span>┃\n",
       "┃<span style=\"font-weight: bold\"> ID         </span>┃<span style=\"font-weight: bold\"> INTERFACE  </span>┃<span style=\"font-weight: bold\"> MAC        </span>┃<span style=\"font-weight: bold\"> CONNECTED  </span>┃<span style=\"font-weight: bold\"> IP         </span>┃<span style=\"font-weight: bold\"> SUBNET     </span>┃<span style=\"font-weight: bold\"> GATEWAY     </span>┃\n",
       "┡━━━━━━━━━━━━╇━━━━━━━━━━━━╇━━━━━━━━━━━━╇━━━━━━━━━━━━╇━━━━━━━━━━━━╇━━━━━━━━━━━━╇━━━━━━━━━━━━━┩\n",
       "│ 1          │ eth0       │ 04:d4:c4:… │ False      │ NA         │ NA         │ NA          │\n",
       "│ 2          │ wlan0      │ 16:22:33:… │ True       │ 192.168.2… │ 255.255.2… │ 192.168.2.… │\n",
       "└────────────┴────────────┴────────────┴────────────┴────────────┴────────────┴─────────────┘\n",
       "</pre>\n"
      ],
      "text/plain": [
       "\u001b[3m                                 LIST OF AVAILABLE NETWORKS                                  \u001b[0m\n",
       "┏━━━━━━━━━━━━┳━━━━━━━━━━━━┳━━━━━━━━━━━━┳━━━━━━━━━━━━┳━━━━━━━━━━━━┳━━━━━━━━━━━━┳━━━━━━━━━━━━━┓\n",
       "┃\u001b[1m            \u001b[0m┃\u001b[1m            \u001b[0m┃\u001b[1m            \u001b[0m┃\u001b[1m \u001b[0m\u001b[1mIS        \u001b[0m\u001b[1m \u001b[0m┃\u001b[1m            \u001b[0m┃\u001b[1m            \u001b[0m┃\u001b[1m \u001b[0m\u001b[1mDEFAULT    \u001b[0m\u001b[1m \u001b[0m┃\n",
       "┃\u001b[1m \u001b[0m\u001b[1mID        \u001b[0m\u001b[1m \u001b[0m┃\u001b[1m \u001b[0m\u001b[1mINTERFACE \u001b[0m\u001b[1m \u001b[0m┃\u001b[1m \u001b[0m\u001b[1mMAC       \u001b[0m\u001b[1m \u001b[0m┃\u001b[1m \u001b[0m\u001b[1mCONNECTED \u001b[0m\u001b[1m \u001b[0m┃\u001b[1m \u001b[0m\u001b[1mIP        \u001b[0m\u001b[1m \u001b[0m┃\u001b[1m \u001b[0m\u001b[1mSUBNET    \u001b[0m\u001b[1m \u001b[0m┃\u001b[1m \u001b[0m\u001b[1mGATEWAY    \u001b[0m\u001b[1m \u001b[0m┃\n",
       "┡━━━━━━━━━━━━╇━━━━━━━━━━━━╇━━━━━━━━━━━━╇━━━━━━━━━━━━╇━━━━━━━━━━━━╇━━━━━━━━━━━━╇━━━━━━━━━━━━━┩\n",
       "│ 1          │ eth0       │ 04:d4:c4:… │ False      │ NA         │ NA         │ NA          │\n",
       "│ 2          │ wlan0      │ 16:22:33:… │ True       │ 192.168.2… │ 255.255.2… │ 192.168.2.… │\n",
       "└────────────┴────────────┴────────────┴────────────┴────────────┴────────────┴─────────────┘\n"
      ]
     },
     "metadata": {},
     "output_type": "display_data"
    },
    {
     "data": {
      "text/html": [
       "<pre style=\"white-space:pre;overflow-x:auto;line-height:normal;font-family:Menlo,'DejaVu Sans Mono',consolas,'Courier New',monospace\"><span style=\"font-style: italic\">                                 LIST OF AVAILABLE NETWORKS                                  </span>\n",
       "┏━━━━━━━━━━━━┳━━━━━━━━━━━━┳━━━━━━━━━━━━┳━━━━━━━━━━━━┳━━━━━━━━━━━━┳━━━━━━━━━━━━┳━━━━━━━━━━━━━┓\n",
       "┃<span style=\"font-weight: bold\">            </span>┃<span style=\"font-weight: bold\">            </span>┃<span style=\"font-weight: bold\">            </span>┃<span style=\"font-weight: bold\"> IS         </span>┃<span style=\"font-weight: bold\">            </span>┃<span style=\"font-weight: bold\">            </span>┃<span style=\"font-weight: bold\"> DEFAULT     </span>┃\n",
       "┃<span style=\"font-weight: bold\"> ID         </span>┃<span style=\"font-weight: bold\"> INTERFACE  </span>┃<span style=\"font-weight: bold\"> MAC        </span>┃<span style=\"font-weight: bold\"> CONNECTED  </span>┃<span style=\"font-weight: bold\"> IP         </span>┃<span style=\"font-weight: bold\"> SUBNET     </span>┃<span style=\"font-weight: bold\"> GATEWAY     </span>┃\n",
       "┡━━━━━━━━━━━━╇━━━━━━━━━━━━╇━━━━━━━━━━━━╇━━━━━━━━━━━━╇━━━━━━━━━━━━╇━━━━━━━━━━━━╇━━━━━━━━━━━━━┩\n",
       "│ 1          │ eth0       │ 04:d4:c4:… │ False      │ NA         │ NA         │ NA          │\n",
       "│ 2          │ wlan0      │ 16:22:33:… │ True       │ 192.168.2… │ 255.255.2… │ 192.168.2.… │\n",
       "└────────────┴────────────┴────────────┴────────────┴────────────┴────────────┴─────────────┘\n",
       "</pre>\n"
      ],
      "text/plain": [
       "\u001b[3m                                 LIST OF AVAILABLE NETWORKS                                  \u001b[0m\n",
       "┏━━━━━━━━━━━━┳━━━━━━━━━━━━┳━━━━━━━━━━━━┳━━━━━━━━━━━━┳━━━━━━━━━━━━┳━━━━━━━━━━━━┳━━━━━━━━━━━━━┓\n",
       "┃\u001b[1m            \u001b[0m┃\u001b[1m            \u001b[0m┃\u001b[1m            \u001b[0m┃\u001b[1m \u001b[0m\u001b[1mIS        \u001b[0m\u001b[1m \u001b[0m┃\u001b[1m            \u001b[0m┃\u001b[1m            \u001b[0m┃\u001b[1m \u001b[0m\u001b[1mDEFAULT    \u001b[0m\u001b[1m \u001b[0m┃\n",
       "┃\u001b[1m \u001b[0m\u001b[1mID        \u001b[0m\u001b[1m \u001b[0m┃\u001b[1m \u001b[0m\u001b[1mINTERFACE \u001b[0m\u001b[1m \u001b[0m┃\u001b[1m \u001b[0m\u001b[1mMAC       \u001b[0m\u001b[1m \u001b[0m┃\u001b[1m \u001b[0m\u001b[1mCONNECTED \u001b[0m\u001b[1m \u001b[0m┃\u001b[1m \u001b[0m\u001b[1mIP        \u001b[0m\u001b[1m \u001b[0m┃\u001b[1m \u001b[0m\u001b[1mSUBNET    \u001b[0m\u001b[1m \u001b[0m┃\u001b[1m \u001b[0m\u001b[1mGATEWAY    \u001b[0m\u001b[1m \u001b[0m┃\n",
       "┡━━━━━━━━━━━━╇━━━━━━━━━━━━╇━━━━━━━━━━━━╇━━━━━━━━━━━━╇━━━━━━━━━━━━╇━━━━━━━━━━━━╇━━━━━━━━━━━━━┩\n",
       "│ 1          │ eth0       │ 04:d4:c4:… │ False      │ NA         │ NA         │ NA          │\n",
       "│ 2          │ wlan0      │ 16:22:33:… │ True       │ 192.168.2… │ 255.255.2… │ 192.168.2.… │\n",
       "└────────────┴────────────┴────────────┴────────────┴────────────┴────────────┴─────────────┘\n"
      ]
     },
     "metadata": {},
     "output_type": "display_data"
    },
    {
     "data": {
      "text/html": [
       "<pre style=\"white-space:pre;overflow-x:auto;line-height:normal;font-family:Menlo,'DejaVu Sans Mono',consolas,'Courier New',monospace\"><span style=\"font-style: italic\">                                 LIST OF AVAILABLE NETWORKS                                  </span>\n",
       "┏━━━━━━━━━━━━┳━━━━━━━━━━━━┳━━━━━━━━━━━━┳━━━━━━━━━━━━┳━━━━━━━━━━━━┳━━━━━━━━━━━━┳━━━━━━━━━━━━━┓\n",
       "┃<span style=\"font-weight: bold\">            </span>┃<span style=\"font-weight: bold\">            </span>┃<span style=\"font-weight: bold\">            </span>┃<span style=\"font-weight: bold\"> IS         </span>┃<span style=\"font-weight: bold\">            </span>┃<span style=\"font-weight: bold\">            </span>┃<span style=\"font-weight: bold\"> DEFAULT     </span>┃\n",
       "┃<span style=\"font-weight: bold\"> ID         </span>┃<span style=\"font-weight: bold\"> INTERFACE  </span>┃<span style=\"font-weight: bold\"> MAC        </span>┃<span style=\"font-weight: bold\"> CONNECTED  </span>┃<span style=\"font-weight: bold\"> IP         </span>┃<span style=\"font-weight: bold\"> SUBNET     </span>┃<span style=\"font-weight: bold\"> GATEWAY     </span>┃\n",
       "┡━━━━━━━━━━━━╇━━━━━━━━━━━━╇━━━━━━━━━━━━╇━━━━━━━━━━━━╇━━━━━━━━━━━━╇━━━━━━━━━━━━╇━━━━━━━━━━━━━┩\n",
       "│ 1          │ eth0       │ 04:d4:c4:… │ False      │ NA         │ NA         │ NA          │\n",
       "│ 2          │ wlan0      │ 16:22:33:… │ True       │ 192.168.2… │ 255.255.2… │ 192.168.2.… │\n",
       "└────────────┴────────────┴────────────┴────────────┴────────────┴────────────┴─────────────┘\n",
       "</pre>\n"
      ],
      "text/plain": [
       "\u001b[3m                                 LIST OF AVAILABLE NETWORKS                                  \u001b[0m\n",
       "┏━━━━━━━━━━━━┳━━━━━━━━━━━━┳━━━━━━━━━━━━┳━━━━━━━━━━━━┳━━━━━━━━━━━━┳━━━━━━━━━━━━┳━━━━━━━━━━━━━┓\n",
       "┃\u001b[1m            \u001b[0m┃\u001b[1m            \u001b[0m┃\u001b[1m            \u001b[0m┃\u001b[1m \u001b[0m\u001b[1mIS        \u001b[0m\u001b[1m \u001b[0m┃\u001b[1m            \u001b[0m┃\u001b[1m            \u001b[0m┃\u001b[1m \u001b[0m\u001b[1mDEFAULT    \u001b[0m\u001b[1m \u001b[0m┃\n",
       "┃\u001b[1m \u001b[0m\u001b[1mID        \u001b[0m\u001b[1m \u001b[0m┃\u001b[1m \u001b[0m\u001b[1mINTERFACE \u001b[0m\u001b[1m \u001b[0m┃\u001b[1m \u001b[0m\u001b[1mMAC       \u001b[0m\u001b[1m \u001b[0m┃\u001b[1m \u001b[0m\u001b[1mCONNECTED \u001b[0m\u001b[1m \u001b[0m┃\u001b[1m \u001b[0m\u001b[1mIP        \u001b[0m\u001b[1m \u001b[0m┃\u001b[1m \u001b[0m\u001b[1mSUBNET    \u001b[0m\u001b[1m \u001b[0m┃\u001b[1m \u001b[0m\u001b[1mGATEWAY    \u001b[0m\u001b[1m \u001b[0m┃\n",
       "┡━━━━━━━━━━━━╇━━━━━━━━━━━━╇━━━━━━━━━━━━╇━━━━━━━━━━━━╇━━━━━━━━━━━━╇━━━━━━━━━━━━╇━━━━━━━━━━━━━┩\n",
       "│ 1          │ eth0       │ 04:d4:c4:… │ False      │ NA         │ NA         │ NA          │\n",
       "│ 2          │ wlan0      │ 16:22:33:… │ True       │ 192.168.2… │ 255.255.2… │ 192.168.2.… │\n",
       "└────────────┴────────────┴────────────┴────────────┴────────────┴────────────┴─────────────┘\n"
      ]
     },
     "metadata": {},
     "output_type": "display_data"
    },
    {
     "data": {
      "text/html": [
       "<pre style=\"white-space:pre;overflow-x:auto;line-height:normal;font-family:Menlo,'DejaVu Sans Mono',consolas,'Courier New',monospace\"><span style=\"font-style: italic\">                                 LIST OF AVAILABLE NETWORKS                                  </span>\n",
       "┏━━━━━━━━━━━━┳━━━━━━━━━━━━┳━━━━━━━━━━━━┳━━━━━━━━━━━━┳━━━━━━━━━━━━┳━━━━━━━━━━━━┳━━━━━━━━━━━━━┓\n",
       "┃<span style=\"font-weight: bold\">            </span>┃<span style=\"font-weight: bold\">            </span>┃<span style=\"font-weight: bold\">            </span>┃<span style=\"font-weight: bold\"> IS         </span>┃<span style=\"font-weight: bold\">            </span>┃<span style=\"font-weight: bold\">            </span>┃<span style=\"font-weight: bold\"> DEFAULT     </span>┃\n",
       "┃<span style=\"font-weight: bold\"> ID         </span>┃<span style=\"font-weight: bold\"> INTERFACE  </span>┃<span style=\"font-weight: bold\"> MAC        </span>┃<span style=\"font-weight: bold\"> CONNECTED  </span>┃<span style=\"font-weight: bold\"> IP         </span>┃<span style=\"font-weight: bold\"> SUBNET     </span>┃<span style=\"font-weight: bold\"> GATEWAY     </span>┃\n",
       "┡━━━━━━━━━━━━╇━━━━━━━━━━━━╇━━━━━━━━━━━━╇━━━━━━━━━━━━╇━━━━━━━━━━━━╇━━━━━━━━━━━━╇━━━━━━━━━━━━━┩\n",
       "│ 1          │ eth0       │ 04:d4:c4:… │ False      │ NA         │ NA         │ NA          │\n",
       "│ 2          │ wlan0      │ 16:22:33:… │ True       │ 192.168.2… │ 255.255.2… │ 192.168.2.… │\n",
       "└────────────┴────────────┴────────────┴────────────┴────────────┴────────────┴─────────────┘\n",
       "</pre>\n"
      ],
      "text/plain": [
       "\u001b[3m                                 LIST OF AVAILABLE NETWORKS                                  \u001b[0m\n",
       "┏━━━━━━━━━━━━┳━━━━━━━━━━━━┳━━━━━━━━━━━━┳━━━━━━━━━━━━┳━━━━━━━━━━━━┳━━━━━━━━━━━━┳━━━━━━━━━━━━━┓\n",
       "┃\u001b[1m            \u001b[0m┃\u001b[1m            \u001b[0m┃\u001b[1m            \u001b[0m┃\u001b[1m \u001b[0m\u001b[1mIS        \u001b[0m\u001b[1m \u001b[0m┃\u001b[1m            \u001b[0m┃\u001b[1m            \u001b[0m┃\u001b[1m \u001b[0m\u001b[1mDEFAULT    \u001b[0m\u001b[1m \u001b[0m┃\n",
       "┃\u001b[1m \u001b[0m\u001b[1mID        \u001b[0m\u001b[1m \u001b[0m┃\u001b[1m \u001b[0m\u001b[1mINTERFACE \u001b[0m\u001b[1m \u001b[0m┃\u001b[1m \u001b[0m\u001b[1mMAC       \u001b[0m\u001b[1m \u001b[0m┃\u001b[1m \u001b[0m\u001b[1mCONNECTED \u001b[0m\u001b[1m \u001b[0m┃\u001b[1m \u001b[0m\u001b[1mIP        \u001b[0m\u001b[1m \u001b[0m┃\u001b[1m \u001b[0m\u001b[1mSUBNET    \u001b[0m\u001b[1m \u001b[0m┃\u001b[1m \u001b[0m\u001b[1mGATEWAY    \u001b[0m\u001b[1m \u001b[0m┃\n",
       "┡━━━━━━━━━━━━╇━━━━━━━━━━━━╇━━━━━━━━━━━━╇━━━━━━━━━━━━╇━━━━━━━━━━━━╇━━━━━━━━━━━━╇━━━━━━━━━━━━━┩\n",
       "│ 1          │ eth0       │ 04:d4:c4:… │ False      │ NA         │ NA         │ NA          │\n",
       "│ 2          │ wlan0      │ 16:22:33:… │ True       │ 192.168.2… │ 255.255.2… │ 192.168.2.… │\n",
       "└────────────┴────────────┴────────────┴────────────┴────────────┴────────────┴─────────────┘\n"
      ]
     },
     "metadata": {},
     "output_type": "display_data"
    },
    {
     "data": {
      "text/html": [
       "<pre style=\"white-space:pre;overflow-x:auto;line-height:normal;font-family:Menlo,'DejaVu Sans Mono',consolas,'Courier New',monospace\">Interface wlan1 has MAC: 50:e0:85:5c:f4:40\n",
       "</pre>\n"
      ],
      "text/plain": [
       "Interface wlan1 has MAC: 50:e0:85:5c:f4:40\n"
      ]
     },
     "metadata": {},
     "output_type": "display_data"
    },
    {
     "data": {
      "text/html": [
       "<pre style=\"white-space:pre;overflow-x:auto;line-height:normal;font-family:Menlo,'DejaVu Sans Mono',consolas,'Courier New',monospace\"></pre>\n"
      ],
      "text/plain": []
     },
     "metadata": {},
     "output_type": "display_data"
    }
   ],
   "source": [
    "import re,subprocess\n",
    "intrfc = \"eth0\"\n",
    "c = subprocess.check_output([\"ifconfig\"],stderr=subprocess.DEVNULL)\n",
    "c = c.decode(\"utf-8\")\n",
    "pat = re.compile('wlan[0-9]|eth[0-9]')\n",
    "op = pat.findall(c)\n",
    "interface = {}\n",
    "for intrfc in op:\n",
    "    c = subprocess.check_output([\"ifconfig\",intrfc],stderr=subprocess.DEVNULL)\n",
    "    c = c.decode(\"utf-8\")\n",
    "    intrfc = intrfc\n",
    "    MACpat = re.compile('\\w{2}:\\w{2}:\\w{2}:\\w{2}:\\w{2}:\\w{2}')\n",
    "    IPpat = re.compile('[0-9]+\\.[0-9]+\\.[0-9]+\\.[0-9]+')\n",
    "    mac = MACpat.findall(c)\n",
    "    ips = IPpat.findall(c)\n",
    "\n",
    "    mac=mac+ips\n",
    "    interface[intrfc]= mac\n",
    "interface\n",
    "\n",
    "import time\n",
    "from rich.live import Live\n",
    "from rich.table import Table\n",
    "table = Table(title=\"LIST OF AVAILABLE NETWORKS\")\n",
    "table.add_column(\"ID\",width=20)\n",
    "table.add_column(\"INTERFACE\",width=20)\n",
    "table.add_column(\"MAC\",width=20)\n",
    "table.add_column(\"IS CONNECTED\",width=20)\n",
    "table.add_column(\"IP\",width=20)\n",
    "table.add_column(\"SUBNET\",width=20)\n",
    "table.add_column(\"DEFAULT GATEWAY\",width=20)\n",
    "Id=0\n",
    "print(interface)\n",
    "with Live(table, refresh_per_second=10): # update 4 times a second to feel fluid\n",
    "    for intrfc in interface:\n",
    "        Id+=1\n",
    "        attributes = interface[intrfc]\n",
    "        isConnected = False\n",
    "        MAC=attributes[0]\n",
    "        IP='NA'\n",
    "        SUBNET='NA'\n",
    "        defaultGateway='NA'\n",
    "        if len(attributes) == 4:\n",
    "            isConnected = True\n",
    "            IP=attributes[1]\n",
    "            SUBNET=attributes[2]\n",
    "            defaultGateway=attributes[3]\n",
    "        time.sleep(2)\n",
    "        if not(isConnected):\n",
    "            table.add_row(str(Id),intrfc,MAC,str(isConnected),IP,SUBNET,defaultGateway)\n",
    "            print(\"Interface {} has MAC: {} , IP : {}, SUBNET : {}, DG : {} \".format(intrfc,MAC,IP,SUBNET,defaultGateway))\n",
    "        else:\n",
    "            table.add_row(str(Id),intrfc,MAC,str(isConnected),IP,SUBNET,defaultGateway)\n",
    "            print(\"Interface {} has MAC: {}\".format(intrfc,MAC))"
   ]
  },
  {
   "cell_type": "code",
   "execution_count": 1,
   "id": "68327c7b",
   "metadata": {},
   "outputs": [
    {
     "data": {
      "text/html": [
       "<pre style=\"white-space:pre;overflow-x:auto;line-height:normal;font-family:Menlo,'DejaVu Sans Mono',consolas,'Courier New',monospace\"><span style=\"color: #800080; text-decoration-color: #800080; font-weight: bold\">Hello,</span> World!\n",
       "</pre>\n"
      ],
      "text/plain": [
       "\u001b[1;35mHello,\u001b[0m World!\n"
      ]
     },
     "metadata": {},
     "output_type": "display_data"
    }
   ],
   "source": [
    "from rich.console import Console\n",
    "from rich.text import Text\n",
    "console = Console()\n",
    "text = Text(\"Hello, World!\")\n",
    "text.stylize(\"bold magenta\", 0, 6)\n",
    "console.print(text)"
   ]
  },
  {
   "cell_type": "code",
   "execution_count": 4,
   "id": "c1b34c8c",
   "metadata": {},
   "outputs": [
    {
     "data": {
      "text/html": [
       "<pre style=\"white-space:pre;overflow-x:auto;line-height:normal;font-family:Menlo,'DejaVu Sans Mono',consolas,'Courier New',monospace\"><span style=\"color: #d700d7; text-decoration-color: #d700d7\">[--]   </span><span style=\"color: #0000ff; text-decoration-color: #0000ff\">Author Shrey    </span><span style=\"color: #d700d7; text-decoration-color: #d700d7\">[--]</span>\n",
       "</pre>\n"
      ],
      "text/plain": [
       "\u001b[38;5;164m[--]   \u001b[0m\u001b[38;5;21mAuthor Shrey    \u001b[0m\u001b[38;5;164m[--]\u001b[0m\n"
      ]
     },
     "metadata": {},
     "output_type": "display_data"
    }
   ],
   "source": [
    "text = Text.from_ansi(\"\\033[38;5;164m[--]   \\033[38;5;21mAuthor Shrey    \\033[38;5;164m[--]\")\n",
    "console.print(text)"
   ]
  },
  {
   "cell_type": "code",
   "execution_count": 1,
   "id": "fd7d0220",
   "metadata": {},
   "outputs": [
    {
     "data": {
      "text/html": [
       "<pre style=\"white-space:pre;overflow-x:auto;line-height:normal;font-family:Menlo,'DejaVu Sans Mono',consolas,'Courier New',monospace\">Rich Tree                                                                                    \n",
       "</pre>\n"
      ],
      "text/plain": [
       "Rich Tree                                                                                    \n"
      ]
     },
     "metadata": {},
     "output_type": "display_data"
    }
   ],
   "source": [
    "from rich.tree import Tree\n",
    "from rich import print\n",
    "tree = Tree(\"Rich Tree\")\n",
    "print(tree)"
   ]
  },
  {
   "cell_type": "code",
   "execution_count": 2,
   "id": "c687e7fc",
   "metadata": {},
   "outputs": [
    {
     "data": {
      "text/html": [
       "<pre style=\"white-space:pre;overflow-x:auto;line-height:normal;font-family:Menlo,'DejaVu Sans Mono',consolas,'Courier New',monospace\">Rich Tree                                                                                    \n",
       "├── foo                                                                                      \n",
       "└── bar                                                                                      \n",
       "</pre>\n"
      ],
      "text/plain": [
       "Rich Tree                                                                                    \n",
       "├── foo                                                                                      \n",
       "└── bar                                                                                      \n"
      ]
     },
     "metadata": {},
     "output_type": "display_data"
    }
   ],
   "source": [
    "tree.add(\"foo\")\n",
    "tree.add(\"bar\")\n",
    "print(tree)"
   ]
  },
  {
   "cell_type": "code",
   "execution_count": 3,
   "id": "39696b54",
   "metadata": {},
   "outputs": [
    {
     "ename": "FileNotFoundError",
     "evalue": "[Errno 2] No such file or directory: '-f'",
     "output_type": "error",
     "traceback": [
      "\u001b[0;31m---------------------------------------------------------------------------\u001b[0m",
      "\u001b[0;31mFileNotFoundError\u001b[0m                         Traceback (most recent call last)",
      "\u001b[0;32m/tmp/ipykernel_12401/394742999.py\u001b[0m in \u001b[0;36m<module>\u001b[0;34m\u001b[0m\n\u001b[1;32m      8\u001b[0m     \u001b[0mprint\u001b[0m\u001b[0;34m(\u001b[0m\u001b[0;34m\"Usage: python columns.py DIRECTORY\"\u001b[0m\u001b[0;34m)\u001b[0m\u001b[0;34m\u001b[0m\u001b[0;34m\u001b[0m\u001b[0m\n\u001b[1;32m      9\u001b[0m \u001b[0;32melse\u001b[0m\u001b[0;34m:\u001b[0m\u001b[0;34m\u001b[0m\u001b[0;34m\u001b[0m\u001b[0m\n\u001b[0;32m---> 10\u001b[0;31m     \u001b[0mdirectory\u001b[0m \u001b[0;34m=\u001b[0m \u001b[0mos\u001b[0m\u001b[0;34m.\u001b[0m\u001b[0mlistdir\u001b[0m\u001b[0;34m(\u001b[0m\u001b[0msys\u001b[0m\u001b[0;34m.\u001b[0m\u001b[0margv\u001b[0m\u001b[0;34m[\u001b[0m\u001b[0;36m1\u001b[0m\u001b[0;34m]\u001b[0m\u001b[0;34m)\u001b[0m\u001b[0;34m\u001b[0m\u001b[0;34m\u001b[0m\u001b[0m\n\u001b[0m\u001b[1;32m     11\u001b[0m     \u001b[0mcolumns\u001b[0m \u001b[0;34m=\u001b[0m \u001b[0mColumns\u001b[0m\u001b[0;34m(\u001b[0m\u001b[0mdirectory\u001b[0m\u001b[0;34m,\u001b[0m \u001b[0mequal\u001b[0m\u001b[0;34m=\u001b[0m\u001b[0;32mTrue\u001b[0m\u001b[0;34m,\u001b[0m \u001b[0mexpand\u001b[0m\u001b[0;34m=\u001b[0m\u001b[0;32mTrue\u001b[0m\u001b[0;34m)\u001b[0m\u001b[0;34m\u001b[0m\u001b[0;34m\u001b[0m\u001b[0m\n\u001b[1;32m     12\u001b[0m     \u001b[0mprint\u001b[0m\u001b[0;34m(\u001b[0m\u001b[0mcolumns\u001b[0m\u001b[0;34m)\u001b[0m\u001b[0;34m\u001b[0m\u001b[0;34m\u001b[0m\u001b[0m\n",
      "\u001b[0;31mFileNotFoundError\u001b[0m: [Errno 2] No such file or directory: '-f'"
     ]
    }
   ],
   "source": [
    "import os\n",
    "import sys\n",
    "\n",
    "from rich import print\n",
    "from rich.columns import Columns\n",
    "\n",
    "if len(sys.argv) < 2:\n",
    "    print(\"Usage: python columns.py DIRECTORY\")\n",
    "else:\n",
    "    pr\n",
    "    columns = Columns(directory, equal=True, expand=True)\n",
    "    print(columns)\n"
   ]
  },
  {
   "cell_type": "code",
   "execution_count": null,
   "id": "944b5c53",
   "metadata": {},
   "outputs": [],
   "source": []
  }
 ],
 "metadata": {
  "kernelspec": {
   "display_name": "Python 3 (ipykernel)",
   "language": "python",
   "name": "python3"
  },
  "language_info": {
   "codemirror_mode": {
    "name": "ipython",
    "version": 3
   },
   "file_extension": ".py",
   "mimetype": "text/x-python",
   "name": "python",
   "nbconvert_exporter": "python",
   "pygments_lexer": "ipython3",
   "version": "3.9.10"
  }
 },
 "nbformat": 4,
 "nbformat_minor": 5
}
